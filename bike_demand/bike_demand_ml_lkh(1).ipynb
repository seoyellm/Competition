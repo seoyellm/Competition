{
 "cells": [
  {
   "cell_type": "markdown",
   "id": "6d36fd9b-8277-46dd-ab5d-3563dcc739b7",
   "metadata": {},
   "source": [
    "<font size=6><b>Bike Sharing Demand - ML"
   ]
  },
  {
   "cell_type": "markdown",
   "id": "5cb6f8bb-d3e1-457c-a482-430e612f90a4",
   "metadata": {
    "tags": []
   },
   "source": [
    "<img src=\"./logo.png\">\n",
    "* ref : https://www.kaggle.com/competitions/bike-sharing-demand/data <br>\n",
    "* ref : https://dacon.io/competitions/official/235985/data"
   ]
  },
  {
   "cell_type": "code",
   "execution_count": 1,
   "id": "11769cb6-b939-495e-96c1-ff3598956cec",
   "metadata": {
    "tags": []
   },
   "outputs": [
    {
     "data": {
      "text/html": [
       "<style>.container{width:100% !important;}</style>"
      ],
      "text/plain": [
       "<IPython.core.display.HTML object>"
      ]
     },
     "metadata": {},
     "output_type": "display_data"
    }
   ],
   "source": [
    "import numpy as np\n",
    "import pandas as pd\n",
    "\n",
    "import matplotlib.pyplot as plt\n",
    "import seaborn as sns\n",
    "\n",
    "\n",
    "sns.set()\n",
    "\n",
    "#-------------------- 차트 관련 속성 (한글처리, 그리드) -----------\n",
    "plt.rcParams['font.family']= 'Malgun Gothic'\n",
    "plt.rcParams['axes.unicode_minus'] = False\n",
    "\n",
    "#-------------------- 주피터 , 출력결과 넓이 늘리기 ---------------\n",
    "# from IPython.core.display import display, HTML\n",
    "from IPython.display import display, HTML\n",
    "\n",
    "display(HTML(\"<style>.container{width:100% !important;}</style>\"))\n",
    "pd.set_option('display.max_rows', 100)\n",
    "pd.set_option('display.max_columns', 100)\n",
    "pd.set_option('max_colwidth', None)\n",
    "\n",
    "import warnings\n",
    "warnings.filterwarnings(action='ignore')"
   ]
  },
  {
   "cell_type": "code",
   "execution_count": 2,
   "id": "02d88c79-95e1-4b95-96de-df858fcc943f",
   "metadata": {},
   "outputs": [],
   "source": [
    "from sklearn.model_selection import train_test_split,StratifiedKFold, cross_val_score,GridSearchCV,KFold\n",
    "from sklearn.metrics import mean_squared_error\n",
    "from sklearn.metrics import mean_squared_log_error\n",
    "\n",
    "from sklearn.ensemble     import RandomForestRegressor\n",
    "from sklearn.tree         import DecisionTreeRegressor\n",
    "from sklearn.linear_model import LinearRegression, Ridge, Lasso\n",
    "# ---- 추가 모델\n",
    "from sklearn.ensemble     import AdaBoostRegressor, VotingRegressor\n",
    "from xgboost              import XGBRegressor\n",
    "from lightgbm             import LGBMRegressor"
   ]
  },
  {
   "cell_type": "markdown",
   "id": "3f698b81-6a0b-4c55-b81e-c2fd498d4b74",
   "metadata": {},
   "source": [
    "# Data Load"
   ]
  },
  {
   "cell_type": "code",
   "execution_count": 3,
   "id": "aef310ea-ddad-4ad0-bcea-018ebbe0c5d5",
   "metadata": {
    "tags": []
   },
   "outputs": [],
   "source": [
    "train = pd.read_csv(\"./train.csv\", parse_dates=['datetime'])\n",
    "test  = pd.read_csv(\"./test.csv\" , parse_dates=['datetime'])"
   ]
  },
  {
   "cell_type": "code",
   "execution_count": 4,
   "id": "23a0bbfd-d222-4822-bfad-0fe563517d46",
   "metadata": {
    "tags": []
   },
   "outputs": [
    {
     "name": "stdout",
     "output_type": "stream",
     "text": [
      "<class 'pandas.core.frame.DataFrame'>\n",
      "RangeIndex: 10886 entries, 0 to 10885\n",
      "Data columns (total 12 columns):\n",
      " #   Column      Non-Null Count  Dtype         \n",
      "---  ------      --------------  -----         \n",
      " 0   regdate     10886 non-null  datetime64[ns]\n",
      " 1   season      10886 non-null  int64         \n",
      " 2   holiday     10886 non-null  int64         \n",
      " 3   workingday  10886 non-null  int64         \n",
      " 4   weather     10886 non-null  int64         \n",
      " 5   temp        10886 non-null  float64       \n",
      " 6   atemp       10886 non-null  float64       \n",
      " 7   humidity    10886 non-null  int64         \n",
      " 8   windspeed   10886 non-null  float64       \n",
      " 9   casual      10886 non-null  int64         \n",
      " 10  registered  10886 non-null  int64         \n",
      " 11  regcount    10886 non-null  int64         \n",
      "dtypes: datetime64[ns](1), float64(3), int64(8)\n",
      "memory usage: 1020.7 KB\n",
      "None\n",
      "==================================================\n",
      "<class 'pandas.core.frame.DataFrame'>\n",
      "RangeIndex: 6493 entries, 0 to 6492\n",
      "Data columns (total 9 columns):\n",
      " #   Column      Non-Null Count  Dtype         \n",
      "---  ------      --------------  -----         \n",
      " 0   regdate     6493 non-null   datetime64[ns]\n",
      " 1   season      6493 non-null   int64         \n",
      " 2   holiday     6493 non-null   int64         \n",
      " 3   workingday  6493 non-null   int64         \n",
      " 4   weather     6493 non-null   int64         \n",
      " 5   temp        6493 non-null   float64       \n",
      " 6   atemp       6493 non-null   float64       \n",
      " 7   humidity    6493 non-null   int64         \n",
      " 8   windspeed   6493 non-null   float64       \n",
      "dtypes: datetime64[ns](1), float64(3), int64(5)\n",
      "memory usage: 456.7 KB\n",
      "None\n",
      "==================================================\n"
     ]
    }
   ],
   "source": [
    "df_list = [train, test]\n",
    "for df in df_list:\n",
    "    df.rename(columns = {'datetime' : 'regdate', 'count' : 'regcount'}, inplace = True)\n",
    "    df.columns = df.columns.str.lower()\n",
    "    print(df.info())    \n",
    "    print(\"=====\"*10)\n"
   ]
  },
  {
   "cell_type": "markdown",
   "id": "df97bd52-7a8d-46e3-8ee7-342df27f95de",
   "metadata": {},
   "source": [
    "## 점수보기"
   ]
  },
  {
   "cell_type": "markdown",
   "id": "87d1e0d4-27a9-4fa8-8d33-d1e7a47e9153",
   "metadata": {},
   "source": [
    "# Feature Engineering"
   ]
  },
  {
   "cell_type": "code",
   "execution_count": 5,
   "id": "ceb7ea34-0804-4bac-bb7e-836f50a1b064",
   "metadata": {
    "tags": []
   },
   "outputs": [
    {
     "data": {
      "image/png": "[encoded data removed]",
      "text/plain": [
       "<Figure size 1500x1000 with 2 Axes>"
      ]
     },
     "metadata": {},
     "output_type": "display_data"
    }
   ],
   "source": [
    "plt.figure(figsize=(15,10))\n",
    "sns.heatmap(train.corr(), annot=True, fmt=\".2f\", cmap=\"coolwarm\")\n",
    "plt.show()\n",
    "# m-season, temp-atemp, w-daytype --> 다중공선 처리하기"
   ]
  },
  {
   "cell_type": "markdown",
   "id": "97c49eb4-dee0-43ea-b666-cb0f4e79e07a",
   "metadata": {
    "tags": []
   },
   "source": [
    "## windspeed 0 채우기"
   ]
  },
  {
   "cell_type": "code",
   "execution_count": 6,
   "id": "3e425ffa-21f3-4c23-8c10-42a97c669ebd",
   "metadata": {},
   "outputs": [
    {
     "data": {
      "text/plain": [
       "((10886, 12), (6493, 9))"
      ]
     },
     "execution_count": 6,
     "metadata": {},
     "output_type": "execute_result"
    }
   ],
   "source": [
    "train.shape, test.shape"
   ]
  },
  {
   "cell_type": "code",
   "execution_count": 7,
   "id": "bf4d19cc-4b90-40e1-807e-3498347e2643",
   "metadata": {
    "tags": []
   },
   "outputs": [],
   "source": [
    "def my_fill_windspeed(df):\n",
    "    target  = df[['regcount','casual','registered', 'regdate']]\n",
    "    df = df.drop(['regcount','casual','registered','regdate'], axis=1)\n",
    "    \n",
    "    df1   = df[df['windspeed'] != 0]\n",
    "    y_df1 = df1['windspeed']\n",
    "    X_df1 = df1.drop('windspeed', axis=1)\n",
    "    \n",
    "    rf = LGBMRegressor(random_state=0)  #RandomForestRegressor(random_state=11)\n",
    "    X_df1_8, X_df1_2, y_df1_8, y_df1_2 = train_test_split(X_df1, y_df1, test_size=0.2, random_state=11)\n",
    "    rf.fit(X_df1_8, y_df1_8)\n",
    "    \n",
    "    pred = rf.predict(X_df1_2)\n",
    "    mse_score = mean_squared_error(y_df1_2, pred)\n",
    "    print(\"RMSE : \", np.sqrt(mse_score) )\n",
    "\n",
    "    df0 = df[df['windspeed'] == 0]\n",
    "    y_df0 = df0['windspeed']\n",
    "    X_df0 = df0.drop('windspeed', axis=1)\n",
    "    pred = rf.predict(X_df0)\n",
    "    widx = X_df0.index.values\n",
    "    df.loc[widx, 'windspeed'] = pred\n",
    "    \n",
    "    return pd.concat([df, target], axis=1)"
   ]
  },
  {
   "cell_type": "code",
   "execution_count": 8,
   "id": "e8f42329-3280-4766-95c0-190a44312815",
   "metadata": {
    "tags": []
   },
   "outputs": [
    {
     "name": "stdout",
     "output_type": "stream",
     "text": [
      "RMSE :  5.427882362943079\n"
     ]
    }
   ],
   "source": [
    "df = pd.concat([train, test], axis=0, ignore_index=True)\n",
    "train_idx = df.iloc[:train.shape[0], :].index\n",
    "test_idx  = df.iloc[train.shape[0]:, :].index\n",
    "#---------------------------------\n",
    "df = my_fill_windspeed(df)\n",
    "#---------------------------------\n",
    "train = df.loc[train_idx]\n",
    "test  = df.loc[test_idx]\n",
    "test = test.drop(['casual', 'registered', 'regcount'], axis=1)\n",
    "test = test.reset_index(drop=True)"
   ]
  },
  {
   "cell_type": "markdown",
   "id": "48e56076-05c4-4424-9669-dea75029d881",
   "metadata": {},
   "source": [
    "## 파생피쳐\n",
    "* regdate\n",
    "* day_type"
   ]
  },
  {
   "cell_type": "code",
   "execution_count": 9,
   "id": "a7824002-3887-48c9-97f9-b50bd9862132",
   "metadata": {
    "tags": []
   },
   "outputs": [
    {
     "name": "stdout",
     "output_type": "stream",
     "text": [
      "train\n",
      "test\n"
     ]
    }
   ],
   "source": [
    "df_list = [train, test]\n",
    "df_name = ['train', 'test']\n",
    "for i, df in enumerate(df_list):\n",
    "    df['y'] = df['regdate'].dt.year\n",
    "    df['m'] = df['regdate'].dt.month\n",
    "    df['d'] = df['regdate'].dt.day\n",
    "    df['h'] = df['regdate'].dt.hour\n",
    "    df['w'] = df['regdate'].dt.dayofweek\n",
    "    #df['woy'] = df['regdate'].dt.weekofyear\n",
    "    \n",
    "    \n",
    "    df['day_type'] = 0\n",
    "    df['day_type'] = np.where( (df['holiday']==0) & (df['workingday'] == 1),   1,  df['day_type'])\n",
    "    df['day_type'] = np.where( (df['holiday']==1) & (df['workingday'] == 0),   2,  df['day_type'])\n",
    "    \n",
    "    df['peak']   = df[['h', 'workingday']].apply(lambda x: (0, 1)[(x['workingday'] == 1 and  ( x['h'] == 8 or 17 <= x['h'] <= 18 or 12 <= x['h'] <= 12)) or (x['workingday'] == 0 and  10 <= x['h'] <= 19)], axis = 1)\n",
    "    df['ideal']  = df[['temp', 'windspeed']].apply(lambda x: (0, 1)[x['temp'] > 27 and x['windspeed'] < 30], axis = 1)\n",
    "    df['sticky'] = df[['humidity', 'workingday']].apply(lambda x: (0, 1)[x['workingday'] == 1 and x['humidity'] >= 60], axis = 1)\n",
    "    \n",
    "    #sandy\n",
    "    df['holiday'] = df[['m', 'd', 'holiday', 'y']].apply(lambda x: (x['holiday'], 1)[x['y'] == 2012 and x['m'] == 10 and (x['m'] in [30])], axis = 1)\n",
    "    #christmas day and others\n",
    "    df['holiday'] = df[['m', 'd', 'holiday']].apply(lambda x: (x['holiday'], 1)[x['m'] == 12 and (x['m'] in [24, 26, 31])], axis = 1)\n",
    "    df['workingday'] = df[['m', 'd', 'workingday']].apply(lambda x: (x['workingday'], 0)[x['m'] == 12 and x['m'] in [24, 31]], axis = 1)\n",
    "    \n",
    "    \n",
    "    if i == 0 : # 아웃라이어 : train만 삭제\n",
    "        #------------------------------------------------\n",
    "        # windspeed는 0채우기 후 아웃라이어로 한꺼번에 이상치 삭제\n",
    "        # 아웃라이어 삭제 : 주의주의주의 train만 지운다\n",
    "        # df == train 넣고 호출\n",
    "        #------------------------------------------------\n",
    "        del_idx_list = []\n",
    "        #idx = df[df['weather']==4].index\n",
    "        #del_idx_list.extend(idx)\n",
    "        idx = df[df['temp']>40].index\n",
    "        del_idx_list.extend(idx)\n",
    "        idx = df[df['windspeed']>50].index\n",
    "        del_idx_list.extend(idx)\n",
    "        df.drop(del_idx_list, axis=0, inplace=True)\n",
    "\n",
    "    \n",
    "    #---------(연속형피쳐:로그스케일링) ---------------\n",
    "    # 'temp', 'atemp','humidity', 'windspeed'\n",
    "    #------------------------------------------------\n",
    "    df['temp']      = np.log1p( df['temp'] )\n",
    "    df['atemp']     = np.log1p( df['atemp'] )\n",
    "    df['humidity']  = np.log1p( df['humidity'] )\n",
    "    df['windspeed'] = np.log1p( df['windspeed'] )\n",
    "    \n",
    "    #------------------------------------------------\n",
    "    # 다중공선\n",
    "    # 'temp', 'atemp'\n",
    "    # 'season', 'm'\n",
    "    # 'w', 'day_type'\n",
    "    #------------------------------------------------\n",
    "    df = df.drop(['atemp'], axis=1)\n",
    "    # X = X.drop(['season'], axis=1)\n",
    "    # X = X.drop(['day_type'], axis=1)\n",
    "    \n",
    "    \n",
    "    #------------------------------------------------\n",
    "    # 이산형 피쳐 원핫인코딩\n",
    "    # ['season', 'weather','m', 'y', 'h', 'w', 'day_type']\n",
    "    df = pd.get_dummies(df, columns=['season', 'weather','m', 'y', 'h', 'w', 'day_type'])\n",
    "    \n",
    "    #------------------------------------------------\n",
    "    #X = df.drop(['regcount','casual','registered'], axis=1)\n",
    "    df.drop('d', axis=1, inplace=True)\n",
    "    df = df.set_index('regdate')\n",
    "    \n",
    "    #------------------------------------------------\n",
    "    #print(df.info())\n",
    "    print(df_name[i])\n",
    "    globals()[df_name[i]] = df.copy()"
   ]
  },
  {
   "cell_type": "code",
   "execution_count": 10,
   "id": "4a36428c-db62-4b4d-8a21-df45f986b2a2",
   "metadata": {},
   "outputs": [
    {
     "name": "stdout",
     "output_type": "stream",
     "text": [
      "<class 'pandas.core.frame.DataFrame'>\n",
      "DatetimeIndex: 6493 entries, 2011-01-20 00:00:00 to 2012-12-31 23:00:00\n",
      "Data columns (total 64 columns):\n",
      " #   Column      Non-Null Count  Dtype  \n",
      "---  ------      --------------  -----  \n",
      " 0   holiday     6493 non-null   int64  \n",
      " 1   workingday  6493 non-null   int64  \n",
      " 2   temp        6493 non-null   float64\n",
      " 3   humidity    6493 non-null   float64\n",
      " 4   windspeed   6493 non-null   float64\n",
      " 5   peak        6493 non-null   int64  \n",
      " 6   ideal       6493 non-null   int64  \n",
      " 7   sticky      6493 non-null   int64  \n",
      " 8   season_1    6493 non-null   uint8  \n",
      " 9   season_2    6493 non-null   uint8  \n",
      " 10  season_3    6493 non-null   uint8  \n",
      " 11  season_4    6493 non-null   uint8  \n",
      " 12  weather_1   6493 non-null   uint8  \n",
      " 13  weather_2   6493 non-null   uint8  \n",
      " 14  weather_3   6493 non-null   uint8  \n",
      " 15  weather_4   6493 non-null   uint8  \n",
      " 16  m_1         6493 non-null   uint8  \n",
      " 17  m_2         6493 non-null   uint8  \n",
      " 18  m_3         6493 non-null   uint8  \n",
      " 19  m_4         6493 non-null   uint8  \n",
      " 20  m_5         6493 non-null   uint8  \n",
      " 21  m_6         6493 non-null   uint8  \n",
      " 22  m_7         6493 non-null   uint8  \n",
      " 23  m_8         6493 non-null   uint8  \n",
      " 24  m_9         6493 non-null   uint8  \n",
      " 25  m_10        6493 non-null   uint8  \n",
      " 26  m_11        6493 non-null   uint8  \n",
      " 27  m_12        6493 non-null   uint8  \n",
      " 28  y_2011      6493 non-null   uint8  \n",
      " 29  y_2012      6493 non-null   uint8  \n",
      " 30  h_0         6493 non-null   uint8  \n",
      " 31  h_1         6493 non-null   uint8  \n",
      " 32  h_2         6493 non-null   uint8  \n",
      " 33  h_3         6493 non-null   uint8  \n",
      " 34  h_4         6493 non-null   uint8  \n",
      " 35  h_5         6493 non-null   uint8  \n",
      " 36  h_6         6493 non-null   uint8  \n",
      " 37  h_7         6493 non-null   uint8  \n",
      " 38  h_8         6493 non-null   uint8  \n",
      " 39  h_9         6493 non-null   uint8  \n",
      " 40  h_10        6493 non-null   uint8  \n",
      " 41  h_11        6493 non-null   uint8  \n",
      " 42  h_12        6493 non-null   uint8  \n",
      " 43  h_13        6493 non-null   uint8  \n",
      " 44  h_14        6493 non-null   uint8  \n",
      " 45  h_15        6493 non-null   uint8  \n",
      " 46  h_16        6493 non-null   uint8  \n",
      " 47  h_17        6493 non-null   uint8  \n",
      " 48  h_18        6493 non-null   uint8  \n",
      " 49  h_19        6493 non-null   uint8  \n",
      " 50  h_20        6493 non-null   uint8  \n",
      " 51  h_21        6493 non-null   uint8  \n",
      " 52  h_22        6493 non-null   uint8  \n",
      " 53  h_23        6493 non-null   uint8  \n",
      " 54  w_0         6493 non-null   uint8  \n",
      " 55  w_1         6493 non-null   uint8  \n",
      " 56  w_2         6493 non-null   uint8  \n",
      " 57  w_3         6493 non-null   uint8  \n",
      " 58  w_4         6493 non-null   uint8  \n",
      " 59  w_5         6493 non-null   uint8  \n",
      " 60  w_6         6493 non-null   uint8  \n",
      " 61  day_type_0  6493 non-null   uint8  \n",
      " 62  day_type_1  6493 non-null   uint8  \n",
      " 63  day_type_2  6493 non-null   uint8  \n",
      "dtypes: float64(3), int64(5), uint8(56)\n",
      "memory usage: 811.6 KB\n"
     ]
    }
   ],
   "source": [
    "test.info()"
   ]
  },
  {
   "cell_type": "code",
   "execution_count": 11,
   "id": "b862156b-ea56-4bed-bd48-7de9a2cf7b51",
   "metadata": {},
   "outputs": [
    {
     "name": "stdout",
     "output_type": "stream",
     "text": [
      "<class 'pandas.core.frame.DataFrame'>\n",
      "DatetimeIndex: 10881 entries, 2011-01-01 00:00:00 to 2012-12-19 23:00:00\n",
      "Data columns (total 67 columns):\n",
      " #   Column      Non-Null Count  Dtype  \n",
      "---  ------      --------------  -----  \n",
      " 0   holiday     10881 non-null  int64  \n",
      " 1   workingday  10881 non-null  int64  \n",
      " 2   temp        10881 non-null  float64\n",
      " 3   humidity    10881 non-null  float64\n",
      " 4   windspeed   10881 non-null  float64\n",
      " 5   regcount    10881 non-null  float64\n",
      " 6   casual      10881 non-null  float64\n",
      " 7   registered  10881 non-null  float64\n",
      " 8   peak        10881 non-null  int64  \n",
      " 9   ideal       10881 non-null  int64  \n",
      " 10  sticky      10881 non-null  int64  \n",
      " 11  season_1    10881 non-null  uint8  \n",
      " 12  season_2    10881 non-null  uint8  \n",
      " 13  season_3    10881 non-null  uint8  \n",
      " 14  season_4    10881 non-null  uint8  \n",
      " 15  weather_1   10881 non-null  uint8  \n",
      " 16  weather_2   10881 non-null  uint8  \n",
      " 17  weather_3   10881 non-null  uint8  \n",
      " 18  weather_4   10881 non-null  uint8  \n",
      " 19  m_1         10881 non-null  uint8  \n",
      " 20  m_2         10881 non-null  uint8  \n",
      " 21  m_3         10881 non-null  uint8  \n",
      " 22  m_4         10881 non-null  uint8  \n",
      " 23  m_5         10881 non-null  uint8  \n",
      " 24  m_6         10881 non-null  uint8  \n",
      " 25  m_7         10881 non-null  uint8  \n",
      " 26  m_8         10881 non-null  uint8  \n",
      " 27  m_9         10881 non-null  uint8  \n",
      " 28  m_10        10881 non-null  uint8  \n",
      " 29  m_11        10881 non-null  uint8  \n",
      " 30  m_12        10881 non-null  uint8  \n",
      " 31  y_2011      10881 non-null  uint8  \n",
      " 32  y_2012      10881 non-null  uint8  \n",
      " 33  h_0         10881 non-null  uint8  \n",
      " 34  h_1         10881 non-null  uint8  \n",
      " 35  h_2         10881 non-null  uint8  \n",
      " 36  h_3         10881 non-null  uint8  \n",
      " 37  h_4         10881 non-null  uint8  \n",
      " 38  h_5         10881 non-null  uint8  \n",
      " 39  h_6         10881 non-null  uint8  \n",
      " 40  h_7         10881 non-null  uint8  \n",
      " 41  h_8         10881 non-null  uint8  \n",
      " 42  h_9         10881 non-null  uint8  \n",
      " 43  h_10        10881 non-null  uint8  \n",
      " 44  h_11        10881 non-null  uint8  \n",
      " 45  h_12        10881 non-null  uint8  \n",
      " 46  h_13        10881 non-null  uint8  \n",
      " 47  h_14        10881 non-null  uint8  \n",
      " 48  h_15        10881 non-null  uint8  \n",
      " 49  h_16        10881 non-null  uint8  \n",
      " 50  h_17        10881 non-null  uint8  \n",
      " 51  h_18        10881 non-null  uint8  \n",
      " 52  h_19        10881 non-null  uint8  \n",
      " 53  h_20        10881 non-null  uint8  \n",
      " 54  h_21        10881 non-null  uint8  \n",
      " 55  h_22        10881 non-null  uint8  \n",
      " 56  h_23        10881 non-null  uint8  \n",
      " 57  w_0         10881 non-null  uint8  \n",
      " 58  w_1         10881 non-null  uint8  \n",
      " 59  w_2         10881 non-null  uint8  \n",
      " 60  w_3         10881 non-null  uint8  \n",
      " 61  w_4         10881 non-null  uint8  \n",
      " 62  w_5         10881 non-null  uint8  \n",
      " 63  w_6         10881 non-null  uint8  \n",
      " 64  day_type_0  10881 non-null  uint8  \n",
      " 65  day_type_1  10881 non-null  uint8  \n",
      " 66  day_type_2  10881 non-null  uint8  \n",
      "dtypes: float64(6), int64(5), uint8(56)\n",
      "memory usage: 1.6 MB\n"
     ]
    }
   ],
   "source": [
    "train.info()"
   ]
  },
  {
   "cell_type": "markdown",
   "id": "53f4ec66-3318-41ac-897a-fd791c9c0c2e",
   "metadata": {},
   "source": [
    "# 학습"
   ]
  },
  {
   "cell_type": "markdown",
   "id": "67f9b4f1-f944-4600-ace3-ceafc5c236ce",
   "metadata": {},
   "source": [
    "## 타켓 선정\n",
    "* 답안지 : count 제출\n",
    "* regcount(A패턴)  = registered(A2패턴) + casual (B패턴) \n",
    "* <font color=red><b>registered(A2패턴) + casual (B패턴)  --> 이 값을 답안으로 제출"
   ]
  },
  {
   "cell_type": "markdown",
   "id": "1ff48df0-3f95-4051-b8a7-e92adfd17d94",
   "metadata": {},
   "source": [
    "## 최종피쳐 선정"
   ]
  },
  {
   "cell_type": "code",
   "execution_count": 12,
   "id": "6e6f5611-73be-46cd-9554-9d4468b8dd1b",
   "metadata": {
    "tags": []
   },
   "outputs": [
    {
     "data": {
      "text/plain": [
       "Index(['holiday', 'workingday', 'temp', 'humidity', 'windspeed', 'regcount',\n",
       "       'casual', 'registered', 'peak', 'ideal', 'sticky', 'season_1',\n",
       "       'season_2', 'season_3', 'season_4', 'weather_1', 'weather_2',\n",
       "       'weather_3', 'weather_4', 'm_1', 'm_2', 'm_3', 'm_4', 'm_5', 'm_6',\n",
       "       'm_7', 'm_8', 'm_9', 'm_10', 'm_11', 'm_12', 'y_2011', 'y_2012', 'h_0',\n",
       "       'h_1', 'h_2', 'h_3', 'h_4', 'h_5', 'h_6', 'h_7', 'h_8', 'h_9', 'h_10',\n",
       "       'h_11', 'h_12', 'h_13', 'h_14', 'h_15', 'h_16', 'h_17', 'h_18', 'h_19',\n",
       "       'h_20', 'h_21', 'h_22', 'h_23', 'w_0', 'w_1', 'w_2', 'w_3', 'w_4',\n",
       "       'w_5', 'w_6', 'day_type_0', 'day_type_1', 'day_type_2'],\n",
       "      dtype='object')"
      ]
     },
     "execution_count": 12,
     "metadata": {},
     "output_type": "execute_result"
    }
   ],
   "source": [
    "train.columns"
   ]
  },
  {
   "cell_type": "markdown",
   "id": "b9c17399-1af9-4458-8392-c6a037918382",
   "metadata": {},
   "source": [
    "<pre>\n",
    "타겟(1) : 'casual' + 'registered'\n",
    "타겟(2) : 'regcount'\n",
    "\n",
    "\n",
    "'d' 피쳐 삭제\n",
    "('m', 'h'),  'y', 'd' -->'w'\n",
    "\n",
    "\n",
    "(+)3개 : 'holiday', 'workingday', 'day_type'\n",
    "(+)2개 : 'holiday', 'workingday'\n",
    "(+)1개 : 'day_type'\n",
    "\n",
    "\n",
    "'weather', 'humidity',  'season', \n",
    "(+)'windspeed' : 'h' 비례? / 'm' 반비례?\n",
    "\n",
    "\n",
    "다중공선 : (상관계수가 높은 경우)\n",
    "'regcount' 'registered' 'casual' : 0.97  --> 'regcount' vs. 'registered'+'casual'\n",
    "'temp' 'atemp'                   : 0.98  --> 'atemp' drop\n",
    "\n",
    "선택적으로 모델에 적용\n",
    "(+)'w' 'day_type' : -0.78\n",
    "(+)'season' 'm'   : 0.97\n",
    "\n",
    "\n",
    "* ('m', 'h'),  'y', 'w', 'weather', 'humidity',  'season', 'temp'\n",
    "* (+)'windspeed'\n",
    "* (+)('holiday', 'workingday'), ('day_type')\n",
    "* (+)('w' 'day_type') : -0.78\n",
    "* (+)('m') 'season'    : 0.97\n"
   ]
  },
  {
   "cell_type": "markdown",
   "id": "5bdd8c4c-9358-44dc-9350-58991c9393c3",
   "metadata": {},
   "source": [
    "## 학습 & 평가\n",
    "* ref : https://suboptimal.wiki/explanation/mse/"
   ]
  },
  {
   "cell_type": "markdown",
   "id": "0ba38b2f-1853-4f64-a569-d9e193cecbb1",
   "metadata": {},
   "source": [
    "*  $ RMSLE = \\sqrt{\\frac{1}{n}\\Sigma_{i=1}^{n}{\\Big(\\frac{log(Y_i+1) - log(\\hat{Y_i}+1)}{N}\\Big)^2}}$"
   ]
  },
  {
   "cell_type": "code",
   "execution_count": 13,
   "id": "75c1e36b-5262-41cc-854f-abb5cb91188c",
   "metadata": {
    "tags": []
   },
   "outputs": [],
   "source": [
    "# ! pip install xgboost\n",
    "# ! pip install lightgbm "
   ]
  },
  {
   "cell_type": "markdown",
   "id": "713766ac-7ef4-49a9-a8d4-4e60da803978",
   "metadata": {},
   "source": [
    "## 공통함수"
   ]
  },
  {
   "cell_type": "markdown",
   "id": "58d8a990-8a7e-495a-85cb-e6d33244bc68",
   "metadata": {},
   "source": [
    "* class sklearn.linear_model.Ridge(alpha=1.0, *, fit_intercept=True, copy_X=True, max_iter=None, tol=0.0001, solver='auto', positive=False, random_state=None)\n",
    "* class sklearn.linear_model.Lasso(alpha=1.0, *, fit_intercept=True, precompute=False, copy_X=True, max_iter=1000, tol=0.0001, warm_start=False, positive=False, random_state=None, selection='cyclic')"
   ]
  },
  {
   "cell_type": "code",
   "execution_count": 14,
   "id": "e94da62c-d779-483f-b2f2-e87be46125a8",
   "metadata": {
    "tags": []
   },
   "outputs": [
    {
     "data": {
      "text/html": [
       "<div>\n",
       "<style scoped>\n",
       "    .dataframe tbody tr th:only-of-type {\n",
       "        vertical-align: middle;\n",
       "    }\n",
       "\n",
       "    .dataframe tbody tr th {\n",
       "        vertical-align: top;\n",
       "    }\n",
       "\n",
       "    .dataframe thead th {\n",
       "        text-align: right;\n",
       "    }\n",
       "</style>\n",
       "<table border=\"1\" class=\"dataframe\">\n",
       "  <thead>\n",
       "    <tr style=\"text-align: right;\">\n",
       "      <th></th>\n",
       "      <th>holiday</th>\n",
       "      <th>workingday</th>\n",
       "      <th>temp</th>\n",
       "      <th>humidity</th>\n",
       "      <th>windspeed</th>\n",
       "      <th>regcount</th>\n",
       "      <th>casual</th>\n",
       "      <th>registered</th>\n",
       "      <th>peak</th>\n",
       "      <th>ideal</th>\n",
       "      <th>sticky</th>\n",
       "      <th>season_1</th>\n",
       "      <th>season_2</th>\n",
       "      <th>season_3</th>\n",
       "      <th>season_4</th>\n",
       "      <th>weather_1</th>\n",
       "      <th>weather_2</th>\n",
       "      <th>weather_3</th>\n",
       "      <th>weather_4</th>\n",
       "      <th>m_1</th>\n",
       "      <th>m_2</th>\n",
       "      <th>m_3</th>\n",
       "      <th>m_4</th>\n",
       "      <th>m_5</th>\n",
       "      <th>m_6</th>\n",
       "      <th>m_7</th>\n",
       "      <th>m_8</th>\n",
       "      <th>m_9</th>\n",
       "      <th>m_10</th>\n",
       "      <th>m_11</th>\n",
       "      <th>m_12</th>\n",
       "      <th>y_2011</th>\n",
       "      <th>y_2012</th>\n",
       "      <th>h_0</th>\n",
       "      <th>h_1</th>\n",
       "      <th>h_2</th>\n",
       "      <th>h_3</th>\n",
       "      <th>h_4</th>\n",
       "      <th>h_5</th>\n",
       "      <th>h_6</th>\n",
       "      <th>h_7</th>\n",
       "      <th>h_8</th>\n",
       "      <th>h_9</th>\n",
       "      <th>h_10</th>\n",
       "      <th>h_11</th>\n",
       "      <th>h_12</th>\n",
       "      <th>h_13</th>\n",
       "      <th>h_14</th>\n",
       "      <th>h_15</th>\n",
       "      <th>h_16</th>\n",
       "      <th>h_17</th>\n",
       "      <th>h_18</th>\n",
       "      <th>h_19</th>\n",
       "      <th>h_20</th>\n",
       "      <th>h_21</th>\n",
       "      <th>h_22</th>\n",
       "      <th>h_23</th>\n",
       "      <th>w_0</th>\n",
       "      <th>w_1</th>\n",
       "      <th>w_2</th>\n",
       "      <th>w_3</th>\n",
       "      <th>w_4</th>\n",
       "      <th>w_5</th>\n",
       "      <th>w_6</th>\n",
       "      <th>day_type_0</th>\n",
       "      <th>day_type_1</th>\n",
       "      <th>day_type_2</th>\n",
       "    </tr>\n",
       "    <tr>\n",
       "      <th>regdate</th>\n",
       "      <th></th>\n",
       "      <th></th>\n",
       "      <th></th>\n",
       "      <th></th>\n",
       "      <th></th>\n",
       "      <th></th>\n",
       "      <th></th>\n",
       "      <th></th>\n",
       "      <th></th>\n",
       "      <th></th>\n",
       "      <th></th>\n",
       "      <th></th>\n",
       "      <th></th>\n",
       "      <th></th>\n",
       "      <th></th>\n",
       "      <th></th>\n",
       "      <th></th>\n",
       "      <th></th>\n",
       "      <th></th>\n",
       "      <th></th>\n",
       "      <th></th>\n",
       "      <th></th>\n",
       "      <th></th>\n",
       "      <th></th>\n",
       "      <th></th>\n",
       "      <th></th>\n",
       "      <th></th>\n",
       "      <th></th>\n",
       "      <th></th>\n",
       "      <th></th>\n",
       "      <th></th>\n",
       "      <th></th>\n",
       "      <th></th>\n",
       "      <th></th>\n",
       "      <th></th>\n",
       "      <th></th>\n",
       "      <th></th>\n",
       "      <th></th>\n",
       "      <th></th>\n",
       "      <th></th>\n",
       "      <th></th>\n",
       "      <th></th>\n",
       "      <th></th>\n",
       "      <th></th>\n",
       "      <th></th>\n",
       "      <th></th>\n",
       "      <th></th>\n",
       "      <th></th>\n",
       "      <th></th>\n",
       "      <th></th>\n",
       "      <th></th>\n",
       "      <th></th>\n",
       "      <th></th>\n",
       "      <th></th>\n",
       "      <th></th>\n",
       "      <th></th>\n",
       "      <th></th>\n",
       "      <th></th>\n",
       "      <th></th>\n",
       "      <th></th>\n",
       "      <th></th>\n",
       "      <th></th>\n",
       "      <th></th>\n",
       "      <th></th>\n",
       "      <th></th>\n",
       "      <th></th>\n",
       "      <th></th>\n",
       "    </tr>\n",
       "  </thead>\n",
       "  <tbody>\n",
       "    <tr>\n",
       "      <th>2011-01-01 00:00:00</th>\n",
       "      <td>0</td>\n",
       "      <td>0</td>\n",
       "      <td>2.383243</td>\n",
       "      <td>4.406719</td>\n",
       "      <td>1.933883</td>\n",
       "      <td>16.0</td>\n",
       "      <td>3.0</td>\n",
       "      <td>13.0</td>\n",
       "      <td>0</td>\n",
       "      <td>0</td>\n",
       "      <td>0</td>\n",
       "      <td>1</td>\n",
       "      <td>0</td>\n",
       "      <td>0</td>\n",
       "      <td>0</td>\n",
       "      <td>1</td>\n",
       "      <td>0</td>\n",
       "      <td>0</td>\n",
       "      <td>0</td>\n",
       "      <td>1</td>\n",
       "      <td>0</td>\n",
       "      <td>0</td>\n",
       "      <td>0</td>\n",
       "      <td>0</td>\n",
       "      <td>0</td>\n",
       "      <td>0</td>\n",
       "      <td>0</td>\n",
       "      <td>0</td>\n",
       "      <td>0</td>\n",
       "      <td>0</td>\n",
       "      <td>0</td>\n",
       "      <td>1</td>\n",
       "      <td>0</td>\n",
       "      <td>1</td>\n",
       "      <td>0</td>\n",
       "      <td>0</td>\n",
       "      <td>0</td>\n",
       "      <td>0</td>\n",
       "      <td>0</td>\n",
       "      <td>0</td>\n",
       "      <td>0</td>\n",
       "      <td>0</td>\n",
       "      <td>0</td>\n",
       "      <td>0</td>\n",
       "      <td>0</td>\n",
       "      <td>0</td>\n",
       "      <td>0</td>\n",
       "      <td>0</td>\n",
       "      <td>0</td>\n",
       "      <td>0</td>\n",
       "      <td>0</td>\n",
       "      <td>0</td>\n",
       "      <td>0</td>\n",
       "      <td>0</td>\n",
       "      <td>0</td>\n",
       "      <td>0</td>\n",
       "      <td>0</td>\n",
       "      <td>0</td>\n",
       "      <td>0</td>\n",
       "      <td>0</td>\n",
       "      <td>0</td>\n",
       "      <td>0</td>\n",
       "      <td>1</td>\n",
       "      <td>0</td>\n",
       "      <td>1</td>\n",
       "      <td>0</td>\n",
       "      <td>0</td>\n",
       "    </tr>\n",
       "    <tr>\n",
       "      <th>2011-01-01 01:00:00</th>\n",
       "      <td>0</td>\n",
       "      <td>0</td>\n",
       "      <td>2.304583</td>\n",
       "      <td>4.394449</td>\n",
       "      <td>1.976391</td>\n",
       "      <td>40.0</td>\n",
       "      <td>8.0</td>\n",
       "      <td>32.0</td>\n",
       "      <td>0</td>\n",
       "      <td>0</td>\n",
       "      <td>0</td>\n",
       "      <td>1</td>\n",
       "      <td>0</td>\n",
       "      <td>0</td>\n",
       "      <td>0</td>\n",
       "      <td>1</td>\n",
       "      <td>0</td>\n",
       "      <td>0</td>\n",
       "      <td>0</td>\n",
       "      <td>1</td>\n",
       "      <td>0</td>\n",
       "      <td>0</td>\n",
       "      <td>0</td>\n",
       "      <td>0</td>\n",
       "      <td>0</td>\n",
       "      <td>0</td>\n",
       "      <td>0</td>\n",
       "      <td>0</td>\n",
       "      <td>0</td>\n",
       "      <td>0</td>\n",
       "      <td>0</td>\n",
       "      <td>1</td>\n",
       "      <td>0</td>\n",
       "      <td>0</td>\n",
       "      <td>1</td>\n",
       "      <td>0</td>\n",
       "      <td>0</td>\n",
       "      <td>0</td>\n",
       "      <td>0</td>\n",
       "      <td>0</td>\n",
       "      <td>0</td>\n",
       "      <td>0</td>\n",
       "      <td>0</td>\n",
       "      <td>0</td>\n",
       "      <td>0</td>\n",
       "      <td>0</td>\n",
       "      <td>0</td>\n",
       "      <td>0</td>\n",
       "      <td>0</td>\n",
       "      <td>0</td>\n",
       "      <td>0</td>\n",
       "      <td>0</td>\n",
       "      <td>0</td>\n",
       "      <td>0</td>\n",
       "      <td>0</td>\n",
       "      <td>0</td>\n",
       "      <td>0</td>\n",
       "      <td>0</td>\n",
       "      <td>0</td>\n",
       "      <td>0</td>\n",
       "      <td>0</td>\n",
       "      <td>0</td>\n",
       "      <td>1</td>\n",
       "      <td>0</td>\n",
       "      <td>1</td>\n",
       "      <td>0</td>\n",
       "      <td>0</td>\n",
       "    </tr>\n",
       "    <tr>\n",
       "      <th>2011-01-01 02:00:00</th>\n",
       "      <td>0</td>\n",
       "      <td>0</td>\n",
       "      <td>2.304583</td>\n",
       "      <td>4.394449</td>\n",
       "      <td>1.976391</td>\n",
       "      <td>32.0</td>\n",
       "      <td>5.0</td>\n",
       "      <td>27.0</td>\n",
       "      <td>0</td>\n",
       "      <td>0</td>\n",
       "      <td>0</td>\n",
       "      <td>1</td>\n",
       "      <td>0</td>\n",
       "      <td>0</td>\n",
       "      <td>0</td>\n",
       "      <td>1</td>\n",
       "      <td>0</td>\n",
       "      <td>0</td>\n",
       "      <td>0</td>\n",
       "      <td>1</td>\n",
       "      <td>0</td>\n",
       "      <td>0</td>\n",
       "      <td>0</td>\n",
       "      <td>0</td>\n",
       "      <td>0</td>\n",
       "      <td>0</td>\n",
       "      <td>0</td>\n",
       "      <td>0</td>\n",
       "      <td>0</td>\n",
       "      <td>0</td>\n",
       "      <td>0</td>\n",
       "      <td>1</td>\n",
       "      <td>0</td>\n",
       "      <td>0</td>\n",
       "      <td>0</td>\n",
       "      <td>1</td>\n",
       "      <td>0</td>\n",
       "      <td>0</td>\n",
       "      <td>0</td>\n",
       "      <td>0</td>\n",
       "      <td>0</td>\n",
       "      <td>0</td>\n",
       "      <td>0</td>\n",
       "      <td>0</td>\n",
       "      <td>0</td>\n",
       "      <td>0</td>\n",
       "      <td>0</td>\n",
       "      <td>0</td>\n",
       "      <td>0</td>\n",
       "      <td>0</td>\n",
       "      <td>0</td>\n",
       "      <td>0</td>\n",
       "      <td>0</td>\n",
       "      <td>0</td>\n",
       "      <td>0</td>\n",
       "      <td>0</td>\n",
       "      <td>0</td>\n",
       "      <td>0</td>\n",
       "      <td>0</td>\n",
       "      <td>0</td>\n",
       "      <td>0</td>\n",
       "      <td>0</td>\n",
       "      <td>1</td>\n",
       "      <td>0</td>\n",
       "      <td>1</td>\n",
       "      <td>0</td>\n",
       "      <td>0</td>\n",
       "    </tr>\n",
       "    <tr>\n",
       "      <th>2011-01-01 03:00:00</th>\n",
       "      <td>0</td>\n",
       "      <td>0</td>\n",
       "      <td>2.383243</td>\n",
       "      <td>4.330733</td>\n",
       "      <td>1.952949</td>\n",
       "      <td>13.0</td>\n",
       "      <td>3.0</td>\n",
       "      <td>10.0</td>\n",
       "      <td>0</td>\n",
       "      <td>0</td>\n",
       "      <td>0</td>\n",
       "      <td>1</td>\n",
       "      <td>0</td>\n",
       "      <td>0</td>\n",
       "      <td>0</td>\n",
       "      <td>1</td>\n",
       "      <td>0</td>\n",
       "      <td>0</td>\n",
       "      <td>0</td>\n",
       "      <td>1</td>\n",
       "      <td>0</td>\n",
       "      <td>0</td>\n",
       "      <td>0</td>\n",
       "      <td>0</td>\n",
       "      <td>0</td>\n",
       "      <td>0</td>\n",
       "      <td>0</td>\n",
       "      <td>0</td>\n",
       "      <td>0</td>\n",
       "      <td>0</td>\n",
       "      <td>0</td>\n",
       "      <td>1</td>\n",
       "      <td>0</td>\n",
       "      <td>0</td>\n",
       "      <td>0</td>\n",
       "      <td>0</td>\n",
       "      <td>1</td>\n",
       "      <td>0</td>\n",
       "      <td>0</td>\n",
       "      <td>0</td>\n",
       "      <td>0</td>\n",
       "      <td>0</td>\n",
       "      <td>0</td>\n",
       "      <td>0</td>\n",
       "      <td>0</td>\n",
       "      <td>0</td>\n",
       "      <td>0</td>\n",
       "      <td>0</td>\n",
       "      <td>0</td>\n",
       "      <td>0</td>\n",
       "      <td>0</td>\n",
       "      <td>0</td>\n",
       "      <td>0</td>\n",
       "      <td>0</td>\n",
       "      <td>0</td>\n",
       "      <td>0</td>\n",
       "      <td>0</td>\n",
       "      <td>0</td>\n",
       "      <td>0</td>\n",
       "      <td>0</td>\n",
       "      <td>0</td>\n",
       "      <td>0</td>\n",
       "      <td>1</td>\n",
       "      <td>0</td>\n",
       "      <td>1</td>\n",
       "      <td>0</td>\n",
       "      <td>0</td>\n",
       "    </tr>\n",
       "    <tr>\n",
       "      <th>2011-01-01 04:00:00</th>\n",
       "      <td>0</td>\n",
       "      <td>0</td>\n",
       "      <td>2.383243</td>\n",
       "      <td>4.330733</td>\n",
       "      <td>1.952949</td>\n",
       "      <td>1.0</td>\n",
       "      <td>0.0</td>\n",
       "      <td>1.0</td>\n",
       "      <td>0</td>\n",
       "      <td>0</td>\n",
       "      <td>0</td>\n",
       "      <td>1</td>\n",
       "      <td>0</td>\n",
       "      <td>0</td>\n",
       "      <td>0</td>\n",
       "      <td>1</td>\n",
       "      <td>0</td>\n",
       "      <td>0</td>\n",
       "      <td>0</td>\n",
       "      <td>1</td>\n",
       "      <td>0</td>\n",
       "      <td>0</td>\n",
       "      <td>0</td>\n",
       "      <td>0</td>\n",
       "      <td>0</td>\n",
       "      <td>0</td>\n",
       "      <td>0</td>\n",
       "      <td>0</td>\n",
       "      <td>0</td>\n",
       "      <td>0</td>\n",
       "      <td>0</td>\n",
       "      <td>1</td>\n",
       "      <td>0</td>\n",
       "      <td>0</td>\n",
       "      <td>0</td>\n",
       "      <td>0</td>\n",
       "      <td>0</td>\n",
       "      <td>1</td>\n",
       "      <td>0</td>\n",
       "      <td>0</td>\n",
       "      <td>0</td>\n",
       "      <td>0</td>\n",
       "      <td>0</td>\n",
       "      <td>0</td>\n",
       "      <td>0</td>\n",
       "      <td>0</td>\n",
       "      <td>0</td>\n",
       "      <td>0</td>\n",
       "      <td>0</td>\n",
       "      <td>0</td>\n",
       "      <td>0</td>\n",
       "      <td>0</td>\n",
       "      <td>0</td>\n",
       "      <td>0</td>\n",
       "      <td>0</td>\n",
       "      <td>0</td>\n",
       "      <td>0</td>\n",
       "      <td>0</td>\n",
       "      <td>0</td>\n",
       "      <td>0</td>\n",
       "      <td>0</td>\n",
       "      <td>0</td>\n",
       "      <td>1</td>\n",
       "      <td>0</td>\n",
       "      <td>1</td>\n",
       "      <td>0</td>\n",
       "      <td>0</td>\n",
       "    </tr>\n",
       "  </tbody>\n",
       "</table>\n",
       "</div>"
      ],
      "text/plain": [
       "                     holiday  workingday      temp  humidity  windspeed  \\\n",
       "regdate                                                                   \n",
       "2011-01-01 00:00:00        0           0  2.383243  4.406719   1.933883   \n",
       "2011-01-01 01:00:00        0           0  2.304583  4.394449   1.976391   \n",
       "2011-01-01 02:00:00        0           0  2.304583  4.394449   1.976391   \n",
       "2011-01-01 03:00:00        0           0  2.383243  4.330733   1.952949   \n",
       "2011-01-01 04:00:00        0           0  2.383243  4.330733   1.952949   \n",
       "\n",
       "                     regcount  casual  registered  peak  ideal  sticky  \\\n",
       "regdate                                                                  \n",
       "2011-01-01 00:00:00      16.0     3.0        13.0     0      0       0   \n",
       "2011-01-01 01:00:00      40.0     8.0        32.0     0      0       0   \n",
       "2011-01-01 02:00:00      32.0     5.0        27.0     0      0       0   \n",
       "2011-01-01 03:00:00      13.0     3.0        10.0     0      0       0   \n",
       "2011-01-01 04:00:00       1.0     0.0         1.0     0      0       0   \n",
       "\n",
       "                     season_1  season_2  season_3  season_4  weather_1  \\\n",
       "regdate                                                                  \n",
       "2011-01-01 00:00:00         1         0         0         0          1   \n",
       "2011-01-01 01:00:00         1         0         0         0          1   \n",
       "2011-01-01 02:00:00         1         0         0         0          1   \n",
       "2011-01-01 03:00:00         1         0         0         0          1   \n",
       "2011-01-01 04:00:00         1         0         0         0          1   \n",
       "\n",
       "                     weather_2  weather_3  weather_4  m_1  m_2  m_3  m_4  m_5  \\\n",
       "regdate                                                                         \n",
       "2011-01-01 00:00:00          0          0          0    1    0    0    0    0   \n",
       "2011-01-01 01:00:00          0          0          0    1    0    0    0    0   \n",
       "2011-01-01 02:00:00          0          0          0    1    0    0    0    0   \n",
       "2011-01-01 03:00:00          0          0          0    1    0    0    0    0   \n",
       "2011-01-01 04:00:00          0          0          0    1    0    0    0    0   \n",
       "\n",
       "                     m_6  m_7  m_8  m_9  m_10  m_11  m_12  y_2011  y_2012  \\\n",
       "regdate                                                                     \n",
       "2011-01-01 00:00:00    0    0    0    0     0     0     0       1       0   \n",
       "2011-01-01 01:00:00    0    0    0    0     0     0     0       1       0   \n",
       "2011-01-01 02:00:00    0    0    0    0     0     0     0       1       0   \n",
       "2011-01-01 03:00:00    0    0    0    0     0     0     0       1       0   \n",
       "2011-01-01 04:00:00    0    0    0    0     0     0     0       1       0   \n",
       "\n",
       "                     h_0  h_1  h_2  h_3  h_4  h_5  h_6  h_7  h_8  h_9  h_10  \\\n",
       "regdate                                                                       \n",
       "2011-01-01 00:00:00    1    0    0    0    0    0    0    0    0    0     0   \n",
       "2011-01-01 01:00:00    0    1    0    0    0    0    0    0    0    0     0   \n",
       "2011-01-01 02:00:00    0    0    1    0    0    0    0    0    0    0     0   \n",
       "2011-01-01 03:00:00    0    0    0    1    0    0    0    0    0    0     0   \n",
       "2011-01-01 04:00:00    0    0    0    0    1    0    0    0    0    0     0   \n",
       "\n",
       "                     h_11  h_12  h_13  h_14  h_15  h_16  h_17  h_18  h_19  \\\n",
       "regdate                                                                     \n",
       "2011-01-01 00:00:00     0     0     0     0     0     0     0     0     0   \n",
       "2011-01-01 01:00:00     0     0     0     0     0     0     0     0     0   \n",
       "2011-01-01 02:00:00     0     0     0     0     0     0     0     0     0   \n",
       "2011-01-01 03:00:00     0     0     0     0     0     0     0     0     0   \n",
       "2011-01-01 04:00:00     0     0     0     0     0     0     0     0     0   \n",
       "\n",
       "                     h_20  h_21  h_22  h_23  w_0  w_1  w_2  w_3  w_4  w_5  \\\n",
       "regdate                                                                     \n",
       "2011-01-01 00:00:00     0     0     0     0    0    0    0    0    0    1   \n",
       "2011-01-01 01:00:00     0     0     0     0    0    0    0    0    0    1   \n",
       "2011-01-01 02:00:00     0     0     0     0    0    0    0    0    0    1   \n",
       "2011-01-01 03:00:00     0     0     0     0    0    0    0    0    0    1   \n",
       "2011-01-01 04:00:00     0     0     0     0    0    0    0    0    0    1   \n",
       "\n",
       "                     w_6  day_type_0  day_type_1  day_type_2  \n",
       "regdate                                                       \n",
       "2011-01-01 00:00:00    0           1           0           0  \n",
       "2011-01-01 01:00:00    0           1           0           0  \n",
       "2011-01-01 02:00:00    0           1           0           0  \n",
       "2011-01-01 03:00:00    0           1           0           0  \n",
       "2011-01-01 04:00:00    0           1           0           0  "
      ]
     },
     "execution_count": 14,
     "metadata": {},
     "output_type": "execute_result"
    }
   ],
   "source": [
    "train.head()"
   ]
  },
  {
   "cell_type": "markdown",
   "id": "b03d3b0a-7be6-49d0-8df2-ad53088cef5a",
   "metadata": {},
   "source": [
    "> 피쳐 학습에 가담한 주요피쳐 보기 --> fit() 하고 난 후 찍어보기\n",
    "- 분류 : feature importance    --> ABOOST, DecisionTreeRegressor, XGBRegressor, LGBMRegressor\n",
    "- 회기 : 회기계수(coef) \n",
    "* tree model에는 회기라고 하더라도 coef 없음\n",
    "* 각 모델이 feature importance를 지원하는지, codf_ 지원하는지 알고 있어야 확인 가능\n",
    "- sklearn : estimator(최상위)=model   --> get_estimator\n",
    "- CART : clssification and regression tree   ex. DecisionTreeClassifier   --> featue importance\n",
    "    - 대부분의 tree 모델은 분류와 회귀 둘다 지원"
   ]
  },
  {
   "cell_type": "code",
   "execution_count": 15,
   "id": "969bb97c-6678-46bf-8dd8-6360e767e97e",
   "metadata": {
    "tags": []
   },
   "outputs": [
    {
     "data": {
      "text/plain": [
       "'Ridge'"
      ]
     },
     "execution_count": 15,
     "metadata": {},
     "output_type": "execute_result"
    }
   ],
   "source": [
    "modelsss = Ridge(alpha=1.0, random_state=0)\n",
    "modelsss.__class__.__name__  # 모델 이름 확인"
   ]
  },
  {
   "cell_type": "code",
   "execution_count": 17,
   "id": "389b05e2-1852-41d8-96b1-753a81ad1a48",
   "metadata": {
    "tags": []
   },
   "outputs": [],
   "source": [
    "def my_view_chart(model_name,model,X_train):\n",
    "    if model_name == \"RIDGE\" :\n",
    "        ax1 = plt.subplot(3,1,1)\n",
    "        s = pd.Series(model.coef_, index=X_train.columns).sort_values()\n",
    "        sns.barplot(x=s.values, y=s.index, ax=ax1)\n",
    "        plt.tight_layout()\n",
    "        plt.show()\n",
    "    elif model_name == \"RF\" :\n",
    "        ax2 = plt.subplot(3,1,2)\n",
    "        s = pd.Series(model.feature_importances_, index=X_train.columns).sort_values()\n",
    "        sns.barplot(x=s.values, y=s.index, ax=ax2)\n",
    "        plt.tight_layout()\n",
    "        plt.show()\n",
    "    elif model_name == \"XGB\" :\n",
    "        ax3 = plt.subplot(3,1,3)\n",
    "        # pd.Series(model.get_booster().get_score(importance_type='weight'), index=X_train.columns).sort_values().plot(kind='bar')\n",
    "        s = pd.Series(model.get_booster().get_score(importance_type='weight'), index=X_train.columns).sort_values()\n",
    "        sns.barplot(x=s.values, y=s.index, ax=ax3)\n",
    "        plt.tight_layout()\n",
    "        plt.show()\n",
    "\n",
    "    elif model_name == \"LGBM\" :\n",
    "        ax2 = plt.subplot(3,1,2)\n",
    "        s = pd.Series(model.feature_importances_, index=X_train.columns).sort_values()\n",
    "        sns.barplot(x=s.values, y=s.index, ax=ax2)\n",
    "        plt.tight_layout()\n",
    "        plt.show()   "
   ]
  },
  {
   "cell_type": "code",
   "execution_count": null,
   "id": "d56c5c07-e683-4494-a167-87fe4cd3764c",
   "metadata": {},
   "outputs": [],
   "source": [
    "def my_fit_score(df, chart_view=False) :\n",
    "    model_list = [ \n",
    "                   #(\"RIDGE\"  , Ridge(alpha=1.0, random_state=0)),\n",
    "                   #(\"LASSO\"  , Lasso(alpha=1.0, random_state=0)),\n",
    "                   (\"DTR\"    , DecisionTreeRegressor(random_state=0)),\n",
    "                   (\"RF\"     , RandomForestRegressor(random_state=0)),\n",
    "                   #(\"LR\"     , LinearRegression()                   ),\n",
    "                   #(\"ABOOST\" , AdaBoostRegressor(random_state=0)                  ),\n",
    "                   (\"XGB\"    , XGBRegressor(random_state=0)                       ),   #booster=gblinear\n",
    "                   (\"LGBM\"   , LGBMRegressor(random_state=0)                      ),\n",
    "                   # model.booster().get_score(importance_type='weight')\n",
    "                   (\"VR-XGB-LGBM\"  , VotingRegressor([(\"XGB\", XGBRegressor(random_state=0)), (\"LGBM\", LGBMRegressor(random_state=0))]) ) ,\n",
    "                   (\"VR-RF-LGBM\"   , VotingRegressor([(\"DTR\", RandomForestRegressor(random_state=0)), (\"LGBM\", LGBMRegressor(random_state=0))]) )\n",
    "                 ]\n",
    "   \n",
    "    \n",
    "    #---------(타켓피쳐:로그스케일링) -----------\n",
    "    # y_c = df['casual'] \n",
    "    # y_r = df['registered'] \n",
    "    y_c = np.log1p( df['casual'] )\n",
    "    y_r = np.log1p( df['registered'] )\n",
    "    # print(y_c[:5], y_r[:5])\n",
    "    \n",
    "    X = df.drop(['regcount','casual','registered'], axis=1)\n",
    "    \n",
    "\n",
    "    for tpl in model_list :\n",
    "        print( tpl[0] )         \n",
    "        model = tpl[1]\n",
    "        X_train, X_test, y_train, y_r_test = train_test_split(X, y_r, random_state=0, test_size=0.2)\n",
    "        model.fit(X_train, y_train)  \n",
    "        #------------------------------------------------\n",
    "        # feature_importance 차트 그리기\n",
    "        if bool(chart_view) : \n",
    "            my_view_chart(tpl[0], model, X_train)\n",
    "        #------------------------------------------------\n",
    "        y_r_pred = model.predict(X_test)\n",
    "        \n",
    "        \n",
    "        model = tpl[1]\n",
    "        X_train, X_test, y_train, y_c_test = train_test_split(X, y_c, random_state=0, test_size=0.2)\n",
    "        model.fit(X_train, y_train)\n",
    "        y_c_pred = model.predict(X_test)\n",
    "        \n",
    "        \n",
    "        #---------(타켓피쳐:로그스케일링) 복원-----------\n",
    "        y_pred_comb = np.expm1(y_r_pred)+np.expm1(y_c_pred)\n",
    "        y_real_comb = np.expm1(y_r_test)+np.expm1(y_c_test)\n",
    "        y_pred_comb[y_pred_comb < 0] = 0\n",
    "        \n",
    "        # print(\"yrtest\", y_r_test[:5])\n",
    "        # print(\"yctest\", y_c_test[:5])\n",
    "        # print(\"ypred\", y_pred_comb[:5])\n",
    "        msle_score = mean_squared_log_error(y_real_comb, y_pred_comb)\n",
    "\n",
    "        print(\"RMSLE: \", np.sqrt(msle_score)) \n",
    "        print(\"-\"*30)\n",
    "        "
   ]
  },
  {
   "cell_type": "code",
   "execution_count": null,
   "id": "2adbe9c7-d04e-4e24-bd0a-2c4b5d89f794",
   "metadata": {},
   "outputs": [],
   "source": []
  },
  {
   "cell_type": "code",
   "execution_count": null,
   "id": "e47e8006-2ee0-4b6c-98e8-dd53d2396c21",
   "metadata": {},
   "outputs": [],
   "source": []
  },
  {
   "cell_type": "code",
   "execution_count": null,
   "id": "b0c99c6f-2a46-426c-b78c-e6792f5fd5f0",
   "metadata": {},
   "outputs": [],
   "source": []
  },
  {
   "cell_type": "code",
   "execution_count": null,
   "id": "45940731-2ae7-4179-b365-2dde9218d1e8",
   "metadata": {},
   "outputs": [],
   "source": []
  },
  {
   "cell_type": "code",
   "execution_count": null,
   "id": "66f4674c-d90a-49e6-8310-4c0e756a6b4e",
   "metadata": {},
   "outputs": [],
   "source": []
  },
  {
   "cell_type": "code",
   "execution_count": null,
   "id": "eac557d1-6891-43e9-bc8d-70e6ac38ad44",
   "metadata": {},
   "outputs": [],
   "source": []
  },
  {
   "cell_type": "code",
   "execution_count": null,
   "id": "b767cc76-77c7-495a-a257-10a7c64dfba2",
   "metadata": {},
   "outputs": [],
   "source": []
  },
  {
   "cell_type": "code",
   "execution_count": null,
   "id": "90bca6aa-57c5-4dd8-a7c3-3582b4faeb06",
   "metadata": {},
   "outputs": [],
   "source": []
  },
  {
   "cell_type": "code",
   "execution_count": null,
   "id": "ecc9bd23-44eb-4308-927a-2093a3ad05fa",
   "metadata": {},
   "outputs": [],
   "source": []
  },
  {
   "cell_type": "code",
   "execution_count": null,
   "id": "63771e14-8aa2-48e1-abad-32542a01a4dc",
   "metadata": {},
   "outputs": [],
   "source": []
  },
  {
   "cell_type": "code",
   "execution_count": null,
   "id": "8149367c-a9f9-4ffe-b88b-ef1f5fe8b586",
   "metadata": {},
   "outputs": [],
   "source": []
  },
  {
   "cell_type": "code",
   "execution_count": null,
   "id": "e4aed6c4-2952-4776-9b11-3ce4d019106d",
   "metadata": {},
   "outputs": [],
   "source": []
  },
  {
   "cell_type": "code",
   "execution_count": null,
   "id": "b760aa28-64ee-4851-b502-39b3f9b45cd2",
   "metadata": {},
   "outputs": [],
   "source": []
  },
  {
   "cell_type": "code",
   "execution_count": null,
   "id": "0e361974-9bbc-4a16-a312-711814260e76",
   "metadata": {},
   "outputs": [],
   "source": []
  },
  {
   "cell_type": "code",
   "execution_count": null,
   "id": "bb6d0334-4624-41f2-8dcc-9fc8ea09b73d",
   "metadata": {},
   "outputs": [],
   "source": []
  },
  {
   "cell_type": "code",
   "execution_count": null,
   "id": "4d429235-433e-474c-a3f6-379f748be967",
   "metadata": {},
   "outputs": [],
   "source": []
  },
  {
   "cell_type": "code",
   "execution_count": null,
   "id": "67f2129a-520b-48fb-9d59-053143e91ad0",
   "metadata": {},
   "outputs": [],
   "source": []
  },
  {
   "cell_type": "code",
   "execution_count": null,
   "id": "01be0379-f3f3-49db-84db-07602f355af8",
   "metadata": {},
   "outputs": [],
   "source": [
    "dfdfdfdfdfdfdfdfdf"
   ]
  },
  {
   "cell_type": "code",
   "execution_count": 19,
   "id": "cb76a413-3251-45d3-96d9-0baf3e8dfa2e",
   "metadata": {},
   "outputs": [],
   "source": [
    "def my_fit_score(df, chart_view=False ) :\n",
    "    model_list = [ \n",
    "                   # (\"RIDGE\"  , Ridge(alpha=1.0, random_state=0)),\n",
    "                   # (\"LASSO\"  , Lasso(alpha=1.0, random_state=0)),\n",
    "                   (\"DTR\"    , DecisionTreeRegressor(random_state=0)),\n",
    "                   (\"RF\"     , RandomForestRegressor(random_state=0)),\n",
    "                   # (\"LR\"     , LinearRegression()                   ),\n",
    "                   # (\"ABOOST\" , AdaBoostRegressor(random_state=0)                ),\n",
    "                   (\"XGB\"    , XGBRegressor(random_state=0)                       ),  # booster=gblinear  : coef / default :  booster=gbltree --> feature importance\n",
    "                   (\"LGBM\"   , LGBMRegressor(random_state=0)                      ),  \n",
    "                   # (\"VR-XGB-LGBM\"    , VotingRegressor([(\"XGB\", XGBRegressor(random_state=0)), (\"LGBM\", LGBMRegressor(random_state=0))]) ) ,         # Voting에서는 Feature importance 지원하지 않음, 단지 모델과 모델을 연결하는 장치\n",
    "                   # (\"VR-RF-LGBM\"    , VotingRegressor([(\"DTR\", RandomForestRegressor(random_state=0)), (\"LGBM\", LGBMRegressor(random_state=0))]) )   # ensemble, Voting는 특색있는 모델끼리 묶어야 함, 비슷한 모델을 묶으면 overfitting\n",
    "                 ]\n",
    "    \n",
    "    #--------------(타켓피쳐:로그스케일링)-------------\n",
    "    # y_c = df['casual'] \n",
    "    # y_r = df['registered'] \n",
    "    y_c = np.log1p( df['casual'] )\n",
    "    y_r = np.log1p( df['registered'] )\n",
    "    # print(y_c[:5], y_r[:5])\n",
    "    \n",
    "    X = df.drop(['regcount','casual','registered'], axis=1)\n",
    "    \n",
    "    kf= KFold(n_splits=5,shuffle=True, random_state=11)\n",
    "\n",
    "    for i, (train_index, test_index) in enumerate(kf.split(X)):\n",
    "        X_train, X_test= X.iloc[train_index],X.iloc[test_index]\n",
    "        y_r_train, y_r_test= y_r.iloc[train_index],y_r.iloc[test_index]\n",
    "        y_c_train, y_c_test=y_c.iloc[train_index],y_c.iloc[test_index]\n",
    "    \n",
    "    # for tpl in model_list :\n",
    "    #     print( tpl[0] ) \n",
    "        # model = tpl[1]\n",
    "        # if tpl[0]== 'DTR' or tpl[0]== 'RF':\n",
    "    mydic={\"min_samples_split\":[1,2,3],\"min_samples_leaf\":[1,2,3]} \n",
    "        # elif tpl[0]== 'XGB' or tpl[0]== 'LGBM':\n",
    "        #     mydic={\"max_depth\":[1,2,3],\"learning_rate\":[0.1,0.2,0.3]}\n",
    "    model=DecisionTreeRegressor(random_state=0)\n",
    "    models= GridSearchCV(model, scoring='neg_mean_squared_log_error', cv=kf, param_grid=mydic)\n",
    "\n",
    "    models.fit(X_train,y_r_train)\n",
    "    y_r_pred=models.predict(X_test)\n",
    "    # print(f\"y_r_best_score : {models.best_score_*-1}\")\n",
    "\n",
    "    models.fit(X_train,y_c_train)\n",
    "    y_c_pred=models.predict(X_test)\n",
    "        # print(f\"y_c_best_score : {models.best_score_*-1}\")\n",
    "\n",
    "\n",
    "    #---------------------------------------------------\n",
    "    # feature importance 차트보기\n",
    "    if bool(chart_view):\n",
    "        my_view_chart(tpl[0],model,X_train)\n",
    "    #---------------------------------------------------     \n",
    "\n",
    "#         X_train, X_test, y_r_train, y_r_test = train_test_split(X, y_r, random_state=0, test_size=0.2)\n",
    "#         model.fit(X_train, y_r_train)\n",
    "\n",
    "#         y_r_pred = model.predict(X_test)\n",
    "\n",
    "#         model = tpl[1]\n",
    "#         X_train, X_test, y_train, y_c_test = train_test_split(X, y_c, random_state=0, test_size=0.2)\n",
    "#         model.fit(X_train, y_train)\n",
    "#         y_c_pred = model.predict(X_test)\n",
    "\n",
    "#         #---------(타켓피쳐:로그스케일링) 복원-----------\n",
    "    y_pred_comb = np.expm1(y_r_pred)+np.expm1(y_c_pred)\n",
    "    y_real_comb = np.expm1(y_r_test)+np.expm1(y_c_test)\n",
    "    y_pred_comb[y_pred_comb < 0] = 0\n",
    "\n",
    "#         print(\"yrtest\", y_r_test[:5])\n",
    "#         print(\"yctest\", y_c_test[:5])\n",
    "#         print(\"ypred\", y_pred_comb[:5])\n",
    "    msle_score = mean_squared_log_error(y_real_comb, y_pred_comb)\n",
    "       \n",
    "    print(\"RMSLE: \", np.sqrt(msle_score)) \n",
    "    return models,y_pred_comb\n",
    "    \n",
    "#         print(\"-\"*30)"
   ]
  },
  {
   "cell_type": "code",
   "execution_count": 20,
   "id": "b6ae0347-adb7-42d2-893c-41e34307ffee",
   "metadata": {},
   "outputs": [
    {
     "name": "stdout",
     "output_type": "stream",
     "text": [
      "RMSLE:  0.36443197387353615\n"
     ]
    }
   ],
   "source": [
    "models,y_pred=my_fit_score(train)\n",
    "# my_fit_score(train,chart_view=True)"
   ]
  },
  {
   "cell_type": "code",
   "execution_count": 25,
   "id": "5260729d-b899-4b2f-b286-82d3169a35ba",
   "metadata": {
    "tags": []
   },
   "outputs": [],
   "source": [
    "test['temp']      = np.log1p( test['temp'] )\n",
    "# test['atemp']     = np.log1p( test['atemp'] )\n",
    "test['humidity']  = np.log1p( test['humidity'] )\n",
    "test['windspeed'] = np.log1p( test['windspeed'] )"
   ]
  },
  {
   "cell_type": "code",
   "execution_count": 26,
   "id": "146cb483-69de-4ee4-8dfa-4df4d7378425",
   "metadata": {
    "tags": []
   },
   "outputs": [],
   "source": [
    "a=models.predict(test)"
   ]
  },
  {
   "cell_type": "code",
   "execution_count": 27,
   "id": "f51fab5c-2ffc-4cf1-9db3-f258f2f60b44",
   "metadata": {
    "tags": []
   },
   "outputs": [],
   "source": [
    "a=np.expm1(a)"
   ]
  },
  {
   "cell_type": "code",
   "execution_count": 28,
   "id": "be421cde-e824-4274-a4e0-166285e7f6ca",
   "metadata": {
    "tags": []
   },
   "outputs": [],
   "source": [
    "submit=pd.read_csv('./sampleSubmission.csv')\n",
    "submit['count']=a"
   ]
  },
  {
   "cell_type": "code",
   "execution_count": 29,
   "id": "487c5130-3c28-42cb-a59a-691ea6f3d8c2",
   "metadata": {
    "tags": []
   },
   "outputs": [],
   "source": [
    "submit.to_csv('submit3.csv', index=False)"
   ]
  },
  {
   "cell_type": "code",
   "execution_count": null,
   "id": "cb8f1e9e-1894-4c69-b091-a9274f444d3b",
   "metadata": {},
   "outputs": [],
   "source": []
  },
  {
   "cell_type": "code",
   "execution_count": null,
   "id": "c947e88c-277b-474f-b7e9-e4790cae8bf5",
   "metadata": {},
   "outputs": [],
   "source": []
  },
  {
   "cell_type": "code",
   "execution_count": null,
   "id": "746ad215-ceef-40f0-931f-2c2d4d5c2ff3",
   "metadata": {},
   "outputs": [],
   "source": []
  },
  {
   "cell_type": "code",
   "execution_count": null,
   "id": "940234ab-72e6-4ee2-8315-be2ea8a86825",
   "metadata": {},
   "outputs": [],
   "source": []
  },
  {
   "cell_type": "code",
   "execution_count": null,
   "id": "bc4d6a06-b14e-49d2-8f45-2b146df0f67b",
   "metadata": {},
   "outputs": [],
   "source": []
  },
  {
   "cell_type": "code",
   "execution_count": null,
   "id": "13e36b8a-113f-4609-b7d3-263fda4ed013",
   "metadata": {},
   "outputs": [],
   "source": []
  },
  {
   "cell_type": "markdown",
   "id": "ffb1c0d9-aaaf-4b5b-af81-413642134f3d",
   "metadata": {},
   "source": [
    "- model 마다 학습하는 주요 피쳐들이 다름\n",
    "    - RIDGE : 규제 활용하면 고편향된 학습에 대한 조절 가능 할 \n",
    "    - XGB: 가장 골고루 피쳐들을 보고 있음\n",
    "    - RF,LGBM : 편향된 학습\n",
    "    - VR-RF-LGBM : hour에 대해 overfitting"
   ]
  },
  {
   "cell_type": "markdown",
   "id": "0a80d22b-bb2c-4f02-8b77-dd0292e9bbb0",
   "metadata": {
    "tags": []
   },
   "source": [
    "# 4.평가 검증"
   ]
  },
  {
   "cell_type": "code",
   "execution_count": null,
   "id": "2ec8ac61-8a57-40cc-9782-29af064156e9",
   "metadata": {},
   "outputs": [],
   "source": []
  },
  {
   "cell_type": "code",
   "execution_count": null,
   "id": "1e40d953-d01e-40b1-966a-cd4bb58c0da9",
   "metadata": {},
   "outputs": [],
   "source": []
  },
  {
   "cell_type": "code",
   "execution_count": null,
   "id": "6ff20a2e-df26-41cc-913f-abc9fc4ab3dd",
   "metadata": {
    "tags": []
   },
   "outputs": [],
   "source": [
    "mscore_list.append([tpl[0], y_col[i], mse_score, np.sqrt(mse_score) ] )"
   ]
  },
  {
   "cell_type": "code",
   "execution_count": null,
   "id": "53560b15-d563-4383-aae7-dd23f0c05aa7",
   "metadata": {
    "tags": []
   },
   "outputs": [],
   "source": [
    "score_df = pd.DataFrame(score_list, columns=[\"model\",\"col\",\"mse\",\"rmse\"])\n",
    "score_df"
   ]
  },
  {
   "cell_type": "code",
   "execution_count": null,
   "id": "8e6e9d8a-11ea-478a-9299-023f1a7cd312",
   "metadata": {
    "tags": []
   },
   "outputs": [],
   "source": [
    "plt.figure(figsize=(8,3))\n",
    "ax1 = plt.subplot(1,2,1)\n",
    "ax1.set_title(\"RMSE\")\n",
    "sns.barplot(\n",
    "    data= score_df,\n",
    "    x= \"model\",\n",
    "    y= \"rmse\" ,\n",
    "    hue = \"col\",\n",
    "    ax = ax1\n",
    "    \n",
    ")\n",
    "ax2 = plt.subplot(1,2,2)\n",
    "ax2.set_title(\"MSE\")\n",
    "sns.barplot(\n",
    "    data= score_df,\n",
    "    x= \"model\",\n",
    "    y= \"mse\" ,\n",
    "    hue = \"col\",\n",
    "    ax = ax2\n",
    ")\n",
    "plt.show()"
   ]
  },
  {
   "cell_type": "markdown",
   "id": "c32d2149-7a43-42d5-bb9a-3dee18c091f9",
   "metadata": {
    "tags": []
   },
   "source": [
    "* by 규환"
   ]
  },
  {
   "cell_type": "code",
   "execution_count": null,
   "id": "7f7da56a-f038-49c2-8169-b949c5944714",
   "metadata": {
    "tags": []
   },
   "outputs": [],
   "source": [
    "y = train[['regcount','casual','registered']]\n",
    "X = train.drop(['regcount','casual','registered'], axis=1)\n"
   ]
  },
  {
   "cell_type": "code",
   "execution_count": null,
   "id": "14354017-ae3f-4c07-a712-e042db83c95c",
   "metadata": {
    "tags": []
   },
   "outputs": [],
   "source": [
    "X.head(), y.head()"
   ]
  },
  {
   "cell_type": "code",
   "execution_count": null,
   "id": "d24a38b8-424d-43a0-847a-b31762e31d5c",
   "metadata": {
    "tags": []
   },
   "outputs": [],
   "source": [
    "X_train, X_test, y_train, y_test = train_test_split(X, y, random_state=0, test_size=0.2)\n",
    "print(X_train.shape, y_train.shape, X_test.shape, y_test.shape)"
   ]
  },
  {
   "cell_type": "code",
   "execution_count": null,
   "id": "9ecace29-53d3-4aeb-8bcd-df671045bb7e",
   "metadata": {
    "tags": []
   },
   "outputs": [],
   "source": [
    "model = DecisionTreeRegressor(random_state=0)\n",
    "model.fit(X_train, y_train)\n",
    "y_pred = model.predict(X_test)\n"
   ]
  },
  {
   "cell_type": "code",
   "execution_count": null,
   "id": "492c2e37-f27f-478a-80be-6026e1e5d440",
   "metadata": {
    "tags": []
   },
   "outputs": [],
   "source": [
    "print( y_test.shape )\n",
    "y_test.head(3)"
   ]
  },
  {
   "cell_type": "code",
   "execution_count": null,
   "id": "0fe2d2d1-b404-4314-9f48-6801bfe6f926",
   "metadata": {
    "tags": []
   },
   "outputs": [],
   "source": [
    "print( y_pred.shape )"
   ]
  },
  {
   "cell_type": "code",
   "execution_count": null,
   "id": "2a6beac4-d36b-4733-a12f-20e3470a8164",
   "metadata": {
    "tags": []
   },
   "outputs": [],
   "source": [
    "y_pred[0]"
   ]
  },
  {
   "cell_type": "code",
   "execution_count": null,
   "id": "5157a2f2-6047-4387-a47f-d5a95fabd1fa",
   "metadata": {
    "tags": []
   },
   "outputs": [],
   "source": [
    "print( y_pred.T[0].shape )\n",
    "y_pred.T"
   ]
  },
  {
   "cell_type": "code",
   "execution_count": null,
   "id": "27eac0f9-6b93-42cb-9824-dc622153862c",
   "metadata": {
    "tags": []
   },
   "outputs": [],
   "source": [
    "y_test['casual']"
   ]
  },
  {
   "cell_type": "code",
   "execution_count": null,
   "id": "286c837d-27a3-4a3a-a987-65ffc2cc0391",
   "metadata": {
    "tags": []
   },
   "outputs": [],
   "source": [
    "# regcount(A패턴)  = registered(A2패턴) + casual (B패턴) \n",
    "score_regcount   = mean_squared_error(y_test['regcount']    , y_pred.T[0])\n",
    "score_casual     = mean_squared_error(y_test['casual'], y_pred.T[1])\n",
    "score_registered = mean_squared_error(y_test['registered']  , y_pred.T[2])\n",
    "\n",
    "print(score_regcount, score_casual, score_registered)"
   ]
  }
 ],
 "metadata": {
  "kernelspec": {
   "display_name": "Python 3 (ipykernel)",
   "language": "python",
   "name": "python3"
  },
  "language_info": {
   "codemirror_mode": {
    "name": "ipython",
    "version": 3
   },
   "file_extension": ".py",
   "mimetype": "text/x-python",
   "name": "python",
   "nbconvert_exporter": "python",
   "pygments_lexer": "ipython3",
   "version": "3.8.8"
  },
  "toc-autonumbering": true,
  "toc-showmarkdowntxt": false
 },
 "nbformat": 4,
 "nbformat_minor": 5
}
