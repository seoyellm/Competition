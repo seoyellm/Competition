{
 "cells": [
  {
   "cell_type": "markdown",
   "id": "6d36fd9b-8277-46dd-ab5d-3563dcc739b7",
   "metadata": {},
   "source": [
    "<font size=6><b>Bike Sharing Demand - ML"
   ]
  },
  {
   "cell_type": "markdown",
   "id": "5cb6f8bb-d3e1-457c-a482-430e612f90a4",
   "metadata": {
    "tags": []
   },
   "source": [
    "<img src=\"./logo.png\">\n",
    "* ref : https://www.kaggle.com/competitions/bike-sharing-demand/data <br>\n",
    "* ref : https://dacon.io/competitions/official/235985/data"
   ]
  },
  {
   "cell_type": "code",
   "execution_count": 1,
   "id": "11769cb6-b939-495e-96c1-ff3598956cec",
   "metadata": {
    "tags": []
   },
   "outputs": [
    {
     "data": {
      "text/html": [
       "<style>.container{width:100% !important;}</style>"
      ],
      "text/plain": [
       "<IPython.core.display.HTML object>"
      ]
     },
     "metadata": {},
     "output_type": "display_data"
    }
   ],
   "source": [
    "import numpy as np\n",
    "import pandas as pd\n",
    "\n",
    "import matplotlib.pyplot as plt\n",
    "import seaborn as sns\n",
    "\n",
    "\n",
    "sns.set()\n",
    "\n",
    "#-------------------- 차트 관련 속성 (한글처리, 그리드) -----------\n",
    "plt.rcParams['font.family']= 'Malgun Gothic'\n",
    "plt.rcParams['axes.unicode_minus'] = False\n",
    "\n",
    "#-------------------- 주피터 , 출력결과 넓이 늘리기 ---------------\n",
    "# from IPython.core.display import display, HTML\n",
    "from IPython.display import display, HTML\n",
    "\n",
    "display(HTML(\"<style>.container{width:100% !important;}</style>\"))\n",
    "pd.set_option('display.max_rows', 100)\n",
    "pd.set_option('display.max_columns', 100)\n",
    "pd.set_option('max_colwidth', None)\n",
    "\n",
    "import warnings\n",
    "warnings.filterwarnings(action='ignore')"
   ]
  },
  {
   "cell_type": "code",
   "execution_count": 2,
   "id": "02d88c79-95e1-4b95-96de-df858fcc943f",
   "metadata": {},
   "outputs": [],
   "source": [
    "from sklearn.model_selection import train_test_split,StratifiedKFold, cross_val_score,GridSearchCV,KFold\n",
    "from sklearn.metrics import mean_squared_error\n",
    "from sklearn.metrics import mean_squared_log_error\n",
    "\n",
    "from sklearn.ensemble     import RandomForestRegressor\n",
    "from sklearn.tree         import DecisionTreeRegressor\n",
    "from sklearn.linear_model import LinearRegression, Ridge, Lasso\n",
    "# ---- 추가 모델\n",
    "from sklearn.ensemble     import AdaBoostRegressor, VotingRegressor\n",
    "from xgboost              import XGBRegressor\n",
    "from lightgbm             import LGBMRegressor"
   ]
  },
  {
   "cell_type": "markdown",
   "id": "3f698b81-6a0b-4c55-b81e-c2fd498d4b74",
   "metadata": {},
   "source": [
    "# Data Load"
   ]
  },
  {
   "cell_type": "code",
   "execution_count": 3,
   "id": "aef310ea-ddad-4ad0-bcea-018ebbe0c5d5",
   "metadata": {
    "tags": []
   },
   "outputs": [],
   "source": [
    "train = pd.read_csv(\"./train.csv\", parse_dates=['datetime'])\n",
    "test  = pd.read_csv(\"./test.csv\" , parse_dates=['datetime'])"
   ]
  },
  {
   "cell_type": "code",
   "execution_count": 118,
   "id": "39084358-fd27-4362-960f-413d49f20ed5",
   "metadata": {
    "tags": []
   },
   "outputs": [],
   "source": [
    "test  = pd.read_csv(\"./test.csv\" , parse_dates=['datetime'])"
   ]
  },
  {
   "cell_type": "code",
   "execution_count": 119,
   "id": "23a0bbfd-d222-4822-bfad-0fe563517d46",
   "metadata": {
    "tags": []
   },
   "outputs": [
    {
     "name": "stdout",
     "output_type": "stream",
     "text": [
      "<class 'pandas.core.frame.DataFrame'>\n",
      "Int64Index: 10880 entries, 0 to 10885\n",
      "Data columns (total 16 columns):\n",
      " #   Column      Non-Null Count  Dtype  \n",
      "---  ------      --------------  -----  \n",
      " 0   season      10880 non-null  int64  \n",
      " 1   holiday     10880 non-null  int64  \n",
      " 2   workingday  10880 non-null  int64  \n",
      " 3   weather     10880 non-null  int64  \n",
      " 4   temp        10880 non-null  float64\n",
      " 5   atemp       10880 non-null  float64\n",
      " 6   humidity    10880 non-null  int64  \n",
      " 7   windspeed   10880 non-null  float64\n",
      " 8   y           10880 non-null  int64  \n",
      " 9   m           10880 non-null  int64  \n",
      " 10  h           10880 non-null  int64  \n",
      " 11  w           10880 non-null  int64  \n",
      " 12  day_type    10880 non-null  int64  \n",
      " 13  regcount    10880 non-null  float64\n",
      " 14  casual      10880 non-null  float64\n",
      " 15  registered  10880 non-null  float64\n",
      "dtypes: float64(6), int64(10)\n",
      "memory usage: 1.4 MB\n",
      "None\n",
      "==================================================\n",
      "<class 'pandas.core.frame.DataFrame'>\n",
      "RangeIndex: 6493 entries, 0 to 6492\n",
      "Data columns (total 9 columns):\n",
      " #   Column      Non-Null Count  Dtype         \n",
      "---  ------      --------------  -----         \n",
      " 0   regdate     6493 non-null   datetime64[ns]\n",
      " 1   season      6493 non-null   int64         \n",
      " 2   holiday     6493 non-null   int64         \n",
      " 3   workingday  6493 non-null   int64         \n",
      " 4   weather     6493 non-null   int64         \n",
      " 5   temp        6493 non-null   float64       \n",
      " 6   atemp       6493 non-null   float64       \n",
      " 7   humidity    6493 non-null   int64         \n",
      " 8   windspeed   6493 non-null   float64       \n",
      "dtypes: datetime64[ns](1), float64(3), int64(5)\n",
      "memory usage: 456.7 KB\n",
      "None\n",
      "==================================================\n"
     ]
    }
   ],
   "source": [
    "df_list = [train, test]\n",
    "for df in df_list:\n",
    "    df.rename(columns = {'datetime' : 'regdate', 'count' : 'regcount'}, inplace = True)\n",
    "    df.columns = df.columns.str.lower()\n",
    "    print(df.info())    \n",
    "    print(\"=====\"*10)\n"
   ]
  },
  {
   "cell_type": "markdown",
   "id": "df97bd52-7a8d-46e3-8ee7-342df27f95de",
   "metadata": {},
   "source": [
    "## 점수보기"
   ]
  },
  {
   "cell_type": "markdown",
   "id": "87d1e0d4-27a9-4fa8-8d33-d1e7a47e9153",
   "metadata": {},
   "source": [
    "# Feature Engineering"
   ]
  },
  {
   "cell_type": "markdown",
   "id": "48e56076-05c4-4424-9669-dea75029d881",
   "metadata": {},
   "source": [
    "## 파생피쳐\n",
    "* regdate\n",
    "* day_type"
   ]
  },
  {
   "cell_type": "code",
   "execution_count": 120,
   "id": "a7824002-3887-48c9-97f9-b50bd9862132",
   "metadata": {
    "tags": []
   },
   "outputs": [],
   "source": [
    "df_list = [train, test]\n",
    "for i, val in enumerate(df_list):\n",
    "    if i == 1:\n",
    "        df['y'] = df['regdate'].dt.year\n",
    "        df['m'] = df['regdate'].dt.month\n",
    "        df['d'] = df['regdate'].dt.day\n",
    "        df['h'] = df['regdate'].dt.hour\n",
    "        df['w'] = df['regdate'].dt.dayofweek\n",
    "        #df['woy'] = df['regdate'].dt.weekofyear\n",
    "\n",
    "\n",
    "        df['day_type'] = 0\n",
    "        df['day_type'] = np.where( (df['holiday']==0) & (df['workingday'] == 1),   1,  df['day_type'])\n",
    "        df['day_type'] = np.where( (df['holiday']==1) & (df['workingday'] == 0),   2,  df['day_type'])\n",
    "\n",
    "        # df['peak']   = df[['h', 'workingday']].apply(lambda x: (0, 1)[(x['workingday'] == 1 and  ( x['h'] == 8 or 17 <= x['h'] <= 18 or 12 <= x['h'] <= 12)) or (x['workingday'] == 0 and  10 <= x['h'] <= 19)], axis = 1)\n",
    "        # df['ideal']  = df[['temp', 'windspeed']].apply(lambda x: (0, 1)[x['temp'] > 27 and x['windspeed'] < 30], axis = 1)\n",
    "        # df['sticky'] = df[['humidity', 'workingday']].apply(lambda x: (0, 1)[x['workingday'] == 1 and x['humidity'] >= 60], axis = 1)\n",
    "\n",
    "        #sandy\n",
    "        df['holiday'] = df[['m', 'd', 'holiday', 'y']].apply(lambda x: (x['holiday'], 1)[x['y'] == 2012 and x['m'] == 10 and (x['m'] in [30])], axis = 1)\n",
    "        #christmas day and others\n",
    "        df['holiday'] = df[['m', 'd', 'holiday']].apply(lambda x: (x['holiday'], 1)[x['m'] == 12 and (x['m'] in [24, 26, 31])], axis = 1)\n",
    "        df['workingday'] = df[['m', 'd', 'workingday']].apply(lambda x: (x['workingday'], 0)[x['m'] == 12 and x['m'] in [24, 31]], axis = 1)\n",
    "\n",
    "        df.set_index('regdate', inplace=True)\n",
    "        df.drop('d', axis=1, inplace=True)\n",
    "\n",
    "    #------------------------------------------------\n",
    "    # 이산형 피쳐 원핫인코딩  --> 이산형에는 원핫 인코딩\n",
    "    # 'weather', 'season', 'y', 'm', 'h', 'w', \n",
    "    #------------------------------------------------\n",
    "    # df= pd.get_dummies(df,columns=['season','weather','y','m','h','w','day_type'])\n"
   ]
  },
  {
   "cell_type": "code",
   "execution_count": 6,
   "id": "4a36428c-db62-4b4d-8a21-df45f986b2a2",
   "metadata": {},
   "outputs": [
    {
     "name": "stdout",
     "output_type": "stream",
     "text": [
      "<class 'pandas.core.frame.DataFrame'>\n",
      "DatetimeIndex: 6493 entries, 2011-01-20 00:00:00 to 2012-12-31 23:00:00\n",
      "Data columns (total 13 columns):\n",
      " #   Column      Non-Null Count  Dtype  \n",
      "---  ------      --------------  -----  \n",
      " 0   season      6493 non-null   int64  \n",
      " 1   holiday     6493 non-null   int64  \n",
      " 2   workingday  6493 non-null   int64  \n",
      " 3   weather     6493 non-null   int64  \n",
      " 4   temp        6493 non-null   float64\n",
      " 5   atemp       6493 non-null   float64\n",
      " 6   humidity    6493 non-null   int64  \n",
      " 7   windspeed   6493 non-null   float64\n",
      " 8   y           6493 non-null   int64  \n",
      " 9   m           6493 non-null   int64  \n",
      " 10  h           6493 non-null   int64  \n",
      " 11  w           6493 non-null   int64  \n",
      " 12  day_type    6493 non-null   int64  \n",
      "dtypes: float64(3), int64(10)\n",
      "memory usage: 710.2 KB\n"
     ]
    }
   ],
   "source": [
    "test.info()"
   ]
  },
  {
   "cell_type": "code",
   "execution_count": 7,
   "id": "b862156b-ea56-4bed-bd48-7de9a2cf7b51",
   "metadata": {},
   "outputs": [
    {
     "name": "stdout",
     "output_type": "stream",
     "text": [
      "<class 'pandas.core.frame.DataFrame'>\n",
      "DatetimeIndex: 10886 entries, 2011-01-01 00:00:00 to 2012-12-19 23:00:00\n",
      "Data columns (total 16 columns):\n",
      " #   Column      Non-Null Count  Dtype  \n",
      "---  ------      --------------  -----  \n",
      " 0   season      10886 non-null  int64  \n",
      " 1   holiday     10886 non-null  int64  \n",
      " 2   workingday  10886 non-null  int64  \n",
      " 3   weather     10886 non-null  int64  \n",
      " 4   temp        10886 non-null  float64\n",
      " 5   atemp       10886 non-null  float64\n",
      " 6   humidity    10886 non-null  int64  \n",
      " 7   windspeed   10886 non-null  float64\n",
      " 8   casual      10886 non-null  int64  \n",
      " 9   registered  10886 non-null  int64  \n",
      " 10  regcount    10886 non-null  int64  \n",
      " 11  y           10886 non-null  int64  \n",
      " 12  m           10886 non-null  int64  \n",
      " 13  h           10886 non-null  int64  \n",
      " 14  w           10886 non-null  int64  \n",
      " 15  day_type    10886 non-null  int64  \n",
      "dtypes: float64(3), int64(13)\n",
      "memory usage: 1.4 MB\n"
     ]
    }
   ],
   "source": [
    "train.info()"
   ]
  },
  {
   "cell_type": "markdown",
   "id": "ef3bfce5-447d-4036-b952-761ef953b4d2",
   "metadata": {
    "tags": []
   },
   "source": [
    "## windspeed 0 채우기"
   ]
  },
  {
   "cell_type": "code",
   "execution_count": 8,
   "id": "3e425ffa-21f3-4c23-8c10-42a97c669ebd",
   "metadata": {},
   "outputs": [
    {
     "data": {
      "text/plain": [
       "((10886, 16), (6493, 13))"
      ]
     },
     "execution_count": 8,
     "metadata": {},
     "output_type": "execute_result"
    }
   ],
   "source": [
    "train.shape, test.shape"
   ]
  },
  {
   "cell_type": "code",
   "execution_count": 9,
   "id": "bf4d19cc-4b90-40e1-807e-3498347e2643",
   "metadata": {
    "tags": []
   },
   "outputs": [],
   "source": [
    "def my_fill_windspeed(df):\n",
    "    target = df[['regcount','casual','registered']]\n",
    "    df = df.drop(['regcount','casual','registered'], axis=1)\n",
    "\n",
    "    df1   = df[df['windspeed'] != 0]\n",
    "    y_df1 = df1['windspeed']\n",
    "    X_df1 = df1.drop('windspeed', axis=1)\n",
    "    \n",
    "    rf = RandomForestRegressor(random_state=11)\n",
    "    X_df1_8, X_df1_2, y_df1_8, y_df1_2 = train_test_split(X_df1, y_df1, test_size=0.2, random_state=11)\n",
    "    rf.fit(X_df1_8, y_df1_8)\n",
    "    \n",
    "    pred = rf.predict(X_df1_2)\n",
    "    mse_score = mean_squared_error(y_df1_2, pred)\n",
    "    print(\"RMSE : \", np.sqrt(mse_score) )\n",
    "\n",
    "    df0 = df[df['windspeed'] == 0]\n",
    "    y_df0 = df0['windspeed']\n",
    "    X_df0 = df0.drop('windspeed', axis=1)\n",
    "    pred = rf.predict(X_df0)\n",
    "    widx = X_df0.index.values\n",
    "    df.loc[widx, 'windspeed'] = pred\n",
    "    return pd.concat([df, target], axis=1)"
   ]
  },
  {
   "cell_type": "code",
   "execution_count": 10,
   "id": "e8f42329-3280-4766-95c0-190a44312815",
   "metadata": {
    "tags": []
   },
   "outputs": [
    {
     "name": "stdout",
     "output_type": "stream",
     "text": [
      "RMSE :  4.8540409129695705\n"
     ]
    }
   ],
   "source": [
    "df = pd.concat([train, test], axis=0, ignore_index=True)\n",
    "train_idx = df.iloc[:train.shape[0], :].index\n",
    "test_idx  = df.iloc[train.shape[0]:, :].index\n",
    "#---------------------------------\n",
    "df = my_fill_windspeed(df)\n",
    "#---------------------------------\n",
    "train = df.loc[train_idx]\n",
    "test  = df.loc[test_idx]\n",
    "test = test.reset_index(drop=True)"
   ]
  },
  {
   "cell_type": "markdown",
   "id": "a05b3cc2-2456-4fb7-b785-77e6829b3332",
   "metadata": {},
   "source": [
    "## 원핫인코딩\n",
    "- df에서 unique한 컬럼(이산형) --> nuique 개수가 적은 컬럼 대상\n",
    "- 원래 머신러닝에서는 train,test를 concat하여 인코딩하지 말기  --> 공모전에서는 test에 train에 없는 데이터가 있을 수 있기 때문에 concat하고난 뒤 다시 분리\n",
    "\n",
    "- season_1\n",
    "- w_5,w_6 : 주말의 상관관계 조금 보임\n",
    "- day_type_0,day_type_1,day_type_2 : 양,음의 관계 보임\n",
    "- workingday : 출퇴근용으로 사용하고 있음\n",
    "- workingday-daytype_1 / workingday-daytype_0 / holiday-day_type_2 --> 다중 공선  --> 두개 다 살리는 것은 좋지 않음(daytype 살릴까?)\n",
    "- h_0~h_7, h_17~h_19 : 출퇴근용으로 사용"
   ]
  },
  {
   "cell_type": "code",
   "execution_count": 11,
   "id": "095a1141-ca66-4d57-b0a5-cf998f167f44",
   "metadata": {
    "tags": []
   },
   "outputs": [
    {
     "name": "stdout",
     "output_type": "stream",
     "text": [
      "season 4\n",
      "holiday 2\n",
      "workingday 2\n",
      "weather 4\n",
      "temp 50\n",
      "atemp 65\n",
      "humidity 89\n",
      "windspeed 2185\n",
      "y 2\n",
      "m 12\n",
      "h 24\n",
      "w 7\n",
      "day_type 3\n",
      "regcount 822\n",
      "casual 309\n",
      "registered 731\n"
     ]
    }
   ],
   "source": [
    "for col in train.columns:\n",
    "    print(col,df[col].nunique())"
   ]
  },
  {
   "cell_type": "code",
   "execution_count": 12,
   "id": "368c646c-dd69-4433-ab7c-e88f9058e832",
   "metadata": {
    "tags": []
   },
   "outputs": [
    {
     "data": {
      "text/plain": [
       "Index(['season', 'holiday', 'workingday', 'weather', 'temp', 'atemp',\n",
       "       'humidity', 'windspeed', 'y', 'm', 'h', 'w', 'day_type', 'regcount',\n",
       "       'casual', 'registered'],\n",
       "      dtype='object')"
      ]
     },
     "execution_count": 12,
     "metadata": {},
     "output_type": "execute_result"
    }
   ],
   "source": [
    "train.columns"
   ]
  },
  {
   "cell_type": "code",
   "execution_count": 13,
   "id": "89a8c9f4-5fd8-4a4a-81f3-d7696151dc33",
   "metadata": {
    "tags": []
   },
   "outputs": [
    {
     "name": "stdout",
     "output_type": "stream",
     "text": [
      "<class 'pandas.core.frame.DataFrame'>\n",
      "RangeIndex: 17379 entries, 0 to 17378\n",
      "Data columns (total 65 columns):\n",
      " #   Column      Non-Null Count  Dtype  \n",
      "---  ------      --------------  -----  \n",
      " 0   holiday     17379 non-null  int64  \n",
      " 1   workingday  17379 non-null  int64  \n",
      " 2   temp        17379 non-null  float64\n",
      " 3   atemp       17379 non-null  float64\n",
      " 4   humidity    17379 non-null  int64  \n",
      " 5   windspeed   17379 non-null  float64\n",
      " 6   regcount    10886 non-null  float64\n",
      " 7   casual      10886 non-null  float64\n",
      " 8   registered  10886 non-null  float64\n",
      " 9   season_1    17379 non-null  uint8  \n",
      " 10  season_2    17379 non-null  uint8  \n",
      " 11  season_3    17379 non-null  uint8  \n",
      " 12  season_4    17379 non-null  uint8  \n",
      " 13  weather_1   17379 non-null  uint8  \n",
      " 14  weather_2   17379 non-null  uint8  \n",
      " 15  weather_3   17379 non-null  uint8  \n",
      " 16  weather_4   17379 non-null  uint8  \n",
      " 17  y_2011      17379 non-null  uint8  \n",
      " 18  y_2012      17379 non-null  uint8  \n",
      " 19  m_1         17379 non-null  uint8  \n",
      " 20  m_2         17379 non-null  uint8  \n",
      " 21  m_3         17379 non-null  uint8  \n",
      " 22  m_4         17379 non-null  uint8  \n",
      " 23  m_5         17379 non-null  uint8  \n",
      " 24  m_6         17379 non-null  uint8  \n",
      " 25  m_7         17379 non-null  uint8  \n",
      " 26  m_8         17379 non-null  uint8  \n",
      " 27  m_9         17379 non-null  uint8  \n",
      " 28  m_10        17379 non-null  uint8  \n",
      " 29  m_11        17379 non-null  uint8  \n",
      " 30  m_12        17379 non-null  uint8  \n",
      " 31  h_0         17379 non-null  uint8  \n",
      " 32  h_1         17379 non-null  uint8  \n",
      " 33  h_2         17379 non-null  uint8  \n",
      " 34  h_3         17379 non-null  uint8  \n",
      " 35  h_4         17379 non-null  uint8  \n",
      " 36  h_5         17379 non-null  uint8  \n",
      " 37  h_6         17379 non-null  uint8  \n",
      " 38  h_7         17379 non-null  uint8  \n",
      " 39  h_8         17379 non-null  uint8  \n",
      " 40  h_9         17379 non-null  uint8  \n",
      " 41  h_10        17379 non-null  uint8  \n",
      " 42  h_11        17379 non-null  uint8  \n",
      " 43  h_12        17379 non-null  uint8  \n",
      " 44  h_13        17379 non-null  uint8  \n",
      " 45  h_14        17379 non-null  uint8  \n",
      " 46  h_15        17379 non-null  uint8  \n",
      " 47  h_16        17379 non-null  uint8  \n",
      " 48  h_17        17379 non-null  uint8  \n",
      " 49  h_18        17379 non-null  uint8  \n",
      " 50  h_19        17379 non-null  uint8  \n",
      " 51  h_20        17379 non-null  uint8  \n",
      " 52  h_21        17379 non-null  uint8  \n",
      " 53  h_22        17379 non-null  uint8  \n",
      " 54  h_23        17379 non-null  uint8  \n",
      " 55  w_0         17379 non-null  uint8  \n",
      " 56  w_1         17379 non-null  uint8  \n",
      " 57  w_2         17379 non-null  uint8  \n",
      " 58  w_3         17379 non-null  uint8  \n",
      " 59  w_4         17379 non-null  uint8  \n",
      " 60  w_5         17379 non-null  uint8  \n",
      " 61  w_6         17379 non-null  uint8  \n",
      " 62  day_type_0  17379 non-null  uint8  \n",
      " 63  day_type_1  17379 non-null  uint8  \n",
      " 64  day_type_2  17379 non-null  uint8  \n",
      "dtypes: float64(6), int64(3), uint8(56)\n",
      "memory usage: 2.1 MB\n"
     ]
    }
   ],
   "source": [
    "df=pd.get_dummies(df,columns=['season','weather','y','m', 'h','w','day_type'])\n",
    "df.info()"
   ]
  },
  {
   "cell_type": "code",
   "execution_count": 14,
   "id": "ceb7ea34-0804-4bac-bb7e-836f50a1b064",
   "metadata": {
    "tags": []
   },
   "outputs": [
    {
     "data": {
      "image/png": "[encoded data removed]",
      "text/plain": [
       "<Figure size 1500x1000 with 2 Axes>"
      ]
     },
     "metadata": {},
     "output_type": "display_data"
    }
   ],
   "source": [
    "plt.figure(figsize=(15,10))\n",
    "sns.heatmap(train.corr(), annot=True, fmt=\".2f\", cmap=\"coolwarm\")\n",
    "plt.show()\n",
    "# m-season, temp-atemp, w-daytype --> 다중공선 처리하기"
   ]
  },
  {
   "cell_type": "code",
   "execution_count": 15,
   "id": "b88752f9-4f2b-415e-ab50-f703623554a1",
   "metadata": {
    "tags": []
   },
   "outputs": [],
   "source": [
    "# plt.figure(figsize=(20,20))\n",
    "# sns.heatmap(df.corr(), annot=True, fmt=\".2f\", cmap=\"coolwarm\")\n",
    "# plt.show()\n",
    "\n",
    "# 상관도(선형관계만 볼 수 있음)\n",
    "# 0.0 ~ 0.3 --> 상관이 없다\n",
    "# 0.3 ~ 0.7 --> 상관이 있다\n",
    "# 0.7 ~ 1.0 --> 아주 강한 상관 관계(다중공선), 본인-본인과의 관계로 봄"
   ]
  },
  {
   "cell_type": "markdown",
   "id": "53f4ec66-3318-41ac-897a-fd791c9c0c2e",
   "metadata": {},
   "source": [
    "# 학습"
   ]
  },
  {
   "cell_type": "markdown",
   "id": "67f9b4f1-f944-4600-ace3-ceafc5c236ce",
   "metadata": {},
   "source": [
    "## 타켓 선정\n",
    "* 답안지 : count 제출\n",
    "* regcount(A패턴)  = registered(A2패턴) + casual (B패턴) \n",
    "* <font color=red><b>registered(A2패턴) + casual (B패턴)  --> 이 값을 답안으로 제출"
   ]
  },
  {
   "cell_type": "markdown",
   "id": "1ff48df0-3f95-4051-b8a7-e92adfd17d94",
   "metadata": {},
   "source": [
    "## 최종피쳐 선정"
   ]
  },
  {
   "cell_type": "code",
   "execution_count": 16,
   "id": "6e6f5611-73be-46cd-9554-9d4468b8dd1b",
   "metadata": {
    "tags": []
   },
   "outputs": [
    {
     "data": {
      "text/plain": [
       "Index(['season', 'holiday', 'workingday', 'weather', 'temp', 'atemp',\n",
       "       'humidity', 'windspeed', 'y', 'm', 'h', 'w', 'day_type', 'regcount',\n",
       "       'casual', 'registered'],\n",
       "      dtype='object')"
      ]
     },
     "execution_count": 16,
     "metadata": {},
     "output_type": "execute_result"
    }
   ],
   "source": [
    "train.columns"
   ]
  },
  {
   "cell_type": "markdown",
   "id": "b9c17399-1af9-4458-8392-c6a037918382",
   "metadata": {},
   "source": [
    "<pre>\n",
    "타겟(1) : 'casual' + 'registered'\n",
    "타겟(2) : 'regcount'\n",
    "\n",
    "\n",
    "'d' 피쳐 삭제\n",
    "('m', 'h'),  'y', 'd' -->'w'\n",
    "\n",
    "\n",
    "(+)3개 : 'holiday', 'workingday', 'day_type'\n",
    "(+)2개 : 'holiday', 'workingday'\n",
    "(+)1개 : 'day_type'\n",
    "\n",
    "\n",
    "'weather', 'humidity',  'season', \n",
    "(+)'windspeed' : 'h' 비례? / 'm' 반비례?\n",
    "\n",
    "\n",
    "다중공선 : (상관계수가 높은 경우)\n",
    "'regcount' 'registered' 'casual' : 0.97  --> 'regcount' vs. 'registered'+'casual'\n",
    "'temp' 'atemp'                   : 0.98  --> 'atemp' drop\n",
    "\n",
    "선택적으로 모델에 적용\n",
    "(+)'w' 'day_type' : -0.78\n",
    "(+)'season' 'm'   : 0.97\n",
    "\n",
    "\n",
    "* ('m', 'h'),  'y', 'w', 'weather', 'humidity',  'season', 'temp'\n",
    "* (+)'windspeed'\n",
    "* (+)('holiday', 'workingday'), ('day_type')\n",
    "* (+)('w' 'day_type') : -0.78\n",
    "* (+)('m') 'season'    : 0.97\n"
   ]
  },
  {
   "cell_type": "markdown",
   "id": "5bdd8c4c-9358-44dc-9350-58991c9393c3",
   "metadata": {},
   "source": [
    "## 학습 & 평가\n",
    "* ref : https://suboptimal.wiki/explanation/mse/"
   ]
  },
  {
   "cell_type": "markdown",
   "id": "0ba38b2f-1853-4f64-a569-d9e193cecbb1",
   "metadata": {},
   "source": [
    "*  $ RMSLE = \\sqrt{\\frac{1}{n}\\Sigma_{i=1}^{n}{\\Big(\\frac{log(Y_i+1) - log(\\hat{Y_i}+1)}{N}\\Big)^2}}$"
   ]
  },
  {
   "cell_type": "code",
   "execution_count": 17,
   "id": "75c1e36b-5262-41cc-854f-abb5cb91188c",
   "metadata": {
    "tags": []
   },
   "outputs": [],
   "source": [
    "# ! pip install xgboost\n",
    "# ! pip install lightgbm "
   ]
  },
  {
   "cell_type": "markdown",
   "id": "713766ac-7ef4-49a9-a8d4-4e60da803978",
   "metadata": {},
   "source": [
    "## 공통함수"
   ]
  },
  {
   "cell_type": "markdown",
   "id": "58d8a990-8a7e-495a-85cb-e6d33244bc68",
   "metadata": {},
   "source": [
    "* class sklearn.linear_model.Ridge(alpha=1.0, *, fit_intercept=True, copy_X=True, max_iter=None, tol=0.0001, solver='auto', positive=False, random_state=None)\n",
    "* class sklearn.linear_model.Lasso(alpha=1.0, *, fit_intercept=True, precompute=False, copy_X=True, max_iter=1000, tol=0.0001, warm_start=False, positive=False, random_state=None, selection='cyclic')"
   ]
  },
  {
   "cell_type": "code",
   "execution_count": 18,
   "id": "e94da62c-d779-483f-b2f2-e87be46125a8",
   "metadata": {
    "tags": []
   },
   "outputs": [
    {
     "data": {
      "text/html": [
       "<div>\n",
       "<style scoped>\n",
       "    .dataframe tbody tr th:only-of-type {\n",
       "        vertical-align: middle;\n",
       "    }\n",
       "\n",
       "    .dataframe tbody tr th {\n",
       "        vertical-align: top;\n",
       "    }\n",
       "\n",
       "    .dataframe thead th {\n",
       "        text-align: right;\n",
       "    }\n",
       "</style>\n",
       "<table border=\"1\" class=\"dataframe\">\n",
       "  <thead>\n",
       "    <tr style=\"text-align: right;\">\n",
       "      <th></th>\n",
       "      <th>season</th>\n",
       "      <th>holiday</th>\n",
       "      <th>workingday</th>\n",
       "      <th>weather</th>\n",
       "      <th>temp</th>\n",
       "      <th>atemp</th>\n",
       "      <th>humidity</th>\n",
       "      <th>windspeed</th>\n",
       "      <th>y</th>\n",
       "      <th>m</th>\n",
       "      <th>h</th>\n",
       "      <th>w</th>\n",
       "      <th>day_type</th>\n",
       "      <th>regcount</th>\n",
       "      <th>casual</th>\n",
       "      <th>registered</th>\n",
       "    </tr>\n",
       "  </thead>\n",
       "  <tbody>\n",
       "    <tr>\n",
       "      <th>0</th>\n",
       "      <td>1</td>\n",
       "      <td>0</td>\n",
       "      <td>0</td>\n",
       "      <td>1</td>\n",
       "      <td>9.84</td>\n",
       "      <td>14.395</td>\n",
       "      <td>81</td>\n",
       "      <td>7.142267</td>\n",
       "      <td>2011</td>\n",
       "      <td>1</td>\n",
       "      <td>0</td>\n",
       "      <td>5</td>\n",
       "      <td>0</td>\n",
       "      <td>16.0</td>\n",
       "      <td>3.0</td>\n",
       "      <td>13.0</td>\n",
       "    </tr>\n",
       "    <tr>\n",
       "      <th>1</th>\n",
       "      <td>1</td>\n",
       "      <td>0</td>\n",
       "      <td>0</td>\n",
       "      <td>1</td>\n",
       "      <td>9.02</td>\n",
       "      <td>13.635</td>\n",
       "      <td>80</td>\n",
       "      <td>7.022203</td>\n",
       "      <td>2011</td>\n",
       "      <td>1</td>\n",
       "      <td>1</td>\n",
       "      <td>5</td>\n",
       "      <td>0</td>\n",
       "      <td>40.0</td>\n",
       "      <td>8.0</td>\n",
       "      <td>32.0</td>\n",
       "    </tr>\n",
       "    <tr>\n",
       "      <th>2</th>\n",
       "      <td>1</td>\n",
       "      <td>0</td>\n",
       "      <td>0</td>\n",
       "      <td>1</td>\n",
       "      <td>9.02</td>\n",
       "      <td>13.635</td>\n",
       "      <td>80</td>\n",
       "      <td>6.972355</td>\n",
       "      <td>2011</td>\n",
       "      <td>1</td>\n",
       "      <td>2</td>\n",
       "      <td>5</td>\n",
       "      <td>0</td>\n",
       "      <td>32.0</td>\n",
       "      <td>5.0</td>\n",
       "      <td>27.0</td>\n",
       "    </tr>\n",
       "    <tr>\n",
       "      <th>3</th>\n",
       "      <td>1</td>\n",
       "      <td>0</td>\n",
       "      <td>0</td>\n",
       "      <td>1</td>\n",
       "      <td>9.84</td>\n",
       "      <td>14.395</td>\n",
       "      <td>75</td>\n",
       "      <td>6.702546</td>\n",
       "      <td>2011</td>\n",
       "      <td>1</td>\n",
       "      <td>3</td>\n",
       "      <td>5</td>\n",
       "      <td>0</td>\n",
       "      <td>13.0</td>\n",
       "      <td>3.0</td>\n",
       "      <td>10.0</td>\n",
       "    </tr>\n",
       "    <tr>\n",
       "      <th>4</th>\n",
       "      <td>1</td>\n",
       "      <td>0</td>\n",
       "      <td>0</td>\n",
       "      <td>1</td>\n",
       "      <td>9.84</td>\n",
       "      <td>14.395</td>\n",
       "      <td>75</td>\n",
       "      <td>6.552667</td>\n",
       "      <td>2011</td>\n",
       "      <td>1</td>\n",
       "      <td>4</td>\n",
       "      <td>5</td>\n",
       "      <td>0</td>\n",
       "      <td>1.0</td>\n",
       "      <td>0.0</td>\n",
       "      <td>1.0</td>\n",
       "    </tr>\n",
       "  </tbody>\n",
       "</table>\n",
       "</div>"
      ],
      "text/plain": [
       "   season  holiday  workingday  weather  temp   atemp  humidity  windspeed  \\\n",
       "0       1        0           0        1  9.84  14.395        81   7.142267   \n",
       "1       1        0           0        1  9.02  13.635        80   7.022203   \n",
       "2       1        0           0        1  9.02  13.635        80   6.972355   \n",
       "3       1        0           0        1  9.84  14.395        75   6.702546   \n",
       "4       1        0           0        1  9.84  14.395        75   6.552667   \n",
       "\n",
       "      y  m  h  w  day_type  regcount  casual  registered  \n",
       "0  2011  1  0  5         0      16.0     3.0        13.0  \n",
       "1  2011  1  1  5         0      40.0     8.0        32.0  \n",
       "2  2011  1  2  5         0      32.0     5.0        27.0  \n",
       "3  2011  1  3  5         0      13.0     3.0        10.0  \n",
       "4  2011  1  4  5         0       1.0     0.0         1.0  "
      ]
     },
     "execution_count": 18,
     "metadata": {},
     "output_type": "execute_result"
    }
   ],
   "source": [
    "train.head()"
   ]
  },
  {
   "cell_type": "markdown",
   "id": "b03d3b0a-7be6-49d0-8df2-ad53088cef5a",
   "metadata": {},
   "source": [
    "> 피쳐 학습에 가담한 주요피쳐 보기 --> fit() 하고 난 후 찍어보기\n",
    "- 분류 : feature importance    --> ABOOST, DecisionTreeRegressor, XGBRegressor, LGBMRegressor\n",
    "- 회기 : 회기계수(coef) \n",
    "* tree model에는 회기라고 하더라도 coef 없음\n",
    "* 각 모델이 feature importance를 지원하는지, codf_ 지원하는지 알고 있어야 확인 가능\n",
    "- sklearn : estimator(최상위)=model   --> get_estimator\n",
    "- CART : clssification and regression tree   ex. DecisionTreeClassifier   --> featue importance\n",
    "    - 대부분의 tree 모델은 분류와 회귀 둘다 지원"
   ]
  },
  {
   "cell_type": "code",
   "execution_count": 19,
   "id": "969bb97c-6678-46bf-8dd8-6360e767e97e",
   "metadata": {
    "tags": []
   },
   "outputs": [
    {
     "data": {
      "text/plain": [
       "'Ridge'"
      ]
     },
     "execution_count": 19,
     "metadata": {},
     "output_type": "execute_result"
    }
   ],
   "source": [
    "modelsss = Ridge(alpha=1.0, random_state=0)\n",
    "modelsss.__class__.__name__  # 모델 이름 확인"
   ]
  },
  {
   "cell_type": "code",
   "execution_count": 20,
   "id": "eb227b75-e035-4942-8210-04f6a7657143",
   "metadata": {
    "tags": []
   },
   "outputs": [
    {
     "data": {
      "text/plain": [
       "['accuracy',\n",
       " 'adjusted_mutual_info_score',\n",
       " 'adjusted_rand_score',\n",
       " 'average_precision',\n",
       " 'balanced_accuracy',\n",
       " 'completeness_score',\n",
       " 'explained_variance',\n",
       " 'f1',\n",
       " 'f1_macro',\n",
       " 'f1_micro',\n",
       " 'f1_samples',\n",
       " 'f1_weighted',\n",
       " 'fowlkes_mallows_score',\n",
       " 'homogeneity_score',\n",
       " 'jaccard',\n",
       " 'jaccard_macro',\n",
       " 'jaccard_micro',\n",
       " 'jaccard_samples',\n",
       " 'jaccard_weighted',\n",
       " 'matthews_corrcoef',\n",
       " 'max_error',\n",
       " 'mutual_info_score',\n",
       " 'neg_brier_score',\n",
       " 'neg_log_loss',\n",
       " 'neg_mean_absolute_error',\n",
       " 'neg_mean_absolute_percentage_error',\n",
       " 'neg_mean_gamma_deviance',\n",
       " 'neg_mean_poisson_deviance',\n",
       " 'neg_mean_squared_error',\n",
       " 'neg_mean_squared_log_error',\n",
       " 'neg_median_absolute_error',\n",
       " 'neg_negative_likelihood_ratio',\n",
       " 'neg_root_mean_squared_error',\n",
       " 'normalized_mutual_info_score',\n",
       " 'positive_likelihood_ratio',\n",
       " 'precision',\n",
       " 'precision_macro',\n",
       " 'precision_micro',\n",
       " 'precision_samples',\n",
       " 'precision_weighted',\n",
       " 'r2',\n",
       " 'rand_score',\n",
       " 'recall',\n",
       " 'recall_macro',\n",
       " 'recall_micro',\n",
       " 'recall_samples',\n",
       " 'recall_weighted',\n",
       " 'roc_auc',\n",
       " 'roc_auc_ovo',\n",
       " 'roc_auc_ovo_weighted',\n",
       " 'roc_auc_ovr',\n",
       " 'roc_auc_ovr_weighted',\n",
       " 'top_k_accuracy',\n",
       " 'v_measure_score']"
      ]
     },
     "execution_count": 20,
     "metadata": {},
     "output_type": "execute_result"
    }
   ],
   "source": [
    "import sklearn.metrics\n",
    "sklearn.metrics.get_scorer_names()"
   ]
  },
  {
   "cell_type": "code",
   "execution_count": 21,
   "id": "389b05e2-1852-41d8-96b1-753a81ad1a48",
   "metadata": {
    "tags": []
   },
   "outputs": [],
   "source": [
    "def my_view_chart(model_name,model,X_train):\n",
    "    if model_name == \"RIDGE\" :\n",
    "        ax1 = plt.subplot(3,1,1)\n",
    "        s = pd.Series(model.coef_, index=X_train.columns).sort_values()\n",
    "        sns.barplot(x=s.values, y=s.index, ax=ax1)\n",
    "        plt.tight_layout()\n",
    "        plt.show()\n",
    "    elif model_name == \"RF\" :\n",
    "        ax2 = plt.subplot(3,1,2)\n",
    "        s = pd.Series(model.feature_importances_, index=X_train.columns).sort_values()\n",
    "        sns.barplot(x=s.values, y=s.index, ax=ax2)\n",
    "        plt.tight_layout()\n",
    "        plt.show()\n",
    "    elif model_name == \"XGB\" :\n",
    "        ax3 = plt.subplot(3,1,3)\n",
    "        # pd.Series(model.get_booster().get_score(importance_type='weight'), index=X_train.columns).sort_values().plot(kind='bar')\n",
    "        s = pd.Series(model.get_booster().get_score(importance_type='weight'), index=X_train.columns).sort_values()\n",
    "        sns.barplot(x=s.values, y=s.index, ax=ax3)\n",
    "        plt.tight_layout()\n",
    "        plt.show()\n",
    "\n",
    "    elif model_name == \"LGBM\" :\n",
    "        ax2 = plt.subplot(3,1,2)\n",
    "        s = pd.Series(model.feature_importances_, index=X_train.columns).sort_values()\n",
    "        sns.barplot(x=s.values, y=s.index, ax=ax2)\n",
    "        plt.tight_layout()\n",
    "        plt.show()   "
   ]
  },
  {
   "cell_type": "code",
   "execution_count": 80,
   "id": "cb76a413-3251-45d3-96d9-0baf3e8dfa2e",
   "metadata": {},
   "outputs": [],
   "source": [
    "def my_fit_score(df, chart_view=False ) :\n",
    "    model_list = [ \n",
    "                   # (\"RIDGE\"  , Ridge(alpha=1.0, random_state=0)),\n",
    "                   # (\"LASSO\"  , Lasso(alpha=1.0, random_state=0)),\n",
    "                   (\"DTR\"    , DecisionTreeRegressor(random_state=0)),\n",
    "                   (\"RF\"     , RandomForestRegressor(random_state=0)),\n",
    "                   # (\"LR\"     , LinearRegression()                   ),\n",
    "                   # (\"ABOOST\" , AdaBoostRegressor(random_state=0)                ),\n",
    "                   (\"XGB\"    , XGBRegressor(random_state=0)                       ),  # booster=gblinear  : coef / default :  booster=gbltree --> feature importance\n",
    "                   (\"LGBM\"   , LGBMRegressor(random_state=0)                      ),  \n",
    "                   # (\"VR-XGB-LGBM\"    , VotingRegressor([(\"XGB\", XGBRegressor(random_state=0)), (\"LGBM\", LGBMRegressor(random_state=0))]) ) ,         # Voting에서는 Feature importance 지원하지 않음, 단지 모델과 모델을 연결하는 장치\n",
    "                   # (\"VR-RF-LGBM\"    , VotingRegressor([(\"DTR\", RandomForestRegressor(random_state=0)), (\"LGBM\", LGBMRegressor(random_state=0))]) )   # ensemble, Voting는 특색있는 모델끼리 묶어야 함, 비슷한 모델을 묶으면 overfitting\n",
    "                 ]\n",
    "    \n",
    "    #--------------(타켓피쳐:로그스케일링)-------------\n",
    "    # y_c = df['casual'] \n",
    "    # y_r = df['registered'] \n",
    "    y_c = np.log1p( df['casual'] )\n",
    "    y_r = np.log1p( df['registered'] )\n",
    "    # print(y_c[:5], y_r[:5])\n",
    "    \n",
    "    X = df.drop(['regcount','casual','registered'], axis=1)\n",
    "    \n",
    "    \n",
    "    #------------------------------------------------\n",
    "    # windspeed는 0 채우기 후 아웃라이어로 한꺼번에 이상치 삭제\n",
    "    # outlier 삭제  : train만 지운다 ★★★★★\n",
    "    # df == train 넣고 호출\n",
    "    # 스케일링 하기 전 이상값 삭제\n",
    "    # #------------------------------------------------\n",
    "    del_idx_list = []\n",
    "    idx = df[df['weather']==4].index\n",
    "    del_idx_list.extend(idx)\n",
    "    idx = df[df['temp']>40].index\n",
    "    del_idx_list.extend(idx)\n",
    "    idx = df[df['windspeed']>50].index\n",
    "    del_idx_list.extend(idx)\n",
    "    df.drop(del_idx_list, axis=0, inplace=True)\n",
    "    \n",
    "    \n",
    "    #------------------------------------------------\n",
    "    # 연속형 피쳐 스케일링 --> 연속형에는 스케일링\n",
    "    # 'temp', 'atemp','humidity', 'windspeed'\n",
    "    #------------------------------------------------\n",
    "    X['temp']      = np.log1p( X['temp'] )\n",
    "    X['atemp']     = np.log1p( X['atemp'] )\n",
    "    X['humidity']  = np.log1p( X['humidity'] )\n",
    "    X['windspeed'] = np.log1p( X['windspeed'] )\n",
    "    \n",
    "    kf= KFold(n_splits=5,shuffle=True, random_state=11)\n",
    "\n",
    "    for i, (train_index, test_index) in enumerate(kf.split(X)):\n",
    "        X_train, X_test= X.iloc[train_index],X.iloc[test_index]\n",
    "        y_r_train, y_r_test= y_r.iloc[train_index],y_r.iloc[test_index]\n",
    "        y_c_train, y_c_test=y_c.iloc[train_index],y_c.iloc[test_index]\n",
    "    \n",
    "    # for tpl in model_list :\n",
    "    #     print( tpl[0] ) \n",
    "        # model = tpl[1]\n",
    "        # if tpl[0]== 'DTR' or tpl[0]== 'RF':\n",
    "    mydic={\"min_samples_split\":[1,2,3],\"min_samples_leaf\":[1,2,3]} \n",
    "        # elif tpl[0]== 'XGB' or tpl[0]== 'LGBM':\n",
    "        #     mydic={\"max_depth\":[1,2,3],\"learning_rate\":[0.1,0.2,0.3]}\n",
    "    model=RandomForestRegressor(random_state=0)\n",
    "    models= GridSearchCV(model, scoring='neg_mean_squared_log_error', cv=kf, param_grid=mydic)\n",
    "\n",
    "    models.fit(X_train,y_r_train)\n",
    "    y_r_pred=models.predict(X_test)\n",
    "    # print(f\"y_r_best_score : {models.best_score_*-1}\")\n",
    "\n",
    "    models.fit(X_train,y_c_train)\n",
    "    y_c_pred=models.predict(X_test)\n",
    "        # print(f\"y_c_best_score : {models.best_score_*-1}\")\n",
    "\n",
    "\n",
    "#         #---------------------------------------------------\n",
    "#         # feature importance 차트보기\n",
    "        # if bool(chart_view):\n",
    "        #     my_view_chart(tpl[0],model,X_train)\n",
    "#         #---------------------------------------------------     \n",
    "\n",
    "#         X_train, X_test, y_r_train, y_r_test = train_test_split(X, y_r, random_state=0, test_size=0.2)\n",
    "#         model.fit(X_train, y_r_train)\n",
    "\n",
    "#         y_r_pred = model.predict(X_test)\n",
    "\n",
    "#         model = tpl[1]\n",
    "#         X_train, X_test, y_train, y_c_test = train_test_split(X, y_c, random_state=0, test_size=0.2)\n",
    "#         model.fit(X_train, y_train)\n",
    "#         y_c_pred = model.predict(X_test)\n",
    "\n",
    "#         #---------(타켓피쳐:로그스케일링) 복원-----------\n",
    "    y_pred_comb = np.expm1(y_r_pred)+np.expm1(y_c_pred)\n",
    "    y_real_comb = np.expm1(y_r_test)+np.expm1(y_c_test)\n",
    "    y_pred_comb[y_pred_comb < 0] = 0\n",
    "\n",
    "#         print(\"yrtest\", y_r_test[:5])\n",
    "#         print(\"yctest\", y_c_test[:5])\n",
    "#         print(\"ypred\", y_pred_comb[:5])\n",
    "    msle_score = mean_squared_log_error(y_real_comb, y_pred_comb)\n",
    "       \n",
    "    print(\"RMSLE: \", np.sqrt(msle_score)) \n",
    "    return models,y_pred_comb\n",
    "    \n",
    "#         print(\"-\"*30)"
   ]
  },
  {
   "cell_type": "code",
   "execution_count": 81,
   "id": "b6ae0347-adb7-42d2-893c-41e34307ffee",
   "metadata": {},
   "outputs": [
    {
     "name": "stdout",
     "output_type": "stream",
     "text": [
      "RMSLE:  0.28845487892751936\n"
     ]
    }
   ],
   "source": [
    "models,y_pred=my_fit_score(train)\n",
    "# my_fit_score(train,chart_view=True)"
   ]
  },
  {
   "cell_type": "code",
   "execution_count": 95,
   "id": "b9db9428-2514-4d85-a36d-601a63b9c6c0",
   "metadata": {
    "tags": []
   },
   "outputs": [
    {
     "data": {
      "text/plain": [
       "(6486, 13)"
      ]
     },
     "execution_count": 95,
     "metadata": {},
     "output_type": "execute_result"
    }
   ],
   "source": [
    "test.shape"
   ]
  },
  {
   "cell_type": "code",
   "execution_count": 96,
   "id": "04456516-fc6d-491d-a7ea-01d6c2bf80cf",
   "metadata": {
    "tags": []
   },
   "outputs": [
    {
     "data": {
      "text/plain": [
       "(10880, 16)"
      ]
     },
     "execution_count": 96,
     "metadata": {},
     "output_type": "execute_result"
    }
   ],
   "source": [
    "train.shape"
   ]
  },
  {
   "cell_type": "code",
   "execution_count": 87,
   "id": "9dd35afb-5511-4d73-9a33-cca2755b47be",
   "metadata": {
    "tags": []
   },
   "outputs": [],
   "source": [
    "test=test.drop(['regcount','casual','registered'],axis=1)"
   ]
  },
  {
   "cell_type": "code",
   "execution_count": 121,
   "id": "5260729d-b899-4b2f-b286-82d3169a35ba",
   "metadata": {
    "tags": []
   },
   "outputs": [],
   "source": [
    "test['temp']      = np.log1p( test['temp'] )\n",
    "test['atemp']     = np.log1p( test['atemp'] )\n",
    "test['humidity']  = np.log1p( test['humidity'] )\n",
    "test['windspeed'] = np.log1p( test['windspeed'] )"
   ]
  },
  {
   "cell_type": "code",
   "execution_count": 109,
   "id": "4d98ae81-2ddf-4fa9-9359-855d6b439c68",
   "metadata": {
    "tags": []
   },
   "outputs": [],
   "source": [
    "test  = pd.read_csv(\"./test.csv\" , parse_dates=['datetime'])"
   ]
  },
  {
   "cell_type": "code",
   "execution_count": 122,
   "id": "81a189c6-3c60-40bf-b7c5-1d973c864a47",
   "metadata": {
    "tags": []
   },
   "outputs": [
    {
     "data": {
      "text/html": [
       "<div>\n",
       "<style scoped>\n",
       "    .dataframe tbody tr th:only-of-type {\n",
       "        vertical-align: middle;\n",
       "    }\n",
       "\n",
       "    .dataframe tbody tr th {\n",
       "        vertical-align: top;\n",
       "    }\n",
       "\n",
       "    .dataframe thead th {\n",
       "        text-align: right;\n",
       "    }\n",
       "</style>\n",
       "<table border=\"1\" class=\"dataframe\">\n",
       "  <thead>\n",
       "    <tr style=\"text-align: right;\">\n",
       "      <th></th>\n",
       "      <th>season</th>\n",
       "      <th>holiday</th>\n",
       "      <th>workingday</th>\n",
       "      <th>weather</th>\n",
       "      <th>temp</th>\n",
       "      <th>atemp</th>\n",
       "      <th>humidity</th>\n",
       "      <th>windspeed</th>\n",
       "      <th>y</th>\n",
       "      <th>m</th>\n",
       "      <th>h</th>\n",
       "      <th>w</th>\n",
       "      <th>day_type</th>\n",
       "    </tr>\n",
       "    <tr>\n",
       "      <th>regdate</th>\n",
       "      <th></th>\n",
       "      <th></th>\n",
       "      <th></th>\n",
       "      <th></th>\n",
       "      <th></th>\n",
       "      <th></th>\n",
       "      <th></th>\n",
       "      <th></th>\n",
       "      <th></th>\n",
       "      <th></th>\n",
       "      <th></th>\n",
       "      <th></th>\n",
       "      <th></th>\n",
       "    </tr>\n",
       "  </thead>\n",
       "  <tbody>\n",
       "    <tr>\n",
       "      <th>2011-01-20 00:00:00</th>\n",
       "      <td>1</td>\n",
       "      <td>0</td>\n",
       "      <td>1</td>\n",
       "      <td>1</td>\n",
       "      <td>2.456164</td>\n",
       "      <td>2.514870</td>\n",
       "      <td>4.043051</td>\n",
       "      <td>3.295937</td>\n",
       "      <td>2011</td>\n",
       "      <td>1</td>\n",
       "      <td>0</td>\n",
       "      <td>3</td>\n",
       "      <td>1</td>\n",
       "    </tr>\n",
       "    <tr>\n",
       "      <th>2011-01-20 01:00:00</th>\n",
       "      <td>1</td>\n",
       "      <td>0</td>\n",
       "      <td>1</td>\n",
       "      <td>1</td>\n",
       "      <td>2.456164</td>\n",
       "      <td>2.683416</td>\n",
       "      <td>4.043051</td>\n",
       "      <td>0.000000</td>\n",
       "      <td>2011</td>\n",
       "      <td>1</td>\n",
       "      <td>1</td>\n",
       "      <td>3</td>\n",
       "      <td>1</td>\n",
       "    </tr>\n",
       "    <tr>\n",
       "      <th>2011-01-20 02:00:00</th>\n",
       "      <td>1</td>\n",
       "      <td>0</td>\n",
       "      <td>1</td>\n",
       "      <td>1</td>\n",
       "      <td>2.456164</td>\n",
       "      <td>2.683416</td>\n",
       "      <td>4.043051</td>\n",
       "      <td>0.000000</td>\n",
       "      <td>2011</td>\n",
       "      <td>1</td>\n",
       "      <td>2</td>\n",
       "      <td>3</td>\n",
       "      <td>1</td>\n",
       "    </tr>\n",
       "    <tr>\n",
       "      <th>2011-01-20 03:00:00</th>\n",
       "      <td>1</td>\n",
       "      <td>0</td>\n",
       "      <td>1</td>\n",
       "      <td>1</td>\n",
       "      <td>2.456164</td>\n",
       "      <td>2.630449</td>\n",
       "      <td>4.043051</td>\n",
       "      <td>2.485023</td>\n",
       "      <td>2011</td>\n",
       "      <td>1</td>\n",
       "      <td>3</td>\n",
       "      <td>3</td>\n",
       "      <td>1</td>\n",
       "    </tr>\n",
       "    <tr>\n",
       "      <th>2011-01-20 04:00:00</th>\n",
       "      <td>1</td>\n",
       "      <td>0</td>\n",
       "      <td>1</td>\n",
       "      <td>1</td>\n",
       "      <td>2.456164</td>\n",
       "      <td>2.630449</td>\n",
       "      <td>4.043051</td>\n",
       "      <td>2.485023</td>\n",
       "      <td>2011</td>\n",
       "      <td>1</td>\n",
       "      <td>4</td>\n",
       "      <td>3</td>\n",
       "      <td>1</td>\n",
       "    </tr>\n",
       "    <tr>\n",
       "      <th>...</th>\n",
       "      <td>...</td>\n",
       "      <td>...</td>\n",
       "      <td>...</td>\n",
       "      <td>...</td>\n",
       "      <td>...</td>\n",
       "      <td>...</td>\n",
       "      <td>...</td>\n",
       "      <td>...</td>\n",
       "      <td>...</td>\n",
       "      <td>...</td>\n",
       "      <td>...</td>\n",
       "      <td>...</td>\n",
       "      <td>...</td>\n",
       "    </tr>\n",
       "    <tr>\n",
       "      <th>2012-12-31 19:00:00</th>\n",
       "      <td>1</td>\n",
       "      <td>0</td>\n",
       "      <td>1</td>\n",
       "      <td>2</td>\n",
       "      <td>2.456164</td>\n",
       "      <td>2.630449</td>\n",
       "      <td>4.110874</td>\n",
       "      <td>2.485023</td>\n",
       "      <td>2012</td>\n",
       "      <td>12</td>\n",
       "      <td>19</td>\n",
       "      <td>0</td>\n",
       "      <td>1</td>\n",
       "    </tr>\n",
       "    <tr>\n",
       "      <th>2012-12-31 20:00:00</th>\n",
       "      <td>1</td>\n",
       "      <td>0</td>\n",
       "      <td>1</td>\n",
       "      <td>2</td>\n",
       "      <td>2.456164</td>\n",
       "      <td>2.630449</td>\n",
       "      <td>4.110874</td>\n",
       "      <td>2.485023</td>\n",
       "      <td>2012</td>\n",
       "      <td>12</td>\n",
       "      <td>20</td>\n",
       "      <td>0</td>\n",
       "      <td>1</td>\n",
       "    </tr>\n",
       "    <tr>\n",
       "      <th>2012-12-31 21:00:00</th>\n",
       "      <td>1</td>\n",
       "      <td>0</td>\n",
       "      <td>1</td>\n",
       "      <td>1</td>\n",
       "      <td>2.456164</td>\n",
       "      <td>2.630449</td>\n",
       "      <td>4.110874</td>\n",
       "      <td>2.485023</td>\n",
       "      <td>2012</td>\n",
       "      <td>12</td>\n",
       "      <td>21</td>\n",
       "      <td>0</td>\n",
       "      <td>1</td>\n",
       "    </tr>\n",
       "    <tr>\n",
       "      <th>2012-12-31 22:00:00</th>\n",
       "      <td>1</td>\n",
       "      <td>0</td>\n",
       "      <td>1</td>\n",
       "      <td>1</td>\n",
       "      <td>2.456164</td>\n",
       "      <td>2.683416</td>\n",
       "      <td>4.043051</td>\n",
       "      <td>2.302395</td>\n",
       "      <td>2012</td>\n",
       "      <td>12</td>\n",
       "      <td>22</td>\n",
       "      <td>0</td>\n",
       "      <td>1</td>\n",
       "    </tr>\n",
       "    <tr>\n",
       "      <th>2012-12-31 23:00:00</th>\n",
       "      <td>1</td>\n",
       "      <td>0</td>\n",
       "      <td>1</td>\n",
       "      <td>1</td>\n",
       "      <td>2.456164</td>\n",
       "      <td>2.683416</td>\n",
       "      <td>4.189655</td>\n",
       "      <td>2.302395</td>\n",
       "      <td>2012</td>\n",
       "      <td>12</td>\n",
       "      <td>23</td>\n",
       "      <td>0</td>\n",
       "      <td>1</td>\n",
       "    </tr>\n",
       "  </tbody>\n",
       "</table>\n",
       "<p>6493 rows × 13 columns</p>\n",
       "</div>"
      ],
      "text/plain": [
       "                     season  holiday  workingday  weather      temp     atemp  \\\n",
       "regdate                                                                         \n",
       "2011-01-20 00:00:00       1        0           1        1  2.456164  2.514870   \n",
       "2011-01-20 01:00:00       1        0           1        1  2.456164  2.683416   \n",
       "2011-01-20 02:00:00       1        0           1        1  2.456164  2.683416   \n",
       "2011-01-20 03:00:00       1        0           1        1  2.456164  2.630449   \n",
       "2011-01-20 04:00:00       1        0           1        1  2.456164  2.630449   \n",
       "...                     ...      ...         ...      ...       ...       ...   \n",
       "2012-12-31 19:00:00       1        0           1        2  2.456164  2.630449   \n",
       "2012-12-31 20:00:00       1        0           1        2  2.456164  2.630449   \n",
       "2012-12-31 21:00:00       1        0           1        1  2.456164  2.630449   \n",
       "2012-12-31 22:00:00       1        0           1        1  2.456164  2.683416   \n",
       "2012-12-31 23:00:00       1        0           1        1  2.456164  2.683416   \n",
       "\n",
       "                     humidity  windspeed     y   m   h  w  day_type  \n",
       "regdate                                                              \n",
       "2011-01-20 00:00:00  4.043051   3.295937  2011   1   0  3         1  \n",
       "2011-01-20 01:00:00  4.043051   0.000000  2011   1   1  3         1  \n",
       "2011-01-20 02:00:00  4.043051   0.000000  2011   1   2  3         1  \n",
       "2011-01-20 03:00:00  4.043051   2.485023  2011   1   3  3         1  \n",
       "2011-01-20 04:00:00  4.043051   2.485023  2011   1   4  3         1  \n",
       "...                       ...        ...   ...  ..  .. ..       ...  \n",
       "2012-12-31 19:00:00  4.110874   2.485023  2012  12  19  0         1  \n",
       "2012-12-31 20:00:00  4.110874   2.485023  2012  12  20  0         1  \n",
       "2012-12-31 21:00:00  4.110874   2.485023  2012  12  21  0         1  \n",
       "2012-12-31 22:00:00  4.043051   2.302395  2012  12  22  0         1  \n",
       "2012-12-31 23:00:00  4.189655   2.302395  2012  12  23  0         1  \n",
       "\n",
       "[6493 rows x 13 columns]"
      ]
     },
     "execution_count": 122,
     "metadata": {},
     "output_type": "execute_result"
    }
   ],
   "source": [
    "test"
   ]
  },
  {
   "cell_type": "code",
   "execution_count": 98,
   "id": "4712ac10-b19b-46b2-a486-462a16aae0cb",
   "metadata": {
    "tags": []
   },
   "outputs": [],
   "source": [
    "test['temp']      = np.log1p( test['temp'] )\n",
    "test['atemp']     = np.log1p( test['atemp'] )\n",
    "test['humidity']  = np.log1p( test['humidity'] )\n",
    "test['windspeed'] = np.log1p( test['windspeed'] )"
   ]
  },
  {
   "cell_type": "code",
   "execution_count": 123,
   "id": "146cb483-69de-4ee4-8dfa-4df4d7378425",
   "metadata": {
    "tags": []
   },
   "outputs": [],
   "source": [
    "a=models.predict(test)"
   ]
  },
  {
   "cell_type": "code",
   "execution_count": 124,
   "id": "be421cde-e824-4274-a4e0-166285e7f6ca",
   "metadata": {
    "tags": []
   },
   "outputs": [],
   "source": [
    "submit=pd.read_csv('./sampleSubmission.csv')\n",
    "submit['count']=a"
   ]
  },
  {
   "cell_type": "code",
   "execution_count": 125,
   "id": "487c5130-3c28-42cb-a59a-691ea6f3d8c2",
   "metadata": {
    "tags": []
   },
   "outputs": [],
   "source": [
    "submit.to_csv('submit.csv', index=False)"
   ]
  },
  {
   "cell_type": "code",
   "execution_count": null,
   "id": "cb8f1e9e-1894-4c69-b091-a9274f444d3b",
   "metadata": {},
   "outputs": [],
   "source": []
  },
  {
   "cell_type": "code",
   "execution_count": null,
   "id": "c947e88c-277b-474f-b7e9-e4790cae8bf5",
   "metadata": {},
   "outputs": [],
   "source": []
  },
  {
   "cell_type": "code",
   "execution_count": null,
   "id": "1c849ca4-6f92-479c-be87-c0325945542c",
   "metadata": {},
   "outputs": [],
   "source": [
    "def my_fit_score_test(df, chart_view=False ) :\n",
    "    model_list = [ \n",
    "                   (\"DTR\"    , DecisionTreeRegressor(random_state=0)),\n",
    "                   (\"RF\"     , RandomForestRegressor(random_state=0)),\n",
    "                   (\"XGB\"    , XGBRegressor(random_state=0)                       ), \n",
    "                   (\"LGBM\"   , LGBMRegressor(random_state=0)                      ),       \n",
    "                 ]\n",
    "    \n",
    "    #--------------(타켓피쳐:로그스케일링)-------------\n",
    "    # y_c = df['casual'] \n",
    "    # y_r = df['registered'] \n",
    "    y_c = np.log1p( df['casual'] )\n",
    "    y_r = np.log1p( df['registered'] )\n",
    "    # print(y_c[:5], y_r[:5])\n",
    "    \n",
    "    X = df.drop(['regcount','casual','registered'], axis=1)\n",
    "    \n",
    "    \n",
    "    #------------------------------------------------\n",
    "    # windspeed는 0 채우기 후 아웃라이어로 한꺼번에 이상치 삭제\n",
    "    # outlier 삭제  : train만 지운다 ★★★★★\n",
    "    # df == train 넣고 호출\n",
    "    # 스케일링 하기 전 이상값 삭제\n",
    "    # #------------------------------------------------\n",
    "    del_idx_list = []\n",
    "    idx = df[df['weather']==4].index\n",
    "    del_idx_list.extend(idx)\n",
    "    idx = df[df['temp']>40].index\n",
    "    del_idx_list.extend(idx)\n",
    "    idx = df[df['windspeed']>50].index\n",
    "    del_idx_list.extend(idx)\n",
    "    df.drop(del_idx_list, axis=0, inplace=True)\n",
    "    \n",
    "    \n",
    "    #------------------------------------------------\n",
    "    # 연속형 피쳐 스케일링 --> 연속형에는 스케일링\n",
    "    # 'temp', 'atemp','humidity', 'windspeed'\n",
    "    #------------------------------------------------\n",
    "    X['temp']      = np.log1p( X['temp'] )\n",
    "    X['atemp']     = np.log1p( X['atemp'] )\n",
    "    X['humidity']  = np.log1p( X['humidity'] )\n",
    "    X['windspeed'] = np.log1p( X['windspeed'] )\n",
    "    \n",
    "    kf= KFold(n_splits=5,shuffle=True, random_state=11)\n",
    "\n",
    "    for i, (train_index, test_index) in enumerate(kf.split(X)):\n",
    "        X_train, X_test= X.iloc[train_index],X.iloc[test_index]\n",
    "        y_r_train, y_r_test= y_r.iloc[train_index],y_r.iloc[test_index]\n",
    "        y_c_train, y_c_test=y_c.iloc[train_index],y_c.iloc[test_index]\n",
    "    \n",
    "    # for tpl in model_list :\n",
    "    #     print( tpl[0] ) \n",
    "        # model = tpl[1]\n",
    "        # if tpl[0]== 'DTR' or tpl[0]== 'RF':\n",
    "    mydic={\"min_samples_split\":[1,2,3],\"min_samples_leaf\":[1,2,3]} \n",
    "        # elif tpl[0]== 'XGB' or tpl[0]== 'LGBM':\n",
    "        #     mydic={\"max_depth\":[1,2,3],\"learning_rate\":[0.1,0.2,0.3]}\n",
    "    model=RandomForestRegressor(random_state=0)\n",
    "    models= GridSearchCV(model, scoring='neg_mean_squared_log_error', cv=kf, param_grid=mydic)\n",
    "\n",
    "    models.fit(X_train,y_r_train)\n",
    "    y_r_pred=models.predict(X_test)\n",
    "    # print(f\"y_r_best_score : {models.best_score_*-1}\")\n",
    "\n",
    "    models.fit(X_train,y_c_train)\n",
    "    y_c_pred=models.predict(X_test)\n",
    "        # print(f\"y_c_best_score : {models.best_score_*-1}\")\n",
    "\n",
    "\n",
    "#         #---------------------------------------------------\n",
    "#         # feature importance 차트보기\n",
    "        # if bool(chart_view):\n",
    "        #     my_view_chart(tpl[0],model,X_train)\n",
    "#         #---------------------------------------------------     \n",
    "\n",
    "#         X_train, X_test, y_r_train, y_r_test = train_test_split(X, y_r, random_state=0, test_size=0.2)\n",
    "#         model.fit(X_train, y_r_train)\n",
    "\n",
    "#         y_r_pred = model.predict(X_test)\n",
    "\n",
    "#         model = tpl[1]\n",
    "#         X_train, X_test, y_train, y_c_test = train_test_split(X, y_c, random_state=0, test_size=0.2)\n",
    "#         model.fit(X_train, y_train)\n",
    "#         y_c_pred = model.predict(X_test)\n",
    "\n",
    "#         #---------(타켓피쳐:로그스케일링) 복원-----------\n",
    "    y_pred_comb = np.expm1(y_r_pred)+np.expm1(y_c_pred)\n",
    "    y_real_comb = np.expm1(y_r_test)+np.expm1(y_c_test)\n",
    "    y_pred_comb[y_pred_comb < 0] = 0\n",
    "\n",
    "#         print(\"yrtest\", y_r_test[:5])\n",
    "#         print(\"yctest\", y_c_test[:5])\n",
    "#         print(\"ypred\", y_pred_comb[:5])\n",
    "    msle_score = mean_squared_log_error(y_real_comb, y_pred_comb)\n",
    "       \n",
    "    print(\"RMSLE: \", np.sqrt(msle_score)) \n",
    "    return models,y_pred_comb\n",
    "    "
   ]
  },
  {
   "cell_type": "code",
   "execution_count": null,
   "id": "9a235672-c4fc-48a2-851f-3e1acfef802e",
   "metadata": {},
   "outputs": [],
   "source": []
  },
  {
   "cell_type": "code",
   "execution_count": null,
   "id": "746ad215-ceef-40f0-931f-2c2d4d5c2ff3",
   "metadata": {},
   "outputs": [],
   "source": []
  },
  {
   "cell_type": "code",
   "execution_count": null,
   "id": "940234ab-72e6-4ee2-8315-be2ea8a86825",
   "metadata": {},
   "outputs": [],
   "source": []
  },
  {
   "cell_type": "code",
   "execution_count": null,
   "id": "bc4d6a06-b14e-49d2-8f45-2b146df0f67b",
   "metadata": {},
   "outputs": [],
   "source": []
  },
  {
   "cell_type": "code",
   "execution_count": null,
   "id": "13e36b8a-113f-4609-b7d3-263fda4ed013",
   "metadata": {},
   "outputs": [],
   "source": []
  },
  {
   "cell_type": "markdown",
   "id": "ffb1c0d9-aaaf-4b5b-af81-413642134f3d",
   "metadata": {},
   "source": [
    "- model 마다 학습하는 주요 피쳐들이 다름\n",
    "    - RIDGE : 규제 활용하면 고편향된 학습에 대한 조절 가능 할 \n",
    "    - XGB: 가장 골고루 피쳐들을 보고 있음\n",
    "    - RF,LGBM : 편향된 학습\n",
    "    - VR-RF-LGBM : hour에 대해 overfitting"
   ]
  },
  {
   "cell_type": "markdown",
   "id": "0a80d22b-bb2c-4f02-8b77-dd0292e9bbb0",
   "metadata": {
    "tags": []
   },
   "source": [
    "# 4.평가 검증"
   ]
  },
  {
   "cell_type": "code",
   "execution_count": 65,
   "id": "2ec8ac61-8a57-40cc-9782-29af064156e9",
   "metadata": {},
   "outputs": [
    {
     "data": {
      "text/html": [
       "<div>\n",
       "<style scoped>\n",
       "    .dataframe tbody tr th:only-of-type {\n",
       "        vertical-align: middle;\n",
       "    }\n",
       "\n",
       "    .dataframe tbody tr th {\n",
       "        vertical-align: top;\n",
       "    }\n",
       "\n",
       "    .dataframe thead th {\n",
       "        text-align: right;\n",
       "    }\n",
       "</style>\n",
       "<table border=\"1\" class=\"dataframe\">\n",
       "  <thead>\n",
       "    <tr style=\"text-align: right;\">\n",
       "      <th></th>\n",
       "      <th>datetime</th>\n",
       "      <th>count</th>\n",
       "    </tr>\n",
       "  </thead>\n",
       "  <tbody>\n",
       "    <tr>\n",
       "      <th>0</th>\n",
       "      <td>2011-01-20 00:00:00</td>\n",
       "      <td>0</td>\n",
       "    </tr>\n",
       "    <tr>\n",
       "      <th>1</th>\n",
       "      <td>2011-01-20 01:00:00</td>\n",
       "      <td>0</td>\n",
       "    </tr>\n",
       "    <tr>\n",
       "      <th>2</th>\n",
       "      <td>2011-01-20 02:00:00</td>\n",
       "      <td>0</td>\n",
       "    </tr>\n",
       "    <tr>\n",
       "      <th>3</th>\n",
       "      <td>2011-01-20 03:00:00</td>\n",
       "      <td>0</td>\n",
       "    </tr>\n",
       "    <tr>\n",
       "      <th>4</th>\n",
       "      <td>2011-01-20 04:00:00</td>\n",
       "      <td>0</td>\n",
       "    </tr>\n",
       "    <tr>\n",
       "      <th>...</th>\n",
       "      <td>...</td>\n",
       "      <td>...</td>\n",
       "    </tr>\n",
       "    <tr>\n",
       "      <th>6488</th>\n",
       "      <td>2012-12-31 19:00:00</td>\n",
       "      <td>0</td>\n",
       "    </tr>\n",
       "    <tr>\n",
       "      <th>6489</th>\n",
       "      <td>2012-12-31 20:00:00</td>\n",
       "      <td>0</td>\n",
       "    </tr>\n",
       "    <tr>\n",
       "      <th>6490</th>\n",
       "      <td>2012-12-31 21:00:00</td>\n",
       "      <td>0</td>\n",
       "    </tr>\n",
       "    <tr>\n",
       "      <th>6491</th>\n",
       "      <td>2012-12-31 22:00:00</td>\n",
       "      <td>0</td>\n",
       "    </tr>\n",
       "    <tr>\n",
       "      <th>6492</th>\n",
       "      <td>2012-12-31 23:00:00</td>\n",
       "      <td>0</td>\n",
       "    </tr>\n",
       "  </tbody>\n",
       "</table>\n",
       "<p>6493 rows × 2 columns</p>\n",
       "</div>"
      ],
      "text/plain": [
       "                 datetime  count\n",
       "0     2011-01-20 00:00:00      0\n",
       "1     2011-01-20 01:00:00      0\n",
       "2     2011-01-20 02:00:00      0\n",
       "3     2011-01-20 03:00:00      0\n",
       "4     2011-01-20 04:00:00      0\n",
       "...                   ...    ...\n",
       "6488  2012-12-31 19:00:00      0\n",
       "6489  2012-12-31 20:00:00      0\n",
       "6490  2012-12-31 21:00:00      0\n",
       "6491  2012-12-31 22:00:00      0\n",
       "6492  2012-12-31 23:00:00      0\n",
       "\n",
       "[6493 rows x 2 columns]"
      ]
     },
     "execution_count": 65,
     "metadata": {},
     "output_type": "execute_result"
    }
   ],
   "source": []
  },
  {
   "cell_type": "code",
   "execution_count": null,
   "id": "1e40d953-d01e-40b1-966a-cd4bb58c0da9",
   "metadata": {},
   "outputs": [],
   "source": []
  },
  {
   "cell_type": "code",
   "execution_count": null,
   "id": "6ff20a2e-df26-41cc-913f-abc9fc4ab3dd",
   "metadata": {
    "tags": []
   },
   "outputs": [],
   "source": [
    "mscore_list.append([tpl[0], y_col[i], mse_score, np.sqrt(mse_score) ] )"
   ]
  },
  {
   "cell_type": "code",
   "execution_count": null,
   "id": "53560b15-d563-4383-aae7-dd23f0c05aa7",
   "metadata": {
    "tags": []
   },
   "outputs": [],
   "source": [
    "score_df = pd.DataFrame(score_list, columns=[\"model\",\"col\",\"mse\",\"rmse\"])\n",
    "score_df"
   ]
  },
  {
   "cell_type": "code",
   "execution_count": null,
   "id": "8e6e9d8a-11ea-478a-9299-023f1a7cd312",
   "metadata": {
    "tags": []
   },
   "outputs": [],
   "source": [
    "plt.figure(figsize=(8,3))\n",
    "ax1 = plt.subplot(1,2,1)\n",
    "ax1.set_title(\"RMSE\")\n",
    "sns.barplot(\n",
    "    data= score_df,\n",
    "    x= \"model\",\n",
    "    y= \"rmse\" ,\n",
    "    hue = \"col\",\n",
    "    ax = ax1\n",
    "    \n",
    ")\n",
    "ax2 = plt.subplot(1,2,2)\n",
    "ax2.set_title(\"MSE\")\n",
    "sns.barplot(\n",
    "    data= score_df,\n",
    "    x= \"model\",\n",
    "    y= \"mse\" ,\n",
    "    hue = \"col\",\n",
    "    ax = ax2\n",
    ")\n",
    "plt.show()"
   ]
  },
  {
   "cell_type": "markdown",
   "id": "c32d2149-7a43-42d5-bb9a-3dee18c091f9",
   "metadata": {
    "tags": []
   },
   "source": [
    "* by 규환"
   ]
  },
  {
   "cell_type": "code",
   "execution_count": null,
   "id": "7f7da56a-f038-49c2-8169-b949c5944714",
   "metadata": {
    "tags": []
   },
   "outputs": [],
   "source": [
    "y = train[['regcount','casual','registered']]\n",
    "X = train.drop(['regcount','casual','registered'], axis=1)\n"
   ]
  },
  {
   "cell_type": "code",
   "execution_count": null,
   "id": "14354017-ae3f-4c07-a712-e042db83c95c",
   "metadata": {
    "tags": []
   },
   "outputs": [],
   "source": [
    "X.head(), y.head()"
   ]
  },
  {
   "cell_type": "code",
   "execution_count": null,
   "id": "d24a38b8-424d-43a0-847a-b31762e31d5c",
   "metadata": {
    "tags": []
   },
   "outputs": [],
   "source": [
    "X_train, X_test, y_train, y_test = train_test_split(X, y, random_state=0, test_size=0.2)\n",
    "print(X_train.shape, y_train.shape, X_test.shape, y_test.shape)"
   ]
  },
  {
   "cell_type": "code",
   "execution_count": null,
   "id": "9ecace29-53d3-4aeb-8bcd-df671045bb7e",
   "metadata": {
    "tags": []
   },
   "outputs": [],
   "source": [
    "model = DecisionTreeRegressor(random_state=0)\n",
    "model.fit(X_train, y_train)\n",
    "y_pred = model.predict(X_test)\n"
   ]
  },
  {
   "cell_type": "code",
   "execution_count": null,
   "id": "492c2e37-f27f-478a-80be-6026e1e5d440",
   "metadata": {
    "tags": []
   },
   "outputs": [],
   "source": [
    "print( y_test.shape )\n",
    "y_test.head(3)"
   ]
  },
  {
   "cell_type": "code",
   "execution_count": null,
   "id": "0fe2d2d1-b404-4314-9f48-6801bfe6f926",
   "metadata": {
    "tags": []
   },
   "outputs": [],
   "source": [
    "print( y_pred.shape )"
   ]
  },
  {
   "cell_type": "code",
   "execution_count": null,
   "id": "2a6beac4-d36b-4733-a12f-20e3470a8164",
   "metadata": {
    "tags": []
   },
   "outputs": [],
   "source": [
    "y_pred[0]"
   ]
  },
  {
   "cell_type": "code",
   "execution_count": null,
   "id": "5157a2f2-6047-4387-a47f-d5a95fabd1fa",
   "metadata": {
    "tags": []
   },
   "outputs": [],
   "source": [
    "print( y_pred.T[0].shape )\n",
    "y_pred.T"
   ]
  },
  {
   "cell_type": "code",
   "execution_count": null,
   "id": "27eac0f9-6b93-42cb-9824-dc622153862c",
   "metadata": {
    "tags": []
   },
   "outputs": [],
   "source": [
    "y_test['casual']"
   ]
  },
  {
   "cell_type": "code",
   "execution_count": null,
   "id": "286c837d-27a3-4a3a-a987-65ffc2cc0391",
   "metadata": {
    "tags": []
   },
   "outputs": [],
   "source": [
    "# regcount(A패턴)  = registered(A2패턴) + casual (B패턴) \n",
    "score_regcount   = mean_squared_error(y_test['regcount']    , y_pred.T[0])\n",
    "score_casual     = mean_squared_error(y_test['casual'], y_pred.T[1])\n",
    "score_registered = mean_squared_error(y_test['registered']  , y_pred.T[2])\n",
    "\n",
    "print(score_regcount, score_casual, score_registered)"
   ]
  }
 ],
 "metadata": {
  "kernelspec": {
   "display_name": "Python 3 (ipykernel)",
   "language": "python",
   "name": "python3"
  },
  "language_info": {
   "codemirror_mode": {
    "name": "ipython",
    "version": 3
   },
   "file_extension": ".py",
   "mimetype": "text/x-python",
   "name": "python",
   "nbconvert_exporter": "python",
   "pygments_lexer": "ipython3",
   "version": "3.8.8"
  },
  "toc-autonumbering": true,
  "toc-showmarkdowntxt": false
 },
 "nbformat": 4,
 "nbformat_minor": 5
}
