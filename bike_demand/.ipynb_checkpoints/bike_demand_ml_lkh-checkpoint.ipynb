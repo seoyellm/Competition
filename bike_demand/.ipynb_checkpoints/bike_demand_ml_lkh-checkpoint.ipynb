{
 "cells": [
  {
   "cell_type": "markdown",
   "id": "6d36fd9b-8277-46dd-ab5d-3563dcc739b7",
   "metadata": {},
   "source": [
    "<font size=6><b>Bike Sharing Demand - ML"
   ]
  },
  {
   "cell_type": "markdown",
   "id": "5cb6f8bb-d3e1-457c-a482-430e612f90a4",
   "metadata": {
    "tags": []
   },
   "source": [
    "<img src=\"./logo.png\">\n",
    "* ref : https://www.kaggle.com/competitions/bike-sharing-demand/data <br>\n",
    "* ref : https://dacon.io/competitions/official/235985/data"
   ]
  },
  {
   "cell_type": "code",
   "execution_count": 1,
   "id": "11769cb6-b939-495e-96c1-ff3598956cec",
   "metadata": {
    "tags": []
   },
   "outputs": [
    {
     "data": {
      "text/html": [
       "<style>.container{width:100% !important;}</style>"
      ],
      "text/plain": [
       "<IPython.core.display.HTML object>"
      ]
     },
     "metadata": {},
     "output_type": "display_data"
    }
   ],
   "source": [
    "import numpy as np\n",
    "import pandas as pd\n",
    "\n",
    "import matplotlib.pyplot as plt\n",
    "import seaborn as sns\n",
    "\n",
    "\n",
    "sns.set()\n",
    "\n",
    "#-------------------- 차트 관련 속성 (한글처리, 그리드) -----------\n",
    "plt.rcParams['font.family']= 'Malgun Gothic'\n",
    "plt.rcParams['axes.unicode_minus'] = False\n",
    "\n",
    "#-------------------- 주피터 , 출력결과 넓이 늘리기 ---------------\n",
    "# from IPython.core.display import display, HTML\n",
    "from IPython.display import display, HTML\n",
    "\n",
    "display(HTML(\"<style>.container{width:100% !important;}</style>\"))\n",
    "pd.set_option('display.max_rows', 100)\n",
    "pd.set_option('display.max_columns', 100)\n",
    "pd.set_option('max_colwidth', None)\n",
    "\n",
    "import warnings\n",
    "warnings.filterwarnings(action='ignore')"
   ]
  },
  {
   "cell_type": "code",
   "execution_count": 2,
   "id": "02d88c79-95e1-4b95-96de-df858fcc943f",
   "metadata": {},
   "outputs": [],
   "source": [
    "from sklearn.ensemble import RandomForestRegressor\n",
    "from sklearn.model_selection import train_test_split\n",
    "from sklearn.metrics import mean_squared_error\n"
   ]
  },
  {
   "cell_type": "markdown",
   "id": "3f698b81-6a0b-4c55-b81e-c2fd498d4b74",
   "metadata": {},
   "source": [
    "# Data Load"
   ]
  },
  {
   "cell_type": "code",
   "execution_count": 3,
   "id": "aef310ea-ddad-4ad0-bcea-018ebbe0c5d5",
   "metadata": {
    "tags": []
   },
   "outputs": [],
   "source": [
    "train = pd.read_csv(\"./train.csv\", parse_dates=['datetime'])\n",
    "test  = pd.read_csv(\"./test.csv\" , parse_dates=['datetime'])"
   ]
  },
  {
   "cell_type": "code",
   "execution_count": 4,
   "id": "23a0bbfd-d222-4822-bfad-0fe563517d46",
   "metadata": {
    "tags": []
   },
   "outputs": [
    {
     "name": "stdout",
     "output_type": "stream",
     "text": [
      "<class 'pandas.core.frame.DataFrame'>\n",
      "RangeIndex: 10886 entries, 0 to 10885\n",
      "Data columns (total 12 columns):\n",
      " #   Column      Non-Null Count  Dtype         \n",
      "---  ------      --------------  -----         \n",
      " 0   regdate     10886 non-null  datetime64[ns]\n",
      " 1   season      10886 non-null  int64         \n",
      " 2   holiday     10886 non-null  int64         \n",
      " 3   workingday  10886 non-null  int64         \n",
      " 4   weather     10886 non-null  int64         \n",
      " 5   temp        10886 non-null  float64       \n",
      " 6   atemp       10886 non-null  float64       \n",
      " 7   humidity    10886 non-null  int64         \n",
      " 8   windspeed   10886 non-null  float64       \n",
      " 9   casual      10886 non-null  int64         \n",
      " 10  registered  10886 non-null  int64         \n",
      " 11  regcount    10886 non-null  int64         \n",
      "dtypes: datetime64[ns](1), float64(3), int64(8)\n",
      "memory usage: 1020.7 KB\n",
      "None\n",
      "==================================================\n",
      "<class 'pandas.core.frame.DataFrame'>\n",
      "RangeIndex: 6493 entries, 0 to 6492\n",
      "Data columns (total 9 columns):\n",
      " #   Column      Non-Null Count  Dtype         \n",
      "---  ------      --------------  -----         \n",
      " 0   regdate     6493 non-null   datetime64[ns]\n",
      " 1   season      6493 non-null   int64         \n",
      " 2   holiday     6493 non-null   int64         \n",
      " 3   workingday  6493 non-null   int64         \n",
      " 4   weather     6493 non-null   int64         \n",
      " 5   temp        6493 non-null   float64       \n",
      " 6   atemp       6493 non-null   float64       \n",
      " 7   humidity    6493 non-null   int64         \n",
      " 8   windspeed   6493 non-null   float64       \n",
      "dtypes: datetime64[ns](1), float64(3), int64(5)\n",
      "memory usage: 456.7 KB\n",
      "None\n",
      "==================================================\n"
     ]
    }
   ],
   "source": [
    "df_list = [train, test]\n",
    "for df in df_list:\n",
    "    df.rename(columns = {'datetime' : 'regdate', 'count' : 'regcount'}, inplace = True)\n",
    "    df.columns = df.columns.str.lower()\n",
    "    print(df.info())    \n",
    "    print(\"=====\"*10)\n"
   ]
  },
  {
   "cell_type": "markdown",
   "id": "60e9f5d8-eb1b-44ac-b353-290745fec512",
   "metadata": {},
   "source": [
    "# Feature Engineering"
   ]
  },
  {
   "cell_type": "markdown",
   "id": "162690ca-fda5-46d2-a8a1-52f1360837e0",
   "metadata": {},
   "source": [
    "## 파생피쳐\n",
    "- regdate\n",
    "- day_type"
   ]
  },
  {
   "cell_type": "code",
   "execution_count": 5,
   "id": "a7824002-3887-48c9-97f9-b50bd9862132",
   "metadata": {
    "tags": []
   },
   "outputs": [],
   "source": [
    "df_list = [train, test]\n",
    "for df in df_list:\n",
    "    df['y'] = df['regdate'].dt.year\n",
    "    df['m'] = df['regdate'].dt.month\n",
    "    df['d'] = df['regdate'].dt.day\n",
    "    df['h'] = df['regdate'].dt.hour\n",
    "    df['w'] = df['regdate'].dt.dayofweek\n",
    "    \n",
    "    df.set_index('regdate', inplace=True)\n",
    "    \n",
    "    df['day_type'] = 0\n",
    "    df['day_type'] = np.where( (df['holiday']==0) & (df['workingday'] == 1),   1,  df['day_type'])\n",
    "    df['day_type'] = np.where( (df['holiday']==1) & (df['workingday'] == 0),   2,  df['day_type'])"
   ]
  },
  {
   "cell_type": "code",
   "execution_count": 6,
   "id": "4a36428c-db62-4b4d-8a21-df45f986b2a2",
   "metadata": {},
   "outputs": [
    {
     "name": "stdout",
     "output_type": "stream",
     "text": [
      "<class 'pandas.core.frame.DataFrame'>\n",
      "DatetimeIndex: 6493 entries, 2011-01-20 00:00:00 to 2012-12-31 23:00:00\n",
      "Data columns (total 14 columns):\n",
      " #   Column      Non-Null Count  Dtype  \n",
      "---  ------      --------------  -----  \n",
      " 0   season      6493 non-null   int64  \n",
      " 1   holiday     6493 non-null   int64  \n",
      " 2   workingday  6493 non-null   int64  \n",
      " 3   weather     6493 non-null   int64  \n",
      " 4   temp        6493 non-null   float64\n",
      " 5   atemp       6493 non-null   float64\n",
      " 6   humidity    6493 non-null   int64  \n",
      " 7   windspeed   6493 non-null   float64\n",
      " 8   y           6493 non-null   int64  \n",
      " 9   m           6493 non-null   int64  \n",
      " 10  d           6493 non-null   int64  \n",
      " 11  h           6493 non-null   int64  \n",
      " 12  w           6493 non-null   int64  \n",
      " 13  day_type    6493 non-null   int64  \n",
      "dtypes: float64(3), int64(11)\n",
      "memory usage: 760.9 KB\n"
     ]
    }
   ],
   "source": [
    "test.info()"
   ]
  },
  {
   "cell_type": "markdown",
   "id": "df184ea8-1393-4cb6-9fa5-642da70acb90",
   "metadata": {
    "tags": []
   },
   "source": [
    "## windspeed 0 채우기"
   ]
  },
  {
   "cell_type": "code",
   "execution_count": 7,
   "id": "3e425ffa-21f3-4c23-8c10-42a97c669ebd",
   "metadata": {},
   "outputs": [
    {
     "data": {
      "text/plain": [
       "((10886, 17), (6493, 14))"
      ]
     },
     "execution_count": 7,
     "metadata": {},
     "output_type": "execute_result"
    }
   ],
   "source": [
    "train.shape, test.shape"
   ]
  },
  {
   "cell_type": "code",
   "execution_count": 8,
   "id": "fcf5fd0b-6849-48f8-bb5e-e2da4f433fe6",
   "metadata": {
    "tags": []
   },
   "outputs": [],
   "source": [
    "def my_fill_windspeed(df):\n",
    "    df = df[['season', 'holiday', 'workingday', 'weather', 'temp', 'atemp',\n",
    "           'humidity','y', 'm','d', 'h', 'w', 'day_type','windspeed']]\n",
    "\n",
    "    df1 = df[df['windspeed'] != 0]\n",
    "    y_df1 = df1['windspeed']\n",
    "    X_df1 = df1.drop('windspeed', axis=1)\n",
    "    \n",
    "    rf = RandomForestRegressor(random_state=11)\n",
    "    X_df1_8, X_df1_2, y_df1_8, y_df1_2 = train_test_split(X_df1, y_df1, test_size=0.2)\n",
    "    rf.fit(X_df1_8, y_df1_8)\n",
    "    \n",
    "    pred = rf.predict(X_df1_2)\n",
    "    mse_score = mean_squared_error(y_df1_2, pred)\n",
    "    print(\"RMSE : \", np.sqrt(mse_score) )\n",
    "\n",
    "    df0 = df[df['windspeed'] == 0]\n",
    "    y_df0 = df0['windspeed']\n",
    "    X_df0 = df0.drop('windspeed', axis=1)\n",
    "    pred = rf.predict(X_df0)\n",
    "    widx = X_df0.index.values\n",
    "    df.loc[widx, 'windspeed'] = pred\n",
    "    return df"
   ]
  },
  {
   "cell_type": "code",
   "execution_count": 9,
   "id": "bf4d19cc-4b90-40e1-807e-3498347e2643",
   "metadata": {
    "tags": []
   },
   "outputs": [
    {
     "name": "stdout",
     "output_type": "stream",
     "text": [
      "RMSE :  4.479894330395955\n"
     ]
    }
   ],
   "source": [
    "df = pd.concat([train, test], axis=0, ignore_index=True)\n",
    "train_idx = df.iloc[:train.shape[0], :].index\n",
    "test_idx  = df.iloc[train.shape[0]:, :].index\n",
    "#---------------------------------\n",
    "df = my_fill_windspeed(df)\n",
    "#---------------------------------\n",
    "train = df.loc[train_idx]\n",
    "test  = df.loc[test_idx]\n",
    "test = test.reset_index(drop=True)"
   ]
  },
  {
   "cell_type": "markdown",
   "id": "be07d96d-6f1b-4fd0-8b5e-a56350562a69",
   "metadata": {},
   "source": [
    "## Outlier 처리\n",
    "- <font color='red'><b>train에만 처리"
   ]
  },
  {
   "cell_type": "code",
   "execution_count": 10,
   "id": "4daec778-eb95-4b72-b8e8-909e8cdb9309",
   "metadata": {},
   "outputs": [
    {
     "data": {
      "text/plain": [
       "((10886, 14), (6493, 14))"
      ]
     },
     "execution_count": 10,
     "metadata": {},
     "output_type": "execute_result"
    }
   ],
   "source": [
    "train.shape, test.shape"
   ]
  },
  {
   "cell_type": "code",
   "execution_count": 11,
   "id": "e9ea4257-3ae3-476a-93c3-965c43430965",
   "metadata": {},
   "outputs": [],
   "source": [
    "del_idx_list = []\n",
    "idx = train[train['weather']==4].index\n",
    "del_idx_list.extend(idx)\n",
    "idx = train[train['temp']>40].index\n",
    "del_idx_list.extend(idx)\n",
    "idx = train[train['windspeed']>50].index\n",
    "del_idx_list.extend(idx)\n",
    "train.drop(del_idx_list, axis=0, inplace=True)"
   ]
  },
  {
   "cell_type": "code",
   "execution_count": 12,
   "id": "6e134f2d-9eaa-4f4d-b19a-11b37cada50c",
   "metadata": {},
   "outputs": [
    {
     "data": {
      "text/plain": [
       "((10880, 14), (6493, 14))"
      ]
     },
     "execution_count": 12,
     "metadata": {},
     "output_type": "execute_result"
    }
   ],
   "source": [
    "train.shape, test.shape"
   ]
  },
  {
   "cell_type": "markdown",
   "id": "328061ee-5e1e-4e06-ad11-2607eb40d47e",
   "metadata": {},
   "source": [
    "# 학습"
   ]
  },
  {
   "cell_type": "markdown",
   "id": "c81fafb0-dcfe-4eef-9212-2b4940f1a759",
   "metadata": {},
   "source": [
    "## 타켓 선정\n",
    "* 답안지 : count 제출\n",
    "* regcount(A패턴)  = registered(A2패턴) + casual (B패턴) \n",
    "* <font color=red><b>registered(A2패턴) + casual (B패턴)  --> 이 값을 답안으로 제출"
   ]
  },
  {
   "cell_type": "markdown",
   "id": "d8840974-b788-4b7c-accc-c40b3761e5ba",
   "metadata": {},
   "source": [
    "## 최종피쳐 선정"
   ]
  },
  {
   "cell_type": "code",
   "execution_count": null,
   "id": "6e6f5611-73be-46cd-9554-9d4468b8dd1b",
   "metadata": {
    "tags": []
   },
   "outputs": [],
   "source": [
    "train.columns"
   ]
  },
  {
   "cell_type": "markdown",
   "id": "077a002e-07b9-4fc2-849f-a3ea1cb02568",
   "metadata": {},
   "source": [
    "<pre>\n",
    "타겟(1) : 'casual' + 'registered'\n",
    "타겟(2) : 'regcount'\n",
    "\n",
    "\n",
    "'d' 피쳐 삭제\n",
    "('m', 'h'),  'y', 'd' -->'w'\n",
    "\n",
    "\n",
    "(+)3개 : 'holiday', 'workingday', 'day_type'\n",
    "(+)2개 : 'holiday', 'workingday'\n",
    "(+)1개 : 'day_type'\n",
    "\n",
    "\n",
    "'weather', 'humidity',  'season', \n",
    "(+)'windspeed' : 'h' 비례? / 'm' 반비례?\n",
    "\n",
    "\n",
    "다중공선 : (상관계수가 높은 경우)\n",
    "'regcount' 'registered' 'casual' : 0.97  --> 'regcount' vs. 'registered'+'casual'\n",
    "'temp' 'atemp'                   : 0.98  --> 'atemp' drop\n",
    "\n",
    "선택적으로 모델에 적용\n",
    "(+)'w' 'day_type' : -0.78\n",
    "(+)'season' 'm'   : 0.97\n",
    "\n",
    "\n",
    "* ('m', 'h'),  'y', 'w', 'weather', 'humidity',  'season', 'temp'\n",
    "* (+)'windspeed'\n",
    "* (+)('holiday', 'workingday'), ('day_type')\n",
    "* (+)('w' 'day_type') : -0.78\n",
    "* (+)('m') 'season'    : 0.97\n"
   ]
  },
  {
   "cell_type": "markdown",
   "id": "f9f44540-aad7-4407-943f-ba61f0940662",
   "metadata": {},
   "source": [
    "# 학습 & 평가\n",
    "* ref : https://suboptimal.wiki/explanation/mse/"
   ]
  },
  {
   "cell_type": "markdown",
   "id": "d4ca8694-1699-495a-bb89-0ccf8cc7082f",
   "metadata": {},
   "source": [
    "*  $ MSE = \\frac{\\mathrm{1} }{\\mathrm{n}} \\sum\\nolimits_{i=1}^{n} (Y_i - \\hat{Y_i})^{2}$\n",
    "\n",
    "* $ MAE = $\n",
    "\n",
    "*  $ RMSE = \\sqrt{\\frac{1}{n}\\Sigma_{i=1}^{n}{\\Big(\\frac{Y_i - \\hat{Y_i}}{N}\\Big)^2}}$\n",
    "\n",
    "*  $ RMSLE = \\sqrt{\\frac{1}{n}\\Sigma_{i=1}^{n}{\\Big(\\frac{log(Y_i+1) - log(\\hat{Y_i}+1)}{N}\\Big)^2}}$"
   ]
  },
  {
   "cell_type": "markdown",
   "id": "e82fce3f-c560-4e3b-98e6-c5f191fd8015",
   "metadata": {
    "jp-MarkdownHeadingCollapsed": true,
    "tags": []
   },
   "source": [
    "<pre>\n",
    " ---------------------------------------------------------------------\n",
    " 1. X(문제지), y(답안지) 분리\n",
    " 2. 위에것을 8:2 비율로 train, test용으로 분리\n",
    "      문제지80,문제지20, 답안지80,답안지20 = train_test_split(문제지, 답안지)\n",
    " 3. 모델선택\n",
    "                     모델.fit(문제지80, 답안지80)\n",
    "           예측답안20 = 모델.predict(문제지20)\n",
    " 4. 점수확인 : *score(답안지20, 예측답안20)\n",
    " ---------------------------------------------------------------------\n",
    " 데이터프레임 : object X, 결측 X\n",
    " X,y분리 --> 8:2 --> 모델 --> fit --> predict  --> score --> 평가검증\n",
    " ---------------------------------------------------------------------\n"
   ]
  },
  {
   "cell_type": "code",
   "execution_count": null,
   "id": "75c1e36b-5262-41cc-854f-abb5cb91188c",
   "metadata": {
    "tags": []
   },
   "outputs": [],
   "source": [
    "# ! pip install xgboost\n",
    "# ! pip install lightgbm "
   ]
  },
  {
   "cell_type": "code",
   "execution_count": null,
   "id": "3d621c2f-ea88-47e6-b2d7-2a8f9f553276",
   "metadata": {
    "tags": []
   },
   "outputs": [],
   "source": [
    "from sklearn.model_selection import train_test_split\n",
    "from sklearn.tree import DecisionTreeRegressor\n",
    "from sklearn.linear_model import LinearRegression\n",
    "from sklearn.metrics import mean_squared_error\n",
    "\n",
    "# ---- 추가 모델\n",
    "from sklearn.ensemble import AdaBoostRegressor, VotingRegressor\n",
    "from xgboost import XGBRegressor\n",
    "from lightgbm import LGBMRegressor"
   ]
  },
  {
   "cell_type": "code",
   "execution_count": null,
   "id": "6ff20a2e-df26-41cc-913f-abc9fc4ab3dd",
   "metadata": {
    "tags": []
   },
   "outputs": [],
   "source": [
    "model_list = [ (\"DTR\"   , DecisionTreeRegressor(random_state=0)),\n",
    "               (\"LR\"    , LinearRegression()                   ),\n",
    "               (\"ABOOST\", AdaBoostRegressor()                  ),\n",
    "               (\"XGB\"   , XGBRegressor()                       ),  \n",
    "               (\"LGBM\"  , LGBMRegressor()                      ),\n",
    "               (\"VR\"    , VotingRegressor([(\"XGB\", XGBRegressor()), (\"LGBM\", LGBMRegressor())]) ) \n",
    "             ]\n",
    "y_list = [ train['regcount'], train['casual'], train['registered'] ]\n",
    "y_col  = [ 'regcount', 'casual', 'registered'] \n",
    "X = train.drop(['regcount','casual','registered'], axis=1)\n",
    "\n",
    "score_list = []\n",
    "for tpl in model_list :\n",
    "    print( tpl[0] ) \n",
    "    for i, y in enumerate(y_list) :\n",
    "        model = tpl[1]\n",
    "        X_train, X_test, y_train, y_test = train_test_split(X, y, random_state=0, test_size=0.2)\n",
    "        model.fit(X_train, y_train)\n",
    "        y_pred = model.predict(X_test)\n",
    "        mse_score = mean_squared_error(y_test, y_pred)\n",
    "        \n",
    "        print( y_col[i] )\n",
    "        print(\"MSE : \", mse_score) \n",
    "        print(\"RMSE: \", np.sqrt(mse_score)) \n",
    "        print(\"-\"*30)\n",
    "        score_list.append([tpl[0], y_col[i], mse_score, np.sqrt(mse_score) ] )"
   ]
  },
  {
   "cell_type": "code",
   "execution_count": null,
   "id": "53560b15-d563-4383-aae7-dd23f0c05aa7",
   "metadata": {
    "tags": []
   },
   "outputs": [],
   "source": [
    "score_df = pd.DataFrame(score_list, columns=[\"model\",\"col\",\"mse\",\"rmse\"])\n",
    "score_df"
   ]
  },
  {
   "cell_type": "code",
   "execution_count": null,
   "id": "8e6e9d8a-11ea-478a-9299-023f1a7cd312",
   "metadata": {
    "tags": []
   },
   "outputs": [],
   "source": [
    "plt.figure(figsize=(8,3))\n",
    "ax1 = plt.subplot(1,2,1)\n",
    "ax1.set_title(\"RMSE\")\n",
    "sns.barplot(\n",
    "    data= score_df,\n",
    "    x= \"model\",\n",
    "    y= \"rmse\" ,\n",
    "    hue = \"col\",\n",
    "    ax = ax1\n",
    "    \n",
    ")\n",
    "ax2 = plt.subplot(1,2,2)\n",
    "ax2.set_title(\"MSE\")\n",
    "sns.barplot(\n",
    "    data= score_df,\n",
    "    x= \"model\",\n",
    "    y= \"mse\" ,\n",
    "    hue = \"col\",\n",
    "    ax = ax2\n",
    ")\n",
    "plt.show()"
   ]
  },
  {
   "cell_type": "markdown",
   "id": "c32d2149-7a43-42d5-bb9a-3dee18c091f9",
   "metadata": {
    "tags": []
   },
   "source": [
    "* by 규환"
   ]
  },
  {
   "cell_type": "code",
   "execution_count": null,
   "id": "7f7da56a-f038-49c2-8169-b949c5944714",
   "metadata": {
    "tags": []
   },
   "outputs": [],
   "source": [
    "y = train[['regcount','casual','registered']]\n",
    "X = train.drop(['regcount','casual','registered'], axis=1)\n"
   ]
  },
  {
   "cell_type": "code",
   "execution_count": null,
   "id": "14354017-ae3f-4c07-a712-e042db83c95c",
   "metadata": {
    "tags": []
   },
   "outputs": [],
   "source": [
    "X.head(), y.head()"
   ]
  },
  {
   "cell_type": "code",
   "execution_count": null,
   "id": "d24a38b8-424d-43a0-847a-b31762e31d5c",
   "metadata": {
    "tags": []
   },
   "outputs": [],
   "source": [
    "X_train, X_test, y_train, y_test = train_test_split(X, y, random_state=0, test_size=0.2)\n",
    "print(X_train.shape, y_train.shape, X_test.shape, y_test.shape)"
   ]
  },
  {
   "cell_type": "code",
   "execution_count": null,
   "id": "9ecace29-53d3-4aeb-8bcd-df671045bb7e",
   "metadata": {
    "tags": []
   },
   "outputs": [],
   "source": [
    "model = DecisionTreeRegressor(random_state=0)\n",
    "model.fit(X_train, y_train)\n",
    "y_pred = model.predict(X_test)\n"
   ]
  },
  {
   "cell_type": "code",
   "execution_count": null,
   "id": "492c2e37-f27f-478a-80be-6026e1e5d440",
   "metadata": {
    "tags": []
   },
   "outputs": [],
   "source": [
    "print( y_test.shape )\n",
    "y_test.head(3)"
   ]
  },
  {
   "cell_type": "code",
   "execution_count": null,
   "id": "0fe2d2d1-b404-4314-9f48-6801bfe6f926",
   "metadata": {
    "tags": []
   },
   "outputs": [],
   "source": [
    "print( y_pred.shape )"
   ]
  },
  {
   "cell_type": "code",
   "execution_count": null,
   "id": "2a6beac4-d36b-4733-a12f-20e3470a8164",
   "metadata": {
    "tags": []
   },
   "outputs": [],
   "source": [
    "y_pred[0]"
   ]
  },
  {
   "cell_type": "code",
   "execution_count": null,
   "id": "5157a2f2-6047-4387-a47f-d5a95fabd1fa",
   "metadata": {
    "tags": []
   },
   "outputs": [],
   "source": [
    "print( y_pred.T[0].shape )\n",
    "y_pred.T"
   ]
  },
  {
   "cell_type": "code",
   "execution_count": null,
   "id": "27eac0f9-6b93-42cb-9824-dc622153862c",
   "metadata": {
    "tags": []
   },
   "outputs": [],
   "source": [
    "y_test['casual']"
   ]
  },
  {
   "cell_type": "code",
   "execution_count": null,
   "id": "286c837d-27a3-4a3a-a987-65ffc2cc0391",
   "metadata": {
    "tags": []
   },
   "outputs": [],
   "source": [
    "# regcount(A패턴)  = registered(A2패턴) + casual (B패턴) \n",
    "score_regcount   = mean_squared_error(y_test['regcount']    , y_pred.T[0])\n",
    "score_casual     = mean_squared_error(y_test['casual'], y_pred.T[1])\n",
    "score_registered = mean_squared_error(y_test['registered']  , y_pred.T[2])\n",
    "\n",
    "print(score_regcount, score_casual, score_registered)"
   ]
  }
 ],
 "metadata": {
  "kernelspec": {
   "display_name": "Python 3 (ipykernel)",
   "language": "python",
   "name": "python3"
  },
  "language_info": {
   "codemirror_mode": {
    "name": "ipython",
    "version": 3
   },
   "file_extension": ".py",
   "mimetype": "text/x-python",
   "name": "python",
   "nbconvert_exporter": "python",
   "pygments_lexer": "ipython3",
   "version": "3.8.8"
  },
  "toc-autonumbering": true,
  "toc-showmarkdowntxt": false
 },
 "nbformat": 4,
 "nbformat_minor": 5
}
