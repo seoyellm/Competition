{
 "cells": [
  {
   "cell_type": "markdown",
   "id": "88b5b11a-7c41-42bc-9f71-9d39775e80fc",
   "metadata": {},
   "source": [
    "# [Dacon]항공지연예측"
   ]
  },
  {
   "cell_type": "code",
   "execution_count": 1,
   "id": "d22742ff-366e-463f-a7fd-71daf46ce8ca",
   "metadata": {},
   "outputs": [
    {
     "data": {
      "text/html": [
       "<style>.container{width:100% !important;}</style>"
      ],
      "text/plain": [
       "<IPython.core.display.HTML object>"
      ]
     },
     "metadata": {},
     "output_type": "display_data"
    }
   ],
   "source": [
    "import numpy as np\n",
    "import pandas as pd\n",
    "\n",
    "import matplotlib.pyplot as plt\n",
    "import seaborn as sns\n",
    "\n",
    "\n",
    "sns.set()\n",
    "\n",
    "#-------------------- 차트 관련 속성 (한글처리, 그리드) -----------\n",
    "plt.rcParams['font.family']= 'Malgun Gothic'\n",
    "plt.rcParams['axes.unicode_minus'] = False\n",
    "\n",
    "#-------------------- 주피터 , 출력결과 넓이 늘리기 ---------------\n",
    "# from IPython.core.display import display, HTML\n",
    "from IPython.display import display, HTML\n",
    "\n",
    "display(HTML(\"<style>.container{width:100% !important;}</style>\"))\n",
    "pd.set_option('display.max_rows', 100)\n",
    "pd.set_option('display.max_columns', 100)\n",
    "pd.set_option('max_colwidth', None)\n",
    "\n",
    "import warnings\n",
    "warnings.filterwarnings(action='ignore')"
   ]
  },
  {
   "cell_type": "code",
   "execution_count": 2,
   "id": "730b6546-c985-493d-bdec-c61b6ca1aa84",
   "metadata": {
    "tags": []
   },
   "outputs": [],
   "source": [
    "# ----------------- 학습 ----------------------\n",
    "from sklearn.model_selection import train_test_split, cross_val_score\n",
    "from sklearn.preprocessing import StandardScaler, MinMaxScaler, RobustScaler\n",
    "\n",
    "# ----------------- 모델 ----------------------\n",
    "from sklearn.tree import DecisionTreeClassifier,DecisionTreeRegressor\n",
    "from sklearn.linear_model import LogisticRegression,LinearRegression\n",
    "from sklearn.linear_model import Ridge,Lasso\n",
    "\n",
    "from lightgbm import LGBMRegressor,LGBMClassifier\n",
    "\n",
    "# ----------------- 평가 ----------------------\n",
    "from sklearn.metrics import confusion_matrix\n",
    "\n",
    "from sklearn.metrics import classification_report\n",
    "from sklearn.metrics import accuracy_score,mean_squared_error\n",
    "from sklearn.metrics import f1_score, precision_score, recall_score\n",
    "from sklearn.metrics import precision_recall_curve, plot_precision_recall_curve\n",
    "\n",
    "from sklearn.metrics import roc_auc_score, roc_curve, plot_roc_curve"
   ]
  },
  {
   "cell_type": "markdown",
   "id": "295450c7-2ac2-41f8-831f-a109d47caad3",
   "metadata": {},
   "source": [
    "# Data Load"
   ]
  },
  {
   "cell_type": "markdown",
   "id": "61bb598f-0c60-4446-9448-bf3e2a9d6bb2",
   "metadata": {},
   "source": [
    "<pre>\n",
    "Month: 해당 항공편의 출발 월입니다. 1부터 12까지의 값을 가집니다.\n",
    "Day_of_Month: 해당 항공편의 출발 날짜입니다. 1부터 31까지의 값을 가집니다.\n",
    "Estimated_Departure_Time: 해당 항공편의 출발 예정 시간입니다. 시간은 24시간 형식으로 기록됩니다. (HH:MM)\n",
    "Estimated_Arrival_Time: 해당 항공편의 도착 예정 시간입니다. 시간은 24시간 형식으로 기록됩니다. (HH:MM)\n",
    "Cancelled: 해당 항공편이 취소되었는지 여부를 나타냅니다. Train, Test 데이터 모두 0 값만 존재합니다.\n",
    "Diverted: 해당 항공편이 경유지를 변경하여 다른 공항으로 이동되었는지 여부를 나타냅니다. Train, Test 데이터 모두 0 값만 존재합니다.\n",
    "Origin_Airport: 해당 항공편의 출발 공항의 IATA 코드입니다.\n",
    "Origin_Airport_ID: 해당 항공편의 출발 공항의 고유 ID입니다.\n",
    "Origin_State: 해당 항공편의 출발 공항이 위치한 주(State) 이름입니다.\n",
    "Destination_Airport: 해당 항공편의 도착 공항의 IATA 코드입니다.\n",
    "Destination_Airport_ID: 해당 항공편의 도착 공항의 고유 ID입니다.\n",
    "Destination_State: 해당 항공편의 도착 공항이 위치한 주(State) 이름입니다.\n",
    "Distance: 해당 항공편의 비행 거리입니다. 확인해보니 마일(mile) 단위로 기록됩니다.\n",
    "Airline: 해당 항공편을 운항하는 항공사 이름입니다.\n",
    "Carrier_Code(IATA): 해당 항공편을 운항하는 항공사의 IATA 코드입니다.  (IATA 공항 코드, 단 다른 항공사가 같은 코드를 보유할 수도 있음)\n",
    "Carrier_ID(DOT): 해당 항공편을 운항하는 항공사의 식별번호입니다. \n",
    "Tail_Number: 해당 항공편을 운항하는 항공기의 고유 등록번호입니다."
   ]
  },
  {
   "cell_type": "code",
   "execution_count": 3,
   "id": "91128004-63e6-4f9d-89d7-7b5d7a009d47",
   "metadata": {
    "tags": []
   },
   "outputs": [],
   "source": [
    "train=pd.read_csv('train.csv')\n",
    "test=pd.read_csv('test.csv')\n",
    "submit=pd.read_csv('sample_submission.csv')"
   ]
  },
  {
   "cell_type": "code",
   "execution_count": 4,
   "id": "4819fc35-4963-4971-8df6-996f7566ec88",
   "metadata": {
    "tags": []
   },
   "outputs": [
    {
     "name": "stdout",
     "output_type": "stream",
     "text": [
      "1000000\n",
      "1000000\n"
     ]
    }
   ],
   "source": [
    "print(train['ID'].nunique())\n",
    "print(test['ID'].nunique())\n",
    "\n",
    "train=train.drop('ID',axis=1)\n",
    "test=test.drop('ID',axis=1)"
   ]
  },
  {
   "cell_type": "code",
   "execution_count": 73,
   "id": "4091305a-1d63-4d29-8162-6489e65db1dc",
   "metadata": {
    "tags": []
   },
   "outputs": [
    {
     "name": "stdout",
     "output_type": "stream",
     "text": [
      "<class 'pandas.core.frame.DataFrame'>\n",
      "RangeIndex: 1000000 entries, 0 to 999999\n",
      "Data columns (total 20 columns):\n",
      " #   Column                         Non-Null Count    Dtype  \n",
      "---  ------                         --------------    -----  \n",
      " 0   Month                          1000000 non-null  int64  \n",
      " 1   Day_of_Month                   1000000 non-null  int64  \n",
      " 2   Estimated_Departure_Time       1000000 non-null  float64\n",
      " 3   Estimated_Arrival_Time         1000000 non-null  float64\n",
      " 4   Origin_Airport                 1000000 non-null  object \n",
      " 5   Origin_Airport_ID              1000000 non-null  int64  \n",
      " 6   Destination_Airport            1000000 non-null  object \n",
      " 7   Destination_Airport_ID         1000000 non-null  int64  \n",
      " 8   Distance                       1000000 non-null  float64\n",
      " 9   Airline                        1000000 non-null  object \n",
      " 10  Tail_Number                    1000000 non-null  object \n",
      " 11  Delay                          255001 non-null   object \n",
      " 12  Distance(km)                   1000000 non-null  float64\n",
      " 13  Estimated_Departure_Time_hour  1000000 non-null  float64\n",
      " 14  Estimated_Departure_Time_min   1000000 non-null  float64\n",
      " 15  Estimated_Arrival_Time_hour    1000000 non-null  float64\n",
      " 16  Estimated_Arrival_Time_min     1000000 non-null  float64\n",
      " 17  Duration_of_Time_hour          1000000 non-null  float64\n",
      " 18  Duration_of_Time_min           1000000 non-null  float64\n",
      " 19  Duration_of_Time               1000000 non-null  float64\n",
      "dtypes: float64(11), int64(4), object(5)\n",
      "memory usage: 152.6+ MB\n"
     ]
    }
   ],
   "source": [
    "train.info()"
   ]
  },
  {
   "cell_type": "code",
   "execution_count": 5,
   "id": "041b741d-6975-4f49-8e7e-35f73a622e29",
   "metadata": {
    "tags": []
   },
   "outputs": [
    {
     "data": {
      "text/plain": [
       "Not_Delayed    210001\n",
       "Delayed         45000\n",
       "Name: Delay, dtype: int64"
      ]
     },
     "execution_count": 5,
     "metadata": {},
     "output_type": "execute_result"
    }
   ],
   "source": [
    "train['Delay'].value_counts()"
   ]
  },
  {
   "cell_type": "markdown",
   "id": "8c459e8d-036a-4410-bb33-70f51ac9983a",
   "metadata": {},
   "source": [
    "# EDA"
   ]
  },
  {
   "cell_type": "code",
   "execution_count": 6,
   "id": "6f15d650-b95e-4bcb-866f-5a74e6d17214",
   "metadata": {
    "tags": []
   },
   "outputs": [],
   "source": [
    "# fig, axes = plt.subplots(4, 5, figsize=(15, 20)  ) \n",
    "\n",
    "# col_list = ['Month', 'Day_of_Month', 'Estimated_Departure_Time',\n",
    "#        'Estimated_Arrival_Time', 'Cancelled', 'Diverted', 'Origin_Airport',\n",
    "#        'Origin_Airport_ID', 'Origin_State', 'Destination_Airport',\n",
    "#        'Destination_Airport_ID', 'Destination_State', 'Distance', 'Airline',\n",
    "#        'Carrier_Code(IATA)', 'Carrier_ID(DOT)', 'Tail_Number']\n",
    "# for i, col in enumerate(col_list) :  #train.columns) :\n",
    "#     r = i//5\n",
    "#     c = i%5\n",
    "#     #print(i,r, c ,col)\n",
    "#     axes[r][c].set_title(col)\n",
    "#     sns.histplot(data=train, x=col, ax=axes[r][c],     kde=True )\n",
    "#     sns.histplot(data=test, x=col, ax=axes[r][c],     kde=True )\n",
    "#     # axes[0][0].set_title(\"count\")\n",
    "#     # sns.histplot(data=train, x='count', ax=axes[0][0],     kde=True )\n",
    "\n",
    "# plt.tight_layout()\n",
    "# plt.show()"
   ]
  },
  {
   "cell_type": "code",
   "execution_count": 7,
   "id": "d316211c-7aed-4282-a534-076c41259b87",
   "metadata": {
    "tags": []
   },
   "outputs": [
    {
     "data": {
      "image/png": "[encoded data removed]",
      "text/plain": [
       "<Figure size 1000x1000 with 12 Axes>"
      ]
     },
     "metadata": {},
     "output_type": "display_data"
    }
   ],
   "source": [
    "train.hist(figsize=(10,10))\n",
    "\n",
    "plt.tight_layout()\n",
    "plt.show()"
   ]
  },
  {
   "cell_type": "markdown",
   "id": "12d23b28-f88c-4bc1-ab4a-8e483321f7c4",
   "metadata": {
    "tags": []
   },
   "source": [
    "# 결측"
   ]
  },
  {
   "cell_type": "code",
   "execution_count": 8,
   "id": "f48b7c1b-d215-4def-8f18-6589fd5f98f7",
   "metadata": {
    "tags": []
   },
   "outputs": [
    {
     "data": {
      "text/plain": [
       "Estimated_Departure_Time    109019\n",
       "Estimated_Arrival_Time      109040\n",
       "Origin_State                109015\n",
       "Destination_State           109079\n",
       "Airline                     108920\n",
       "Carrier_Code(IATA)          108990\n",
       "Carrier_ID(DOT)             108997\n",
       "Delay                       744999\n",
       "dtype: int64"
      ]
     },
     "execution_count": 8,
     "metadata": {},
     "output_type": "execute_result"
    }
   ],
   "source": [
    "train.isna().sum()[train.isna().sum()>0]"
   ]
  },
  {
   "cell_type": "code",
   "execution_count": 9,
   "id": "32bb60f3-9f25-432b-ab19-a46000fb5e5e",
   "metadata": {
    "tags": []
   },
   "outputs": [
    {
     "data": {
      "text/plain": [
       "Estimated_Departure_Time    108984\n",
       "Estimated_Arrival_Time      109048\n",
       "Origin_State                106505\n",
       "Destination_State           106523\n",
       "Airline                     106527\n",
       "Carrier_Code(IATA)          108993\n",
       "Carrier_ID(DOT)             109006\n",
       "dtype: int64"
      ]
     },
     "execution_count": 9,
     "metadata": {},
     "output_type": "execute_result"
    }
   ],
   "source": [
    "test.isna().sum()[test.isna().sum()>0]"
   ]
  },
  {
   "cell_type": "markdown",
   "id": "611c3f0a-904d-4386-a708-027ab2a9dd9b",
   "metadata": {},
   "source": [
    "## Carrier_Code(IATA)"
   ]
  },
  {
   "cell_type": "markdown",
   "id": "2ac01b26-5142-497c-8136-b1572f8545e2",
   "metadata": {},
   "source": [
    "- Carrier_Code(IATA)          108990    -> 항공사 다른데 IATA코드 동일한 경우가 있음--> 삭제\n",
    "- Carrier_ID(DOT)             108997"
   ]
  },
  {
   "cell_type": "code",
   "execution_count": 10,
   "id": "27bc0609-61c1-4a51-ae96-73ae2b0540d9",
   "metadata": {
    "tags": []
   },
   "outputs": [
    {
     "data": {
      "text/html": [
       "<div>\n",
       "<style scoped>\n",
       "    .dataframe tbody tr th:only-of-type {\n",
       "        vertical-align: middle;\n",
       "    }\n",
       "\n",
       "    .dataframe tbody tr th {\n",
       "        vertical-align: top;\n",
       "    }\n",
       "\n",
       "    .dataframe thead th {\n",
       "        text-align: right;\n",
       "    }\n",
       "</style>\n",
       "<table border=\"1\" class=\"dataframe\">\n",
       "  <thead>\n",
       "    <tr style=\"text-align: right;\">\n",
       "      <th></th>\n",
       "      <th>Carrier_Code(IATA)</th>\n",
       "      <th>Carrier_ID(DOT)</th>\n",
       "    </tr>\n",
       "  </thead>\n",
       "  <tbody>\n",
       "    <tr>\n",
       "      <th>0</th>\n",
       "      <td>WN</td>\n",
       "      <td>19393.0</td>\n",
       "    </tr>\n",
       "    <tr>\n",
       "      <th>1</th>\n",
       "      <td>UA</td>\n",
       "      <td>20304.0</td>\n",
       "    </tr>\n",
       "    <tr>\n",
       "      <th>2</th>\n",
       "      <td>AA</td>\n",
       "      <td>19805.0</td>\n",
       "    </tr>\n",
       "    <tr>\n",
       "      <th>3</th>\n",
       "      <td>UA</td>\n",
       "      <td>NaN</td>\n",
       "    </tr>\n",
       "    <tr>\n",
       "      <th>4</th>\n",
       "      <td>UA</td>\n",
       "      <td>20304.0</td>\n",
       "    </tr>\n",
       "  </tbody>\n",
       "</table>\n",
       "</div>"
      ],
      "text/plain": [
       "  Carrier_Code(IATA)  Carrier_ID(DOT)\n",
       "0                 WN          19393.0\n",
       "1                 UA          20304.0\n",
       "2                 AA          19805.0\n",
       "3                 UA              NaN\n",
       "4                 UA          20304.0"
      ]
     },
     "execution_count": 10,
     "metadata": {},
     "output_type": "execute_result"
    }
   ],
   "source": [
    "train[['Carrier_Code(IATA)', 'Carrier_ID(DOT)']].head()"
   ]
  },
  {
   "cell_type": "code",
   "execution_count": 11,
   "id": "fda0a0de-f1b6-4bfc-b20a-d7478cd311cd",
   "metadata": {
    "tags": []
   },
   "outputs": [
    {
     "data": {
      "text/plain": [
       "Carrier_Code(IATA)  Carrier_ID(DOT)\n",
       "AA                  19805.0             73759\n",
       "                    20237.0               371\n",
       "                    20304.0              9017\n",
       "                    20366.0               737\n",
       "                    20378.0              9067\n",
       "                    20397.0             22177\n",
       "                    20398.0             24544\n",
       "                    20427.0              8818\n",
       "                    20452.0             11099\n",
       "                    21167.0              2775\n",
       "AS                  19687.0             11644\n",
       "                    19930.0             25991\n",
       "                    20225.0               126\n",
       "                    20304.0              5178\n",
       "B6                  20409.0             37007\n",
       "DL                  19790.0             80111\n",
       "                    20304.0             28002\n",
       "                    20363.0             20644\n",
       "                    20366.0               804\n",
       "                    20452.0              5272\n",
       "                    20500.0              3921\n",
       "                    21167.0              5059\n",
       "F9                  20436.0             15525\n",
       "G4                  20368.0             12251\n",
       "HA                  19690.0              9758\n",
       "                    20263.0               944\n",
       "NK                  20416.0             22330\n",
       "UA                  19977.0             74910\n",
       "                    20046.0             11858\n",
       "                    20237.0              7907\n",
       "                    20253.0               112\n",
       "                    20304.0             35055\n",
       "                    20366.0             16447\n",
       "                    20378.0             12892\n",
       "                    20445.0              6354\n",
       "                    20452.0             13387\n",
       "                    20500.0              4605\n",
       "VX                  21171.0              1188\n",
       "WN                  19393.0            162394\n",
       "dtype: int64"
      ]
     },
     "execution_count": 11,
     "metadata": {},
     "output_type": "execute_result"
    }
   ],
   "source": [
    "train[['Carrier_Code(IATA)','Carrier_ID(DOT)']].value_counts().sort_index()"
   ]
  },
  {
   "cell_type": "code",
   "execution_count": 12,
   "id": "748ce60a-35a1-4591-a44c-89232247c3e7",
   "metadata": {
    "tags": []
   },
   "outputs": [
    {
     "data": {
      "text/plain": [
       "Airline                                    Carrier_Code(IATA)\n",
       "Air Wisconsin Airlines Corp                UA                     11950\n",
       "Alaska Airlines Inc.                       AS                     26021\n",
       "Allegiant Air                              G4                     12193\n",
       "American Airlines Inc.                     AA                     73629\n",
       "Cape Air                                   UA                       105\n",
       "Capital Cargo International                AA                      8814\n",
       "Comair Inc.                                AA                     22071\n",
       "Commutair Aka Champlain Enterprises, Inc.  UA                      6393\n",
       "Compass Airlines                           AA                      2819\n",
       "                                           DL                      5049\n",
       "Delta Air Lines Inc.                       DL                     79922\n",
       "Empire Airlines Inc.                       HA                       946\n",
       "Endeavor Air Inc.                          DL                     20668\n",
       "Envoy Air                                  AA                     24491\n",
       "ExpressJet Airlines Inc.                   AA                       730\n",
       "                                           DL                       815\n",
       "                                           UA                     16399\n",
       "Frontier Airlines Inc.                     F9                     15520\n",
       "GoJet Airlines, LLC d/b/a United Express   DL                      3909\n",
       "                                           UA                      4633\n",
       "Hawaiian Airlines Inc.                     HA                      9745\n",
       "Horizon Air                                AS                     11606\n",
       "JetBlue Airways                            B6                     36988\n",
       "Mesa Airlines Inc.                         AA                      9057\n",
       "                                           UA                     12859\n",
       "Peninsula Airways Inc.                     AS                       129\n",
       "Republic Airlines                          AA                     11169\n",
       "                                           DL                      5298\n",
       "                                           UA                     13499\n",
       "SkyWest Airlines Inc.                      AA                      9038\n",
       "                                           AS                      5176\n",
       "                                           DL                     27920\n",
       "                                           UA                     35171\n",
       "Southwest Airlines Co.                     WN                    162503\n",
       "Spirit Air Lines                           NK                     22282\n",
       "Trans States Airlines                      AA                       382\n",
       "                                           UA                      7933\n",
       "United Air Lines Inc.                      UA                     74956\n",
       "Virgin America                             VX                      1166\n",
       "dtype: int64"
      ]
     },
     "execution_count": 12,
     "metadata": {},
     "output_type": "execute_result"
    }
   ],
   "source": [
    "train[['Airline','Carrier_Code(IATA)']].value_counts().sort_index()"
   ]
  },
  {
   "cell_type": "markdown",
   "id": "c92b234c-9b74-44d9-83c1-0fc3de7fe90b",
   "metadata": {},
   "source": [
    "## Airline"
   ]
  },
  {
   "cell_type": "markdown",
   "id": "79cd38b2-fe1c-4538-8e09-e47cd2d7268d",
   "metadata": {},
   "source": [
    "### 'Carrier_ID(DOT)' -- > 'Airline'"
   ]
  },
  {
   "cell_type": "code",
   "execution_count": 13,
   "id": "b70babad-6fac-4873-b396-d8df043130d1",
   "metadata": {
    "tags": []
   },
   "outputs": [
    {
     "name": "stdout",
     "output_type": "stream",
     "text": [
      "108997\n",
      "109006\n"
     ]
    }
   ],
   "source": [
    "print(train['Carrier_ID(DOT)'].isna().sum())\n",
    "print(test['Carrier_ID(DOT)'].isna().sum())"
   ]
  },
  {
   "cell_type": "code",
   "execution_count": 14,
   "id": "8ddfc73b-f628-4b3a-8e23-fbe37f92c0c7",
   "metadata": {
    "tags": []
   },
   "outputs": [
    {
     "data": {
      "text/plain": [
       "Airline                                    Carrier_ID(DOT)\n",
       "Air Wisconsin Airlines Corp                20046.0             11894\n",
       "Alaska Airlines Inc.                       19930.0             25954\n",
       "Allegiant Air                              20368.0             12182\n",
       "American Airlines Inc.                     19805.0             73835\n",
       "Cape Air                                   20253.0               107\n",
       "Capital Cargo International                20427.0              8884\n",
       "Comair Inc.                                20397.0             22030\n",
       "Commutair Aka Champlain Enterprises, Inc.  20445.0              6340\n",
       "Compass Airlines                           21167.0              7898\n",
       "Delta Air Lines Inc.                       19790.0             80026\n",
       "Empire Airlines Inc.                       20263.0               940\n",
       "Endeavor Air Inc.                          20363.0             20650\n",
       "Envoy Air                                  20398.0             24455\n",
       "ExpressJet Airlines Inc.                   20366.0             17965\n",
       "Frontier Airlines Inc.                     20436.0             15498\n",
       "GoJet Airlines, LLC d/b/a United Express   20500.0              8539\n",
       "Hawaiian Airlines Inc.                     19690.0              9719\n",
       "Horizon Air                                19687.0             11692\n",
       "JetBlue Airways                            20409.0             37122\n",
       "Mesa Airlines Inc.                         20378.0             22018\n",
       "Peninsula Airways Inc.                     20225.0               124\n",
       "Republic Airlines                          20452.0             29806\n",
       "SkyWest Airlines Inc.                      20304.0             77422\n",
       "Southwest Airlines Co.                     19393.0            162329\n",
       "Spirit Air Lines                           20416.0             22217\n",
       "Trans States Airlines                      20237.0              8324\n",
       "United Air Lines Inc.                      19977.0             74823\n",
       "Virgin America                             21171.0              1173\n",
       "dtype: int64"
      ]
     },
     "execution_count": 14,
     "metadata": {},
     "output_type": "execute_result"
    }
   ],
   "source": [
    "train[['Airline','Carrier_ID(DOT)']].value_counts().sort_index()"
   ]
  },
  {
   "cell_type": "code",
   "execution_count": 15,
   "id": "9ebe5aec-067a-407c-81f8-43a6079e7d45",
   "metadata": {
    "tags": []
   },
   "outputs": [
    {
     "data": {
      "text/plain": [
       "108997"
      ]
     },
     "execution_count": 15,
     "metadata": {},
     "output_type": "execute_result"
    }
   ],
   "source": [
    "train['Carrier_ID(DOT)'].isna().sum()"
   ]
  },
  {
   "cell_type": "code",
   "execution_count": 16,
   "id": "ecc3ed30-09ad-4579-aaf7-ffe6d442c75f",
   "metadata": {
    "tags": []
   },
   "outputs": [
    {
     "data": {
      "text/plain": [
       "(11883, 11543)"
      ]
     },
     "execution_count": 16,
     "metadata": {},
     "output_type": "execute_result"
    }
   ],
   "source": [
    "temp = train[['Carrier_ID(DOT)', 'Airline']]\n",
    "temp = temp.dropna(axis=0)\n",
    "temp = temp.drop_duplicates()   # Carrier_ID(DOT)' ,'Airline' 두개가 쌍으로 모두 동일한 경우만 삭제\n",
    "# print(temp)\n",
    "\n",
    "cntdf = temp.groupby('Carrier_ID(DOT)').count()  #   Carrier_ID(DOT) 1개인데, Airline가 여러개인경우가 있다\n",
    "cntdf[cntdf['Airline'] == 1]\n",
    "tail_one = cntdf[cntdf['Airline'] == 1].index\n",
    "temp = temp.set_index('Carrier_ID(DOT)')\n",
    "temp = temp.loc[tail_one]\n",
    "temp = temp.reset_index()\n",
    "tail_dic = dict(temp.values)\n",
    "# print(tail_dic)\n",
    "\n",
    "train['Airline'] = train.apply(lambda x: tail_dic[x['Carrier_ID(DOT)']] if (pd.isnull(x['Airline'])) and (x['Carrier_ID(DOT)'] in tail_dic.keys()) else x['Airline'],  axis=1)\n",
    "test['Airline'] = test.apply(lambda x: tail_dic[x['Carrier_ID(DOT)']] if (pd.isnull(x['Airline'])) and (x['Carrier_ID(DOT)'] in tail_dic.keys()) else x['Airline'],  axis=1)\n",
    "train[train['Airline'].isna()].shape[0], test[test['Airline'].isna()].shape[0]"
   ]
  },
  {
   "cell_type": "markdown",
   "id": "4b7db5b1-7ec1-41df-9d09-f71180363b4c",
   "metadata": {},
   "source": [
    "### 'Tail_Number' --> 'Airline'"
   ]
  },
  {
   "cell_type": "code",
   "execution_count": 17,
   "id": "c0c697b7-b72c-4c31-9296-0ecb3fc912f9",
   "metadata": {
    "tags": []
   },
   "outputs": [
    {
     "data": {
      "text/plain": [
       "6430"
      ]
     },
     "execution_count": 17,
     "metadata": {},
     "output_type": "execute_result"
    }
   ],
   "source": [
    "train['Tail_Number'].nunique()"
   ]
  },
  {
   "cell_type": "code",
   "execution_count": 18,
   "id": "7d537e9e-12f8-4778-8bfc-01c89b2b63a2",
   "metadata": {
    "tags": []
   },
   "outputs": [
    {
     "data": {
      "text/plain": [
       "(2, 56)"
      ]
     },
     "execution_count": 18,
     "metadata": {},
     "output_type": "execute_result"
    }
   ],
   "source": [
    "temp=train[['Tail_Number','Airline']]\n",
    "temp = temp.dropna(axis=0)\n",
    "tail_num_dic=dict(temp.values)\n",
    "\n",
    "train['Airline'] = train.apply(lambda x: tail_num_dic[x['Tail_Number']] if (pd.isnull(x['Airline'])) and (x['Tail_Number'] in tail_num_dic.keys()) else x['Airline'],  axis=1)\n",
    "test['Airline'] = test.apply(lambda x: tail_num_dic[x['Tail_Number']] if (pd.isnull(x['Airline'])) and (x['Tail_Number'] in tail_num_dic.keys()) else x['Airline'],  axis=1)\n",
    "train[train['Airline'].isna()].shape[0], test[test['Airline'].isna()].shape[0]"
   ]
  },
  {
   "cell_type": "code",
   "execution_count": 19,
   "id": "c9ef870b-28af-44c3-b546-193f3037e4b8",
   "metadata": {
    "tags": []
   },
   "outputs": [
    {
     "data": {
      "text/html": [
       "<div>\n",
       "<style scoped>\n",
       "    .dataframe tbody tr th:only-of-type {\n",
       "        vertical-align: middle;\n",
       "    }\n",
       "\n",
       "    .dataframe tbody tr th {\n",
       "        vertical-align: top;\n",
       "    }\n",
       "\n",
       "    .dataframe thead th {\n",
       "        text-align: right;\n",
       "    }\n",
       "</style>\n",
       "<table border=\"1\" class=\"dataframe\">\n",
       "  <thead>\n",
       "    <tr style=\"text-align: right;\">\n",
       "      <th></th>\n",
       "      <th>Month</th>\n",
       "      <th>Day_of_Month</th>\n",
       "      <th>Estimated_Departure_Time</th>\n",
       "      <th>Estimated_Arrival_Time</th>\n",
       "      <th>Cancelled</th>\n",
       "      <th>Diverted</th>\n",
       "      <th>Origin_Airport</th>\n",
       "      <th>Origin_Airport_ID</th>\n",
       "      <th>Origin_State</th>\n",
       "      <th>Destination_Airport</th>\n",
       "      <th>Destination_Airport_ID</th>\n",
       "      <th>Destination_State</th>\n",
       "      <th>Distance</th>\n",
       "      <th>Airline</th>\n",
       "      <th>Carrier_Code(IATA)</th>\n",
       "      <th>Carrier_ID(DOT)</th>\n",
       "      <th>Tail_Number</th>\n",
       "      <th>Delay</th>\n",
       "    </tr>\n",
       "  </thead>\n",
       "  <tbody>\n",
       "    <tr>\n",
       "      <th>382926</th>\n",
       "      <td>10</td>\n",
       "      <td>31</td>\n",
       "      <td>1740.0</td>\n",
       "      <td>NaN</td>\n",
       "      <td>0</td>\n",
       "      <td>0</td>\n",
       "      <td>HNL</td>\n",
       "      <td>12173</td>\n",
       "      <td>Hawaii</td>\n",
       "      <td>ATL</td>\n",
       "      <td>10397</td>\n",
       "      <td>Georgia</td>\n",
       "      <td>4502.0</td>\n",
       "      <td>NaN</td>\n",
       "      <td>DL</td>\n",
       "      <td>NaN</td>\n",
       "      <td>N867DA</td>\n",
       "      <td>NaN</td>\n",
       "    </tr>\n",
       "    <tr>\n",
       "      <th>856500</th>\n",
       "      <td>1</td>\n",
       "      <td>13</td>\n",
       "      <td>2205.0</td>\n",
       "      <td>705.0</td>\n",
       "      <td>0</td>\n",
       "      <td>0</td>\n",
       "      <td>OGG</td>\n",
       "      <td>13830</td>\n",
       "      <td>Hawaii</td>\n",
       "      <td>SLC</td>\n",
       "      <td>14869</td>\n",
       "      <td>NaN</td>\n",
       "      <td>2935.0</td>\n",
       "      <td>NaN</td>\n",
       "      <td>DL</td>\n",
       "      <td>NaN</td>\n",
       "      <td>N153DL</td>\n",
       "      <td>NaN</td>\n",
       "    </tr>\n",
       "  </tbody>\n",
       "</table>\n",
       "</div>"
      ],
      "text/plain": [
       "        Month  Day_of_Month  Estimated_Departure_Time  Estimated_Arrival_Time  \\\n",
       "382926     10            31                    1740.0                     NaN   \n",
       "856500      1            13                    2205.0                   705.0   \n",
       "\n",
       "        Cancelled  Diverted Origin_Airport  Origin_Airport_ID Origin_State  \\\n",
       "382926          0         0            HNL              12173       Hawaii   \n",
       "856500          0         0            OGG              13830       Hawaii   \n",
       "\n",
       "       Destination_Airport  Destination_Airport_ID Destination_State  \\\n",
       "382926                 ATL                   10397           Georgia   \n",
       "856500                 SLC                   14869               NaN   \n",
       "\n",
       "        Distance Airline Carrier_Code(IATA)  Carrier_ID(DOT) Tail_Number Delay  \n",
       "382926    4502.0     NaN                 DL              NaN      N867DA   NaN  \n",
       "856500    2935.0     NaN                 DL              NaN      N153DL   NaN  "
      ]
     },
     "execution_count": 19,
     "metadata": {},
     "output_type": "execute_result"
    }
   ],
   "source": [
    "train[train['Airline'].isna()]"
   ]
  },
  {
   "cell_type": "code",
   "execution_count": 20,
   "id": "4a163918-331f-4dd1-b334-7e49df2a3fe0",
   "metadata": {
    "tags": []
   },
   "outputs": [
    {
     "data": {
      "text/plain": [
       "Delta Air Lines Inc.                        89853\n",
       "SkyWest Airlines Inc.                       31355\n",
       "Endeavor Air Inc.                           23177\n",
       "Republic Airlines                            5938\n",
       "Compass Airlines                             5650\n",
       "GoJet Airlines, LLC d/b/a United Express     4379\n",
       "ExpressJet Airlines Inc.                      912\n",
       "Name: Airline, dtype: int64"
      ]
     },
     "execution_count": 20,
     "metadata": {},
     "output_type": "execute_result"
    }
   ],
   "source": [
    "train['Airline'][train['Carrier_Code(IATA)']=='DL'].value_counts()"
   ]
  },
  {
   "cell_type": "code",
   "execution_count": 21,
   "id": "6fcf6fad-2ed5-403e-952e-bf872f307482",
   "metadata": {
    "tags": []
   },
   "outputs": [],
   "source": [
    "a=train['Airline'][train['Carrier_Code(IATA)']=='DL'].mode()[0]\n",
    "b=test['Airline'][test['Carrier_Code(IATA)']=='DL'].mode()[0]"
   ]
  },
  {
   "cell_type": "code",
   "execution_count": 22,
   "id": "7a89c7fd-181b-438b-a37b-7257c47d4726",
   "metadata": {
    "tags": []
   },
   "outputs": [
    {
     "data": {
      "text/plain": [
       "Delta Air Lines Inc.                        86173\n",
       "SkyWest Airlines Inc.                       28839\n",
       "Endeavor Air Inc.                           21625\n",
       "Republic Airlines                            5932\n",
       "Compass Airlines                             5263\n",
       "GoJet Airlines, LLC d/b/a United Express     4002\n",
       "ExpressJet Airlines Inc.                      847\n",
       "Name: Airline, dtype: int64"
      ]
     },
     "execution_count": 22,
     "metadata": {},
     "output_type": "execute_result"
    }
   ],
   "source": [
    "test['Airline'][test['Carrier_Code(IATA)']=='DL'].value_counts()"
   ]
  },
  {
   "cell_type": "markdown",
   "id": "7d706510-3257-4c00-8b9f-52f1b4fe8cea",
   "metadata": {},
   "source": [
    "### mode()"
   ]
  },
  {
   "cell_type": "code",
   "execution_count": 23,
   "id": "01ec3f6f-584a-4ddc-b876-5086f5d36886",
   "metadata": {
    "tags": []
   },
   "outputs": [],
   "source": [
    "train['Airline']=train['Airline'].fillna(a)\n",
    "test['Airline']=test['Airline'].fillna(b)"
   ]
  },
  {
   "cell_type": "markdown",
   "id": "803ef179-98ab-4390-b1be-67e7b0fcdc81",
   "metadata": {},
   "source": [
    "### 확인"
   ]
  },
  {
   "cell_type": "code",
   "execution_count": 24,
   "id": "87b3bca3-243e-40c6-81ca-dbbb035745ab",
   "metadata": {
    "tags": []
   },
   "outputs": [
    {
     "name": "stdout",
     "output_type": "stream",
     "text": [
      "0\n",
      "0\n"
     ]
    }
   ],
   "source": [
    "print(train['Airline'].isna().sum())\n",
    "print(test['Airline'].isna().sum())"
   ]
  },
  {
   "cell_type": "code",
   "execution_count": 25,
   "id": "0f350e7a-bcda-47f6-8bc9-cba9a761f9fa",
   "metadata": {
    "tags": []
   },
   "outputs": [
    {
     "data": {
      "text/plain": [
       "Southwest Airlines Co.                       204190\n",
       "Delta Air Lines Inc.                         100926\n",
       "SkyWest Airlines Inc.                         97475\n",
       "United Air Lines Inc.                         94375\n",
       "American Airlines Inc.                        92893\n",
       "JetBlue Airways                               46686\n",
       "Republic Airlines                             37560\n",
       "Alaska Airlines Inc.                          32656\n",
       "Envoy Air                                     30860\n",
       "Spirit Air Lines                              28091\n",
       "Comair Inc.                                   27875\n",
       "Mesa Airlines Inc.                            27655\n",
       "Endeavor Air Inc.                             25958\n",
       "ExpressJet Airlines Inc.                      22631\n",
       "Frontier Airlines Inc.                        19599\n",
       "Allegiant Air                                 15402\n",
       "Air Wisconsin Airlines Corp                   15005\n",
       "Horizon Air                                   14689\n",
       "Hawaiian Airlines Inc.                        12233\n",
       "Capital Cargo International                   11177\n",
       "GoJet Airlines, LLC d/b/a United Express      10677\n",
       "Trans States Airlines                         10493\n",
       "Compass Airlines                               9906\n",
       "Commutair Aka Champlain Enterprises, Inc.      8018\n",
       "Virgin America                                 1478\n",
       "Empire Airlines Inc.                           1193\n",
       "Peninsula Airways Inc.                          165\n",
       "Cape Air                                        134\n",
       "Name: Airline, dtype: int64"
      ]
     },
     "execution_count": 25,
     "metadata": {},
     "output_type": "execute_result"
    }
   ],
   "source": [
    "train['Airline'].value_counts()"
   ]
  },
  {
   "cell_type": "markdown",
   "id": "265bd039-3807-43c3-ba78-0a5b2445b5ae",
   "metadata": {},
   "source": [
    "## Carrier_ID(DOT)\n",
    "- Airline과 동일(drop)"
   ]
  },
  {
   "cell_type": "code",
   "execution_count": 26,
   "id": "53418e4e-fe10-474a-b9f6-9e2c9202e58d",
   "metadata": {
    "tags": []
   },
   "outputs": [
    {
     "name": "stdout",
     "output_type": "stream",
     "text": [
      "Estimated_Departure_Time    109019\n",
      "Estimated_Arrival_Time      109040\n",
      "Origin_State                109015\n",
      "Destination_State           109079\n",
      "Carrier_Code(IATA)          108990\n",
      "Carrier_ID(DOT)             108997\n",
      "Delay                       744999\n",
      "dtype: int64\n",
      "\n",
      "Estimated_Departure_Time    108984\n",
      "Estimated_Arrival_Time      109048\n",
      "Origin_State                106505\n",
      "Destination_State           106523\n",
      "Carrier_Code(IATA)          108993\n",
      "Carrier_ID(DOT)             109006\n",
      "dtype: int64\n"
     ]
    }
   ],
   "source": [
    "print(train.isna().sum()[train.isna().sum()>0])\n",
    "print()\n",
    "print(test.isna().sum()[test.isna().sum()>0])"
   ]
  },
  {
   "cell_type": "code",
   "execution_count": 27,
   "id": "691397f4-3175-4662-94be-00303579b291",
   "metadata": {
    "tags": []
   },
   "outputs": [
    {
     "data": {
      "text/plain": [
       "19393.0    182025\n",
       "19790.0     89958\n",
       "20304.0     86902\n",
       "19977.0     83984\n",
       "19805.0     82860\n",
       "20409.0     41615\n",
       "20452.0     33351\n",
       "19930.0     29085\n",
       "20398.0     27474\n",
       "20416.0     24983\n",
       "20397.0     24838\n",
       "20378.0     24699\n",
       "20363.0     23113\n",
       "20366.0     20197\n",
       "20436.0     17440\n",
       "20368.0     13739\n",
       "20046.0     13319\n",
       "19687.0     13107\n",
       "19690.0     10921\n",
       "20427.0      9962\n",
       "20500.0      9532\n",
       "20237.0      9321\n",
       "21167.0      8813\n",
       "20445.0      7124\n",
       "21171.0      1324\n",
       "20263.0      1052\n",
       "20225.0       142\n",
       "20253.0       123\n",
       "Name: Carrier_ID(DOT), dtype: int64"
      ]
     },
     "execution_count": 27,
     "metadata": {},
     "output_type": "execute_result"
    }
   ],
   "source": [
    "train['Carrier_ID(DOT)'].value_counts()"
   ]
  },
  {
   "cell_type": "markdown",
   "id": "0f3ba89f-371d-44d6-b9a4-13f840b4c112",
   "metadata": {},
   "source": [
    "## Origin_State / Destination_State"
   ]
  },
  {
   "cell_type": "code",
   "execution_count": 28,
   "id": "b9601016-61b6-4f11-8e47-8bde50c0b77b",
   "metadata": {
    "tags": []
   },
   "outputs": [
    {
     "data": {
      "text/plain": [
       "Origin_Airport            0\n",
       "Origin_Airport_ID         0\n",
       "Origin_State         109015\n",
       "dtype: int64"
      ]
     },
     "execution_count": 28,
     "metadata": {},
     "output_type": "execute_result"
    }
   ],
   "source": [
    "train[['Origin_Airport','Origin_Airport_ID','Origin_State']].isna().sum()"
   ]
  },
  {
   "cell_type": "code",
   "execution_count": 29,
   "id": "e13aa644-472a-4944-bc03-e993047fd4cf",
   "metadata": {
    "tags": []
   },
   "outputs": [
    {
     "data": {
      "text/plain": [
       "(374, 374)"
      ]
     },
     "execution_count": 29,
     "metadata": {},
     "output_type": "execute_result"
    }
   ],
   "source": [
    "train['Origin_Airport'].nunique(), train['Origin_Airport_ID'].nunique()"
   ]
  },
  {
   "cell_type": "code",
   "execution_count": 30,
   "id": "78466544-993b-479b-9dfb-f0809a0d5499",
   "metadata": {
    "tags": []
   },
   "outputs": [
    {
     "data": {
      "text/plain": [
       "array(['Oklahoma', 'Illinois', 'North Carolina', 'California', nan,\n",
       "       'New Jersey', 'Arkansas', 'Virginia', 'Pennsylvania', 'Ohio',\n",
       "       'Texas', 'Arizona', 'Connecticut', 'Maryland', 'New York',\n",
       "       'Florida', 'Washington', 'Utah', 'New Mexico', 'Colorado',\n",
       "       'Oregon', 'Georgia', 'Missouri', 'Tennessee', 'Alaska',\n",
       "       'Minnesota', 'Maine', 'Nebraska', 'Hawaii', 'Nevada', 'Alabama',\n",
       "       'Montana', 'North Dakota', 'Michigan', 'Wyoming', 'South Carolina',\n",
       "       'Indiana', 'Louisiana', 'Massachusetts', 'Kentucky', 'Wisconsin',\n",
       "       'Puerto Rico', 'West Virginia', 'Mississippi', 'Iowa', 'Vermont',\n",
       "       'Idaho', 'New Hampshire', 'U.S. Virgin Islands', 'Kansas',\n",
       "       'South Dakota', 'Rhode Island',\n",
       "       'U.S. Pacific Trust Territories and Possessions'], dtype=object)"
      ]
     },
     "execution_count": 30,
     "metadata": {},
     "output_type": "execute_result"
    }
   ],
   "source": [
    "train['Origin_State'].unique()"
   ]
  },
  {
   "cell_type": "markdown",
   "id": "976ced51-435c-4dbf-9370-6ba418f06e84",
   "metadata": {},
   "source": [
    "### Origin_Airport_ID --> Origin_State"
   ]
  },
  {
   "cell_type": "code",
   "execution_count": 31,
   "id": "8081b9e5-fd78-4e2d-a3de-c1247e5e4a02",
   "metadata": {
    "tags": []
   },
   "outputs": [
    {
     "data": {
      "text/plain": [
       "Origin_State  Origin_Airport_ID\n",
       "Alabama       10562                   5\n",
       "              10599                2153\n",
       "              11308                 136\n",
       "              12217                1074\n",
       "              13277                 415\n",
       "                                   ... \n",
       "Wyoming       11233                  28\n",
       "              11865                  95\n",
       "              12441                 565\n",
       "              12888                  79\n",
       "              14543                  98\n",
       "Length: 374, dtype: int64"
      ]
     },
     "execution_count": 31,
     "metadata": {},
     "output_type": "execute_result"
    }
   ],
   "source": [
    "train[['Origin_State','Origin_Airport_ID']].value_counts().sort_index()"
   ]
  },
  {
   "cell_type": "code",
   "execution_count": 32,
   "id": "0551b6b3-d574-4d26-ba0a-7ad43c436f0f",
   "metadata": {},
   "outputs": [
    {
     "data": {
      "text/html": [
       "<div>\n",
       "<style scoped>\n",
       "    .dataframe tbody tr th:only-of-type {\n",
       "        vertical-align: middle;\n",
       "    }\n",
       "\n",
       "    .dataframe tbody tr th {\n",
       "        vertical-align: top;\n",
       "    }\n",
       "\n",
       "    .dataframe thead th {\n",
       "        text-align: right;\n",
       "    }\n",
       "</style>\n",
       "<table border=\"1\" class=\"dataframe\">\n",
       "  <thead>\n",
       "    <tr style=\"text-align: right;\">\n",
       "      <th></th>\n",
       "      <th>Month</th>\n",
       "      <th>Day_of_Month</th>\n",
       "      <th>Estimated_Departure_Time</th>\n",
       "      <th>Estimated_Arrival_Time</th>\n",
       "      <th>Cancelled</th>\n",
       "      <th>Diverted</th>\n",
       "      <th>Origin_Airport</th>\n",
       "      <th>Origin_Airport_ID</th>\n",
       "      <th>Origin_State</th>\n",
       "      <th>Destination_Airport</th>\n",
       "      <th>Destination_Airport_ID</th>\n",
       "      <th>Destination_State</th>\n",
       "      <th>Distance</th>\n",
       "      <th>Airline</th>\n",
       "      <th>Carrier_Code(IATA)</th>\n",
       "      <th>Carrier_ID(DOT)</th>\n",
       "      <th>Tail_Number</th>\n",
       "      <th>Delay</th>\n",
       "    </tr>\n",
       "  </thead>\n",
       "  <tbody>\n",
       "    <tr>\n",
       "      <th>5</th>\n",
       "      <td>4</td>\n",
       "      <td>13</td>\n",
       "      <td>1545.0</td>\n",
       "      <td>NaN</td>\n",
       "      <td>0</td>\n",
       "      <td>0</td>\n",
       "      <td>EWR</td>\n",
       "      <td>11618</td>\n",
       "      <td>NaN</td>\n",
       "      <td>DCA</td>\n",
       "      <td>11278</td>\n",
       "      <td>Virginia</td>\n",
       "      <td>199.0</td>\n",
       "      <td>Republic Airlines</td>\n",
       "      <td>UA</td>\n",
       "      <td>20452.0</td>\n",
       "      <td>N657RW</td>\n",
       "      <td>Not_Delayed</td>\n",
       "    </tr>\n",
       "    <tr>\n",
       "      <th>8</th>\n",
       "      <td>6</td>\n",
       "      <td>13</td>\n",
       "      <td>1420.0</td>\n",
       "      <td>1550.0</td>\n",
       "      <td>0</td>\n",
       "      <td>0</td>\n",
       "      <td>BWI</td>\n",
       "      <td>10821</td>\n",
       "      <td>NaN</td>\n",
       "      <td>CLT</td>\n",
       "      <td>11057</td>\n",
       "      <td>North Carolina</td>\n",
       "      <td>361.0</td>\n",
       "      <td>Southwest Airlines Co.</td>\n",
       "      <td>WN</td>\n",
       "      <td>19393.0</td>\n",
       "      <td>N765SW</td>\n",
       "      <td>Not_Delayed</td>\n",
       "    </tr>\n",
       "    <tr>\n",
       "      <th>18</th>\n",
       "      <td>8</td>\n",
       "      <td>11</td>\n",
       "      <td>1215.0</td>\n",
       "      <td>1258.0</td>\n",
       "      <td>0</td>\n",
       "      <td>0</td>\n",
       "      <td>CRW</td>\n",
       "      <td>11146</td>\n",
       "      <td>NaN</td>\n",
       "      <td>ORD</td>\n",
       "      <td>13930</td>\n",
       "      <td>NaN</td>\n",
       "      <td>416.0</td>\n",
       "      <td>Air Wisconsin Airlines Corp</td>\n",
       "      <td>NaN</td>\n",
       "      <td>20046.0</td>\n",
       "      <td>N440AW</td>\n",
       "      <td>NaN</td>\n",
       "    </tr>\n",
       "  </tbody>\n",
       "</table>\n",
       "</div>"
      ],
      "text/plain": [
       "    Month  Day_of_Month  Estimated_Departure_Time  Estimated_Arrival_Time  \\\n",
       "5       4            13                    1545.0                     NaN   \n",
       "8       6            13                    1420.0                  1550.0   \n",
       "18      8            11                    1215.0                  1258.0   \n",
       "\n",
       "    Cancelled  Diverted Origin_Airport  Origin_Airport_ID Origin_State  \\\n",
       "5           0         0            EWR              11618          NaN   \n",
       "8           0         0            BWI              10821          NaN   \n",
       "18          0         0            CRW              11146          NaN   \n",
       "\n",
       "   Destination_Airport  Destination_Airport_ID Destination_State  Distance  \\\n",
       "5                  DCA                   11278          Virginia     199.0   \n",
       "8                  CLT                   11057    North Carolina     361.0   \n",
       "18                 ORD                   13930               NaN     416.0   \n",
       "\n",
       "                        Airline Carrier_Code(IATA)  Carrier_ID(DOT)  \\\n",
       "5             Republic Airlines                 UA          20452.0   \n",
       "8        Southwest Airlines Co.                 WN          19393.0   \n",
       "18  Air Wisconsin Airlines Corp                NaN          20046.0   \n",
       "\n",
       "   Tail_Number        Delay  \n",
       "5       N657RW  Not_Delayed  \n",
       "8       N765SW  Not_Delayed  \n",
       "18      N440AW          NaN  "
      ]
     },
     "execution_count": 32,
     "metadata": {},
     "output_type": "execute_result"
    }
   ],
   "source": [
    "train[train['Origin_State'].isna()].head(3)"
   ]
  },
  {
   "cell_type": "code",
   "execution_count": 33,
   "id": "5fbe8462-5bfa-474e-9e24-43dde9a35ab6",
   "metadata": {},
   "outputs": [
    {
     "data": {
      "text/plain": [
       "8              NaN\n",
       "20        Maryland\n",
       "69        Maryland\n",
       "131       Maryland\n",
       "133       Maryland\n",
       "            ...   \n",
       "999698         NaN\n",
       "999765    Maryland\n",
       "999794    Maryland\n",
       "999827    Maryland\n",
       "999855    Maryland\n",
       "Name: Origin_State, Length: 15218, dtype: object"
      ]
     },
     "execution_count": 33,
     "metadata": {},
     "output_type": "execute_result"
    }
   ],
   "source": [
    "train['Origin_State'][train['Origin_Airport_ID']==10821]"
   ]
  },
  {
   "cell_type": "code",
   "execution_count": 34,
   "id": "1b094793-6dc2-4f00-9b58-500a2ecce047",
   "metadata": {},
   "outputs": [
    {
     "data": {
      "text/plain": [
       "(0, 28)"
      ]
     },
     "execution_count": 34,
     "metadata": {},
     "output_type": "execute_result"
    }
   ],
   "source": [
    "temp=train[['Origin_Airport_ID','Origin_State']]\n",
    "temp = temp.dropna(axis=0)\n",
    "temp = temp.drop_duplicates()\n",
    "origin_dic=dict(temp.values)\n",
    "\n",
    "train['Origin_State'] = train.apply(lambda x: origin_dic[x['Origin_Airport_ID']] if (pd.isnull(x['Origin_State'])) and (x['Origin_Airport_ID'] in origin_dic.keys()) else x['Origin_State'],  axis=1)\n",
    "test['Origin_State'] = test.apply(lambda x: origin_dic[x['Origin_Airport_ID']] if (pd.isnull(x['Origin_State'])) and (x['Origin_Airport_ID'] in origin_dic.keys()) else x['Origin_State'],  axis=1)\n",
    "train[train['Origin_State'].isna()].shape[0], test[test['Origin_State'].isna()].shape[0]"
   ]
  },
  {
   "cell_type": "markdown",
   "id": "f9e5f26f-c281-4385-9639-653e6fda9e9b",
   "metadata": {},
   "source": [
    "### [test]Origin_State\n",
    "- Origin_State / Destination_State --> drop"
   ]
  },
  {
   "cell_type": "code",
   "execution_count": 35,
   "id": "b514357a-b6f2-4d77-b2b5-c64d93a1ffae",
   "metadata": {},
   "outputs": [
    {
     "data": {
      "text/plain": [
       "59620     NaN\n",
       "272704    NaN\n",
       "290941    NaN\n",
       "348833    NaN\n",
       "418390    NaN\n",
       "475102    NaN\n",
       "583499    NaN\n",
       "865492    NaN\n",
       "866469    NaN\n",
       "935232    NaN\n",
       "986455    NaN\n",
       "Name: Destination_State, dtype: object"
      ]
     },
     "execution_count": 35,
     "metadata": {},
     "output_type": "execute_result"
    }
   ],
   "source": [
    "test['Destination_State'][test['Destination_Airport']=='RIW']"
   ]
  },
  {
   "cell_type": "code",
   "execution_count": 36,
   "id": "f5d5a6a5-5414-4ee0-bdff-eb89ad6f30ba",
   "metadata": {},
   "outputs": [
    {
     "data": {
      "text/plain": [
       "array([14534, 14812, 11283, 14534, 14812, 14534, 14534, 11283, 14812,\n",
       "       14812, 14812, 14534, 14534, 11288, 14812, 11283, 11283, 11288,\n",
       "       14534, 14534, 14812, 14534, 14534, 11283, 14812, 14812, 14812,\n",
       "       14812], dtype=int64)"
      ]
     },
     "execution_count": 36,
     "metadata": {},
     "output_type": "execute_result"
    }
   ],
   "source": [
    "test['Origin_Airport_ID'][test['Origin_State'].isna()].values"
   ]
  },
  {
   "cell_type": "code",
   "execution_count": 37,
   "id": "0f2ba25f-3018-47c6-b052-4153da24b7ec",
   "metadata": {
    "tags": []
   },
   "outputs": [
    {
     "data": {
      "text/plain": [
       "array(['RIW', 'SHR', 'DDC', 'RIW', 'SHR', 'RIW', 'RIW', 'DDC', 'SHR',\n",
       "       'SHR', 'SHR', 'RIW', 'RIW', 'DEC', 'SHR', 'DDC', 'DDC', 'DEC',\n",
       "       'RIW', 'RIW', 'SHR', 'RIW', 'RIW', 'DDC', 'SHR', 'SHR', 'SHR',\n",
       "       'SHR'], dtype=object)"
      ]
     },
     "execution_count": 37,
     "metadata": {},
     "output_type": "execute_result"
    }
   ],
   "source": [
    "test['Origin_Airport'][test['Origin_State'].isna()].values"
   ]
  },
  {
   "cell_type": "code",
   "execution_count": 38,
   "id": "d1b7a493-d46f-474f-9e93-8e62a32ec459",
   "metadata": {
    "tags": []
   },
   "outputs": [
    {
     "data": {
      "text/html": [
       "<div>\n",
       "<style scoped>\n",
       "    .dataframe tbody tr th:only-of-type {\n",
       "        vertical-align: middle;\n",
       "    }\n",
       "\n",
       "    .dataframe tbody tr th {\n",
       "        vertical-align: top;\n",
       "    }\n",
       "\n",
       "    .dataframe thead th {\n",
       "        text-align: right;\n",
       "    }\n",
       "</style>\n",
       "<table border=\"1\" class=\"dataframe\">\n",
       "  <thead>\n",
       "    <tr style=\"text-align: right;\">\n",
       "      <th></th>\n",
       "      <th>Origin_Airport</th>\n",
       "      <th>Origin_Airport_ID</th>\n",
       "      <th>Origin_State</th>\n",
       "      <th>Destination_State</th>\n",
       "    </tr>\n",
       "  </thead>\n",
       "  <tbody>\n",
       "    <tr>\n",
       "      <th>421</th>\n",
       "      <td>MLI</td>\n",
       "      <td>13367</td>\n",
       "      <td>Illinois</td>\n",
       "      <td>Illinois</td>\n",
       "    </tr>\n",
       "    <tr>\n",
       "      <th>1737</th>\n",
       "      <td>MLI</td>\n",
       "      <td>13367</td>\n",
       "      <td>Illinois</td>\n",
       "      <td>Illinois</td>\n",
       "    </tr>\n",
       "    <tr>\n",
       "      <th>2050</th>\n",
       "      <td>MLI</td>\n",
       "      <td>13367</td>\n",
       "      <td>Illinois</td>\n",
       "      <td>Illinois</td>\n",
       "    </tr>\n",
       "    <tr>\n",
       "      <th>4007</th>\n",
       "      <td>ORD</td>\n",
       "      <td>13930</td>\n",
       "      <td>Illinois</td>\n",
       "      <td>Illinois</td>\n",
       "    </tr>\n",
       "    <tr>\n",
       "      <th>5508</th>\n",
       "      <td>MLI</td>\n",
       "      <td>13367</td>\n",
       "      <td>Illinois</td>\n",
       "      <td>Illinois</td>\n",
       "    </tr>\n",
       "  </tbody>\n",
       "</table>\n",
       "</div>"
      ],
      "text/plain": [
       "     Origin_Airport  Origin_Airport_ID Origin_State Destination_State\n",
       "421             MLI              13367     Illinois          Illinois\n",
       "1737            MLI              13367     Illinois          Illinois\n",
       "2050            MLI              13367     Illinois          Illinois\n",
       "4007            ORD              13930     Illinois          Illinois\n",
       "5508            MLI              13367     Illinois          Illinois"
      ]
     },
     "execution_count": 38,
     "metadata": {},
     "output_type": "execute_result"
    }
   ],
   "source": [
    "test[['Origin_Airport','Origin_Airport_ID','Origin_State','Destination_State']][(test['Distance']==139.0)].head()"
   ]
  },
  {
   "cell_type": "code",
   "execution_count": 39,
   "id": "83b21778-7d16-41be-9b51-29d69017d83d",
   "metadata": {
    "tags": []
   },
   "outputs": [
    {
     "data": {
      "text/plain": [
       "Origin_Airport  Origin_State\n",
       "ABE             Pennsylvania     739\n",
       "ABI             Texas            230\n",
       "ABQ             New Mexico      3517\n",
       "ABR             South Dakota      69\n",
       "ABY             Georgia           90\n",
       "                                ... \n",
       "XWA             North Dakota      25\n",
       "YAK             Alaska            78\n",
       "YKM             Washington       154\n",
       "YNG             Ohio               1\n",
       "YUM             Arizona          151\n",
       "Length: 375, dtype: int64"
      ]
     },
     "execution_count": 39,
     "metadata": {},
     "output_type": "execute_result"
    }
   ],
   "source": [
    "test[['Origin_Airport','Origin_State']].value_counts().sort_index()"
   ]
  },
  {
   "cell_type": "code",
   "execution_count": 40,
   "id": "94905f13-73c6-46ae-bf79-697290e45ea9",
   "metadata": {
    "tags": []
   },
   "outputs": [
    {
     "data": {
      "text/html": [
       "<div>\n",
       "<style scoped>\n",
       "    .dataframe tbody tr th:only-of-type {\n",
       "        vertical-align: middle;\n",
       "    }\n",
       "\n",
       "    .dataframe tbody tr th {\n",
       "        vertical-align: top;\n",
       "    }\n",
       "\n",
       "    .dataframe thead th {\n",
       "        text-align: right;\n",
       "    }\n",
       "</style>\n",
       "<table border=\"1\" class=\"dataframe\">\n",
       "  <thead>\n",
       "    <tr style=\"text-align: right;\">\n",
       "      <th></th>\n",
       "      <th>Origin_Airport</th>\n",
       "      <th>Origin_Airport_ID</th>\n",
       "      <th>Origin_State</th>\n",
       "      <th>Distance</th>\n",
       "    </tr>\n",
       "  </thead>\n",
       "  <tbody>\n",
       "    <tr>\n",
       "      <th>0</th>\n",
       "      <td>IAH</td>\n",
       "      <td>12266</td>\n",
       "      <td>Texas</td>\n",
       "      <td>191.0</td>\n",
       "    </tr>\n",
       "    <tr>\n",
       "      <th>1</th>\n",
       "      <td>EWR</td>\n",
       "      <td>11618</td>\n",
       "      <td>New Jersey</td>\n",
       "      <td>746.0</td>\n",
       "    </tr>\n",
       "    <tr>\n",
       "      <th>2</th>\n",
       "      <td>ORD</td>\n",
       "      <td>13930</td>\n",
       "      <td>Illinois</td>\n",
       "      <td>733.0</td>\n",
       "    </tr>\n",
       "  </tbody>\n",
       "</table>\n",
       "</div>"
      ],
      "text/plain": [
       "  Origin_Airport  Origin_Airport_ID Origin_State  Distance\n",
       "0            IAH              12266        Texas     191.0\n",
       "1            EWR              11618   New Jersey     746.0\n",
       "2            ORD              13930     Illinois     733.0"
      ]
     },
     "execution_count": 40,
     "metadata": {},
     "output_type": "execute_result"
    }
   ],
   "source": [
    "temp=test[['Origin_Airport','Origin_Airport_ID','Origin_State','Distance']]\n",
    "temp = temp.drop_duplicates()\n",
    "temp.head(3)"
   ]
  },
  {
   "cell_type": "markdown",
   "id": "8ad3af8b-a908-41d5-bbea-26ac9ca5d493",
   "metadata": {},
   "source": [
    "## Estimated_Departure_Time / Estimated_Arrival_Time "
   ]
  },
  {
   "cell_type": "markdown",
   "id": "134c9d9f-a063-4970-adb6-0c3687aade36",
   "metadata": {},
   "source": [
    "### 파생변수 Distance(km)\n",
    "- Distance는 마일 단위 --> Distance*1.60934= km단위로 변경"
   ]
  },
  {
   "cell_type": "code",
   "execution_count": 41,
   "id": "6fc8c4fa-53b9-44ec-9b47-bd7576142b8b",
   "metadata": {
    "tags": []
   },
   "outputs": [
    {
     "data": {
      "text/html": [
       "<div>\n",
       "<style scoped>\n",
       "    .dataframe tbody tr th:only-of-type {\n",
       "        vertical-align: middle;\n",
       "    }\n",
       "\n",
       "    .dataframe tbody tr th {\n",
       "        vertical-align: top;\n",
       "    }\n",
       "\n",
       "    .dataframe thead th {\n",
       "        text-align: right;\n",
       "    }\n",
       "</style>\n",
       "<table border=\"1\" class=\"dataframe\">\n",
       "  <thead>\n",
       "    <tr style=\"text-align: right;\">\n",
       "      <th></th>\n",
       "      <th>Distance</th>\n",
       "      <th>Distance(km)</th>\n",
       "    </tr>\n",
       "  </thead>\n",
       "  <tbody>\n",
       "    <tr>\n",
       "      <th>0</th>\n",
       "      <td>191.0</td>\n",
       "      <td>307.38394</td>\n",
       "    </tr>\n",
       "    <tr>\n",
       "      <th>1</th>\n",
       "      <td>746.0</td>\n",
       "      <td>1200.56764</td>\n",
       "    </tr>\n",
       "    <tr>\n",
       "      <th>2</th>\n",
       "      <td>733.0</td>\n",
       "      <td>1179.64622</td>\n",
       "    </tr>\n",
       "  </tbody>\n",
       "</table>\n",
       "</div>"
      ],
      "text/plain": [
       "   Distance  Distance(km)\n",
       "0     191.0     307.38394\n",
       "1     746.0    1200.56764\n",
       "2     733.0    1179.64622"
      ]
     },
     "execution_count": 41,
     "metadata": {},
     "output_type": "execute_result"
    }
   ],
   "source": [
    "train['Distance(km)']=train['Distance']*1.60934\n",
    "test['Distance(km)']=test['Distance']*1.60934\n",
    "test[['Distance','Distance(km)']].head(3)"
   ]
  },
  {
   "cell_type": "code",
   "execution_count": 42,
   "id": "c86b0ced-9b8d-4d4e-a7e7-a6f3176870f5",
   "metadata": {
    "tags": []
   },
   "outputs": [
    {
     "data": {
      "text/html": [
       "<div>\n",
       "<style scoped>\n",
       "    .dataframe tbody tr th:only-of-type {\n",
       "        vertical-align: middle;\n",
       "    }\n",
       "\n",
       "    .dataframe tbody tr th {\n",
       "        vertical-align: top;\n",
       "    }\n",
       "\n",
       "    .dataframe thead th {\n",
       "        text-align: right;\n",
       "    }\n",
       "</style>\n",
       "<table border=\"1\" class=\"dataframe\">\n",
       "  <thead>\n",
       "    <tr style=\"text-align: right;\">\n",
       "      <th></th>\n",
       "      <th>Estimated_Departure_Time</th>\n",
       "      <th>Estimated_Arrival_Time</th>\n",
       "      <th>Distance(km)</th>\n",
       "    </tr>\n",
       "  </thead>\n",
       "  <tbody>\n",
       "    <tr>\n",
       "      <th>0</th>\n",
       "      <td>NaN</td>\n",
       "      <td>NaN</td>\n",
       "      <td>674.31346</td>\n",
       "    </tr>\n",
       "    <tr>\n",
       "      <th>25</th>\n",
       "      <td>NaN</td>\n",
       "      <td>2020.0</td>\n",
       "      <td>994.57212</td>\n",
       "    </tr>\n",
       "    <tr>\n",
       "      <th>74</th>\n",
       "      <td>NaN</td>\n",
       "      <td>749.0</td>\n",
       "      <td>949.51060</td>\n",
       "    </tr>\n",
       "    <tr>\n",
       "      <th>100</th>\n",
       "      <td>NaN</td>\n",
       "      <td>1446.0</td>\n",
       "      <td>1488.63950</td>\n",
       "    </tr>\n",
       "    <tr>\n",
       "      <th>102</th>\n",
       "      <td>NaN</td>\n",
       "      <td>2139.0</td>\n",
       "      <td>669.48544</td>\n",
       "    </tr>\n",
       "  </tbody>\n",
       "</table>\n",
       "</div>"
      ],
      "text/plain": [
       "     Estimated_Departure_Time  Estimated_Arrival_Time  Distance(km)\n",
       "0                         NaN                     NaN     674.31346\n",
       "25                        NaN                  2020.0     994.57212\n",
       "74                        NaN                   749.0     949.51060\n",
       "100                       NaN                  1446.0    1488.63950\n",
       "102                       NaN                  2139.0     669.48544"
      ]
     },
     "execution_count": 42,
     "metadata": {},
     "output_type": "execute_result"
    }
   ],
   "source": [
    "train[['Estimated_Departure_Time','Estimated_Arrival_Time','Distance(km)']][(train['Estimated_Departure_Time'].isna())].head()"
   ]
  },
  {
   "cell_type": "code",
   "execution_count": 43,
   "id": "9ff0276b-df3f-491c-a670-1aded458babf",
   "metadata": {
    "tags": []
   },
   "outputs": [
    {
     "data": {
      "text/plain": [
       "(11688, 3)"
      ]
     },
     "execution_count": 43,
     "metadata": {},
     "output_type": "execute_result"
    }
   ],
   "source": [
    "train[['Estimated_Departure_Time','Estimated_Arrival_Time','Distance']][(train['Estimated_Departure_Time'].isna())&(train['Estimated_Arrival_Time'].isna())].shape"
   ]
  },
  {
   "cell_type": "markdown",
   "id": "47025747-a278-4062-8606-e295c6b4e427",
   "metadata": {},
   "source": [
    "### 석영님"
   ]
  },
  {
   "cell_type": "code",
   "execution_count": 44,
   "id": "f1fac540-e421-49f5-a8f5-36ce60d63d88",
   "metadata": {
    "tags": []
   },
   "outputs": [
    {
     "data": {
      "text/plain": [
       "Estimated_Departure_Time    109019\n",
       "Estimated_Arrival_Time      109040\n",
       "Destination_State           109079\n",
       "Carrier_Code(IATA)          108990\n",
       "Carrier_ID(DOT)             108997\n",
       "Delay                       744999\n",
       "dtype: int64"
      ]
     },
     "execution_count": 44,
     "metadata": {},
     "output_type": "execute_result"
    }
   ],
   "source": [
    "train.isna().sum()[train.isna().sum()>0]"
   ]
  },
  {
   "cell_type": "code",
   "execution_count": 45,
   "id": "7c232867-2b7d-47e8-a8a0-d436fa992cbf",
   "metadata": {
    "tags": []
   },
   "outputs": [
    {
     "data": {
      "text/plain": [
       "Estimated_Departure_Time    108984\n",
       "Estimated_Arrival_Time      109048\n",
       "Origin_State                    28\n",
       "Destination_State           106523\n",
       "Carrier_Code(IATA)          108993\n",
       "Carrier_ID(DOT)             109006\n",
       "dtype: int64"
      ]
     },
     "execution_count": 45,
     "metadata": {},
     "output_type": "execute_result"
    }
   ],
   "source": [
    "test.isna().sum()[test.isna().sum()>0]"
   ]
  },
  {
   "cell_type": "code",
   "execution_count": 46,
   "id": "57b3d7a5-f769-4110-9e6b-c1bfd25a878b",
   "metadata": {},
   "outputs": [
    {
     "data": {
      "text/plain": [
       "estimated_departure_time    0\n",
       "estimated_arrival_time      0\n",
       "dtype: int64"
      ]
     },
     "execution_count": 46,
     "metadata": {},
     "output_type": "execute_result"
    }
   ],
   "source": [
    "time_df=pd.read_csv(\"sy_time.csv\")\n",
    "time_df\n",
    "time_df[['estimated_departure_time','estimated_arrival_time']].isna().sum()\n",
    "\n",
    "# train['Estimated_Departure_Time']=time_df['estimated_departure_time']\n",
    "# train['Estimated_Arrival_Time']=time_df['estimated_arrival_time']"
   ]
  },
  {
   "cell_type": "markdown",
   "id": "4f4c533d-aa49-4834-be45-1b28652933b2",
   "metadata": {},
   "source": [
    "#### 결측처리"
   ]
  },
  {
   "cell_type": "markdown",
   "id": "32d51725-75b9-4e09-9d0d-d90989d39f4e",
   "metadata": {},
   "source": [
    "- Distance(km)=(Estimated_Departure_Time - Estimated_Arrival_Time) * 900\n",
    "- Estimated_Departure_Time= ( Distance(km) / 900)+Estimated_Arrival_Time "
   ]
  },
  {
   "cell_type": "code",
   "execution_count": 47,
   "id": "44400f62-97bc-468f-bcbb-973fa600e39a",
   "metadata": {
    "tags": []
   },
   "outputs": [
    {
     "data": {
      "text/plain": [
       "(109040, 109019)"
      ]
     },
     "execution_count": 47,
     "metadata": {},
     "output_type": "execute_result"
    }
   ],
   "source": [
    "train['Estimated_Arrival_Time'].isna().sum(),train['Estimated_Departure_Time'].isna().sum()"
   ]
  },
  {
   "cell_type": "code",
   "execution_count": 48,
   "id": "bb9d8b41-6355-4509-befc-31c5fa4e3107",
   "metadata": {
    "tags": []
   },
   "outputs": [],
   "source": [
    "dt_idx=train[train['Estimated_Departure_Time'].isna()].index.values\n",
    "dt_te_idx=test[test['Estimated_Departure_Time'].isna()].index.values\n",
    "\n",
    "at_idx=train[train['Estimated_Arrival_Time'].isna()].index.values\n",
    "at_te_idx=test[test['Estimated_Arrival_Time'].isna()].index.values"
   ]
  },
  {
   "cell_type": "code",
   "execution_count": 49,
   "id": "7a9d1bf7-4c3f-424e-8788-5ee7f8ef156b",
   "metadata": {
    "tags": []
   },
   "outputs": [
    {
     "data": {
      "text/plain": [
       "(11688, 11928)"
      ]
     },
     "execution_count": 49,
     "metadata": {},
     "output_type": "execute_result"
    }
   ],
   "source": [
    "train['Estimated_Departure_Time'].loc[dt_idx]=(train['Distance(km)']/900)+train['Estimated_Arrival_Time']\n",
    "test['Estimated_Departure_Time'].loc[dt_te_idx]=(test['Distance(km)']/900)+test['Estimated_Arrival_Time']\n",
    "train['Estimated_Departure_Time'].isna().sum(),test['Estimated_Departure_Time'].isna().sum()"
   ]
  },
  {
   "cell_type": "markdown",
   "id": "5b59115d-0ccb-4538-9401-6b6e50ecbb87",
   "metadata": {},
   "source": [
    "- Distance(km)=(Estimated_Departure_Time - Estimated_Arrival_Time) * 900\n",
    "- Estimated_Arrival_Time = (900/Distance(km))+Estimated_Departure_Time"
   ]
  },
  {
   "cell_type": "code",
   "execution_count": 50,
   "id": "00b6a899-f83f-4967-bf3c-5915f304ac14",
   "metadata": {
    "tags": []
   },
   "outputs": [
    {
     "data": {
      "text/plain": [
       "(11688, 11928)"
      ]
     },
     "execution_count": 50,
     "metadata": {},
     "output_type": "execute_result"
    }
   ],
   "source": [
    "train['Estimated_Arrival_Time'].loc[at_idx]=(900/train['Distance(km)'])+train['Estimated_Departure_Time']\n",
    "test['Estimated_Arrival_Time'].loc[at_te_idx]=(900/test['Distance(km)'])+test['Estimated_Departure_Time']\n",
    "train['Estimated_Arrival_Time'].isna().sum(),test['Estimated_Arrival_Time'].isna().sum()"
   ]
  },
  {
   "cell_type": "markdown",
   "id": "ca158d44-2f3d-4bf8-b4b5-199e3ed96f6e",
   "metadata": {},
   "source": [
    "- 둘다 결측인것 처리"
   ]
  },
  {
   "cell_type": "code",
   "execution_count": 51,
   "id": "57a07a12-3f29-4bdd-b6c5-13e66dcb0abd",
   "metadata": {
    "tags": []
   },
   "outputs": [],
   "source": [
    "idx=train[(train['Estimated_Arrival_Time'].isna())&(train['Estimated_Departure_Time'].isna())].index.values\n",
    "idx2=test[(test['Estimated_Arrival_Time'].isna())&(test['Estimated_Departure_Time'].isna())].index.values"
   ]
  },
  {
   "cell_type": "code",
   "execution_count": 52,
   "id": "2a5d7c49-3eda-4f29-a524-25882fba8994",
   "metadata": {
    "tags": []
   },
   "outputs": [],
   "source": [
    "train['Estimated_Arrival_Time'].loc[idx]=time_df['estimated_arrival_time'].loc[idx]\n",
    "test['Estimated_Arrival_Time'].loc[idx2]=time_df['estimated_arrival_time'].loc[idx2]\n",
    "\n",
    "train['Estimated_Departure_Time'].loc[idx]=time_df['estimated_departure_time'].loc[idx]\n",
    "test['Estimated_Departure_Time'].loc[idx2]=time_df['estimated_departure_time'].loc[idx2]"
   ]
  },
  {
   "cell_type": "code",
   "execution_count": 53,
   "id": "7f197e32-71bc-4206-bf61-bbfaf25af1fd",
   "metadata": {
    "tags": []
   },
   "outputs": [
    {
     "data": {
      "text/plain": [
       "(0, 0)"
      ]
     },
     "execution_count": 53,
     "metadata": {},
     "output_type": "execute_result"
    }
   ],
   "source": [
    "train['Estimated_Arrival_Time'].isna().sum(),test['Estimated_Arrival_Time'].isna().sum()"
   ]
  },
  {
   "cell_type": "code",
   "execution_count": 54,
   "id": "0403852e-d945-4ca1-8459-09a55de8e1b8",
   "metadata": {},
   "outputs": [
    {
     "data": {
      "text/plain": [
       "(0, 0)"
      ]
     },
     "execution_count": 54,
     "metadata": {},
     "output_type": "execute_result"
    }
   ],
   "source": [
    "train['Estimated_Departure_Time'].isna().sum(),test['Estimated_Departure_Time'].isna().sum()"
   ]
  },
  {
   "cell_type": "markdown",
   "id": "66a8e935-a9c6-479a-82f1-11dd4140e729",
   "metadata": {},
   "source": [
    "### 거리= 속력* 시간"
   ]
  },
  {
   "cell_type": "code",
   "execution_count": 55,
   "id": "0f518289-aa03-468d-b649-f3047f225790",
   "metadata": {},
   "outputs": [
    {
     "data": {
      "text/html": [
       "<div>\n",
       "<style scoped>\n",
       "    .dataframe tbody tr th:only-of-type {\n",
       "        vertical-align: middle;\n",
       "    }\n",
       "\n",
       "    .dataframe tbody tr th {\n",
       "        vertical-align: top;\n",
       "    }\n",
       "\n",
       "    .dataframe thead th {\n",
       "        text-align: right;\n",
       "    }\n",
       "</style>\n",
       "<table border=\"1\" class=\"dataframe\">\n",
       "  <thead>\n",
       "    <tr style=\"text-align: right;\">\n",
       "      <th></th>\n",
       "      <th>Estimated_Departure_Time</th>\n",
       "      <th>Estimated_Arrival_Time</th>\n",
       "      <th>Distance</th>\n",
       "    </tr>\n",
       "  </thead>\n",
       "  <tbody>\n",
       "    <tr>\n",
       "      <th>0</th>\n",
       "      <td>1418.895</td>\n",
       "      <td>1560.15</td>\n",
       "      <td>419.0</td>\n",
       "    </tr>\n",
       "    <tr>\n",
       "      <th>1</th>\n",
       "      <td>740.000</td>\n",
       "      <td>1024.00</td>\n",
       "      <td>1250.0</td>\n",
       "    </tr>\n",
       "    <tr>\n",
       "      <th>2</th>\n",
       "      <td>1610.000</td>\n",
       "      <td>1805.00</td>\n",
       "      <td>544.0</td>\n",
       "    </tr>\n",
       "    <tr>\n",
       "      <th>3</th>\n",
       "      <td>905.000</td>\n",
       "      <td>1735.00</td>\n",
       "      <td>2454.0</td>\n",
       "    </tr>\n",
       "    <tr>\n",
       "      <th>4</th>\n",
       "      <td>900.000</td>\n",
       "      <td>1019.00</td>\n",
       "      <td>250.0</td>\n",
       "    </tr>\n",
       "  </tbody>\n",
       "</table>\n",
       "</div>"
      ],
      "text/plain": [
       "   Estimated_Departure_Time  Estimated_Arrival_Time  Distance\n",
       "0                  1418.895                 1560.15     419.0\n",
       "1                   740.000                 1024.00    1250.0\n",
       "2                  1610.000                 1805.00     544.0\n",
       "3                   905.000                 1735.00    2454.0\n",
       "4                   900.000                 1019.00     250.0"
      ]
     },
     "execution_count": 55,
     "metadata": {},
     "output_type": "execute_result"
    }
   ],
   "source": [
    "train[['Estimated_Departure_Time','Estimated_Arrival_Time','Distance']][(train['Estimated_Departure_Time'].notna())&(train['Estimated_Arrival_Time'].notna())].head()"
   ]
  },
  {
   "cell_type": "markdown",
   "id": "f9eb0c94-ec3f-48a2-ab12-7cab5a13a81b",
   "metadata": {},
   "source": [
    "#### 파생변수 Estimated_Departure_Time_hour/min   &   Estimated_Arrival_Time_hour/min\n"
   ]
  },
  {
   "cell_type": "code",
   "execution_count": 56,
   "id": "b8353e16-0ac2-463a-bcd2-79da88c401f0",
   "metadata": {
    "tags": []
   },
   "outputs": [],
   "source": [
    "train['Estimated_Arrival_Time']=np.where(train['Estimated_Departure_Time']>train['Estimated_Arrival_Time'],train['Estimated_Arrival_Time']+2400,train['Estimated_Arrival_Time'])\n",
    "test['Estimated_Arrival_Time']=np.where(test['Estimated_Departure_Time']>test['Estimated_Arrival_Time'],test['Estimated_Arrival_Time']+2400,test['Estimated_Arrival_Time'])"
   ]
  },
  {
   "cell_type": "code",
   "execution_count": 57,
   "id": "4f48d88b-1f40-44d5-828d-d62ba2f11bd9",
   "metadata": {
    "tags": []
   },
   "outputs": [],
   "source": [
    "train['Estimated_Departure_Time_hour']=train['Estimated_Departure_Time']//100\n",
    "train['Estimated_Departure_Time_min']=train['Estimated_Departure_Time']%100\n",
    "\n",
    "train['Estimated_Arrival_Time_hour']=train['Estimated_Arrival_Time']//100\n",
    "train['Estimated_Arrival_Time_min']=train['Estimated_Arrival_Time']%100\n",
    "\n",
    "\n",
    "test['Estimated_Departure_Time_hour']=test['Estimated_Departure_Time']//100\n",
    "test['Estimated_Departure_Time_min']=test['Estimated_Departure_Time']%100\n",
    "\n",
    "test['Estimated_Arrival_Time_hour']=test['Estimated_Arrival_Time']//100\n",
    "test['Estimated_Arrival_Time_min']=test['Estimated_Arrival_Time']%100"
   ]
  },
  {
   "cell_type": "code",
   "execution_count": 58,
   "id": "7bbb365b-c046-48e5-882e-a8f414a222f6",
   "metadata": {
    "tags": []
   },
   "outputs": [
    {
     "data": {
      "text/html": [
       "<div>\n",
       "<style scoped>\n",
       "    .dataframe tbody tr th:only-of-type {\n",
       "        vertical-align: middle;\n",
       "    }\n",
       "\n",
       "    .dataframe tbody tr th {\n",
       "        vertical-align: top;\n",
       "    }\n",
       "\n",
       "    .dataframe thead th {\n",
       "        text-align: right;\n",
       "    }\n",
       "</style>\n",
       "<table border=\"1\" class=\"dataframe\">\n",
       "  <thead>\n",
       "    <tr style=\"text-align: right;\">\n",
       "      <th></th>\n",
       "      <th>Estimated_Departure_Time_hour</th>\n",
       "      <th>Estimated_Departure_Time_min</th>\n",
       "      <th>Estimated_Arrival_Time_hour</th>\n",
       "      <th>Estimated_Arrival_Time_min</th>\n",
       "    </tr>\n",
       "  </thead>\n",
       "  <tbody>\n",
       "    <tr>\n",
       "      <th>0</th>\n",
       "      <td>14.0</td>\n",
       "      <td>18.895</td>\n",
       "      <td>15.0</td>\n",
       "      <td>60.15</td>\n",
       "    </tr>\n",
       "    <tr>\n",
       "      <th>1</th>\n",
       "      <td>7.0</td>\n",
       "      <td>40.000</td>\n",
       "      <td>10.0</td>\n",
       "      <td>24.00</td>\n",
       "    </tr>\n",
       "    <tr>\n",
       "      <th>2</th>\n",
       "      <td>16.0</td>\n",
       "      <td>10.000</td>\n",
       "      <td>18.0</td>\n",
       "      <td>5.00</td>\n",
       "    </tr>\n",
       "    <tr>\n",
       "      <th>3</th>\n",
       "      <td>9.0</td>\n",
       "      <td>5.000</td>\n",
       "      <td>17.0</td>\n",
       "      <td>35.00</td>\n",
       "    </tr>\n",
       "    <tr>\n",
       "      <th>4</th>\n",
       "      <td>9.0</td>\n",
       "      <td>0.000</td>\n",
       "      <td>10.0</td>\n",
       "      <td>19.00</td>\n",
       "    </tr>\n",
       "  </tbody>\n",
       "</table>\n",
       "</div>"
      ],
      "text/plain": [
       "   Estimated_Departure_Time_hour  Estimated_Departure_Time_min  \\\n",
       "0                           14.0                        18.895   \n",
       "1                            7.0                        40.000   \n",
       "2                           16.0                        10.000   \n",
       "3                            9.0                         5.000   \n",
       "4                            9.0                         0.000   \n",
       "\n",
       "   Estimated_Arrival_Time_hour  Estimated_Arrival_Time_min  \n",
       "0                         15.0                       60.15  \n",
       "1                         10.0                       24.00  \n",
       "2                         18.0                        5.00  \n",
       "3                         17.0                       35.00  \n",
       "4                         10.0                       19.00  "
      ]
     },
     "execution_count": 58,
     "metadata": {},
     "output_type": "execute_result"
    }
   ],
   "source": [
    "train[['Estimated_Departure_Time_hour','Estimated_Departure_Time_min','Estimated_Arrival_Time_hour','Estimated_Arrival_Time_min']].head()"
   ]
  },
  {
   "cell_type": "markdown",
   "id": "ebed0159-1088-4108-9d76-9c7464cb70e3",
   "metadata": {},
   "source": [
    "#### 파생변수 Duration_of_Time_hour + min = Duration_of_Time \n"
   ]
  },
  {
   "cell_type": "code",
   "execution_count": 59,
   "id": "772435d4-ea5f-472b-927c-8a784110e917",
   "metadata": {
    "tags": []
   },
   "outputs": [],
   "source": [
    "train['Duration_of_Time_hour']=train['Estimated_Arrival_Time_hour']-train['Estimated_Departure_Time_hour']\n",
    "train['Duration_of_Time_min']=train['Estimated_Arrival_Time_min']-train['Estimated_Departure_Time_min']\n",
    "\n",
    "test['Duration_of_Time_hour']=test['Estimated_Arrival_Time_hour']-test['Estimated_Departure_Time_hour']\n",
    "test['Duration_of_Time_min']=test['Estimated_Arrival_Time_min']-test['Estimated_Departure_Time_min']"
   ]
  },
  {
   "cell_type": "code",
   "execution_count": 60,
   "id": "ff9ea5f1-1546-4f13-943c-c5bb6d188f51",
   "metadata": {
    "tags": []
   },
   "outputs": [],
   "source": [
    "train['Duration_of_Time_min']=np.where(train['Duration_of_Time_min']<0,train['Duration_of_Time_min']+60,train['Duration_of_Time_min'])\n",
    "test['Duration_of_Time_min']=np.where(test['Duration_of_Time_min']<0,test['Duration_of_Time_min']+60,test['Duration_of_Time_min'])"
   ]
  },
  {
   "cell_type": "code",
   "execution_count": 61,
   "id": "4f924f8d-a670-4ab4-9394-2d189085f192",
   "metadata": {
    "tags": []
   },
   "outputs": [
    {
     "data": {
      "text/plain": [
       "778      -14.805000\n",
       "3023      -3.142500\n",
       "11339     -5.477167\n",
       "16629     -0.250507\n",
       "18442    -26.997146\n",
       "            ...    \n",
       "963606   -19.102167\n",
       "976102   -33.130000\n",
       "978294    -3.481667\n",
       "995068   -18.328500\n",
       "997788   -23.553333\n",
       "Name: Duration_of_Time_min, Length: 180, dtype: float64"
      ]
     },
     "execution_count": 61,
     "metadata": {},
     "output_type": "execute_result"
    }
   ],
   "source": [
    "test['Duration_of_Time_min'][test['Duration_of_Time_min']<0]"
   ]
  },
  {
   "cell_type": "code",
   "execution_count": 62,
   "id": "a61c2034-5fda-4f9b-9821-6cac1d792f0b",
   "metadata": {
    "tags": []
   },
   "outputs": [],
   "source": [
    "train['Duration_of_Time_min']=train['Duration_of_Time_min']/60\n",
    "test['Duration_of_Time_min']=test['Duration_of_Time_min']/60"
   ]
  },
  {
   "cell_type": "code",
   "execution_count": 63,
   "id": "0b85a1ef-3f80-424f-a87b-cc3223f6ea12",
   "metadata": {
    "tags": []
   },
   "outputs": [],
   "source": [
    "train['Duration_of_Time']=train['Duration_of_Time_min']+train['Duration_of_Time_hour']\n",
    "test['Duration_of_Time']=test['Duration_of_Time_min']+test['Duration_of_Time_hour']"
   ]
  },
  {
   "cell_type": "code",
   "execution_count": 64,
   "id": "3109f379-9479-4719-be83-c7f07b0bdabe",
   "metadata": {
    "tags": []
   },
   "outputs": [
    {
     "name": "stdout",
     "output_type": "stream",
     "text": [
      "Destination_State     109079\n",
      "Carrier_Code(IATA)    108990\n",
      "Carrier_ID(DOT)       108997\n",
      "Delay                 744999\n",
      "dtype: int64\n",
      "\n",
      "Origin_State              28\n",
      "Destination_State     106523\n",
      "Carrier_Code(IATA)    108993\n",
      "Carrier_ID(DOT)       109006\n",
      "dtype: int64\n"
     ]
    }
   ],
   "source": [
    "print(train.isna().sum()[train.isna().sum()>0])\n",
    "print()\n",
    "print(test.isna().sum()[test.isna().sum()>0])"
   ]
  },
  {
   "cell_type": "markdown",
   "id": "27bdbfdb-d7c6-4a34-829f-9e158766a1bf",
   "metadata": {},
   "source": [
    "### Estimated_Departure_Time, Estimated_Arrival_Time /100"
   ]
  },
  {
   "cell_type": "code",
   "execution_count": 65,
   "id": "c04924a4-74e3-49cd-81bb-48881729c58d",
   "metadata": {},
   "outputs": [],
   "source": [
    "train['Estimated_Departure_Time']=train['Estimated_Departure_Time']/100\n",
    "test['Estimated_Departure_Time']=test['Estimated_Departure_Time']/100\n",
    "\n",
    "train['Estimated_Arrival_Time']=train['Estimated_Arrival_Time']/100\n",
    "test['Estimated_Arrival_Time']=test['Estimated_Arrival_Time']/100"
   ]
  },
  {
   "cell_type": "markdown",
   "id": "3600b876-b565-4795-8669-87ffa9bdfc61",
   "metadata": {},
   "source": [
    "# 삭제"
   ]
  },
  {
   "cell_type": "markdown",
   "id": "f7d20db1-1c68-487d-b956-9c3792ed9289",
   "metadata": {},
   "source": [
    "## Diverted  --> drop"
   ]
  },
  {
   "cell_type": "markdown",
   "id": "fba06455-4a77-4084-84ff-b777357b3b5c",
   "metadata": {},
   "source": [
    "- 경유지 변경된 비행기 없음 "
   ]
  },
  {
   "cell_type": "code",
   "execution_count": 66,
   "id": "265ad382-1837-4eca-96b0-63bbf7ca0e71",
   "metadata": {
    "tags": []
   },
   "outputs": [],
   "source": [
    "train=train.drop('Diverted',axis=1)\n",
    "test=test.drop('Diverted',axis=1)"
   ]
  },
  {
   "cell_type": "markdown",
   "id": "149ab6be-c328-4594-a6bc-506a6c7e6ea5",
   "metadata": {},
   "source": [
    "## Cancelled  --> drop\n",
    "- 0 값 밖에 없음"
   ]
  },
  {
   "cell_type": "code",
   "execution_count": 67,
   "id": "9dcf5112-4039-4472-917b-826e952a92b1",
   "metadata": {
    "tags": []
   },
   "outputs": [],
   "source": [
    "train=train.drop('Cancelled',axis=1)\n",
    "test=test.drop('Cancelled',axis=1)"
   ]
  },
  {
   "cell_type": "markdown",
   "id": "c8a15752-5c57-40e3-b6bd-4dcd579d8f29",
   "metadata": {},
   "source": [
    "## Carrier_Code(IATA)  --> drop\n",
    "- Airline과 1:1매칭이기 때문에 필요 없음"
   ]
  },
  {
   "cell_type": "code",
   "execution_count": 68,
   "id": "f053e9d9-3bf2-420e-88f4-c1347e2f0eff",
   "metadata": {},
   "outputs": [],
   "source": [
    "train=train.drop('Carrier_Code(IATA)',axis=1)\n",
    "test=test.drop('Carrier_Code(IATA)',axis=1)"
   ]
  },
  {
   "cell_type": "markdown",
   "id": "ae7849b4-105d-4d8c-969a-35c444beeff7",
   "metadata": {},
   "source": [
    "## Carrier_ID(DOT)  --> drop\n",
    "- Airline과 1:1매칭이기 때문에 필요 없음"
   ]
  },
  {
   "cell_type": "code",
   "execution_count": 69,
   "id": "450927e0-9495-4831-84ec-da496a6858f7",
   "metadata": {},
   "outputs": [],
   "source": [
    "train=train.drop('Carrier_ID(DOT)',axis=1)\n",
    "test=test.drop('Carrier_ID(DOT)',axis=1)"
   ]
  },
  {
   "cell_type": "markdown",
   "id": "7be537e6-61f4-4c0b-93e9-55d303bbe813",
   "metadata": {},
   "source": [
    "## Origin_State / Destination_State   -->  drop\n",
    "- Origin_State / Destination_State에 동일한 결측\n",
    "- Origin_Airport , Origin_Airport_ID, Origin_State --> 1:1:1   => 결측있는 Origin_State 삭제\n",
    "- Destination_Airport , Destination_Airport_ID, Destination_State --> 1:1:1   => 결측있는 Origin_State 삭제"
   ]
  },
  {
   "cell_type": "code",
   "execution_count": 70,
   "id": "5f71a569-9209-49cd-b9ef-fd75a28bef6d",
   "metadata": {},
   "outputs": [],
   "source": [
    "train=train.drop('Origin_State',axis=1)\n",
    "test=test.drop('Origin_State',axis=1)\n",
    "\n",
    "train=train.drop('Destination_State',axis=1)\n",
    "test=test.drop('Destination_State',axis=1)"
   ]
  },
  {
   "cell_type": "code",
   "execution_count": 71,
   "id": "56fee3f0-9a8e-4385-a249-930efbb29af3",
   "metadata": {},
   "outputs": [],
   "source": [
    "train.to_csv('./train_2.csv')\n",
    "test.to_csv('./test_2.csv')"
   ]
  },
  {
   "cell_type": "code",
   "execution_count": 72,
   "id": "674a1c03-371d-4284-bc5b-dc42928d6a52",
   "metadata": {},
   "outputs": [
    {
     "ename": "NameError",
     "evalue": "name 'ᄆᄂᄋᆱᄂᄋᆱᄂᄋᆱᄂᄋᄅ' is not defined",
     "output_type": "error",
     "traceback": [
      "\u001b[1;31m---------------------------------------------------------------------------\u001b[0m",
      "\u001b[1;31mNameError\u001b[0m                                 Traceback (most recent call last)",
      "Cell \u001b[1;32mIn[72], line 1\u001b[0m\n\u001b[1;32m----> 1\u001b[0m \u001b[43mㅁㄴㅇㄻㄴㅇㄻㄴㅇㄻㄴㅇㄹ\u001b[49m\n",
      "\u001b[1;31mNameError\u001b[0m: name 'ᄆᄂᄋᆱᄂᄋᆱᄂᄋᆱᄂᄋᄅ' is not defined"
     ]
    }
   ],
   "source": [
    "ㅁㄴㅇㄻㄴㅇㄻㄴㅇㄻㄴㅇㄹ"
   ]
  },
  {
   "cell_type": "markdown",
   "id": "816cd373-5b3c-4631-bc76-28d0e1f12ac2",
   "metadata": {},
   "source": [
    "## 불필요 파생변수 삭제"
   ]
  },
  {
   "cell_type": "code",
   "execution_count": null,
   "id": "07195135-9d6e-4eae-a09c-f41e59f68b5b",
   "metadata": {},
   "outputs": [],
   "source": [
    "# train=train.drop('Duration_of_Time_hour',axis=1)\n",
    "# test=test.drop('Duration_of_Time_hour',axis=1)\n",
    "\n",
    "# train=train.drop('Duration_of_Time_min',axis=1)\n",
    "# test=test.drop('Duration_of_Time_min',axis=1)\n",
    "\n",
    "# train=train.drop('Distance(km)',axis=1)\n",
    "# test=test.drop('Distance(km)',axis=1)\n",
    "\n",
    "# train=train.drop('Estimated_Departure_Time_min',axis=1)\n",
    "# test=test.drop('Estimated_Departure_Time_min',axis=1)\n",
    "\n",
    "# train=train.drop('Estimated_Departure_Time_hour',axis=1)\n",
    "# test=test.drop('Estimated_Departure_Time_hour',axis=1)\n",
    "\n",
    "# train=train.drop('Estimated_Arrival_Time_min',axis=1)\n",
    "# test=test.drop('Estimated_Arrival_Time_min',axis=1)\n",
    "\n",
    "# train=train.drop('Estimated_Arrival_Time_hour',axis=1)\n",
    "# test=test.drop('Estimated_Arrival_Time_hour',axis=1)"
   ]
  },
  {
   "cell_type": "markdown",
   "id": "7fa1e095-0a83-48ce-a16d-4d6d130be0c2",
   "metadata": {},
   "source": [
    "## 확인 "
   ]
  },
  {
   "cell_type": "code",
   "execution_count": null,
   "id": "bb0aff72-71b6-45bb-a35f-dfdec0e9552d",
   "metadata": {},
   "outputs": [],
   "source": [
    "print(train.columns)\n",
    "print(test.columns)"
   ]
  },
  {
   "cell_type": "code",
   "execution_count": null,
   "id": "050e299a-9657-4a25-b2a4-71252933f0a2",
   "metadata": {
    "tags": []
   },
   "outputs": [],
   "source": [
    "train.shape"
   ]
  },
  {
   "cell_type": "code",
   "execution_count": null,
   "id": "6b7cd656-bfad-4652-934a-349f57944225",
   "metadata": {
    "tags": []
   },
   "outputs": [],
   "source": [
    "train[(train['Delay'].notna())&(train['Delay']=='Not_Delayed')].shape"
   ]
  },
  {
   "cell_type": "code",
   "execution_count": null,
   "id": "32512f1c-2d18-4742-ae13-597bf3fa5c41",
   "metadata": {
    "tags": []
   },
   "outputs": [],
   "source": [
    "# train.to_csv('./train_1.csv')\n",
    "# test.to_csv('./test_1.csv')"
   ]
  },
  {
   "cell_type": "markdown",
   "id": "81186d72-7606-4d6a-8f84-51313251b402",
   "metadata": {
    "tags": []
   },
   "source": [
    "# 변수\n"
   ]
  },
  {
   "cell_type": "code",
   "execution_count": null,
   "id": "8a9ccc29-73c3-478d-bf12-b02efaef414f",
   "metadata": {
    "tags": []
   },
   "outputs": [],
   "source": [
    "train.columns"
   ]
  },
  {
   "cell_type": "code",
   "execution_count": null,
   "id": "52b52603-b10d-4e00-85ee-2eb5fbe8d00d",
   "metadata": {},
   "outputs": [],
   "source": [
    "plt.figure(figsize=(10,7))\n",
    "sns.heatmap(train.corr(), annot=True, fmt=\".2f\", cmap=\"coolwarm\")\n",
    "plt.show()"
   ]
  },
  {
   "cell_type": "markdown",
   "id": "13cdc7c1-53f6-4a9b-baa1-e3b184c5dea0",
   "metadata": {},
   "source": [
    "# 인코딩"
   ]
  },
  {
   "cell_type": "code",
   "execution_count": null,
   "id": "81eb0a8a-f752-42b1-a5c3-1d86c1554929",
   "metadata": {
    "tags": []
   },
   "outputs": [],
   "source": [
    "train.info()"
   ]
  },
  {
   "cell_type": "code",
   "execution_count": null,
   "id": "a0e10e5d-0f34-434d-8776-67f6a77bad32",
   "metadata": {
    "tags": []
   },
   "outputs": [],
   "source": [
    "test.info()"
   ]
  },
  {
   "cell_type": "markdown",
   "id": "fd8cb423-3b4b-4979-8135-7752c8fe9a12",
   "metadata": {},
   "source": [
    "# Target training"
   ]
  },
  {
   "cell_type": "code",
   "execution_count": null,
   "id": "520c1417-7f35-4e33-a2a8-0601de9d2942",
   "metadata": {
    "tags": []
   },
   "outputs": [],
   "source": [
    "train['Delay'][train['Delay'].notna()]"
   ]
  },
  {
   "cell_type": "code",
   "execution_count": null,
   "id": "83dc812c-4eac-4928-a12e-ab59ef1e1bbc",
   "metadata": {
    "tags": []
   },
   "outputs": [],
   "source": [
    "train['Delay']=train['Delay'].replace(['Not_Delayed','Delayed'],[0,1])"
   ]
  },
  {
   "cell_type": "code",
   "execution_count": null,
   "id": "b3858f5f-d82e-4744-a994-d8ee52dc7251",
   "metadata": {
    "tags": []
   },
   "outputs": [],
   "source": [
    "train['Delay'].value_counts()"
   ]
  },
  {
   "cell_type": "code",
   "execution_count": null,
   "id": "8498713f-1536-4eac-b689-5ab8afa961b5",
   "metadata": {
    "tags": []
   },
   "outputs": [],
   "source": [
    "\n",
    "target  = train['Delay']\n",
    "df = train.drop(['Delay'], axis=1)\n",
    "\n",
    "df1   = train[ train['Delay'].notna() ]\n",
    "y_df1 = df1['Delay']\n",
    "X_df1 = df1.drop('Delay', axis=1)\n",
    "\n",
    "rf = LGBMRegressor(random_state=11)  #RandomForestRegressor(random_state=11)\n",
    "X_df1_8, X_df1_2, y_df1_8, y_df1_2 = train_test_split(X_df1, y_df1, test_size=0.2, random_state=11)\n",
    "rf.fit(X_df1_8, y_df1_8)\n",
    "\n",
    "pred = rf.predict(X_df1_2)\n",
    "mse_score = mean_squared_error(y_df1_2, pred)\n",
    "print(\"RMSE : \", np.sqrt(mse_score) )\n",
    "\n",
    "# df0 = df[df['windspeed'] == 0]\n",
    "# y_df0 = df0['windspeed']\n",
    "# X_df0 = df0.drop('windspeed', axis=1)\n",
    "# pred = rf.predict(X_df0)\n",
    "# widx = X_df0.index.values\n",
    "# df.loc[widx, 'windspeed'] = pred\n"
   ]
  },
  {
   "cell_type": "code",
   "execution_count": null,
   "id": "be2457b6-1641-485e-bf2e-e880ac69c3af",
   "metadata": {},
   "outputs": [],
   "source": [
    "# def my_fill_windspeed(df):\n",
    "#     target  = df[['regcount','casual','registered', 'regdate']]\n",
    "#     df = df.drop(['regcount','casual','registered','regdate'], axis=1)\n",
    "    \n",
    "#     df1   = df[df['windspeed'] != 0]\n",
    "#     y_df1 = df1['windspeed']\n",
    "#     X_df1 = df1.drop('windspeed', axis=1)\n",
    "    \n",
    "#     rf = LGBMRegressor(random_state=0)  #RandomForestRegressor(random_state=11)\n",
    "#     X_df1_8, X_df1_2, y_df1_8, y_df1_2 = train_test_split(X_df1, y_df1, test_size=0.2, random_state=11)\n",
    "#     rf.fit(X_df1_8, y_df1_8)\n",
    "    \n",
    "#     pred = rf.predict(X_df1_2)\n",
    "#     mse_score = mean_squared_error(y_df1_2, pred)\n",
    "#     print(\"RMSE : \", np.sqrt(mse_score) )\n",
    "\n",
    "#     df0 = df[df['windspeed'] == 0]\n",
    "#     y_df0 = df0['windspeed']\n",
    "#     X_df0 = df0.drop('windspeed', axis=1)\n",
    "#     pred = rf.predict(X_df0)\n",
    "#     widx = X_df0.index.values\n",
    "#     df.loc[widx, 'windspeed'] = pred\n",
    "    \n",
    "#     return pd.concat([df, target], axis=1)"
   ]
  },
  {
   "cell_type": "code",
   "execution_count": null,
   "id": "5b5b6d19-ecf6-4836-b06a-3e46d49171b4",
   "metadata": {},
   "outputs": [],
   "source": []
  },
  {
   "cell_type": "code",
   "execution_count": null,
   "id": "e8d9d655-c689-4529-a44c-3a459a01182e",
   "metadata": {},
   "outputs": [],
   "source": []
  },
  {
   "cell_type": "code",
   "execution_count": null,
   "id": "79972999-a5fb-4571-86be-9cb39ef36d4d",
   "metadata": {},
   "outputs": [],
   "source": []
  },
  {
   "cell_type": "code",
   "execution_count": null,
   "id": "217c51ac-e023-47cb-a670-a1d3981b10a8",
   "metadata": {},
   "outputs": [],
   "source": []
  },
  {
   "cell_type": "code",
   "execution_count": null,
   "id": "e57cd9ad-44df-470c-a6fa-b4a47100d494",
   "metadata": {},
   "outputs": [],
   "source": []
  },
  {
   "cell_type": "code",
   "execution_count": null,
   "id": "b4cd16f0-18bf-4a4e-a52a-39efaa65c77b",
   "metadata": {},
   "outputs": [],
   "source": []
  },
  {
   "cell_type": "code",
   "execution_count": null,
   "id": "b217d6c0-6b2f-4bdd-93e4-6aab356241e5",
   "metadata": {},
   "outputs": [],
   "source": [
    "코드구경잘하고가요 ~♥ -함-"
   ]
  },
  {
   "cell_type": "markdown",
   "id": "286fd624-e07d-4efb-b652-26a96eb03719",
   "metadata": {},
   "source": [
    "# 파생변수"
   ]
  },
  {
   "cell_type": "markdown",
   "id": "966d135d-af7d-4562-825a-770220156f54",
   "metadata": {},
   "source": [
    "## 총 소요시간"
   ]
  },
  {
   "cell_type": "code",
   "execution_count": null,
   "id": "d3017680-d5bf-443f-9627-3fa099a90126",
   "metadata": {},
   "outputs": [],
   "source": [
    "train[['Estimated_Departure_Time','Estimated_Arrival_Time','Origin_Airport','Destination_Airport']][(train['Estimated_Departure_Time'].notna())&(train['Estimated_Arrival_Time'].notna())].head()"
   ]
  },
  {
   "cell_type": "markdown",
   "id": "ba2111ac-2c83-4b77-b315-787f332dddc2",
   "metadata": {},
   "source": [
    "- 출발시간보다 도착시간 수가 더 작은 경우는 하루가 넘어갔다는 뜻\n",
    "- 100으로 나눈 뒤 도착시간에 24더하기 \n",
    "- Estimated_Arrival_Time - Estimated_Departure_Tim = 총 소요 시간"
   ]
  },
  {
   "cell_type": "code",
   "execution_count": null,
   "id": "3ab2b79d-de9f-4273-a8cd-375411f0ae6d",
   "metadata": {},
   "outputs": [],
   "source": [
    "train[train['Estimated_Departure_Time']>train['Estimated_Arrival_Time']].head(2)"
   ]
  },
  {
   "cell_type": "markdown",
   "id": "12131b2f-6218-4c79-b95c-917c9b4cabde",
   "metadata": {},
   "source": [
    "- 11.0 과 같은 형식은 00시 11분이라는 뜻"
   ]
  },
  {
   "cell_type": "code",
   "execution_count": null,
   "id": "c4311837-0c4c-470e-ae7b-b2e7f14dfc60",
   "metadata": {},
   "outputs": [],
   "source": [
    "train[(train['Origin_Airport']=='LAS')&(train['Destination_Airport']=='DFW')].head()"
   ]
  },
  {
   "cell_type": "markdown",
   "id": "79e3b28c-1e2a-4cfc-9d62-a9e29c2b81e5",
   "metadata": {},
   "source": [
    "- /100 , +24"
   ]
  },
  {
   "cell_type": "code",
   "execution_count": null,
   "id": "d23c65ea-dc00-4a73-922f-188550403469",
   "metadata": {},
   "outputs": [],
   "source": [
    "train['Estimated_Departure_Time']=train['Estimated_Departure_Time']/100\n",
    "train['Estimated_Arrival_Time']=train['Estimated_Arrival_Time']/100"
   ]
  },
  {
   "cell_type": "code",
   "execution_count": null,
   "id": "a14b3c15-fddb-4efa-9009-83b00240c03a",
   "metadata": {},
   "outputs": [],
   "source": [
    "train['Estimated_Arrival_Time']=np.where(train['Estimated_Departure_Time']>train['Estimated_Arrival_Time'],train['Estimated_Arrival_Time']+24,train['Estimated_Arrival_Time'])"
   ]
  },
  {
   "cell_type": "code",
   "execution_count": null,
   "id": "bb9e1da1-5414-4614-9ddd-66464fbef10e",
   "metadata": {},
   "outputs": [],
   "source": [
    "train['Duration_of_Time']=train['Estimated_Arrival_Time']-train['Estimated_Departure_Time']\n",
    "train[['Estimated_Arrival_Time','Estimated_Departure_Time','Duration_of_Time']].head(6)"
   ]
  },
  {
   "cell_type": "code",
   "execution_count": null,
   "id": "07040069-1d25-4af4-b582-d8c164188841",
   "metadata": {},
   "outputs": [],
   "source": []
  },
  {
   "cell_type": "code",
   "execution_count": null,
   "id": "8f008003-57ee-4fd0-b677-034b92bb96b1",
   "metadata": {},
   "outputs": [],
   "source": []
  },
  {
   "cell_type": "code",
   "execution_count": null,
   "id": "436be468-6dcb-415d-8dd6-1501a3131692",
   "metadata": {},
   "outputs": [],
   "source": []
  },
  {
   "cell_type": "code",
   "execution_count": null,
   "id": "080ef030-924e-4358-9438-3f089317de58",
   "metadata": {},
   "outputs": [],
   "source": []
  },
  {
   "cell_type": "code",
   "execution_count": null,
   "id": "39ea01b7-dd6a-4165-a2ea-9a53fd04f7a1",
   "metadata": {},
   "outputs": [],
   "source": [
    "train[train['Estimated_Departure_Time']>train['Estimated_Arrival_Time']].head(2)"
   ]
  },
  {
   "cell_type": "code",
   "execution_count": null,
   "id": "581f3a89-16f0-49ab-aead-1d73e061012e",
   "metadata": {},
   "outputs": [],
   "source": []
  },
  {
   "cell_type": "code",
   "execution_count": null,
   "id": "4fa2a997-6be9-4ccf-9fd1-c5083abdda6c",
   "metadata": {},
   "outputs": [],
   "source": []
  },
  {
   "cell_type": "code",
   "execution_count": null,
   "id": "0052474c-6f58-4ece-87a1-df2c8621b1c8",
   "metadata": {},
   "outputs": [],
   "source": []
  },
  {
   "cell_type": "code",
   "execution_count": null,
   "id": "81bed187-bd10-4561-b52e-5774934f2f9f",
   "metadata": {},
   "outputs": [],
   "source": []
  },
  {
   "cell_type": "code",
   "execution_count": null,
   "id": "7316f075-857a-4625-ac65-3b9d4c1d040e",
   "metadata": {},
   "outputs": [],
   "source": []
  },
  {
   "cell_type": "code",
   "execution_count": null,
   "id": "3f68c816-c48e-4b15-aae2-ba553fc8a3f7",
   "metadata": {
    "tags": []
   },
   "outputs": [],
   "source": [
    "# train['Estimated_Departure_Time_1']=np.where(train['Estimated_Departure_Time']==0,train['Estimated_Departure_Time']==(train['Distance(km)']/900)+train['Estimated_Arrival_Time'],  train['Estimated_Departure_Time'])\n",
    "# test['Estimated_Departure_Time']=np.where(test['Estimated_Departure_Time'].isna(),test['Estimated_Departure_Time']=(test['Distance(km)']/900)+test['Estimated_Arrival_Time'],test['Estimated_Departure_Time'])\n",
    "\n",
    "# train['Estimated_Departure_Time'].isna().sum(),test['Estimated_Departure_Time'].isna().sum()\n",
    "# trian['Estimated_Departure_Time']=(train['Distance(km)']/900)+train['Estimated_Arrival_Time']"
   ]
  },
  {
   "cell_type": "code",
   "execution_count": null,
   "id": "34ce8c47-884b-478d-b314-0ccd42b91e9c",
   "metadata": {
    "tags": []
   },
   "outputs": [],
   "source": [
    "# train['Estimated_Departure_Time_1'][train['Estimated_Departure_Time_1']==0]"
   ]
  },
  {
   "cell_type": "code",
   "execution_count": null,
   "id": "7dd86585-501f-4254-8b18-b58aef0aae51",
   "metadata": {
    "tags": []
   },
   "outputs": [],
   "source": [
    "# train['Estimated_Arrival_Time']=np.where(train['Estimated_Arrival_Time'].isna(),train['Estimated_Arrival_Time']=(900/train['Distance(km)'])+train['Estimated_Departure_Time'],train['Estimated_Arrival_Time'])\n",
    "# test['Estimated_Arrival_Time']=np.where(test['Estimated_Arrival_Time'].isna(),test['Estimated_Arrival_Time']=(900/test['Distance(km)'])+test['Estimated_Departure_Time'],test['Estimated_Arrival_Time'])\n",
    "\n",
    "# train['Estimated_Arrival_Time'].isna().sum(),test['Estimated_Arrival_Time'].isna().sum()"
   ]
  },
  {
   "cell_type": "code",
   "execution_count": null,
   "id": "404eed9a-bd5e-4442-9a46-109d26804e41",
   "metadata": {
    "tags": []
   },
   "outputs": [],
   "source": [
    "# train[['Estimated_Departure_Time','Estimated_Arrival_Time']][train['Estimated_Departure_Time']==0]"
   ]
  },
  {
   "cell_type": "markdown",
   "id": "51aa3bc4-4386-446e-9999-a82d38715391",
   "metadata": {},
   "source": [
    "# target"
   ]
  },
  {
   "cell_type": "code",
   "execution_count": null,
   "id": "a5f2ee29-0561-4b47-81a1-c117fe13628e",
   "metadata": {
    "tags": []
   },
   "outputs": [],
   "source": [
    "train[['Airline','Delay']].value_counts().sort_index()"
   ]
  },
  {
   "cell_type": "code",
   "execution_count": null,
   "id": "f7d1987e-1af2-41b5-9759-e1543bc22e64",
   "metadata": {},
   "outputs": [],
   "source": []
  },
  {
   "cell_type": "code",
   "execution_count": null,
   "id": "f51d76d2-e7e0-4cbb-af3a-a83316ce7d5d",
   "metadata": {},
   "outputs": [],
   "source": []
  },
  {
   "cell_type": "code",
   "execution_count": null,
   "id": "5c02ae15-c369-4bdb-af99-8d1ec8685f68",
   "metadata": {},
   "outputs": [],
   "source": []
  }
 ],
 "metadata": {
  "kernelspec": {
   "display_name": "Python 3 (ipykernel)",
   "language": "python",
   "name": "python3"
  },
  "language_info": {
   "codemirror_mode": {
    "name": "ipython",
    "version": 3
   },
   "file_extension": ".py",
   "mimetype": "text/x-python",
   "name": "python",
   "nbconvert_exporter": "python",
   "pygments_lexer": "ipython3",
   "version": "3.8.8"
  }
 },
 "nbformat": 4,
 "nbformat_minor": 5
}
