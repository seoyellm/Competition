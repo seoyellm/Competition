{
 "cells": [
  {
   "cell_type": "markdown",
   "id": "88b5b11a-7c41-42bc-9f71-9d39775e80fc",
   "metadata": {},
   "source": [
    "# [Dacon]항공지연예측"
   ]
  },
  {
   "cell_type": "code",
   "execution_count": 1,
   "id": "d22742ff-366e-463f-a7fd-71daf46ce8ca",
   "metadata": {},
   "outputs": [
    {
     "data": {
      "text/html": [
       "<style>.container{width:100% !important;}</style>"
      ],
      "text/plain": [
       "<IPython.core.display.HTML object>"
      ]
     },
     "metadata": {},
     "output_type": "display_data"
    }
   ],
   "source": [
    "import numpy as np\n",
    "import pandas as pd\n",
    "\n",
    "import matplotlib.pyplot as plt\n",
    "import seaborn as sns\n",
    "\n",
    "\n",
    "sns.set()\n",
    "\n",
    "#-------------------- 차트 관련 속성 (한글처리, 그리드) -----------\n",
    "plt.rcParams['font.family']= 'Malgun Gothic'\n",
    "plt.rcParams['axes.unicode_minus'] = False\n",
    "\n",
    "#-------------------- 주피터 , 출력결과 넓이 늘리기 ---------------\n",
    "# from IPython.core.display import display, HTML\n",
    "from IPython.display import display, HTML\n",
    "\n",
    "display(HTML(\"<style>.container{width:100% !important;}</style>\"))\n",
    "pd.set_option('display.max_rows', 100)\n",
    "pd.set_option('display.max_columns', 100)\n",
    "pd.set_option('max_colwidth', None)\n",
    "\n",
    "import warnings\n",
    "warnings.filterwarnings(action='ignore')"
   ]
  },
  {
   "cell_type": "code",
   "execution_count": 2,
   "id": "730b6546-c985-493d-bdec-c61b6ca1aa84",
   "metadata": {
    "tags": []
   },
   "outputs": [],
   "source": [
    "# ----------------- 학습 ----------------------\n",
    "from sklearn.model_selection import train_test_split, cross_val_score\n",
    "from sklearn.preprocessing import StandardScaler, MinMaxScaler, RobustScaler\n",
    "\n",
    "# ----------------- 모델 ----------------------\n",
    "from sklearn.tree import DecisionTreeClassifier,DecisionTreeRegressor\n",
    "from sklearn.linear_model import LogisticRegression,LinearRegression\n",
    "from sklearn.linear_model import Ridge,Lasso\n",
    "\n",
    "# ----------------- 평가 ----------------------\n",
    "from sklearn.metrics import confusion_matrix\n",
    "\n",
    "from sklearn.metrics import classification_report\n",
    "from sklearn.metrics import accuracy_score,mean_squared_error\n",
    "from sklearn.metrics import f1_score, precision_score, recall_score\n",
    "from sklearn.metrics import precision_recall_curve, plot_precision_recall_curve\n",
    "\n",
    "from sklearn.metrics import roc_auc_score, roc_curve, plot_roc_curve"
   ]
  },
  {
   "cell_type": "markdown",
   "id": "295450c7-2ac2-41f8-831f-a109d47caad3",
   "metadata": {},
   "source": [
    "# Data Load"
   ]
  },
  {
   "cell_type": "markdown",
   "id": "61bb598f-0c60-4446-9448-bf3e2a9d6bb2",
   "metadata": {},
   "source": [
    "<pre>\n",
    "Month: 해당 항공편의 출발 월입니다. 1부터 12까지의 값을 가집니다.\n",
    "Day_of_Month: 해당 항공편의 출발 날짜입니다. 1부터 31까지의 값을 가집니다.\n",
    "Estimated_Departure_Time: 해당 항공편의 출발 예정 시간입니다. 시간은 24시간 형식으로 기록됩니다. (HH:MM)\n",
    "Estimated_Arrival_Time: 해당 항공편의 도착 예정 시간입니다. 시간은 24시간 형식으로 기록됩니다. (HH:MM)\n",
    "Cancelled: 해당 항공편이 취소되었는지 여부를 나타냅니다. Train, Test 데이터 모두 0 값만 존재합니다.\n",
    "Diverted: 해당 항공편이 경유지를 변경하여 다른 공항으로 이동되었는지 여부를 나타냅니다. Train, Test 데이터 모두 0 값만 존재합니다.\n",
    "Origin_Airport: 해당 항공편의 출발 공항의 IATA 코드입니다.\n",
    "Origin_Airport_ID: 해당 항공편의 출발 공항의 고유 ID입니다.\n",
    "Origin_State: 해당 항공편의 출발 공항이 위치한 주(State) 이름입니다.\n",
    "Destination_Airport: 해당 항공편의 도착 공항의 IATA 코드입니다.\n",
    "Destination_Airport_ID: 해당 항공편의 도착 공항의 고유 ID입니다.\n",
    "Destination_State: 해당 항공편의 도착 공항이 위치한 주(State) 이름입니다.\n",
    "Distance: 해당 항공편의 비행 거리입니다. 확인해보니 마일(mile) 단위로 기록됩니다.\n",
    "Airline: 해당 항공편을 운항하는 항공사 이름입니다.\n",
    "Carrier_Code(IATA): 해당 항공편을 운항하는 항공사의 IATA 코드입니다.  (IATA 공항 코드, 단 다른 항공사가 같은 코드를 보유할 수도 있음)\n",
    "Carrier_ID(DOT): 해당 항공편을 운항하는 항공사의 식별번호입니다. \n",
    "Tail_Number: 해당 항공편을 운항하는 항공기의 고유 등록번호입니다."
   ]
  },
  {
   "cell_type": "code",
   "execution_count": 3,
   "id": "91128004-63e6-4f9d-89d7-7b5d7a009d47",
   "metadata": {
    "tags": []
   },
   "outputs": [],
   "source": [
    "train=pd.read_csv('train.csv')\n",
    "test=pd.read_csv('test.csv')\n",
    "submit=pd.read_csv('sample_submission.csv')"
   ]
  },
  {
   "cell_type": "code",
   "execution_count": 4,
   "id": "4819fc35-4963-4971-8df6-996f7566ec88",
   "metadata": {
    "tags": []
   },
   "outputs": [
    {
     "name": "stdout",
     "output_type": "stream",
     "text": [
      "1000000\n",
      "1000000\n"
     ]
    }
   ],
   "source": [
    "print(train['ID'].nunique())\n",
    "print(test['ID'].nunique())\n",
    "\n",
    "train=train.drop('ID',axis=1)\n",
    "test=test.drop('ID',axis=1)"
   ]
  },
  {
   "cell_type": "code",
   "execution_count": 5,
   "id": "041b741d-6975-4f49-8e7e-35f73a622e29",
   "metadata": {
    "tags": []
   },
   "outputs": [
    {
     "data": {
      "text/plain": [
       "Not_Delayed    210001\n",
       "Delayed         45000\n",
       "Name: Delay, dtype: int64"
      ]
     },
     "execution_count": 5,
     "metadata": {},
     "output_type": "execute_result"
    }
   ],
   "source": [
    "train['Delay'].value_counts()"
   ]
  },
  {
   "cell_type": "code",
   "execution_count": 6,
   "id": "b68d17fd-ac2c-4b18-b0de-cbdde067c8c8",
   "metadata": {
    "tags": []
   },
   "outputs": [
    {
     "data": {
      "text/plain": [
       "Index(['Month', 'Day_of_Month', 'Estimated_Departure_Time',\n",
       "       'Estimated_Arrival_Time', 'Cancelled', 'Diverted', 'Origin_Airport',\n",
       "       'Origin_Airport_ID', 'Origin_State', 'Destination_Airport',\n",
       "       'Destination_Airport_ID', 'Destination_State', 'Distance', 'Airline',\n",
       "       'Carrier_Code(IATA)', 'Carrier_ID(DOT)', 'Tail_Number', 'Delay'],\n",
       "      dtype='object')"
      ]
     },
     "execution_count": 6,
     "metadata": {},
     "output_type": "execute_result"
    }
   ],
   "source": [
    "train.columns"
   ]
  },
  {
   "cell_type": "markdown",
   "id": "8c459e8d-036a-4410-bb33-70f51ac9983a",
   "metadata": {},
   "source": [
    "# EDA"
   ]
  },
  {
   "cell_type": "code",
   "execution_count": 7,
   "id": "6f15d650-b95e-4bcb-866f-5a74e6d17214",
   "metadata": {
    "tags": []
   },
   "outputs": [],
   "source": [
    "# fig, axes = plt.subplots(4, 5, figsize=(15, 20)  ) \n",
    "\n",
    "# col_list = ['Month', 'Day_of_Month', 'Estimated_Departure_Time',\n",
    "#        'Estimated_Arrival_Time', 'Cancelled', 'Diverted', 'Origin_Airport',\n",
    "#        'Origin_Airport_ID', 'Origin_State', 'Destination_Airport',\n",
    "#        'Destination_Airport_ID', 'Destination_State', 'Distance', 'Airline',\n",
    "#        'Carrier_Code(IATA)', 'Carrier_ID(DOT)', 'Tail_Number']\n",
    "# for i, col in enumerate(col_list) :  #train.columns) :\n",
    "#     r = i//5\n",
    "#     c = i%5\n",
    "#     #print(i,r, c ,col)\n",
    "#     axes[r][c].set_title(col)\n",
    "#     sns.histplot(data=train, x=col, ax=axes[r][c],     kde=True )\n",
    "#     sns.histplot(data=test, x=col, ax=axes[r][c],     kde=True )\n",
    "#     # axes[0][0].set_title(\"count\")\n",
    "#     # sns.histplot(data=train, x='count', ax=axes[0][0],     kde=True )\n",
    "\n",
    "# plt.tight_layout()\n",
    "# plt.show()"
   ]
  },
  {
   "cell_type": "code",
   "execution_count": 8,
   "id": "d316211c-7aed-4282-a534-076c41259b87",
   "metadata": {
    "tags": []
   },
   "outputs": [
    {
     "data": {
      "image/png": "[encoded data removed]",
      "text/plain": [
       "<Figure size 1000x1000 with 12 Axes>"
      ]
     },
     "metadata": {},
     "output_type": "display_data"
    }
   ],
   "source": [
    "train.hist(figsize=(10,10))\n",
    "\n",
    "plt.tight_layout()\n",
    "plt.show()"
   ]
  },
  {
   "cell_type": "code",
   "execution_count": 9,
   "id": "a790bb44-ff22-4a69-8954-b9742060077d",
   "metadata": {
    "tags": []
   },
   "outputs": [
    {
     "data": {
      "image/png": "[encoded data removed]",
      "text/plain": [
       "<Figure size 1000x1000 with 2 Axes>"
      ]
     },
     "metadata": {},
     "output_type": "display_data"
    }
   ],
   "source": [
    "plt.figure(figsize=(10,10))\n",
    "sns.heatmap(train.corr(), fmt=\".2f\", annot=True, cmap='coolwarm')\n",
    "plt.show()"
   ]
  },
  {
   "cell_type": "markdown",
   "id": "12d23b28-f88c-4bc1-ab4a-8e483321f7c4",
   "metadata": {
    "tags": []
   },
   "source": [
    "# 결측"
   ]
  },
  {
   "cell_type": "code",
   "execution_count": 10,
   "id": "f48b7c1b-d215-4def-8f18-6589fd5f98f7",
   "metadata": {
    "tags": []
   },
   "outputs": [
    {
     "data": {
      "text/plain": [
       "Estimated_Departure_Time    109019\n",
       "Estimated_Arrival_Time      109040\n",
       "Origin_State                109015\n",
       "Destination_State           109079\n",
       "Airline                     108920\n",
       "Carrier_Code(IATA)          108990\n",
       "Carrier_ID(DOT)             108997\n",
       "Delay                       744999\n",
       "dtype: int64"
      ]
     },
     "execution_count": 10,
     "metadata": {},
     "output_type": "execute_result"
    }
   ],
   "source": [
    "train.isna().sum()[train.isna().sum()>0]"
   ]
  },
  {
   "cell_type": "code",
   "execution_count": 11,
   "id": "32bb60f3-9f25-432b-ab19-a46000fb5e5e",
   "metadata": {
    "tags": []
   },
   "outputs": [
    {
     "data": {
      "text/plain": [
       "Estimated_Departure_Time    108984\n",
       "Estimated_Arrival_Time      109048\n",
       "Origin_State                106505\n",
       "Destination_State           106523\n",
       "Airline                     106527\n",
       "Carrier_Code(IATA)          108993\n",
       "Carrier_ID(DOT)             109006\n",
       "dtype: int64"
      ]
     },
     "execution_count": 11,
     "metadata": {},
     "output_type": "execute_result"
    }
   ],
   "source": [
    "test.isna().sum()[test.isna().sum()>0]"
   ]
  },
  {
   "cell_type": "markdown",
   "id": "611c3f0a-904d-4386-a708-027ab2a9dd9b",
   "metadata": {},
   "source": [
    "## Carrier_Code(IATA)"
   ]
  },
  {
   "cell_type": "markdown",
   "id": "2ac01b26-5142-497c-8136-b1572f8545e2",
   "metadata": {},
   "source": [
    "- Carrier_Code(IATA)          108990    -> 항공사 다른데 IATA코드 동일한 경우가 있음--> 삭제\n",
    "- Carrier_ID(DOT)             108997"
   ]
  },
  {
   "cell_type": "code",
   "execution_count": 12,
   "id": "27bc0609-61c1-4a51-ae96-73ae2b0540d9",
   "metadata": {
    "tags": []
   },
   "outputs": [
    {
     "data": {
      "text/html": [
       "<div>\n",
       "<style scoped>\n",
       "    .dataframe tbody tr th:only-of-type {\n",
       "        vertical-align: middle;\n",
       "    }\n",
       "\n",
       "    .dataframe tbody tr th {\n",
       "        vertical-align: top;\n",
       "    }\n",
       "\n",
       "    .dataframe thead th {\n",
       "        text-align: right;\n",
       "    }\n",
       "</style>\n",
       "<table border=\"1\" class=\"dataframe\">\n",
       "  <thead>\n",
       "    <tr style=\"text-align: right;\">\n",
       "      <th></th>\n",
       "      <th>Carrier_Code(IATA)</th>\n",
       "      <th>Carrier_ID(DOT)</th>\n",
       "    </tr>\n",
       "  </thead>\n",
       "  <tbody>\n",
       "    <tr>\n",
       "      <th>0</th>\n",
       "      <td>WN</td>\n",
       "      <td>19393.0</td>\n",
       "    </tr>\n",
       "    <tr>\n",
       "      <th>1</th>\n",
       "      <td>UA</td>\n",
       "      <td>20304.0</td>\n",
       "    </tr>\n",
       "    <tr>\n",
       "      <th>2</th>\n",
       "      <td>AA</td>\n",
       "      <td>19805.0</td>\n",
       "    </tr>\n",
       "    <tr>\n",
       "      <th>3</th>\n",
       "      <td>UA</td>\n",
       "      <td>NaN</td>\n",
       "    </tr>\n",
       "    <tr>\n",
       "      <th>4</th>\n",
       "      <td>UA</td>\n",
       "      <td>20304.0</td>\n",
       "    </tr>\n",
       "  </tbody>\n",
       "</table>\n",
       "</div>"
      ],
      "text/plain": [
       "  Carrier_Code(IATA)  Carrier_ID(DOT)\n",
       "0                 WN          19393.0\n",
       "1                 UA          20304.0\n",
       "2                 AA          19805.0\n",
       "3                 UA              NaN\n",
       "4                 UA          20304.0"
      ]
     },
     "execution_count": 12,
     "metadata": {},
     "output_type": "execute_result"
    }
   ],
   "source": [
    "train[['Carrier_Code(IATA)', 'Carrier_ID(DOT)']].head()"
   ]
  },
  {
   "cell_type": "code",
   "execution_count": 13,
   "id": "fda0a0de-f1b6-4bfc-b20a-d7478cd311cd",
   "metadata": {
    "tags": []
   },
   "outputs": [
    {
     "data": {
      "text/plain": [
       "Carrier_Code(IATA)  Carrier_ID(DOT)\n",
       "AA                  19805.0             73759\n",
       "                    20237.0               371\n",
       "                    20304.0              9017\n",
       "                    20366.0               737\n",
       "                    20378.0              9067\n",
       "                    20397.0             22177\n",
       "                    20398.0             24544\n",
       "                    20427.0              8818\n",
       "                    20452.0             11099\n",
       "                    21167.0              2775\n",
       "AS                  19687.0             11644\n",
       "                    19930.0             25991\n",
       "                    20225.0               126\n",
       "                    20304.0              5178\n",
       "B6                  20409.0             37007\n",
       "DL                  19790.0             80111\n",
       "                    20304.0             28002\n",
       "                    20363.0             20644\n",
       "                    20366.0               804\n",
       "                    20452.0              5272\n",
       "                    20500.0              3921\n",
       "                    21167.0              5059\n",
       "F9                  20436.0             15525\n",
       "G4                  20368.0             12251\n",
       "HA                  19690.0              9758\n",
       "                    20263.0               944\n",
       "NK                  20416.0             22330\n",
       "UA                  19977.0             74910\n",
       "                    20046.0             11858\n",
       "                    20237.0              7907\n",
       "                    20253.0               112\n",
       "                    20304.0             35055\n",
       "                    20366.0             16447\n",
       "                    20378.0             12892\n",
       "                    20445.0              6354\n",
       "                    20452.0             13387\n",
       "                    20500.0              4605\n",
       "VX                  21171.0              1188\n",
       "WN                  19393.0            162394\n",
       "dtype: int64"
      ]
     },
     "execution_count": 13,
     "metadata": {},
     "output_type": "execute_result"
    }
   ],
   "source": [
    "train[['Carrier_Code(IATA)','Carrier_ID(DOT)']].value_counts().sort_index()"
   ]
  },
  {
   "cell_type": "code",
   "execution_count": 14,
   "id": "748ce60a-35a1-4591-a44c-89232247c3e7",
   "metadata": {
    "tags": []
   },
   "outputs": [
    {
     "data": {
      "text/plain": [
       "Airline                                    Carrier_Code(IATA)\n",
       "Air Wisconsin Airlines Corp                UA                     11950\n",
       "Alaska Airlines Inc.                       AS                     26021\n",
       "Allegiant Air                              G4                     12193\n",
       "American Airlines Inc.                     AA                     73629\n",
       "Cape Air                                   UA                       105\n",
       "Capital Cargo International                AA                      8814\n",
       "Comair Inc.                                AA                     22071\n",
       "Commutair Aka Champlain Enterprises, Inc.  UA                      6393\n",
       "Compass Airlines                           AA                      2819\n",
       "                                           DL                      5049\n",
       "Delta Air Lines Inc.                       DL                     79922\n",
       "Empire Airlines Inc.                       HA                       946\n",
       "Endeavor Air Inc.                          DL                     20668\n",
       "Envoy Air                                  AA                     24491\n",
       "ExpressJet Airlines Inc.                   AA                       730\n",
       "                                           DL                       815\n",
       "                                           UA                     16399\n",
       "Frontier Airlines Inc.                     F9                     15520\n",
       "GoJet Airlines, LLC d/b/a United Express   DL                      3909\n",
       "                                           UA                      4633\n",
       "Hawaiian Airlines Inc.                     HA                      9745\n",
       "Horizon Air                                AS                     11606\n",
       "JetBlue Airways                            B6                     36988\n",
       "Mesa Airlines Inc.                         AA                      9057\n",
       "                                           UA                     12859\n",
       "Peninsula Airways Inc.                     AS                       129\n",
       "Republic Airlines                          AA                     11169\n",
       "                                           DL                      5298\n",
       "                                           UA                     13499\n",
       "SkyWest Airlines Inc.                      AA                      9038\n",
       "                                           AS                      5176\n",
       "                                           DL                     27920\n",
       "                                           UA                     35171\n",
       "Southwest Airlines Co.                     WN                    162503\n",
       "Spirit Air Lines                           NK                     22282\n",
       "Trans States Airlines                      AA                       382\n",
       "                                           UA                      7933\n",
       "United Air Lines Inc.                      UA                     74956\n",
       "Virgin America                             VX                      1166\n",
       "dtype: int64"
      ]
     },
     "execution_count": 14,
     "metadata": {},
     "output_type": "execute_result"
    }
   ],
   "source": [
    "train[['Airline','Carrier_Code(IATA)']].value_counts().sort_index()"
   ]
  },
  {
   "cell_type": "markdown",
   "id": "c92b234c-9b74-44d9-83c1-0fc3de7fe90b",
   "metadata": {},
   "source": [
    "## Airline"
   ]
  },
  {
   "cell_type": "markdown",
   "id": "79cd38b2-fe1c-4538-8e09-e47cd2d7268d",
   "metadata": {},
   "source": [
    "### 'Carrier_ID(DOT)' -- > 'Airline'"
   ]
  },
  {
   "cell_type": "code",
   "execution_count": 15,
   "id": "b70babad-6fac-4873-b396-d8df043130d1",
   "metadata": {
    "tags": []
   },
   "outputs": [
    {
     "name": "stdout",
     "output_type": "stream",
     "text": [
      "108997\n",
      "109006\n"
     ]
    }
   ],
   "source": [
    "print(train['Carrier_ID(DOT)'].isna().sum())\n",
    "print(test['Carrier_ID(DOT)'].isna().sum())"
   ]
  },
  {
   "cell_type": "code",
   "execution_count": 16,
   "id": "8ddfc73b-f628-4b3a-8e23-fbe37f92c0c7",
   "metadata": {
    "tags": []
   },
   "outputs": [
    {
     "data": {
      "text/plain": [
       "Airline                                    Carrier_ID(DOT)\n",
       "Air Wisconsin Airlines Corp                20046.0             11894\n",
       "Alaska Airlines Inc.                       19930.0             25954\n",
       "Allegiant Air                              20368.0             12182\n",
       "American Airlines Inc.                     19805.0             73835\n",
       "Cape Air                                   20253.0               107\n",
       "Capital Cargo International                20427.0              8884\n",
       "Comair Inc.                                20397.0             22030\n",
       "Commutair Aka Champlain Enterprises, Inc.  20445.0              6340\n",
       "Compass Airlines                           21167.0              7898\n",
       "Delta Air Lines Inc.                       19790.0             80026\n",
       "Empire Airlines Inc.                       20263.0               940\n",
       "Endeavor Air Inc.                          20363.0             20650\n",
       "Envoy Air                                  20398.0             24455\n",
       "ExpressJet Airlines Inc.                   20366.0             17965\n",
       "Frontier Airlines Inc.                     20436.0             15498\n",
       "GoJet Airlines, LLC d/b/a United Express   20500.0              8539\n",
       "Hawaiian Airlines Inc.                     19690.0              9719\n",
       "Horizon Air                                19687.0             11692\n",
       "JetBlue Airways                            20409.0             37122\n",
       "Mesa Airlines Inc.                         20378.0             22018\n",
       "Peninsula Airways Inc.                     20225.0               124\n",
       "Republic Airlines                          20452.0             29806\n",
       "SkyWest Airlines Inc.                      20304.0             77422\n",
       "Southwest Airlines Co.                     19393.0            162329\n",
       "Spirit Air Lines                           20416.0             22217\n",
       "Trans States Airlines                      20237.0              8324\n",
       "United Air Lines Inc.                      19977.0             74823\n",
       "Virgin America                             21171.0              1173\n",
       "dtype: int64"
      ]
     },
     "execution_count": 16,
     "metadata": {},
     "output_type": "execute_result"
    }
   ],
   "source": [
    "train[['Airline','Carrier_ID(DOT)']].value_counts().sort_index()"
   ]
  },
  {
   "cell_type": "code",
   "execution_count": 17,
   "id": "9ebe5aec-067a-407c-81f8-43a6079e7d45",
   "metadata": {
    "tags": []
   },
   "outputs": [
    {
     "data": {
      "text/plain": [
       "108997"
      ]
     },
     "execution_count": 17,
     "metadata": {},
     "output_type": "execute_result"
    }
   ],
   "source": [
    "train['Carrier_ID(DOT)'].isna().sum()"
   ]
  },
  {
   "cell_type": "code",
   "execution_count": 44,
   "id": "ecc3ed30-09ad-4579-aaf7-ffe6d442c75f",
   "metadata": {
    "tags": []
   },
   "outputs": [
    {
     "data": {
      "text/plain": [
       "(11883, 11543)"
      ]
     },
     "execution_count": 44,
     "metadata": {},
     "output_type": "execute_result"
    }
   ],
   "source": [
    "temp = train[['Carrier_ID(DOT)', 'Airline']]\n",
    "temp = temp.dropna(axis=0)\n",
    "temp = temp.drop_duplicates()   # Carrier_ID(DOT)' ,'Airline' 두개가 쌍으로 모두 동일한 경우만 삭제\n",
    "# print(temp)\n",
    "\n",
    "cntdf = temp.groupby('Carrier_ID(DOT)').count()  #   Carrier_ID(DOT) 1개인데, Airline가 여러개인경우가 있다\n",
    "cntdf[cntdf['Airline'] == 1]\n",
    "tail_one = cntdf[cntdf['Airline'] == 1].index\n",
    "temp = temp.set_index('Carrier_ID(DOT)')\n",
    "temp = temp.loc[tail_one]\n",
    "temp = temp.reset_index()\n",
    "tail_dic = dict(temp.values)\n",
    "# print(tail_dic)\n",
    "\n",
    "train['Airline'] = train.apply(lambda x: tail_dic[x['Carrier_ID(DOT)']] if (pd.isnull(x['Airline'])) and (x['Carrier_ID(DOT)'] in tail_dic.keys()) else x['Airline'],  axis=1)\n",
    "test['Airline'] = test.apply(lambda x: tail_dic[x['Carrier_ID(DOT)']] if (pd.isnull(x['Airline'])) and (x['Carrier_ID(DOT)'] in tail_dic.keys()) else x['Airline'],  axis=1)\n",
    "train[train['Airline'].isna()].shape[0], test[test['Airline'].isna()].shape[0]"
   ]
  },
  {
   "cell_type": "markdown",
   "id": "4b7db5b1-7ec1-41df-9d09-f71180363b4c",
   "metadata": {},
   "source": [
    "### 'Tail_Number' --> 'Airline'"
   ]
  },
  {
   "cell_type": "code",
   "execution_count": 52,
   "id": "c0c697b7-b72c-4c31-9296-0ecb3fc912f9",
   "metadata": {
    "tags": []
   },
   "outputs": [
    {
     "data": {
      "text/plain": [
       "6430"
      ]
     },
     "execution_count": 52,
     "metadata": {},
     "output_type": "execute_result"
    }
   ],
   "source": [
    "train['Tail_Number'].nunique()"
   ]
  },
  {
   "cell_type": "code",
   "execution_count": 55,
   "id": "7d537e9e-12f8-4778-8bfc-01c89b2b63a2",
   "metadata": {
    "tags": []
   },
   "outputs": [
    {
     "data": {
      "text/plain": [
       "(2, 56)"
      ]
     },
     "execution_count": 55,
     "metadata": {},
     "output_type": "execute_result"
    }
   ],
   "source": [
    "temp=train[['Tail_Number','Airline']]\n",
    "temp = temp.dropna(axis=0)\n",
    "tail_num_dic=dict(temp.values)\n",
    "\n",
    "train['Airline'] = train.apply(lambda x: tail_num_dic[x['Tail_Number']] if (pd.isnull(x['Airline'])) and (x['Tail_Number'] in tail_num_dic.keys()) else x['Airline'],  axis=1)\n",
    "test['Airline'] = test.apply(lambda x: tail_num_dic[x['Tail_Number']] if (pd.isnull(x['Airline'])) and (x['Tail_Number'] in tail_num_dic.keys()) else x['Airline'],  axis=1)\n",
    "train[train['Airline'].isna()].shape[0], test[test['Airline'].isna()].shape[0]"
   ]
  },
  {
   "cell_type": "code",
   "execution_count": 56,
   "id": "c9ef870b-28af-44c3-b546-193f3037e4b8",
   "metadata": {
    "tags": []
   },
   "outputs": [
    {
     "data": {
      "text/html": [
       "<div>\n",
       "<style scoped>\n",
       "    .dataframe tbody tr th:only-of-type {\n",
       "        vertical-align: middle;\n",
       "    }\n",
       "\n",
       "    .dataframe tbody tr th {\n",
       "        vertical-align: top;\n",
       "    }\n",
       "\n",
       "    .dataframe thead th {\n",
       "        text-align: right;\n",
       "    }\n",
       "</style>\n",
       "<table border=\"1\" class=\"dataframe\">\n",
       "  <thead>\n",
       "    <tr style=\"text-align: right;\">\n",
       "      <th></th>\n",
       "      <th>Month</th>\n",
       "      <th>Day_of_Month</th>\n",
       "      <th>Estimated_Departure_Time</th>\n",
       "      <th>Estimated_Arrival_Time</th>\n",
       "      <th>Cancelled</th>\n",
       "      <th>Diverted</th>\n",
       "      <th>Origin_Airport</th>\n",
       "      <th>Origin_Airport_ID</th>\n",
       "      <th>Origin_State</th>\n",
       "      <th>Destination_Airport</th>\n",
       "      <th>Destination_Airport_ID</th>\n",
       "      <th>Destination_State</th>\n",
       "      <th>Distance</th>\n",
       "      <th>Airline</th>\n",
       "      <th>Carrier_Code(IATA)</th>\n",
       "      <th>Carrier_ID(DOT)</th>\n",
       "      <th>Tail_Number</th>\n",
       "      <th>Delay</th>\n",
       "    </tr>\n",
       "  </thead>\n",
       "  <tbody>\n",
       "    <tr>\n",
       "      <th>382926</th>\n",
       "      <td>10</td>\n",
       "      <td>31</td>\n",
       "      <td>1740.0</td>\n",
       "      <td>NaN</td>\n",
       "      <td>0</td>\n",
       "      <td>0</td>\n",
       "      <td>HNL</td>\n",
       "      <td>12173</td>\n",
       "      <td>Hawaii</td>\n",
       "      <td>ATL</td>\n",
       "      <td>10397</td>\n",
       "      <td>Georgia</td>\n",
       "      <td>4502.0</td>\n",
       "      <td>NaN</td>\n",
       "      <td>DL</td>\n",
       "      <td>NaN</td>\n",
       "      <td>N867DA</td>\n",
       "      <td>NaN</td>\n",
       "    </tr>\n",
       "    <tr>\n",
       "      <th>856500</th>\n",
       "      <td>1</td>\n",
       "      <td>13</td>\n",
       "      <td>2205.0</td>\n",
       "      <td>705.0</td>\n",
       "      <td>0</td>\n",
       "      <td>0</td>\n",
       "      <td>OGG</td>\n",
       "      <td>13830</td>\n",
       "      <td>Hawaii</td>\n",
       "      <td>SLC</td>\n",
       "      <td>14869</td>\n",
       "      <td>NaN</td>\n",
       "      <td>2935.0</td>\n",
       "      <td>NaN</td>\n",
       "      <td>DL</td>\n",
       "      <td>NaN</td>\n",
       "      <td>N153DL</td>\n",
       "      <td>NaN</td>\n",
       "    </tr>\n",
       "  </tbody>\n",
       "</table>\n",
       "</div>"
      ],
      "text/plain": [
       "        Month  Day_of_Month  Estimated_Departure_Time  Estimated_Arrival_Time  \\\n",
       "382926     10            31                    1740.0                     NaN   \n",
       "856500      1            13                    2205.0                   705.0   \n",
       "\n",
       "        Cancelled  Diverted Origin_Airport  Origin_Airport_ID Origin_State  \\\n",
       "382926          0         0            HNL              12173       Hawaii   \n",
       "856500          0         0            OGG              13830       Hawaii   \n",
       "\n",
       "       Destination_Airport  Destination_Airport_ID Destination_State  \\\n",
       "382926                 ATL                   10397           Georgia   \n",
       "856500                 SLC                   14869               NaN   \n",
       "\n",
       "        Distance Airline Carrier_Code(IATA)  Carrier_ID(DOT) Tail_Number Delay  \n",
       "382926    4502.0     NaN                 DL              NaN      N867DA   NaN  \n",
       "856500    2935.0     NaN                 DL              NaN      N153DL   NaN  "
      ]
     },
     "execution_count": 56,
     "metadata": {},
     "output_type": "execute_result"
    }
   ],
   "source": [
    "train[train['Airline'].isna()]"
   ]
  },
  {
   "cell_type": "code",
   "execution_count": 59,
   "id": "4a163918-331f-4dd1-b334-7e49df2a3fe0",
   "metadata": {
    "tags": []
   },
   "outputs": [
    {
     "data": {
      "text/plain": [
       "Delta Air Lines Inc.                        89853\n",
       "SkyWest Airlines Inc.                       31355\n",
       "Endeavor Air Inc.                           23177\n",
       "Republic Airlines                            5938\n",
       "Compass Airlines                             5650\n",
       "GoJet Airlines, LLC d/b/a United Express     4379\n",
       "ExpressJet Airlines Inc.                      912\n",
       "Name: Airline, dtype: int64"
      ]
     },
     "execution_count": 59,
     "metadata": {},
     "output_type": "execute_result"
    }
   ],
   "source": [
    "train['Airline'][train['Carrier_Code(IATA)']=='DL'].value_counts()"
   ]
  },
  {
   "cell_type": "code",
   "execution_count": 66,
   "id": "6fcf6fad-2ed5-403e-952e-bf872f307482",
   "metadata": {
    "tags": []
   },
   "outputs": [],
   "source": [
    "a=train['Airline'][train['Carrier_Code(IATA)']=='DL'].mode()[0]\n",
    "b=test['Airline'][test['Carrier_Code(IATA)']=='DL'].mode()[0]"
   ]
  },
  {
   "cell_type": "code",
   "execution_count": 60,
   "id": "7a89c7fd-181b-438b-a37b-7257c47d4726",
   "metadata": {
    "tags": []
   },
   "outputs": [
    {
     "data": {
      "text/plain": [
       "Delta Air Lines Inc.                        86173\n",
       "SkyWest Airlines Inc.                       28839\n",
       "Endeavor Air Inc.                           21625\n",
       "Republic Airlines                            5932\n",
       "Compass Airlines                             5263\n",
       "GoJet Airlines, LLC d/b/a United Express     4002\n",
       "ExpressJet Airlines Inc.                      847\n",
       "Name: Airline, dtype: int64"
      ]
     },
     "execution_count": 60,
     "metadata": {},
     "output_type": "execute_result"
    }
   ],
   "source": [
    "test['Airline'][test['Carrier_Code(IATA)']=='DL'].value_counts()"
   ]
  },
  {
   "cell_type": "markdown",
   "id": "7d706510-3257-4c00-8b9f-52f1b4fe8cea",
   "metadata": {},
   "source": [
    "### mode()"
   ]
  },
  {
   "cell_type": "code",
   "execution_count": 67,
   "id": "01ec3f6f-584a-4ddc-b876-5086f5d36886",
   "metadata": {
    "tags": []
   },
   "outputs": [],
   "source": [
    "train['Airline']=train['Airline'].fillna(a)\n",
    "test['Airline']=test['Airline'].fillna(b)"
   ]
  },
  {
   "cell_type": "markdown",
   "id": "803ef179-98ab-4390-b1be-67e7b0fcdc81",
   "metadata": {},
   "source": [
    "### 확인"
   ]
  },
  {
   "cell_type": "code",
   "execution_count": 69,
   "id": "87b3bca3-243e-40c6-81ca-dbbb035745ab",
   "metadata": {
    "tags": []
   },
   "outputs": [
    {
     "name": "stdout",
     "output_type": "stream",
     "text": [
      "0\n",
      "0\n"
     ]
    }
   ],
   "source": [
    "print(train['Airline'].isna().sum())\n",
    "print(test['Airline'].isna().sum())"
   ]
  },
  {
   "cell_type": "code",
   "execution_count": 72,
   "id": "0f350e7a-bcda-47f6-8bc9-cba9a761f9fa",
   "metadata": {
    "tags": []
   },
   "outputs": [
    {
     "data": {
      "text/plain": [
       "Southwest Airlines Co.                       204190\n",
       "Delta Air Lines Inc.                         100926\n",
       "SkyWest Airlines Inc.                         97475\n",
       "United Air Lines Inc.                         94375\n",
       "American Airlines Inc.                        92893\n",
       "JetBlue Airways                               46686\n",
       "Republic Airlines                             37560\n",
       "Alaska Airlines Inc.                          32656\n",
       "Envoy Air                                     30860\n",
       "Spirit Air Lines                              28091\n",
       "Comair Inc.                                   27875\n",
       "Mesa Airlines Inc.                            27655\n",
       "Endeavor Air Inc.                             25958\n",
       "ExpressJet Airlines Inc.                      22631\n",
       "Frontier Airlines Inc.                        19599\n",
       "Allegiant Air                                 15402\n",
       "Air Wisconsin Airlines Corp                   15005\n",
       "Horizon Air                                   14689\n",
       "Hawaiian Airlines Inc.                        12233\n",
       "Capital Cargo International                   11177\n",
       "GoJet Airlines, LLC d/b/a United Express      10677\n",
       "Trans States Airlines                         10493\n",
       "Compass Airlines                               9906\n",
       "Commutair Aka Champlain Enterprises, Inc.      8018\n",
       "Virgin America                                 1478\n",
       "Empire Airlines Inc.                           1193\n",
       "Peninsula Airways Inc.                          165\n",
       "Cape Air                                        134\n",
       "Name: Airline, dtype: int64"
      ]
     },
     "execution_count": 72,
     "metadata": {},
     "output_type": "execute_result"
    }
   ],
   "source": [
    "train['Airline'].value_counts()"
   ]
  },
  {
   "cell_type": "markdown",
   "id": "265bd039-3807-43c3-ba78-0a5b2445b5ae",
   "metadata": {},
   "source": [
    "## Carrier_ID(DOT) --> Airline과 동일(drop)"
   ]
  },
  {
   "cell_type": "code",
   "execution_count": 74,
   "id": "53418e4e-fe10-474a-b9f6-9e2c9202e58d",
   "metadata": {
    "tags": []
   },
   "outputs": [
    {
     "name": "stdout",
     "output_type": "stream",
     "text": [
      "Estimated_Departure_Time    109019\n",
      "Estimated_Arrival_Time      109040\n",
      "Origin_State                109015\n",
      "Destination_State           109079\n",
      "Carrier_Code(IATA)          108990\n",
      "Carrier_ID(DOT)             108997\n",
      "Delay                       744999\n",
      "dtype: int64\n",
      "\n",
      "Estimated_Departure_Time    108984\n",
      "Estimated_Arrival_Time      109048\n",
      "Origin_State                106505\n",
      "Destination_State           106523\n",
      "Carrier_Code(IATA)          108993\n",
      "Carrier_ID(DOT)             109006\n",
      "dtype: int64\n"
     ]
    }
   ],
   "source": [
    "print(train.isna().sum()[train.isna().sum()>0])\n",
    "print()\n",
    "print(test.isna().sum()[test.isna().sum()>0])"
   ]
  },
  {
   "cell_type": "code",
   "execution_count": 75,
   "id": "691397f4-3175-4662-94be-00303579b291",
   "metadata": {
    "tags": []
   },
   "outputs": [
    {
     "data": {
      "text/plain": [
       "19393.0    182025\n",
       "19790.0     89958\n",
       "20304.0     86902\n",
       "19977.0     83984\n",
       "19805.0     82860\n",
       "20409.0     41615\n",
       "20452.0     33351\n",
       "19930.0     29085\n",
       "20398.0     27474\n",
       "20416.0     24983\n",
       "20397.0     24838\n",
       "20378.0     24699\n",
       "20363.0     23113\n",
       "20366.0     20197\n",
       "20436.0     17440\n",
       "20368.0     13739\n",
       "20046.0     13319\n",
       "19687.0     13107\n",
       "19690.0     10921\n",
       "20427.0      9962\n",
       "20500.0      9532\n",
       "20237.0      9321\n",
       "21167.0      8813\n",
       "20445.0      7124\n",
       "21171.0      1324\n",
       "20263.0      1052\n",
       "20225.0       142\n",
       "20253.0       123\n",
       "Name: Carrier_ID(DOT), dtype: int64"
      ]
     },
     "execution_count": 75,
     "metadata": {},
     "output_type": "execute_result"
    }
   ],
   "source": [
    "train['Carrier_ID(DOT)'].value_counts()"
   ]
  },
  {
   "cell_type": "markdown",
   "id": "0f3ba89f-371d-44d6-b9a4-13f840b4c112",
   "metadata": {},
   "source": [
    "## Origin_State"
   ]
  },
  {
   "cell_type": "code",
   "execution_count": 76,
   "id": "164c915f-cc5e-42c3-82e4-e7a8b8e7d9b2",
   "metadata": {
    "tags": []
   },
   "outputs": [
    {
     "data": {
      "text/plain": [
       "Index(['Month', 'Day_of_Month', 'Estimated_Departure_Time',\n",
       "       'Estimated_Arrival_Time', 'Cancelled', 'Diverted', 'Origin_Airport',\n",
       "       'Origin_Airport_ID', 'Origin_State', 'Destination_Airport',\n",
       "       'Destination_Airport_ID', 'Destination_State', 'Distance', 'Airline',\n",
       "       'Carrier_Code(IATA)', 'Carrier_ID(DOT)', 'Tail_Number', 'Delay'],\n",
       "      dtype='object')"
      ]
     },
     "execution_count": 76,
     "metadata": {},
     "output_type": "execute_result"
    }
   ],
   "source": [
    "train.columns"
   ]
  },
  {
   "cell_type": "code",
   "execution_count": 83,
   "id": "e13aa644-472a-4944-bc03-e993047fd4cf",
   "metadata": {
    "tags": []
   },
   "outputs": [
    {
     "data": {
      "text/plain": [
       "374"
      ]
     },
     "execution_count": 83,
     "metadata": {},
     "output_type": "execute_result"
    }
   ],
   "source": [
    "train['Origin_Airport'].nunique()"
   ]
  },
  {
   "cell_type": "code",
   "execution_count": 81,
   "id": "66ede4e5-d1e5-4b39-b620-edc7e3a6c4fa",
   "metadata": {
    "tags": []
   },
   "outputs": [
    {
     "data": {
      "text/plain": [
       "374"
      ]
     },
     "execution_count": 81,
     "metadata": {},
     "output_type": "execute_result"
    }
   ],
   "source": [
    "train['Origin_Airport_ID'].nunique()"
   ]
  },
  {
   "cell_type": "code",
   "execution_count": 82,
   "id": "78466544-993b-479b-9dfb-f0809a0d5499",
   "metadata": {
    "tags": []
   },
   "outputs": [
    {
     "data": {
      "text/plain": [
       "52"
      ]
     },
     "execution_count": 82,
     "metadata": {},
     "output_type": "execute_result"
    }
   ],
   "source": [
    "train['Origin_State'].nunique()"
   ]
  },
  {
   "cell_type": "code",
   "execution_count": 78,
   "id": "8081b9e5-fd78-4e2d-a3de-c1247e5e4a02",
   "metadata": {
    "tags": []
   },
   "outputs": [
    {
     "data": {
      "text/plain": [
       "Origin_Airport_ID  Origin_State\n",
       "10135              Pennsylvania     618\n",
       "10136              Texas            179\n",
       "10140              New Mexico      3243\n",
       "10141              South Dakota      59\n",
       "10146              Georgia           93\n",
       "                                   ... \n",
       "15919              Arkansas        1536\n",
       "15991              Alaska           103\n",
       "16101              Washington       132\n",
       "16218              Arizona          140\n",
       "16869              North Dakota      27\n",
       "Length: 374, dtype: int64"
      ]
     },
     "execution_count": 78,
     "metadata": {},
     "output_type": "execute_result"
    }
   ],
   "source": [
    "train[['Origin_Airport_ID','Origin_State']].value_counts().sort_index()"
   ]
  },
  {
   "cell_type": "code",
   "execution_count": null,
   "id": "0551b6b3-d574-4d26-ba0a-7ad43c436f0f",
   "metadata": {},
   "outputs": [],
   "source": []
  },
  {
   "cell_type": "code",
   "execution_count": null,
   "id": "5fbe8462-5bfa-474e-9e24-43dde9a35ab6",
   "metadata": {},
   "outputs": [],
   "source": []
  },
  {
   "cell_type": "code",
   "execution_count": null,
   "id": "1b094793-6dc2-4f00-9b58-500a2ecce047",
   "metadata": {},
   "outputs": [],
   "source": []
  },
  {
   "cell_type": "code",
   "execution_count": null,
   "id": "f5d5a6a5-5414-4ee0-bdff-eb89ad6f30ba",
   "metadata": {},
   "outputs": [],
   "source": []
  },
  {
   "cell_type": "code",
   "execution_count": null,
   "id": "924c4cb6-3b7f-4fb8-aa7e-205562f9c4c0",
   "metadata": {},
   "outputs": [],
   "source": []
  },
  {
   "cell_type": "code",
   "execution_count": null,
   "id": "b514357a-b6f2-4d77-b2b5-c64d93a1ffae",
   "metadata": {},
   "outputs": [],
   "source": []
  },
  {
   "cell_type": "code",
   "execution_count": null,
   "id": "d82f9f41-e72b-4ee5-86f5-4d579c572af5",
   "metadata": {},
   "outputs": [],
   "source": []
  },
  {
   "cell_type": "code",
   "execution_count": null,
   "id": "be40bd12-e2f0-440a-a54d-760683824bba",
   "metadata": {},
   "outputs": [],
   "source": []
  },
  {
   "cell_type": "code",
   "execution_count": null,
   "id": "57b3d7a5-f769-4110-9e6b-c1bfd25a878b",
   "metadata": {},
   "outputs": [],
   "source": []
  },
  {
   "cell_type": "code",
   "execution_count": null,
   "id": "d3017680-d5bf-443f-9627-3fa099a90126",
   "metadata": {},
   "outputs": [],
   "source": []
  },
  {
   "cell_type": "code",
   "execution_count": null,
   "id": "463d3817-ca68-4ba0-9536-e5901c05b67e",
   "metadata": {},
   "outputs": [],
   "source": [
    "dfgsdf sdfadf"
   ]
  },
  {
   "cell_type": "code",
   "execution_count": null,
   "id": "b217d6c0-6b2f-4bdd-93e4-6aab356241e5",
   "metadata": {},
   "outputs": [],
   "source": [
    "코드구경잘하고가요 ~♥ -함-"
   ]
  },
  {
   "cell_type": "code",
   "execution_count": null,
   "id": "3ab2b79d-de9f-4273-a8cd-375411f0ae6d",
   "metadata": {},
   "outputs": [],
   "source": []
  },
  {
   "cell_type": "code",
   "execution_count": null,
   "id": "c4311837-0c4c-470e-ae7b-b2e7f14dfc60",
   "metadata": {},
   "outputs": [],
   "source": []
  },
  {
   "cell_type": "code",
   "execution_count": null,
   "id": "a14b3c15-fddb-4efa-9009-83b00240c03a",
   "metadata": {},
   "outputs": [],
   "source": []
  },
  {
   "cell_type": "code",
   "execution_count": null,
   "id": "c161a32c-d856-4e70-9304-21eab42ed70e",
   "metadata": {},
   "outputs": [],
   "source": []
  },
  {
   "cell_type": "markdown",
   "id": "e1318540-e11d-4a03-a407-660e12d12b6b",
   "metadata": {},
   "source": [
    "# 삭제"
   ]
  },
  {
   "cell_type": "markdown",
   "id": "73a8b1b1-5728-4ea8-b175-e7d4e597a21e",
   "metadata": {},
   "source": [
    "## Diverted  --> drop"
   ]
  },
  {
   "cell_type": "markdown",
   "id": "6c796b7b-05ae-4b75-8c1a-8c50edfc0da0",
   "metadata": {},
   "source": [
    "- 경유지 변경된 비행기 없음 "
   ]
  },
  {
   "cell_type": "code",
   "execution_count": null,
   "id": "19040503-9c0c-4823-9593-d8c8f9625494",
   "metadata": {
    "tags": []
   },
   "outputs": [],
   "source": [
    "print(train['Diverted'].value_counts())\n",
    "print(test['Diverted'].value_counts())"
   ]
  },
  {
   "cell_type": "code",
   "execution_count": null,
   "id": "265ad382-1837-4eca-96b0-63bbf7ca0e71",
   "metadata": {
    "tags": []
   },
   "outputs": [],
   "source": [
    "train=train.drop('Diverted',axis=1)\n",
    "test=test.drop('Diverted',axis=1)"
   ]
  },
  {
   "cell_type": "markdown",
   "id": "569ffa74-e080-430d-95c9-f819101972f8",
   "metadata": {},
   "source": [
    "## Carrier_Code(IATA)  --> drop"
   ]
  },
  {
   "cell_type": "code",
   "execution_count": null,
   "id": "f053e9d9-3bf2-420e-88f4-c1347e2f0eff",
   "metadata": {},
   "outputs": [],
   "source": [
    "train=train.drop('Carrier_Code(IATA)',axis=1)\n",
    "test=test.drop('Carrier_Code(IATA)',axis=1)"
   ]
  },
  {
   "cell_type": "markdown",
   "id": "0e9eca65-4e4e-4dcf-90ac-cea9e494ca2f",
   "metadata": {},
   "source": [
    "## Carrier_ID(DOT)  --> drop"
   ]
  },
  {
   "cell_type": "code",
   "execution_count": null,
   "id": "450927e0-9495-4831-84ec-da496a6858f7",
   "metadata": {},
   "outputs": [],
   "source": [
    "train=train.drop('Carrier_ID(DOT)',axis=1)\n",
    "test=test.drop('Carrier_ID(DOT)',axis=1)"
   ]
  },
  {
   "cell_type": "code",
   "execution_count": null,
   "id": "d64d3c03-28b6-4b11-922c-d497ed62db55",
   "metadata": {},
   "outputs": [],
   "source": []
  },
  {
   "cell_type": "markdown",
   "id": "51aa3bc4-4386-446e-9999-a82d38715391",
   "metadata": {},
   "source": [
    "# target"
   ]
  },
  {
   "cell_type": "code",
   "execution_count": null,
   "id": "a5f2ee29-0561-4b47-81a1-c117fe13628e",
   "metadata": {
    "tags": []
   },
   "outputs": [],
   "source": [
    "train[['Airline','Delay']].value_counts().sort_index()"
   ]
  },
  {
   "cell_type": "code",
   "execution_count": null,
   "id": "f7d1987e-1af2-41b5-9759-e1543bc22e64",
   "metadata": {},
   "outputs": [],
   "source": []
  },
  {
   "cell_type": "code",
   "execution_count": null,
   "id": "f51d76d2-e7e0-4cbb-af3a-a83316ce7d5d",
   "metadata": {},
   "outputs": [],
   "source": []
  },
  {
   "cell_type": "code",
   "execution_count": null,
   "id": "5c02ae15-c369-4bdb-af99-8d1ec8685f68",
   "metadata": {},
   "outputs": [],
   "source": []
  }
 ],
 "metadata": {
  "kernelspec": {
   "display_name": "Python 3 (ipykernel)",
   "language": "python",
   "name": "python3"
  },
  "language_info": {
   "codemirror_mode": {
    "name": "ipython",
    "version": 3
   },
   "file_extension": ".py",
   "mimetype": "text/x-python",
   "name": "python",
   "nbconvert_exporter": "python",
   "pygments_lexer": "ipython3",
   "version": "3.8.8"
  }
 },
 "nbformat": 4,
 "nbformat_minor": 5
}
