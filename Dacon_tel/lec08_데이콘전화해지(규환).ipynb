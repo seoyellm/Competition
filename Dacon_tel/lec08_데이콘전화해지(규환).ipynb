{
 "cells": [
  {
   "cell_type": "markdown",
   "id": "fbb9a4ac-1e8e-4e8e-ba83-08f11bec52f4",
   "metadata": {},
   "source": [
    "데이콘 Basic 전화 해지 여부 분류 AI 경진대회\n",
    "\n",
    "https://dacon.io/competitions/official/236075/\n",
    "\n",
    "<pre>\n",
    "30200개의 데이터\n",
    "ID : 샘플 별 고유 ID\n",
    "가입일 : 서비스에 가입한 일수\n",
    "음성사서함이용 : 음성사서함 이용 건수\n",
    "주간통화시간 : 8시 ~ 16시까지의 통화 시간\n",
    "주간통화횟수 : 8시 ~ 16시까지의 통화 횟수\n",
    "주간통화요금 : 8시 ~ 16시까지의 통화 요금\n",
    "저녁통화시간 : 16시 ~ 0시까지의 통화 시간\n",
    "저녁통화횟수 : 16시 ~ 0시까지의 통화 횟수\n",
    "저녁통화요금 : 16시 ~ 0시까지의 통화 요금\n",
    "밤통화시간 : 0시 ~ 8시까지의 통화 시간\n",
    "밤통화횟수 : 0시 ~ 8시까지의 통화 횟수\n",
    "밤통화요금 : 0시 ~ 8시까지의 통화 요금\n",
    "상담전화건수 : 고객센터에 전화를 건 횟수\n",
    "전화해지여부 : 0(서비스 유지)/ 1(서비스 해지)"
   ]
  },
  {
   "cell_type": "code",
   "execution_count": 1,
   "id": "408a1209-2fc0-4566-acfc-023d052ff7c1",
   "metadata": {
    "tags": []
   },
   "outputs": [],
   "source": [
    "import warnings\n",
    "warnings.filterwarnings(action='ignore')\n",
    "import re\n",
    "from datetime import datetime, date, time, timedelta\n",
    "from dateutil.relativedelta import relativedelta\n",
    "\n",
    "import numpy as np\n",
    "import pandas as pd\n",
    "pd.set_option('display.max_columns', None)\n",
    "\n",
    "import matplotlib.pyplot as plt\n",
    "import seaborn as sns\n",
    "# plt.rcParams['figure.figsize'] = [6.4, 4.8]\n",
    "\n",
    "from imblearn.under_sampling import RandomUnderSampler, TomekLinks\n",
    "from imblearn.over_sampling import SMOTE, RandomOverSampler, ADASYN\n",
    "from imblearn.combine import SMOTEENN, SMOTETomek\n",
    "\n",
    "from sklearn.datasets import load_iris, load_wine, load_diabetes\n",
    "from sklearn.impute import SimpleImputer\n",
    "from sklearn.preprocessing import LabelEncoder, OneHotEncoder, StandardScaler, MinMaxScaler, RobustScaler, Binarizer, label_binarize\n",
    "from sklearn.model_selection import train_test_split, cross_val_score, cross_validate, KFold, StratifiedKFold, GridSearchCV\n",
    "from sklearn.linear_model import LinearRegression, Lasso, Ridge\n",
    "from sklearn.linear_model import LogisticRegression\n",
    "from sklearn.tree import DecisionTreeClassifier, DecisionTreeRegressor\n",
    "from sklearn.ensemble import AdaBoostRegressor, VotingRegressor, RandomForestRegressor, ExtraTreesClassifier\n",
    "from sklearn.ensemble import VotingClassifier, RandomForestClassifier\n",
    "from sklearn.svm import SVC\n",
    "from sklearn.cluster import KMeans\n",
    "from sklearn.metrics import confusion_matrix, classification_report\n",
    "from sklearn.metrics import accuracy_score, f1_score, recall_score\n",
    "from sklearn.metrics import precision_score, precision_recall_curve#, plot_precision_recall_curve\n",
    "from sklearn.metrics import auc, roc_auc_score, roc_curve#, plot_roc_curve\n",
    "from sklearn.metrics import mean_squared_error, mean_squared_log_error, r2_score\n",
    "from xgboost import XGBRegressor, XGBClassifier\n",
    "from lightgbm import LGBMRegressor, LGBMClassifier\n",
    "\n",
    "import missingno as msno\n",
    "\n",
    "from pycaret.classification import *\n",
    "\n",
    "sns.set()\n",
    "plt.rcParams['font.family'] = 'Malgun Gothic'\n",
    "plt.rcParams['axes.unicode_minus'] = False"
   ]
  },
  {
   "cell_type": "markdown",
   "id": "a5d0af75-2190-4412-92e0-0fb9d3486e85",
   "metadata": {},
   "source": [
    "# 데이터로드 target=전화해지여부"
   ]
  },
  {
   "cell_type": "code",
   "execution_count": 2,
   "id": "446de680-7653-49e5-975e-c88801d6d952",
   "metadata": {
    "tags": []
   },
   "outputs": [
    {
     "name": "stdout",
     "output_type": "stream",
     "text": [
      "<class 'pandas.core.frame.DataFrame'>\n",
      "RangeIndex: 30200 entries, 0 to 30199\n",
      "Data columns (total 13 columns):\n",
      " #   Column   Non-Null Count  Dtype  \n",
      "---  ------   --------------  -----  \n",
      " 0   가입일      30200 non-null  int64  \n",
      " 1   음성사서함이용  30200 non-null  int64  \n",
      " 2   주간통화시간   30200 non-null  float64\n",
      " 3   주간통화횟수   30200 non-null  int64  \n",
      " 4   주간통화요금   30200 non-null  float64\n",
      " 5   저녁통화시간   30200 non-null  float64\n",
      " 6   저녁통화횟수   30200 non-null  int64  \n",
      " 7   저녁통화요금   30200 non-null  float64\n",
      " 8   밤통화시간    30200 non-null  float64\n",
      " 9   밤통화횟수    30200 non-null  int64  \n",
      " 10  밤통화요금    30200 non-null  float64\n",
      " 11  상담전화건수   30200 non-null  int64  \n",
      " 12  전화해지여부   30200 non-null  int64  \n",
      "dtypes: float64(6), int64(7)\n",
      "memory usage: 3.0 MB\n"
     ]
    }
   ],
   "source": [
    "train = pd.read_csv('./train.csv')\n",
    "test = pd.read_csv('./test.csv')\n",
    "score_df = pd.read_csv('score_df.csv')\n",
    "train = train.drop('ID', axis=1)\n",
    "test = test.drop('ID', axis=1)\n",
    "train.info()"
   ]
  },
  {
   "cell_type": "code",
   "execution_count": 3,
   "id": "2be15b03-b9ef-4a75-9135-095d619913da",
   "metadata": {
    "tags": []
   },
   "outputs": [
    {
     "name": "stdout",
     "output_type": "stream",
     "text": [
      "<class 'pandas.core.frame.DataFrame'>\n",
      "RangeIndex: 12943 entries, 0 to 12942\n",
      "Data columns (total 12 columns):\n",
      " #   Column   Non-Null Count  Dtype  \n",
      "---  ------   --------------  -----  \n",
      " 0   가입일      12943 non-null  int64  \n",
      " 1   음성사서함이용  12943 non-null  int64  \n",
      " 2   주간통화시간   12943 non-null  float64\n",
      " 3   주간통화횟수   12943 non-null  int64  \n",
      " 4   주간통화요금   12943 non-null  float64\n",
      " 5   저녁통화시간   12943 non-null  float64\n",
      " 6   저녁통화횟수   12943 non-null  int64  \n",
      " 7   저녁통화요금   12943 non-null  float64\n",
      " 8   밤통화시간    12943 non-null  float64\n",
      " 9   밤통화횟수    12943 non-null  int64  \n",
      " 10  밤통화요금    12943 non-null  float64\n",
      " 11  상담전화건수   12943 non-null  int64  \n",
      "dtypes: float64(6), int64(6)\n",
      "memory usage: 1.2 MB\n"
     ]
    }
   ],
   "source": [
    "test.info()"
   ]
  },
  {
   "cell_type": "code",
   "execution_count": 4,
   "id": "2f96dcf0-bad3-4556-8944-b3906380f26a",
   "metadata": {
    "tags": []
   },
   "outputs": [
    {
     "data": {
      "text/html": [
       "<div>\n",
       "<style scoped>\n",
       "    .dataframe tbody tr th:only-of-type {\n",
       "        vertical-align: middle;\n",
       "    }\n",
       "\n",
       "    .dataframe tbody tr th {\n",
       "        vertical-align: top;\n",
       "    }\n",
       "\n",
       "    .dataframe thead th {\n",
       "        text-align: right;\n",
       "    }\n",
       "</style>\n",
       "<table border=\"1\" class=\"dataframe\">\n",
       "  <thead>\n",
       "    <tr style=\"text-align: right;\">\n",
       "      <th></th>\n",
       "      <th>가입일</th>\n",
       "      <th>음성사서함이용</th>\n",
       "      <th>주간통화시간</th>\n",
       "      <th>주간통화횟수</th>\n",
       "      <th>주간통화요금</th>\n",
       "      <th>저녁통화시간</th>\n",
       "      <th>저녁통화횟수</th>\n",
       "      <th>저녁통화요금</th>\n",
       "      <th>밤통화시간</th>\n",
       "      <th>밤통화횟수</th>\n",
       "      <th>밤통화요금</th>\n",
       "      <th>상담전화건수</th>\n",
       "      <th>전화해지여부</th>\n",
       "    </tr>\n",
       "  </thead>\n",
       "  <tbody>\n",
       "    <tr>\n",
       "      <th>0</th>\n",
       "      <td>329</td>\n",
       "      <td>0</td>\n",
       "      <td>99.2</td>\n",
       "      <td>93</td>\n",
       "      <td>27.3</td>\n",
       "      <td>268.8</td>\n",
       "      <td>68</td>\n",
       "      <td>28.92</td>\n",
       "      <td>262.9</td>\n",
       "      <td>328</td>\n",
       "      <td>32.89</td>\n",
       "      <td>2</td>\n",
       "      <td>0</td>\n",
       "    </tr>\n",
       "    <tr>\n",
       "      <th>1</th>\n",
       "      <td>2</td>\n",
       "      <td>80</td>\n",
       "      <td>323.9</td>\n",
       "      <td>323</td>\n",
       "      <td>83.7</td>\n",
       "      <td>269.4</td>\n",
       "      <td>326</td>\n",
       "      <td>32.09</td>\n",
       "      <td>322.8</td>\n",
       "      <td>209</td>\n",
       "      <td>32.32</td>\n",
       "      <td>2</td>\n",
       "      <td>0</td>\n",
       "    </tr>\n",
       "    <tr>\n",
       "      <th>2</th>\n",
       "      <td>93</td>\n",
       "      <td>28</td>\n",
       "      <td>282.4</td>\n",
       "      <td>323</td>\n",
       "      <td>34.2</td>\n",
       "      <td>207.0</td>\n",
       "      <td>322</td>\n",
       "      <td>32.82</td>\n",
       "      <td>280.8</td>\n",
       "      <td>328</td>\n",
       "      <td>8.28</td>\n",
       "      <td>0</td>\n",
       "      <td>0</td>\n",
       "    </tr>\n",
       "    <tr>\n",
       "      <th>3</th>\n",
       "      <td>223</td>\n",
       "      <td>1</td>\n",
       "      <td>221.4</td>\n",
       "      <td>223</td>\n",
       "      <td>25.1</td>\n",
       "      <td>233.0</td>\n",
       "      <td>61</td>\n",
       "      <td>23.90</td>\n",
       "      <td>203.8</td>\n",
       "      <td>234</td>\n",
       "      <td>9.36</td>\n",
       "      <td>0</td>\n",
       "      <td>0</td>\n",
       "    </tr>\n",
       "    <tr>\n",
       "      <th>4</th>\n",
       "      <td>222</td>\n",
       "      <td>0</td>\n",
       "      <td>96.3</td>\n",
       "      <td>222</td>\n",
       "      <td>28.7</td>\n",
       "      <td>223.9</td>\n",
       "      <td>69</td>\n",
       "      <td>28.08</td>\n",
       "      <td>263.1</td>\n",
       "      <td>223</td>\n",
       "      <td>2.80</td>\n",
       "      <td>8</td>\n",
       "      <td>0</td>\n",
       "    </tr>\n",
       "  </tbody>\n",
       "</table>\n",
       "</div>"
      ],
      "text/plain": [
       "   가입일  음성사서함이용  주간통화시간  주간통화횟수  주간통화요금  저녁통화시간  저녁통화횟수  저녁통화요금  밤통화시간  밤통화횟수  \\\n",
       "0  329        0    99.2      93    27.3   268.8      68   28.92  262.9    328   \n",
       "1    2       80   323.9     323    83.7   269.4     326   32.09  322.8    209   \n",
       "2   93       28   282.4     323    34.2   207.0     322   32.82  280.8    328   \n",
       "3  223        1   221.4     223    25.1   233.0      61   23.90  203.8    234   \n",
       "4  222        0    96.3     222    28.7   223.9      69   28.08  263.1    223   \n",
       "\n",
       "   밤통화요금  상담전화건수  전화해지여부  \n",
       "0  32.89       2       0  \n",
       "1  32.32       2       0  \n",
       "2   8.28       0       0  \n",
       "3   9.36       0       0  \n",
       "4   2.80       8       0  "
      ]
     },
     "execution_count": 4,
     "metadata": {},
     "output_type": "execute_result"
    }
   ],
   "source": [
    "train.head()"
   ]
  },
  {
   "cell_type": "code",
   "execution_count": 5,
   "id": "4b4688e7-1ded-4dbb-a5cb-ea1f74e968ed",
   "metadata": {
    "tags": []
   },
   "outputs": [
    {
     "data": {
      "text/plain": [
       "Index(['가입일', '음성사서함이용', '주간통화시간', '주간통화횟수', '주간통화요금', '저녁통화시간', '저녁통화횟수',\n",
       "       '저녁통화요금', '밤통화시간', '밤통화횟수', '밤통화요금', '상담전화건수', '전화해지여부'],\n",
       "      dtype='object')"
      ]
     },
     "execution_count": 5,
     "metadata": {},
     "output_type": "execute_result"
    }
   ],
   "source": [
    "train.columns"
   ]
  },
  {
   "cell_type": "code",
   "execution_count": 6,
   "id": "51f3272b-ea0c-4c4c-8a89-2df7244cb3ad",
   "metadata": {
    "tags": []
   },
   "outputs": [
    {
     "data": {
      "text/html": [
       "<div>\n",
       "<style scoped>\n",
       "    .dataframe tbody tr th:only-of-type {\n",
       "        vertical-align: middle;\n",
       "    }\n",
       "\n",
       "    .dataframe tbody tr th {\n",
       "        vertical-align: top;\n",
       "    }\n",
       "\n",
       "    .dataframe thead th {\n",
       "        text-align: right;\n",
       "    }\n",
       "</style>\n",
       "<table border=\"1\" class=\"dataframe\">\n",
       "  <thead>\n",
       "    <tr style=\"text-align: right;\">\n",
       "      <th></th>\n",
       "      <th>count</th>\n",
       "      <th>mean</th>\n",
       "      <th>std</th>\n",
       "      <th>min</th>\n",
       "      <th>25%</th>\n",
       "      <th>50%</th>\n",
       "      <th>75%</th>\n",
       "      <th>max</th>\n",
       "      <th>count</th>\n",
       "      <th>mean</th>\n",
       "      <th>std</th>\n",
       "      <th>min</th>\n",
       "      <th>25%</th>\n",
       "      <th>50%</th>\n",
       "      <th>75%</th>\n",
       "      <th>max</th>\n",
       "    </tr>\n",
       "  </thead>\n",
       "  <tbody>\n",
       "    <tr>\n",
       "      <th>가입일</th>\n",
       "      <td>26882.0</td>\n",
       "      <td>159.441857</td>\n",
       "      <td>124.193729</td>\n",
       "      <td>1.00</td>\n",
       "      <td>63.00</td>\n",
       "      <td>116.00</td>\n",
       "      <td>228.00</td>\n",
       "      <td>2212.00</td>\n",
       "      <td>3318.0</td>\n",
       "      <td>162.088608</td>\n",
       "      <td>120.112890</td>\n",
       "      <td>1.00</td>\n",
       "      <td>67.00</td>\n",
       "      <td>135.00</td>\n",
       "      <td>229.000</td>\n",
       "      <td>2012.00</td>\n",
       "    </tr>\n",
       "    <tr>\n",
       "      <th>음성사서함이용</th>\n",
       "      <td>26882.0</td>\n",
       "      <td>12.587159</td>\n",
       "      <td>25.566918</td>\n",
       "      <td>0.00</td>\n",
       "      <td>0.00</td>\n",
       "      <td>1.00</td>\n",
       "      <td>23.00</td>\n",
       "      <td>1112.00</td>\n",
       "      <td>3318.0</td>\n",
       "      <td>7.587101</td>\n",
       "      <td>18.348552</td>\n",
       "      <td>0.00</td>\n",
       "      <td>0.00</td>\n",
       "      <td>1.00</td>\n",
       "      <td>1.000</td>\n",
       "      <td>117.00</td>\n",
       "    </tr>\n",
       "    <tr>\n",
       "      <th>주간통화시간</th>\n",
       "      <td>26882.0</td>\n",
       "      <td>249.674619</td>\n",
       "      <td>84.830161</td>\n",
       "      <td>0.00</td>\n",
       "      <td>222.50</td>\n",
       "      <td>233.60</td>\n",
       "      <td>289.40</td>\n",
       "      <td>481.20</td>\n",
       "      <td>3318.0</td>\n",
       "      <td>257.764708</td>\n",
       "      <td>80.513591</td>\n",
       "      <td>0.10</td>\n",
       "      <td>224.20</td>\n",
       "      <td>250.25</td>\n",
       "      <td>290.800</td>\n",
       "      <td>481.90</td>\n",
       "    </tr>\n",
       "    <tr>\n",
       "      <th>주간통화횟수</th>\n",
       "      <td>26882.0</td>\n",
       "      <td>158.784131</td>\n",
       "      <td>101.747847</td>\n",
       "      <td>0.00</td>\n",
       "      <td>88.00</td>\n",
       "      <td>115.00</td>\n",
       "      <td>223.00</td>\n",
       "      <td>489.00</td>\n",
       "      <td>3318.0</td>\n",
       "      <td>162.348403</td>\n",
       "      <td>100.104352</td>\n",
       "      <td>0.00</td>\n",
       "      <td>88.00</td>\n",
       "      <td>143.00</td>\n",
       "      <td>223.000</td>\n",
       "      <td>489.00</td>\n",
       "    </tr>\n",
       "    <tr>\n",
       "      <th>주간통화요금</th>\n",
       "      <td>26882.0</td>\n",
       "      <td>41.669660</td>\n",
       "      <td>23.536478</td>\n",
       "      <td>0.00</td>\n",
       "      <td>24.50</td>\n",
       "      <td>31.20</td>\n",
       "      <td>46.20</td>\n",
       "      <td>118.60</td>\n",
       "      <td>3318.0</td>\n",
       "      <td>36.406841</td>\n",
       "      <td>19.427776</td>\n",
       "      <td>0.10</td>\n",
       "      <td>24.00</td>\n",
       "      <td>29.80</td>\n",
       "      <td>40.575</td>\n",
       "      <td>117.80</td>\n",
       "    </tr>\n",
       "    <tr>\n",
       "      <th>저녁통화시간</th>\n",
       "      <td>26882.0</td>\n",
       "      <td>263.251451</td>\n",
       "      <td>74.741785</td>\n",
       "      <td>0.10</td>\n",
       "      <td>223.70</td>\n",
       "      <td>242.95</td>\n",
       "      <td>290.40</td>\n",
       "      <td>481.60</td>\n",
       "      <td>3318.0</td>\n",
       "      <td>263.212899</td>\n",
       "      <td>68.344831</td>\n",
       "      <td>21.10</td>\n",
       "      <td>223.90</td>\n",
       "      <td>244.10</td>\n",
       "      <td>289.900</td>\n",
       "      <td>481.40</td>\n",
       "    </tr>\n",
       "    <tr>\n",
       "      <th>저녁통화횟수</th>\n",
       "      <td>26882.0</td>\n",
       "      <td>158.628078</td>\n",
       "      <td>102.359429</td>\n",
       "      <td>0.00</td>\n",
       "      <td>87.00</td>\n",
       "      <td>112.00</td>\n",
       "      <td>223.00</td>\n",
       "      <td>489.00</td>\n",
       "      <td>3318.0</td>\n",
       "      <td>157.230561</td>\n",
       "      <td>100.908386</td>\n",
       "      <td>20.00</td>\n",
       "      <td>87.00</td>\n",
       "      <td>111.00</td>\n",
       "      <td>223.000</td>\n",
       "      <td>489.00</td>\n",
       "    </tr>\n",
       "    <tr>\n",
       "      <th>저녁통화요금</th>\n",
       "      <td>26882.0</td>\n",
       "      <td>25.389364</td>\n",
       "      <td>8.223539</td>\n",
       "      <td>0.00</td>\n",
       "      <td>22.22</td>\n",
       "      <td>23.30</td>\n",
       "      <td>28.82</td>\n",
       "      <td>49.98</td>\n",
       "      <td>3318.0</td>\n",
       "      <td>25.433927</td>\n",
       "      <td>7.490529</td>\n",
       "      <td>2.29</td>\n",
       "      <td>22.22</td>\n",
       "      <td>23.32</td>\n",
       "      <td>28.880</td>\n",
       "      <td>49.89</td>\n",
       "    </tr>\n",
       "    <tr>\n",
       "      <th>밤통화시간</th>\n",
       "      <td>26882.0</td>\n",
       "      <td>263.512730</td>\n",
       "      <td>74.529181</td>\n",
       "      <td>20.80</td>\n",
       "      <td>223.70</td>\n",
       "      <td>242.70</td>\n",
       "      <td>290.50</td>\n",
       "      <td>481.80</td>\n",
       "      <td>3318.0</td>\n",
       "      <td>262.835142</td>\n",
       "      <td>67.395499</td>\n",
       "      <td>22.60</td>\n",
       "      <td>223.70</td>\n",
       "      <td>244.30</td>\n",
       "      <td>290.100</td>\n",
       "      <td>481.00</td>\n",
       "    </tr>\n",
       "    <tr>\n",
       "      <th>밤통화횟수</th>\n",
       "      <td>26882.0</td>\n",
       "      <td>157.158954</td>\n",
       "      <td>101.785060</td>\n",
       "      <td>20.00</td>\n",
       "      <td>87.00</td>\n",
       "      <td>107.00</td>\n",
       "      <td>222.00</td>\n",
       "      <td>490.00</td>\n",
       "      <td>3318.0</td>\n",
       "      <td>156.143761</td>\n",
       "      <td>101.216735</td>\n",
       "      <td>20.00</td>\n",
       "      <td>83.00</td>\n",
       "      <td>110.00</td>\n",
       "      <td>223.000</td>\n",
       "      <td>488.00</td>\n",
       "    </tr>\n",
       "    <tr>\n",
       "      <th>밤통화요금</th>\n",
       "      <td>26882.0</td>\n",
       "      <td>12.026648</td>\n",
       "      <td>9.432624</td>\n",
       "      <td>1.04</td>\n",
       "      <td>4.48</td>\n",
       "      <td>9.02</td>\n",
       "      <td>20.29</td>\n",
       "      <td>44.98</td>\n",
       "      <td>3318.0</td>\n",
       "      <td>12.463539</td>\n",
       "      <td>9.256371</td>\n",
       "      <td>2.02</td>\n",
       "      <td>6.32</td>\n",
       "      <td>9.23</td>\n",
       "      <td>20.330</td>\n",
       "      <td>44.89</td>\n",
       "    </tr>\n",
       "    <tr>\n",
       "      <th>상담전화건수</th>\n",
       "      <td>26882.0</td>\n",
       "      <td>2.246931</td>\n",
       "      <td>2.018357</td>\n",
       "      <td>0.00</td>\n",
       "      <td>2.00</td>\n",
       "      <td>2.00</td>\n",
       "      <td>2.00</td>\n",
       "      <td>11.00</td>\n",
       "      <td>3318.0</td>\n",
       "      <td>2.621459</td>\n",
       "      <td>2.269361</td>\n",
       "      <td>0.00</td>\n",
       "      <td>2.00</td>\n",
       "      <td>2.00</td>\n",
       "      <td>3.000</td>\n",
       "      <td>11.00</td>\n",
       "    </tr>\n",
       "    <tr>\n",
       "      <th>전화해지여부</th>\n",
       "      <td>26882.0</td>\n",
       "      <td>0.000000</td>\n",
       "      <td>0.000000</td>\n",
       "      <td>0.00</td>\n",
       "      <td>0.00</td>\n",
       "      <td>0.00</td>\n",
       "      <td>0.00</td>\n",
       "      <td>0.00</td>\n",
       "      <td>3318.0</td>\n",
       "      <td>1.000000</td>\n",
       "      <td>0.000000</td>\n",
       "      <td>1.00</td>\n",
       "      <td>1.00</td>\n",
       "      <td>1.00</td>\n",
       "      <td>1.000</td>\n",
       "      <td>1.00</td>\n",
       "    </tr>\n",
       "  </tbody>\n",
       "</table>\n",
       "</div>"
      ],
      "text/plain": [
       "           count        mean         std    min     25%     50%     75%  \\\n",
       "가입일      26882.0  159.441857  124.193729   1.00   63.00  116.00  228.00   \n",
       "음성사서함이용  26882.0   12.587159   25.566918   0.00    0.00    1.00   23.00   \n",
       "주간통화시간   26882.0  249.674619   84.830161   0.00  222.50  233.60  289.40   \n",
       "주간통화횟수   26882.0  158.784131  101.747847   0.00   88.00  115.00  223.00   \n",
       "주간통화요금   26882.0   41.669660   23.536478   0.00   24.50   31.20   46.20   \n",
       "저녁통화시간   26882.0  263.251451   74.741785   0.10  223.70  242.95  290.40   \n",
       "저녁통화횟수   26882.0  158.628078  102.359429   0.00   87.00  112.00  223.00   \n",
       "저녁통화요금   26882.0   25.389364    8.223539   0.00   22.22   23.30   28.82   \n",
       "밤통화시간    26882.0  263.512730   74.529181  20.80  223.70  242.70  290.50   \n",
       "밤통화횟수    26882.0  157.158954  101.785060  20.00   87.00  107.00  222.00   \n",
       "밤통화요금    26882.0   12.026648    9.432624   1.04    4.48    9.02   20.29   \n",
       "상담전화건수   26882.0    2.246931    2.018357   0.00    2.00    2.00    2.00   \n",
       "전화해지여부   26882.0    0.000000    0.000000   0.00    0.00    0.00    0.00   \n",
       "\n",
       "             max   count        mean         std    min     25%     50%  \\\n",
       "가입일      2212.00  3318.0  162.088608  120.112890   1.00   67.00  135.00   \n",
       "음성사서함이용  1112.00  3318.0    7.587101   18.348552   0.00    0.00    1.00   \n",
       "주간통화시간    481.20  3318.0  257.764708   80.513591   0.10  224.20  250.25   \n",
       "주간통화횟수    489.00  3318.0  162.348403  100.104352   0.00   88.00  143.00   \n",
       "주간통화요금    118.60  3318.0   36.406841   19.427776   0.10   24.00   29.80   \n",
       "저녁통화시간    481.60  3318.0  263.212899   68.344831  21.10  223.90  244.10   \n",
       "저녁통화횟수    489.00  3318.0  157.230561  100.908386  20.00   87.00  111.00   \n",
       "저녁통화요금     49.98  3318.0   25.433927    7.490529   2.29   22.22   23.32   \n",
       "밤통화시간     481.80  3318.0  262.835142   67.395499  22.60  223.70  244.30   \n",
       "밤통화횟수     490.00  3318.0  156.143761  101.216735  20.00   83.00  110.00   \n",
       "밤통화요금      44.98  3318.0   12.463539    9.256371   2.02    6.32    9.23   \n",
       "상담전화건수     11.00  3318.0    2.621459    2.269361   0.00    2.00    2.00   \n",
       "전화해지여부      0.00  3318.0    1.000000    0.000000   1.00    1.00    1.00   \n",
       "\n",
       "             75%      max  \n",
       "가입일      229.000  2012.00  \n",
       "음성사서함이용    1.000   117.00  \n",
       "주간통화시간   290.800   481.90  \n",
       "주간통화횟수   223.000   489.00  \n",
       "주간통화요금    40.575   117.80  \n",
       "저녁통화시간   289.900   481.40  \n",
       "저녁통화횟수   223.000   489.00  \n",
       "저녁통화요금    28.880    49.89  \n",
       "밤통화시간    290.100   481.00  \n",
       "밤통화횟수    223.000   488.00  \n",
       "밤통화요금     20.330    44.89  \n",
       "상담전화건수     3.000    11.00  \n",
       "전화해지여부     1.000     1.00  "
      ]
     },
     "execution_count": 6,
     "metadata": {},
     "output_type": "execute_result"
    }
   ],
   "source": [
    "df0 = train[train['전화해지여부']==0]\n",
    "df1 = train[train['전화해지여부']==1]\n",
    "stat_df = pd.concat([df0.describe().T,df1.describe().T], axis=1)\n",
    "stat_df"
   ]
  },
  {
   "cell_type": "code",
   "execution_count": 7,
   "id": "27935683-6376-490b-b595-0ad51c22a598",
   "metadata": {
    "tags": []
   },
   "outputs": [
    {
     "ename": "NameError",
     "evalue": "name 'score_df' is not defined",
     "output_type": "error",
     "traceback": [
      "\u001b[1;31m---------------------------------------------------------------------------\u001b[0m",
      "\u001b[1;31mNameError\u001b[0m                                 Traceback (most recent call last)",
      "Cell \u001b[1;32mIn[7], line 1\u001b[0m\n\u001b[1;32m----> 1\u001b[0m \u001b[43mscore_df\u001b[49m\u001b[38;5;241m.\u001b[39msort_values(\u001b[38;5;124m'\u001b[39m\u001b[38;5;124mf1\u001b[39m\u001b[38;5;124m'\u001b[39m, ascending\u001b[38;5;241m=\u001b[39m\u001b[38;5;28;01mTrue\u001b[39;00m)\n",
      "\u001b[1;31mNameError\u001b[0m: name 'score_df' is not defined"
     ]
    }
   ],
   "source": [
    "score_df.sort_values('f1', ascending=True)"
   ]
  },
  {
   "cell_type": "markdown",
   "id": "7e5c60ec-a0da-44e0-871b-247732ae39b3",
   "metadata": {
    "tags": []
   },
   "source": [
    "# EDA"
   ]
  },
  {
   "cell_type": "code",
   "execution_count": null,
   "id": "cf7ef577-3398-4038-917e-f5d5d1643823",
   "metadata": {
    "tags": []
   },
   "outputs": [],
   "source": [
    "plt.figure(figsize=(14,10))\n",
    "for i, col in enumerate(['가입일', '음성사서함이용', '주간통화시간', '주간통화횟수', '주간통화요금', '저녁통화시간', '저녁통화횟수',\n",
    "       '저녁통화요금', '밤통화시간', '밤통화횟수', '밤통화요금', '상담전화건수']):\n",
    "    plt.subplot(3,4,i+1)\n",
    "    plt.title(col)\n",
    "    sns.boxplot(data=train, x='전화해지여부', y=col)\n",
    "plt.tight_layout()\n",
    "plt.show()"
   ]
  },
  {
   "cell_type": "code",
   "execution_count": null,
   "id": "983cd268-73ec-4fdb-beb3-0443a8965cce",
   "metadata": {
    "tags": []
   },
   "outputs": [],
   "source": [
    "plt.figure(figsize=(14,10))\n",
    "for i, col in enumerate(['가입일', '음성사서함이용', '주간통화시간', '주간통화횟수', '주간통화요금', '저녁통화시간', '저녁통화횟수',\n",
    "       '저녁통화요금', '밤통화시간', '밤통화횟수', '밤통화요금', '상담전화건수']):\n",
    "    plt.subplot(3,4,i+1)\n",
    "    plt.title(col)\n",
    "    sns.violinplot(data=train, x='전화해지여부', y=col)\n",
    "plt.tight_layout()\n",
    "plt.show()"
   ]
  },
  {
   "cell_type": "markdown",
   "id": "c5b2b1d3-4d49-4164-9c28-666f5b89acd5",
   "metadata": {},
   "source": [
    "# 기준점수 0.58533"
   ]
  },
  {
   "cell_type": "code",
   "execution_count": null,
   "id": "d0dc80e9-409c-4ed8-9708-da74af620cd0",
   "metadata": {
    "tags": []
   },
   "outputs": [],
   "source": [
    "def get_f1_score(train, model=DecisionTreeClassifier(random_state=0), cv=5):\n",
    "    model = ExtraTreesClassifier(random_state=0)\n",
    "    y = train['전화해지여부']\n",
    "    X = train.drop('전화해지여부', axis=1)\n",
    "    f1 = np.mean(cross_val_score(model, X, y, scoring='f1', cv=cv))\n",
    "    \n",
    "    return np.round(f1, 5)\n",
    "\n",
    "get_f1_score(train)"
   ]
  },
  {
   "cell_type": "markdown",
   "id": "57a3128a-30ba-4f8a-ad12-29dfa1936ee1",
   "metadata": {},
   "source": [
    "# 6표준편차로 이상치 처리"
   ]
  },
  {
   "cell_type": "code",
   "execution_count": null,
   "id": "185dd99a-cb59-4f5c-b6a5-f92826002d89",
   "metadata": {
    "tags": []
   },
   "outputs": [],
   "source": [
    "def six_sigma(df):\n",
    "    if '전화해지여부' in df.columns:\n",
    "        X = df.drop('전화해지여부', axis=1)\n",
    "        y = df['전화해지여부']\n",
    "        df_type = 'train'\n",
    "    else:\n",
    "        X = df\n",
    "        df_type = 'test'\n",
    "    \n",
    "    for col in X.columns:\n",
    "        if col!='상담전화건수':\n",
    "            mean_ = X[col].mean()\n",
    "            std_ = X[col].std()\n",
    "            idx_under = X[(X[col]<mean_-std_*3)].index\n",
    "            X.loc[idx_under, col] = mean_-std_*3\n",
    "            idx_over = X[(X[col]>mean_+std_*3)].index\n",
    "            X.loc[idx_over, col] = mean_+std_*3\n",
    "        \n",
    "    if df_type == 'train':\n",
    "        df = pd.concat([X,y], axis=1)\n",
    "    elif df_type == 'test':\n",
    "        df = X\n",
    "        \n",
    "    return df\n",
    "\n",
    "train_six_sigma = six_sigma(train)\n",
    "# get_f1_score(train_six_sigma)"
   ]
  },
  {
   "cell_type": "markdown",
   "id": "66cb516f-828e-49cd-9d90-4a157f8fcb9c",
   "metadata": {},
   "source": [
    "## 점수 0.57517"
   ]
  },
  {
   "cell_type": "code",
   "execution_count": null,
   "id": "dea9fc3b-0864-4d98-b6c5-111874bcd678",
   "metadata": {
    "tags": []
   },
   "outputs": [],
   "source": [
    "plt.figure(figsize=(14,10))\n",
    "for i, col in enumerate(['가입일', '음성사서함이용', '주간통화시간', '주간통화횟수', '주간통화요금', '저녁통화시간', '저녁통화횟수',\n",
    "       '저녁통화요금', '밤통화시간', '밤통화횟수', '밤통화요금', '상담전화건수']):\n",
    "    plt.subplot(3,4,i+1)\n",
    "    plt.title(col)\n",
    "    sns.violinplot(data=train_six_sigma, x='전화해지여부', y=col)\n",
    "plt.tight_layout()\n",
    "plt.show()"
   ]
  },
  {
   "cell_type": "markdown",
   "id": "067a38e8-b7bf-4ffc-9d39-3af0dcc7ba3a",
   "metadata": {},
   "source": [
    "# 기준비율 10.99%"
   ]
  },
  {
   "cell_type": "code",
   "execution_count": null,
   "id": "98c1fae5-3675-479a-8c50-b71baf71dca2",
   "metadata": {
    "tags": []
   },
   "outputs": [],
   "source": [
    "def 비율(train, count=0):\n",
    "    (해지0, 해지1) = train['전화해지여부'].value_counts().sort_index().values\n",
    "    if count==1:\n",
    "        print(해지0, 해지1)\n",
    "    return print(f'{np.round(해지1/(해지0+해지1)*100,2)}%')\n",
    "\n",
    "비율(train)"
   ]
  },
  {
   "cell_type": "markdown",
   "id": "5830b1e0-db96-4c6b-b091-c5320d33e626",
   "metadata": {},
   "source": [
    "# 가입일"
   ]
  },
  {
   "cell_type": "code",
   "execution_count": null,
   "id": "df3aba6f-0061-4aaa-8396-6081341200d9",
   "metadata": {
    "tags": []
   },
   "outputs": [],
   "source": [
    "sns.violinplot(data=train_six_sigma, x='전화해지여부', y='가입일')\n",
    "plt.show()"
   ]
  },
  {
   "cell_type": "code",
   "execution_count": null,
   "id": "6e78b87e-81b2-4664-bca3-3d10dd97633a",
   "metadata": {
    "tags": []
   },
   "outputs": [],
   "source": [
    "sns.histplot(data=train_six_sigma, x='가입일', hue='전화해지여부', kde=True)\n",
    "plt.show()"
   ]
  },
  {
   "cell_type": "markdown",
   "id": "cb97fbb4-b82e-42fb-b2e5-b956f9630a4f",
   "metadata": {},
   "source": [
    "##  가입일 -> 가입시즌"
   ]
  },
  {
   "cell_type": "code",
   "execution_count": null,
   "id": "2a3379ae-91b1-4956-9134-08866b734d61",
   "metadata": {
    "tags": []
   },
   "outputs": [],
   "source": [
    "def make_가입시즌(df):\n",
    "    # dfcopy = six_sigma(df)\n",
    "    dfcopy = df.copy()\n",
    "    dfcopy['가입시즌'] = dfcopy['가입일']//200\n",
    "    return dfcopy\n",
    "\n",
    "가입시즌_df = make_가입시즌(train)\n",
    "가입시즌_df.head(1)"
   ]
  },
  {
   "cell_type": "code",
   "execution_count": null,
   "id": "b1172c2a-8562-4425-bab3-fffb8aa67c89",
   "metadata": {
    "tags": []
   },
   "outputs": [],
   "source": [
    "for 시즌 in [0,1,2,4,10]:\n",
    "    비율(가입시즌_df[가입시즌_df['가입시즌']==시즌][['전화해지여부']])"
   ]
  },
  {
   "cell_type": "code",
   "execution_count": null,
   "id": "5bd1811f-7b2f-42e0-a51b-9350134224ed",
   "metadata": {
    "tags": []
   },
   "outputs": [],
   "source": [
    "가입시즌_df[['가입시즌', '전화해지여부']].value_counts().sort_index()"
   ]
  },
  {
   "cell_type": "markdown",
   "id": "17c029b7-4df2-4ce1-ae84-5c466d19fb98",
   "metadata": {},
   "source": [
    "## 점수 0.5876"
   ]
  },
  {
   "cell_type": "code",
   "execution_count": null,
   "id": "1f599d49-8c76-4982-8c97-8c46cc6eea10",
   "metadata": {
    "tags": []
   },
   "outputs": [],
   "source": [
    "get_f1_score(가입시즌_df)"
   ]
  },
  {
   "cell_type": "markdown",
   "id": "fe9ed7ae-dc6b-459c-9b9c-954344fda0f2",
   "metadata": {},
   "source": [
    "# <del>음성사서함</del>"
   ]
  },
  {
   "cell_type": "code",
   "execution_count": null,
   "id": "b75f6a0c-d43a-430d-bfb0-6e3e8ed10650",
   "metadata": {
    "tags": []
   },
   "outputs": [],
   "source": [
    "six_sigma(train)['음성사서함이용'].hist()\n",
    "plt.show()"
   ]
  },
  {
   "cell_type": "code",
   "execution_count": null,
   "id": "a93f3d1e-9c05-4d1d-8dca-492f7a326b31",
   "metadata": {
    "tags": []
   },
   "outputs": [],
   "source": [
    "sns.histplot(data=six_sigma(train), x='음성사서함이용', kde=True)\n",
    "plt.show()"
   ]
  },
  {
   "cell_type": "code",
   "execution_count": null,
   "id": "1515fdce-1c04-4d0c-990c-ccc83acca55c",
   "metadata": {
    "tags": []
   },
   "outputs": [],
   "source": [
    "비율(six_sigma(train)[six_sigma(train)['음성사서함이용']==0], count=1)"
   ]
  },
  {
   "cell_type": "code",
   "execution_count": null,
   "id": "d239d18c-795e-4d93-b781-dae08d908912",
   "metadata": {
    "tags": []
   },
   "outputs": [],
   "source": [
    "비율(six_sigma(train)[six_sigma(train)['음성사서함이용']!=0], count=1)"
   ]
  },
  {
   "cell_type": "markdown",
   "id": "470b968d-a2db-4015-981b-d12081a6ff35",
   "metadata": {},
   "source": [
    "## 음성사서함 -> 음성사서함유무"
   ]
  },
  {
   "cell_type": "code",
   "execution_count": null,
   "id": "4923cdeb-d7fa-40ab-9ca3-93435ad4ae05",
   "metadata": {
    "tags": []
   },
   "outputs": [],
   "source": [
    "def make_음성사서함유무(df):\n",
    "    dfcopy = df.copy()\n",
    "    dfcopy['음성사서함유무'] = 0\n",
    "    dfcopy['음성사서함유무'].loc[dfcopy[dfcopy['음성사서함이용']!=0].index] = 1\n",
    "    return dfcopy\n",
    "\n",
    "음성사서함유무_df = make_음성사서함유무(train)\n",
    "음성사서함유무_df.head(2)"
   ]
  },
  {
   "cell_type": "code",
   "execution_count": null,
   "id": "f0b0d7e9-e365-43e5-b33a-fda4e585e233",
   "metadata": {
    "tags": []
   },
   "outputs": [],
   "source": [
    "get_f1_score(train_six_sigma)"
   ]
  },
  {
   "cell_type": "code",
   "execution_count": null,
   "id": "f5bc69ae-a07a-476a-8ea5-4d30567e5941",
   "metadata": {
    "tags": []
   },
   "outputs": [],
   "source": [
    "비율(음성사서함유무_df)"
   ]
  },
  {
   "cell_type": "markdown",
   "id": "8f9ff57d-d36b-41d1-b9b3-4abff1e0308d",
   "metadata": {},
   "source": [
    "## 점수 0.4831"
   ]
  },
  {
   "cell_type": "code",
   "execution_count": null,
   "id": "b42448ca-eaf1-49bc-ad01-755bdc24844c",
   "metadata": {
    "tags": []
   },
   "outputs": [],
   "source": [
    "get_f1_score(음성사서함유무_df)"
   ]
  },
  {
   "cell_type": "markdown",
   "id": "7009d964-f0f9-4de2-bdcf-e7205d8acfb0",
   "metadata": {
    "tags": []
   },
   "source": [
    "# <del>3종시간</del>"
   ]
  },
  {
   "cell_type": "code",
   "execution_count": null,
   "id": "868a7979-a131-4ed7-bbef-b062f8e51648",
   "metadata": {
    "tags": []
   },
   "outputs": [],
   "source": [
    "시간리스트 = ['주간통화시간', '저녁통화시간', '밤통화시간']\n",
    "plt.figure(figsize=(14,14))\n",
    "for i, 시간 in enumerate(시간리스트):\n",
    "    plt.subplot(3,1,i+1)\n",
    "    sns.histplot(data=six_sigma(train), x=시간, kde=True)\n",
    "    plt.xlim(-10,510)\n",
    "plt.show()"
   ]
  },
  {
   "cell_type": "code",
   "execution_count": null,
   "id": "253b314a-badc-4556-a58a-7d42bfb81374",
   "metadata": {
    "tags": []
   },
   "outputs": [],
   "source": [
    "def 시간3분할(df):\n",
    "    dfcopy = df.copy()\n",
    "    for 시간 in ['주간통화시간', '저녁통화시간', '밤통화시간']:\n",
    "        dfcopy[f'{시간}구간'] = 0\n",
    "        dfcopy[f'{시간}구간'].loc[dfcopy[dfcopy[시간]<150].index] = 1\n",
    "        dfcopy[f'{시간}구간'].loc[dfcopy[(dfcopy[시간]>=150)&(dfcopy[시간]<380)].index] = 2\n",
    "        dfcopy[f'{시간}구간'].loc[dfcopy[dfcopy[시간]>=380].index] = 3\n",
    "        \n",
    "    return dfcopy\n",
    "\n",
    "시간3분할_df = 시간3분할(train)\n",
    "시간3분할_df.head()"
   ]
  },
  {
   "cell_type": "code",
   "execution_count": null,
   "id": "a74bf38c-6773-42c7-bb61-269f600f6733",
   "metadata": {
    "tags": []
   },
   "outputs": [],
   "source": [
    "for 시간 in ['주간통화시간구간', '저녁통화시간구간', '밤통화시간구간']:\n",
    "    for 구간 in [1,2,3]:\n",
    "        비율(시간3분할_df[시간3분할_df[시간]==구간])\n",
    "    print('-----')"
   ]
  },
  {
   "cell_type": "markdown",
   "id": "77ce7776-b6dc-4693-a80b-7ddbd6a23163",
   "metadata": {},
   "source": [
    "## 점수보기 0.58316"
   ]
  },
  {
   "cell_type": "code",
   "execution_count": null,
   "id": "92b5803e-1e47-4da6-8218-5aeb6a56558b",
   "metadata": {
    "tags": []
   },
   "outputs": [],
   "source": [
    "get_f1_score(시간3분할_df)"
   ]
  },
  {
   "cell_type": "markdown",
   "id": "87efc69b-c5f6-4202-9fcb-0ee5d1ff4f9a",
   "metadata": {
    "tags": []
   },
   "source": [
    "# 3종요금"
   ]
  },
  {
   "cell_type": "code",
   "execution_count": null,
   "id": "a46a64c5-2794-4ec7-b8d5-6071065b0336",
   "metadata": {
    "tags": []
   },
   "outputs": [],
   "source": [
    "요금리스트 = ['주간통화요금', '저녁통화요금', '밤통화요금']\n",
    "plt.figure(figsize=(14,14))\n",
    "for i, 요금 in enumerate(요금리스트):\n",
    "    plt.subplot(3,1,i+1)\n",
    "    sns.histplot(data=six_sigma(train), x=요금, kde=True)\n",
    "    plt.xlim(-10,110)\n",
    "plt.show()"
   ]
  },
  {
   "cell_type": "code",
   "execution_count": null,
   "id": "cd913243-a46d-4c04-b673-6d487227e12e",
   "metadata": {
    "tags": []
   },
   "outputs": [],
   "source": [
    "six_sigma(train)['밤통화요금'].max()"
   ]
  },
  {
   "cell_type": "markdown",
   "id": "95af5425-8800-49e1-95d1-734ca675b254",
   "metadata": {},
   "source": [
    "## 요금3분할"
   ]
  },
  {
   "cell_type": "code",
   "execution_count": null,
   "id": "314c05af-3399-4a96-9c24-c4f0db9ed70a",
   "metadata": {
    "tags": []
   },
   "outputs": [],
   "source": [
    "def 요금3분할(df):\n",
    "    dfcopy = df.copy()\n",
    "    for 요금 in ['주간통화요금', '저녁통화요금', '밤통화요금']:\n",
    "        dfcopy[f'{요금}구간'] = 0\n",
    "        dfcopy[f'{요금}구간'].loc[dfcopy[dfcopy[요금]<40.4].index] = 1\n",
    "        dfcopy[f'{요금}구간'].loc[dfcopy[(dfcopy[요금]>=40.4)&(dfcopy[요금]<70)].index] = 2\n",
    "        dfcopy[f'{요금}구간'].loc[dfcopy[dfcopy[요금]>=70].index] = 3\n",
    "        \n",
    "    return dfcopy\n",
    "\n",
    "요금3분할_df = 요금3분할(train)\n",
    "요금3분할_df.head()"
   ]
  },
  {
   "cell_type": "code",
   "execution_count": null,
   "id": "1c15915e-2c23-4fb7-87ac-684a648818fc",
   "metadata": {
    "tags": []
   },
   "outputs": [],
   "source": [
    "비율(요금3분할_df[요금3분할_df['주간통화요금구간']==1])\n",
    "비율(요금3분할_df[요금3분할_df['주간통화요금구간']==2])\n",
    "비율(요금3분할_df[요금3분할_df['주간통화요금구간']==3])\n",
    "비율(요금3분할_df[요금3분할_df['저녁통화요금구간']==1])\n",
    "비율(요금3분할_df[요금3분할_df['저녁통화요금구간']==2])\n",
    "비율(요금3분할_df[요금3분할_df['밤통화요금구간']==1])"
   ]
  },
  {
   "cell_type": "markdown",
   "id": "9acd3206-d6de-45ce-b2ac-810ad528d836",
   "metadata": {},
   "source": [
    "## 점수보기 0.58703"
   ]
  },
  {
   "cell_type": "code",
   "execution_count": null,
   "id": "97043c84-d2e8-474c-8be5-806a72bc5788",
   "metadata": {
    "tags": []
   },
   "outputs": [],
   "source": [
    "get_f1_score(요금3분할_df)"
   ]
  },
  {
   "cell_type": "markdown",
   "id": "436d8036-fba1-46b2-8913-d4a7cca486f4",
   "metadata": {},
   "source": [
    "# 상담전화건수"
   ]
  },
  {
   "cell_type": "code",
   "execution_count": null,
   "id": "7af556fe-1875-4ce1-897e-23ada84be4e0",
   "metadata": {
    "tags": []
   },
   "outputs": [],
   "source": [
    "train['상담전화건수'].hist()"
   ]
  },
  {
   "cell_type": "code",
   "execution_count": null,
   "id": "20487a7b-dbaa-4056-a7fe-63d34567887f",
   "metadata": {
    "tags": []
   },
   "outputs": [],
   "source": [
    "sns.countplot(data=train, x='상담전화건수')\n",
    "plt.show()"
   ]
  },
  {
   "cell_type": "code",
   "execution_count": null,
   "id": "7af64cd8-a3ae-4859-bcb5-e06b2da06fdf",
   "metadata": {
    "tags": []
   },
   "outputs": [],
   "source": [
    "for i in np.sort(train['상담전화건수'].unique()):\n",
    "    print(i, end=' ')\n",
    "    비율(train[train['상담전화건수']==i])"
   ]
  },
  {
   "cell_type": "markdown",
   "id": "d6052f18-51db-4d6b-890d-197bfc8b3289",
   "metadata": {},
   "source": [
    "# 분석끝"
   ]
  },
  {
   "cell_type": "code",
   "execution_count": null,
   "id": "945d2d49-99d7-4e6d-b05f-100d69f3d7eb",
   "metadata": {
    "tags": []
   },
   "outputs": [],
   "source": [
    "get_f1_score(시간3분할(요금3분할(make_가입시즌(train))))"
   ]
  },
  {
   "cell_type": "code",
   "execution_count": null,
   "id": "ee32450b-65fa-4c07-a0ad-025d9cc8266e",
   "metadata": {
    "tags": []
   },
   "outputs": [],
   "source": [
    "get_f1_score(six_sigma(시간3분할(요금3분할(make_가입시즌(train)))))"
   ]
  },
  {
   "cell_type": "code",
   "execution_count": null,
   "id": "3be8854a-7a5a-4f48-a7bb-6112b76fb705",
   "metadata": {
    "tags": []
   },
   "outputs": [],
   "source": [
    "get_f1_score(make_음성사서함유무(시간3분할(요금3분할(make_가입시즌(train)))))"
   ]
  },
  {
   "cell_type": "markdown",
   "id": "d2d8c287-606e-49fc-9749-4434cbda6227",
   "metadata": {},
   "source": [
    "# 고려대상"
   ]
  },
  {
   "cell_type": "code",
   "execution_count": null,
   "id": "6ff4bfc4-d736-4c58-b3ea-c46048c48358",
   "metadata": {
    "tags": []
   },
   "outputs": [],
   "source": [
    "train['총요금'] = train['주간통화요금']+train['저녁통화요금']+train['밤통화요금']\n",
    "train"
   ]
  },
  {
   "cell_type": "markdown",
   "id": "002d7c58-1649-4986-bb29-e53e04eed828",
   "metadata": {},
   "source": [
    "# 시간대비요금 바보와 얌체"
   ]
  },
  {
   "cell_type": "code",
   "execution_count": null,
   "id": "2e92d82e-ed09-4ca6-b559-afcf05908bc9",
   "metadata": {
    "tags": []
   },
   "outputs": [],
   "source": [
    "plt.figure(figsize=(14,14))\n",
    "\n",
    "for i, col_tuplt in enumerate([('주간통화시간', '주간통화요금'), ('저녁통화시간', '저녁통화요금'), ('밤통화시간', '밤통화요금')]):\n",
    "    plt.subplot(3,3,i+1)\n",
    "    sns.scatterplot(data=train[train['전화해지여부']==0], x=col_tuplt[0], y=col_tuplt[1])\n",
    "    plt.ylim([-10, 70])\n",
    "    \n",
    "for i, col_tuplt in enumerate([('주간통화시간', '주간통화요금'), ('저녁통화시간', '저녁통화요금'), ('밤통화시간', '밤통화요금')]):\n",
    "    plt.subplot(3,3,i+4)\n",
    "    sns.scatterplot(data=train, x=col_tuplt[0], y=col_tuplt[1], hue='전화해지여부')\n",
    "    plt.ylim([-10, 70])\n",
    "    \n",
    "for i, col_tuplt in enumerate([('주간통화시간', '주간통화요금'), ('저녁통화시간', '저녁통화요금'), ('밤통화시간', '밤통화요금')]):\n",
    "    plt.subplot(3,3,i+7)\n",
    "    sns.scatterplot(data=train[train['전화해지여부']==1], x=col_tuplt[0], y=col_tuplt[1], color='Orange')\n",
    "    plt.ylim([-10, 70])\n",
    "    \n",
    "plt.show()"
   ]
  },
  {
   "cell_type": "code",
   "execution_count": null,
   "id": "9f96575b-7086-479f-87d0-ecf36daa9e0b",
   "metadata": {
    "tags": []
   },
   "outputs": [],
   "source": [
    "plt.figure(figsize=(14,4))\n",
    "target_feature = [('주간통화시간', '주간통화요금', 0.173+0.01), ('저녁통화시간', '저녁통화요금', 0.085-0.005), ('밤통화시간', '밤통화요금', 0.045)]\n",
    "for i, col_tuplt in enumerate(target_feature):\n",
    "    plt.subplot(1,3,i+1)\n",
    "    sns.scatterplot(data=train_six_sigma, x=col_tuplt[0], y=col_tuplt[1], hue='전화해지여부')\n",
    "    plt.plot(train_six_sigma[col_tuplt[0]], train_six_sigma[col_tuplt[0]]*col_tuplt[2], 'r-')\n",
    "    plt.ylim([-10, 130])\n",
    "    \n",
    "plt.show()"
   ]
  },
  {
   "cell_type": "code",
   "execution_count": null,
   "id": "127284cd-a1bd-4b83-a87f-f5d7c3f28c6d",
   "metadata": {
    "tags": []
   },
   "outputs": [],
   "source": [
    "plt.figure(figsize=(14,4))\n",
    "target_feature = [('주간통화시간', '주간통화요금', 0.173+0.01), ('저녁통화시간', '저녁통화요금', 0.085-0.005), ('밤통화시간', '밤통화요금', 0.045)]\n",
    "for i, col_tuplt in enumerate(target_feature):\n",
    "    plt.subplot(1,3,i+1)\n",
    "    sns.scatterplot(data=train, x=col_tuplt[0], y=col_tuplt[1], hue='전화해지여부')\n",
    "    plt.plot(train[col_tuplt[0]], train[col_tuplt[0]]*col_tuplt[2], 'r-')\n",
    "    plt.ylim([-10, 70])\n",
    "    \n",
    "plt.show()"
   ]
  },
  {
   "cell_type": "code",
   "execution_count": null,
   "id": "2422e4b3-8c54-4c1e-87a5-ae246dc62032",
   "metadata": {},
   "outputs": [],
   "source": [
    "def 바보얌체(df):\n",
    "    dfcopy = df.copy()\n",
    "    \n",
    "    dfcopy['주간바보얌체'] = 0\n",
    "    dfcopy['주간바보얌체'].loc[dfcopy[dfcopy['주간통화요금']/dfcopy['주간통화시간']>0.173+0.01].index] = -1\n",
    "    dfcopy['주간바보얌체'].loc[dfcopy[(dfcopy['주간통화요금']/dfcopy['주간통화시간']<=0.173+0.01)&(dfcopy['주간통화요금']/dfcopy['주간통화시간']>=0.173-0.01)].index] = 0\n",
    "    dfcopy['주간바보얌체'].loc[dfcopy[dfcopy['주간통화요금']/dfcopy['주간통화시간']<0.173-0.01].index] = 1\n",
    "    \n",
    "    dfcopy['저녁바보얌체'] = 0\n",
    "    dfcopy['저녁바보얌체'].loc[dfcopy[dfcopy['저녁통화요금']/dfcopy['저녁통화시간']>0.085+0.005].index] = -1\n",
    "    dfcopy['저녁바보얌체'].loc[dfcopy[(dfcopy['저녁통화요금']/dfcopy['저녁통화시간']<=0.085+0.005)&(dfcopy['저녁통화요금']/dfcopy['저녁통화시간']>=0.085-0.005)].index] = 0\n",
    "    dfcopy['저녁바보얌체'].loc[dfcopy[dfcopy['저녁통화요금']/dfcopy['저녁통화시간']<0.085-0.005].index] = 1\n",
    "    \n",
    "    dfcopy['밤바보얌체'] = 0\n",
    "    dfcopy['밤바보얌체'].loc[dfcopy[dfcopy['밤통화요금']/dfcopy['밤통화시간']>0.045+0.003].index] = -1\n",
    "    dfcopy['밤바보얌체'].loc[dfcopy[(dfcopy['밤통화요금']/dfcopy['밤통화시간']<=0.045+0.003)&(dfcopy['밤통화요금']/dfcopy['밤통화시간']>=0.045-0.003)].index] = 0\n",
    "    dfcopy['밤바보얌체'].loc[dfcopy[dfcopy['밤통화요금']/dfcopy['밤통화시간']<0.045-0.003].index] = 1\n",
    "    \n",
    "    dfcopy['바보얌체점수'] = dfcopy['주간바보얌체']+dfcopy['저녁바보얌체']+dfcopy['밤바보얌체']\n",
    "    \n",
    "    return dfcopy\n",
    "\n",
    "바보얌체_df = 바보얌체(train)\n",
    "바보얌체_df.head()"
   ]
  },
  {
   "cell_type": "code",
   "execution_count": null,
   "id": "ac42311a-76e7-4092-8dbe-db27d3429df6",
   "metadata": {
    "tags": []
   },
   "outputs": [],
   "source": [
    "for n in [-3,-2,-1,0,1,2,3]:\n",
    "    print(n, end=' ')\n",
    "    비율(바보얌체_df[바보얌체_df['바보얌체점수']==n])"
   ]
  },
  {
   "cell_type": "code",
   "execution_count": null,
   "id": "bbc34bbd-0da9-454c-835f-8c7314b1285f",
   "metadata": {
    "tags": []
   },
   "outputs": [],
   "source": [
    "get_f1_score(바보얌체(시간3분할(요금3분할(make_가입시즌(train)))))"
   ]
  },
  {
   "cell_type": "code",
   "execution_count": null,
   "id": "57f88d08-ceee-4d59-ab7d-354199e3a6fc",
   "metadata": {
    "tags": []
   },
   "outputs": [],
   "source": [
    "get_f1_score(six_sigma(바보얌체(시간3분할(요금3분할(make_가입시즌(train))))))"
   ]
  },
  {
   "cell_type": "code",
   "execution_count": null,
   "id": "e6220dab-0aa0-4f90-b1e9-4b7a7def4a50",
   "metadata": {
    "tags": []
   },
   "outputs": [],
   "source": [
    "get_f1_score(make_음성사서함유무(바보얌체(시간3분할(요금3분할(make_가입시즌(train))))))"
   ]
  },
  {
   "cell_type": "markdown",
   "id": "cece6b5f-7c36-4a48-acb1-698bca72f93c",
   "metadata": {},
   "source": [
    "# 스케일링+겟더미"
   ]
  },
  {
   "cell_type": "code",
   "execution_count": null,
   "id": "2b26ef89-7bb3-4d23-8be1-192874231816",
   "metadata": {
    "tags": []
   },
   "outputs": [],
   "source": [
    "바보얌체(시간3분할(요금3분할(make_가입시즌(train)))).columns"
   ]
  },
  {
   "cell_type": "code",
   "execution_count": null,
   "id": "26650068-1525-40a5-9278-6724a1ccc4c5",
   "metadata": {
    "tags": []
   },
   "outputs": [],
   "source": [
    "def scaling_get_dummies(df, sc=0, log=0):\n",
    "    if '전화해지여부' in df.columns:\n",
    "        X = df.drop('전화해지여부', axis=1)\n",
    "        y = df['전화해지여부']\n",
    "        df_type = 'train'\n",
    "    else:\n",
    "        X = df\n",
    "        df_type = 'test'\n",
    "        \n",
    "    이산형컬럼명 = ['가입시즌', '주간통화시간구간', '저녁통화시간구간', '밤통화시간구간', '주간바보얌체', '저녁바보얌체', '밤바보얌체', '바보얌체점수']\n",
    "    이산형data = X[이산형컬럼명]\n",
    "    \n",
    "    명목형data = pd.get_dummies('상담전화'+X['상담전화건수'].astype('str')+'건')#.drop(['상담전화11건'], axis=1)\n",
    "    \n",
    "    연속형컬럼명 = ['가입일', '음성사서함이용','주간통화시간', '주간통화횟수', '주간통화요금', '저녁통화시간', '저녁통화횟수', '저녁통화요금', '밤통화시간', '밤통화횟수', '밤통화요금']\n",
    "    연속형data = X[연속형컬럼명]\n",
    "    \n",
    "    if (log==1)|(log==True):\n",
    "        연속형data = np.log1p(연속형data)\n",
    "    scale_list = [StandardScaler(), MinMaxScaler(), RobustScaler()]\n",
    "    연속형data = pd.DataFrame(scale_list[sc].fit_transform(연속형data), columns=연속형data.columns.values)\n",
    "    \n",
    "    X_scale = pd.concat([pd.concat([연속형data, 명목형data], axis=1), 이산형data], axis=1)\n",
    "    \n",
    "    \n",
    "    \n",
    "    if df_type == 'train':\n",
    "        df = pd.concat([X_scale,y], axis=1)\n",
    "    elif df_type == 'test':\n",
    "        df = X_scale\n",
    "    return df\n",
    "\n",
    "scaling_get_dummies(바보얌체(시간3분할(요금3분할(make_가입시즌(test))))).head()"
   ]
  },
  {
   "cell_type": "markdown",
   "id": "ed2d74c4-6eb8-47a2-ac3e-2dd461908532",
   "metadata": {},
   "source": [
    "## 점수"
   ]
  },
  {
   "cell_type": "markdown",
   "id": "bbbdb5b7-0e59-4c6d-b1c3-b19f9b44275f",
   "metadata": {},
   "source": [
    "0 1 2 [StandardScaler(), MinMaxScaler(), RobustScaler()]"
   ]
  },
  {
   "cell_type": "code",
   "execution_count": null,
   "id": "3362ff1b-b52b-4283-ba80-83c1b1c2d8da",
   "metadata": {
    "tags": []
   },
   "outputs": [],
   "source": [
    "train_우리피쳐 = 바보얌체(시간3분할(요금3분할(make_가입시즌(train))))\n",
    "for sc in [0,1,2]:\n",
    "    for log in [0,1]:\n",
    "        print(get_f1_score(scaling_get_dummies(train_우리피쳐, sc=sc, log=log)))"
   ]
  },
  {
   "cell_type": "code",
   "execution_count": null,
   "id": "2a1ccb14-98dd-47fb-bdaa-cc7e730cb88e",
   "metadata": {
    "tags": []
   },
   "outputs": [],
   "source": [
    "train = scaling_get_dummies(train_우리피쳐, sc=2)\n",
    "y = train['전화해지여부']\n",
    "X = train.drop(['전화해지여부'], axis=1)"
   ]
  },
  {
   "cell_type": "markdown",
   "id": "dcd5dfe0-aac5-42a6-881b-212a6f67a972",
   "metadata": {
    "tags": []
   },
   "source": [
    "# <del>Over Sampling</del>"
   ]
  },
  {
   "cell_type": "code",
   "execution_count": null,
   "id": "b49d9702-f209-45ff-ba1a-33a5f2f0ff3f",
   "metadata": {
    "tags": []
   },
   "outputs": [],
   "source": [
    "def trin_over_sampling(train, stype=1, chart=0):\n",
    "    y = train['전화해지여부']\n",
    "    X = train.drop(['전화해지여부'], axis=1)\n",
    "    \n",
    "    if stype==0:\n",
    "        X_, y_ = SMOTE(random_state=11).fit_resample(X, y)\n",
    "    elif stype==1:\n",
    "        X_, y_ = RandomOverSampler(random_state=0).fit_resample(X, y)\n",
    "    \n",
    "    if chart==1:\n",
    "        df = pd.concat([X_, y_], axis=1)\n",
    "        plt.figure(figsize=(14,14))\n",
    "        for i, col_tuplt in enumerate([('주간통화시간', '주간통화요금'), ('저녁통화시간', '저녁통화요금'), ('밤통화시간', '밤통화요금')]):\n",
    "            plt.subplot(3,3,i+1)\n",
    "            sns.scatterplot(data=df[df['전화해지여부']==0], x=col_tuplt[0], y=col_tuplt[1])\n",
    "            plt.ylim([-10, 70])\n",
    "\n",
    "        for i, col_tuplt in enumerate([('주간통화시간', '주간통화요금'), ('저녁통화시간', '저녁통화요금'), ('밤통화시간', '밤통화요금')]):\n",
    "            plt.subplot(3,3,i+4)\n",
    "            sns.scatterplot(data=df, x=col_tuplt[0], y=col_tuplt[1], hue='전화해지여부')\n",
    "            plt.ylim([-10, 70])\n",
    "\n",
    "        for i, col_tuplt in enumerate([('주간통화시간', '주간통화요금'), ('저녁통화시간', '저녁통화요금'), ('밤통화시간', '밤통화요금')]):\n",
    "            plt.subplot(3,3,i+7)\n",
    "            sns.scatterplot(data=df[df['전화해지여부']==1], x=col_tuplt[0], y=col_tuplt[1], color='Orange')\n",
    "            plt.ylim([-10, 70])\n",
    "            \n",
    "        plt.show()\n",
    "            \n",
    "    elif chart==2:\n",
    "        df = pd.concat([X_, y_], axis=1)\n",
    "\n",
    "        plt.figure(figsize=(14,14))\n",
    "        target_list = ['주간통화시간', '주간통화횟수', '주간통화요금',\n",
    "                       '저녁통화시간', '저녁통화횟수', '저녁통화요금',\n",
    "                       '밤통화시간', '밤통화횟수', '밤통화요금']\n",
    "        for i, col in enumerate(target_list):\n",
    "            plt.subplot(3,3,i+1)\n",
    "            sns.scatterplot(data=df, x='상담전화건수', y=col, hue='전화해지여부')\n",
    "            plt.title(col)\n",
    "        plt.tight_layout()\n",
    "        plt.show()\n",
    "        \n",
    "        \n",
    "    return X_, y_\n",
    "\n",
    "# X_, y_ = trin_over_sampling(train, stype=1, chart=2)"
   ]
  },
  {
   "cell_type": "markdown",
   "id": "f6848f24-9d4e-497e-a8fb-6ce5a943a210",
   "metadata": {},
   "source": [
    "## 학습"
   ]
  },
  {
   "cell_type": "code",
   "execution_count": null,
   "id": "dbfbec54-6ba5-47e8-ad4a-2c3fb3eebf85",
   "metadata": {
    "tags": []
   },
   "outputs": [],
   "source": [
    "# y = train['전화해지여부']\n",
    "# X = train.drop(['전화해지여부'], axis=1)\n",
    "\n",
    "y = df['전화해지여부']\n",
    "X = df.drop(['전화해지여부'], axis=1)\n",
    "# X_out = six_sigma(X)\n",
    "X_scare = scaling_get_dummies(X, log=0)\n",
    "\n",
    "param = {'criterion': ['gini'], 'max_depth': [50], 'n_estimators': [200]}\n",
    "\n",
    "best_model = GridSearchCV(ExtraTreesClassifier(random_state=0), param, scoring='f1', cv=20)\n",
    "best_model.fit(X_scare, y)\n",
    "print(best_model.best_estimator_)\n",
    "print(best_model.best_params_)\n",
    "print(best_model.best_score_)"
   ]
  },
  {
   "cell_type": "code",
   "execution_count": null,
   "id": "041be5e6-e4d3-44cd-b8bd-517b5bdf502e",
   "metadata": {
    "tags": []
   },
   "outputs": [],
   "source": [
    "def best_threshold(y_test, y_pro, rate=0.01, chart=0):\n",
    "    accuracy, precision, recall, f1 = [],[],[],[]\n",
    "    FPR, TPR = [],[]\n",
    "    단위 = 0.01\n",
    "    범위 = np.arange(0, 1, 단위)\n",
    "    for 임계치 in 범위:\n",
    "        y_ = Binarizer(threshold=임계치).fit_transform(y_pro).reshape(-1)\n",
    "        TN, FP = 0, 0\n",
    "        FN, TP = 0, 0\n",
    "        for i in range(y_test.values.size):\n",
    "            if y_test.values[i]==0 and y_[i]==0:\n",
    "                TN = TN+1\n",
    "            if y_test.values[i]==0 and y_[i]==1:\n",
    "                FP = FP+1\n",
    "            if y_test.values[i]==1 and y_[i]==0:\n",
    "                FN = FN+1\n",
    "            if y_test.values[i]==1 and y_[i]==1:\n",
    "                TP = TP+1\n",
    "        accuracy.append((TN+TP)/(TN+FN+FP+TP))\n",
    "        precision.append(1 if FP+TP==0 else TP/(FP+TP))\n",
    "        recall.append(TP/(FN+TP))\n",
    "        f1.append(0 if (precision[-1]==0)|(recall[-1]==0) else 2*(precision[-1]*recall[-1])/(precision[-1]+recall[-1]))\n",
    "        FPR.append(FP/(TN+FP))\n",
    "        TPR.append(TP/(FN+TP))\n",
    "\n",
    "    if chart==1:\n",
    "        plt.figure(figsize=(14,6))\n",
    "        plt.subplot(1,2,1)\n",
    "        plt.plot(범위, recall, label='recall')\n",
    "        plt.plot(범위, precision, label='precision')\n",
    "        # plt.plot(범위, accuracy, label='accuracy')\n",
    "        plt.plot(범위, f1, label='f1')\n",
    "        plt.xlabel('threshold')\n",
    "        plt.ylabel('score')\n",
    "        plt.legend()\n",
    "        plt.subplot(1,2,2)\n",
    "        plt.plot(FPR[::-1], TPR[::-1])\n",
    "        plt.plot([0,1], [0,1])\n",
    "        plt.xlabel('FPR')\n",
    "        plt.ylabel('TPR')\n",
    "        plt.show()\n",
    "        \n",
    "    idx=np.argmax(f1)\n",
    "    return np.round(idx*단위,3), f1[idx]\n",
    "\n",
    "# best_threshold(pd.Series([0,0,0,1,1,1]), np.array([0.42, 0.2, 0.56, 0.49, 0.9, 0.99]).reshape(-1,1), rate=0.01, chart=1)"
   ]
  },
  {
   "cell_type": "code",
   "execution_count": null,
   "id": "b7483aa7-6273-4291-a02d-8aa415abc1b4",
   "metadata": {
    "tags": []
   },
   "outputs": [],
   "source": [
    "scaling_get_dummies(test_df, log=0).shape"
   ]
  },
  {
   "cell_type": "code",
   "execution_count": null,
   "id": "aefbb886-9440-4005-82ab-447e7c6ca811",
   "metadata": {
    "tags": []
   },
   "outputs": [],
   "source": [
    "plt.figure(figsize=(14,14))\n",
    "sns.heatmap(train.corr(), annot=True, fmt='.2f', cmap='coolwarm')\n",
    "plt.show()"
   ]
  },
  {
   "cell_type": "code",
   "execution_count": null,
   "id": "3c7c8f89-5415-4af0-ab43-7dae470ce14a",
   "metadata": {
    "tags": []
   },
   "outputs": [],
   "source": [
    "train = scaling_get_dummies(바보얌체(시간3분할(make_가입시즌(train))), sc=2)\n",
    "y = train['전화해지여부']\n",
    "X = train.drop(['전화해지여부'], axis=1)\n",
    "\n",
    "threshold_list, f1_list = [],[]\n",
    "res_model_list = []\n",
    "for i, (train_idx, test_idx) in enumerate(StratifiedKFold(20).split(X, y)):\n",
    "    X_train, y_train = X.loc[train_idx], y.loc[train_idx]\n",
    "    X_test,  y_test  = X.loc[test_idx],  y.loc[test_idx]\n",
    "    \n",
    "    model = ExtraTreesClassifier(max_depth=50, n_estimators=200, random_state=11)\n",
    "    model.fit(X_train, y_train)\n",
    "    res_model_list.append(model)\n",
    "    y_pro = model.predict_proba(X_test)    \n",
    "    threshold, f1 = best_threshold(y_test, y_pro.T[1].reshape(-1,1))\n",
    "    threshold_list.append(threshold)\n",
    "    f1_list.append(f1)\n",
    "    \n",
    "res_df = pd.DataFrame()\n",
    "res_df['threshold'] = threshold_list\n",
    "res_df['f1_score'] = f1_list\n",
    "res_df.sort_values(['f1_score'], ascending=False).head()"
   ]
  },
  {
   "cell_type": "code",
   "execution_count": null,
   "id": "b664e183-6a40-4527-98bb-35a5e3bb0822",
   "metadata": {
    "tags": []
   },
   "outputs": [],
   "source": [
    "s = pd.Series(res_model_list[10].feature_importances_, index=X.columns).sort_values()\n",
    "sns.barplot(x=s.values, y=s.index)\n",
    "plt.show()"
   ]
  },
  {
   "cell_type": "markdown",
   "id": "9c771708-2b03-46b3-ac51-1abfc8df5029",
   "metadata": {},
   "source": [
    "## 피쳐재선정\n",
    "<pre>\n",
    "\n",
    "0 9.63%\n",
    "1 9.59%\n",
    "2 10.16%\n",
    "3 16.44%\n",
    "4 9.92%\n",
    "5 24.79%\n",
    "6 55.17%\n",
    "7 53.85%\n",
    "8 13.41%\n",
    "9 83.33%\n",
    "11 10.53%"
   ]
  },
  {
   "cell_type": "code",
   "execution_count": null,
   "id": "ac259baf-c7e3-495c-8b89-19c30a035083",
   "metadata": {
    "tags": []
   },
   "outputs": [],
   "source": [
    "train['상담전화건수'] = train['상담전화건수'].replace([0,1,2,3,4,5,6,7,8,9,11], [0,0,0,0,0,1,1,1,1,1,1])"
   ]
  },
  {
   "cell_type": "code",
   "execution_count": null,
   "id": "950f0dd0-5b31-4266-b962-5c64f6d9177f",
   "metadata": {
    "tags": []
   },
   "outputs": [],
   "source": [
    "scaling_get_dummies(바보얌체(시간3분할(make_가입시즌(train))), sc=2)"
   ]
  },
  {
   "cell_type": "code",
   "execution_count": null,
   "id": "c9b97134-f69d-48a5-ac46-b3d2ee03d582",
   "metadata": {
    "tags": []
   },
   "outputs": [],
   "source": [
    "test['상담전화건수'] = test['상담전화건수'].replace([0,1,2,3,4,5,6,7,8,9,11], [0,0,0,0,0,1,1,1,1,1,1])"
   ]
  },
  {
   "cell_type": "code",
   "execution_count": null,
   "id": "4436c177-940c-4083-a423-392fa6d97c97",
   "metadata": {
    "tags": []
   },
   "outputs": [],
   "source": [
    "scaling_get_dummies(바보얌체(시간3분할(make_가입시즌(test))), sc=2).head(1)"
   ]
  },
  {
   "cell_type": "code",
   "execution_count": null,
   "id": "f16cd019-e254-4eda-9f93-57b9eaec8882",
   "metadata": {
    "tags": []
   },
   "outputs": [],
   "source": [
    "submit_arr = Binarizer(threshold=0.35).fit_transform(res_model_list[10].predict_proba(scaling_get_dummies(바보얌체(시간3분할(make_가입시즌(test))), sc=2))).T[1].reshape(-1,1)\n",
    "submit_csv = pd.read_csv('./sample_submission.csv')\n",
    "submit_csv['전화해지여부'] = submit_arr\n",
    "submit_csv.to_csv('./submit(ku).csv', index=False)"
   ]
  },
  {
   "cell_type": "code",
   "execution_count": null,
   "id": "d129b81f-5d6d-48f6-a781-cbfe7f5f560b",
   "metadata": {},
   "outputs": [],
   "source": []
  },
  {
   "cell_type": "code",
   "execution_count": null,
   "id": "ee46c534-eb48-4442-9e4a-cc0943155592",
   "metadata": {},
   "outputs": [],
   "source": []
  },
  {
   "cell_type": "code",
   "execution_count": null,
   "id": "d487c708-a46b-462b-9aa4-88f5966df586",
   "metadata": {},
   "outputs": [],
   "source": []
  },
  {
   "cell_type": "code",
   "execution_count": null,
   "id": "5d3e2a3f-a1b8-4dc8-a11f-a54bde38a493",
   "metadata": {
    "tags": []
   },
   "outputs": [],
   "source": [
    "train[train['전화해지여부']==1]"
   ]
  }
 ],
 "metadata": {
  "kernelspec": {
   "display_name": "Python 3 (ipykernel)",
   "language": "python",
   "name": "python3"
  },
  "language_info": {
   "codemirror_mode": {
    "name": "ipython",
    "version": 3
   },
   "file_extension": ".py",
   "mimetype": "text/x-python",
   "name": "python",
   "nbconvert_exporter": "python",
   "pygments_lexer": "ipython3",
   "version": "3.8.8"
  },
  "toc-autonumbering": true
 },
 "nbformat": 4,
 "nbformat_minor": 5
}
