{
 "cells": [
  {
   "cell_type": "markdown",
   "id": "803fe865-6141-43d8-9f9f-656f77bb40a0",
   "metadata": {},
   "source": [
    "<font size=6><b> Setp01. EDA"
   ]
  },
  {
   "cell_type": "code",
   "execution_count": 1,
   "id": "38b3c9af-28b7-46be-bcb4-3a74042cab23",
   "metadata": {
    "tags": []
   },
   "outputs": [
    {
     "data": {
      "text/html": [
       "<style>.container{width:100% !important;}</style>"
      ],
      "text/plain": [
       "<IPython.core.display.HTML object>"
      ]
     },
     "metadata": {},
     "output_type": "display_data"
    }
   ],
   "source": [
    "import numpy as np\n",
    "import pandas as pd\n",
    "\n",
    "import matplotlib.pyplot as plt\n",
    "import seaborn as sns\n",
    "\n",
    "\n",
    "sns.set()\n",
    "\n",
    "#-------------------- 차트 관련 속성 (한글처리, 그리드) -----------\n",
    "plt.rcParams['font.family']= 'Malgun Gothic'\n",
    "plt.rcParams['axes.unicode_minus'] = False\n",
    "\n",
    "#-------------------- 주피터 , 출력결과 넓이 늘리기 ---------------\n",
    "# from IPython.core.display import display, HTML\n",
    "from IPython.display import display, HTML\n",
    "\n",
    "display(HTML(\"<style>.container{width:100% !important;}</style>\"))\n",
    "pd.set_option('display.max_rows', 100)\n",
    "pd.set_option('display.max_columns', 100)\n",
    "pd.set_option('max_colwidth', None)\n",
    "\n",
    "import warnings\n",
    "warnings.filterwarnings(action='ignore')"
   ]
  },
  {
   "cell_type": "code",
   "execution_count": 2,
   "id": "3b407129-4099-4a59-b5ac-9c9cdcf7c0c8",
   "metadata": {
    "tags": []
   },
   "outputs": [],
   "source": [
    "from pandas.plotting import scatter_matrix\n",
    "\n",
    "# ----------------- 학습 ----------------------\n",
    "\n",
    "from sklearn.model_selection import train_test_split,cross_val_score, GridSearchCV, KFold, StratifiedKFold, cross_validate\n",
    "from sklearn.tree import DecisionTreeClassifier\n",
    "from sklearn.linear_model import LogisticRegression\n",
    "from sklearn.ensemble import ExtraTreesClassifier,RandomForestClassifier\n",
    "from sklearn.ensemble     import AdaBoostClassifier, VotingClassifier\n",
    "\n",
    "from xgboost              import XGBRegressor, XGBClassifier\n",
    "from lightgbm             import LGBMRegressor, LGBMClassifier\n",
    "\n",
    "\n",
    "# ----------------- 평가 ----------------------\n",
    "from sklearn.metrics import confusion_matrix\n",
    "\n",
    "from sklearn.metrics import classification_report\n",
    "from sklearn.metrics import accuracy_score\n",
    "from sklearn.metrics import f1_score, precision_score, recall_score\n",
    "from sklearn.metrics import precision_recall_curve, plot_precision_recall_curve\n",
    "\n",
    "from sklearn.metrics import roc_auc_score, roc_curve, plot_roc_curve"
   ]
  },
  {
   "cell_type": "code",
   "execution_count": null,
   "id": "12b49907-d88f-4b2a-aa1e-5bf5c9068f4b",
   "metadata": {},
   "outputs": [],
   "source": []
  },
  {
   "cell_type": "markdown",
   "id": "725e864f-177d-426a-b9b7-48619d095b30",
   "metadata": {
    "tags": []
   },
   "source": [
    "# Data Load"
   ]
  },
  {
   "cell_type": "code",
   "execution_count": 3,
   "id": "24e7d713-2861-4d0f-a6ae-b875e1157bab",
   "metadata": {
    "tags": []
   },
   "outputs": [],
   "source": [
    "train = pd.read_csv(\"train.csv\")\n",
    "test  = pd.read_csv(\"test.csv\")\n",
    "submit = pd.read_csv(\"sample_submission.csv\")"
   ]
  },
  {
   "cell_type": "markdown",
   "id": "d869d8e7-f8a5-4f01-8728-89a2eab368de",
   "metadata": {},
   "source": [
    "# ID"
   ]
  },
  {
   "cell_type": "code",
   "execution_count": 4,
   "id": "cc6a1a3a-1d7b-4e8b-996e-4e71970c3dae",
   "metadata": {},
   "outputs": [
    {
     "data": {
      "text/plain": [
       "(30200, (30200, 14))"
      ]
     },
     "execution_count": 4,
     "metadata": {},
     "output_type": "execute_result"
    }
   ],
   "source": [
    "train['ID'].nunique(), train.shape"
   ]
  },
  {
   "cell_type": "code",
   "execution_count": 5,
   "id": "923b4df3-41f5-4d15-add4-fa6a49c9e5ab",
   "metadata": {},
   "outputs": [],
   "source": [
    "train = train.drop('ID', axis=1)\n",
    "test  = test.drop('ID', axis=1)"
   ]
  },
  {
   "cell_type": "code",
   "execution_count": 6,
   "id": "03f47d1d-226d-43ad-9e53-d459a4377cd4",
   "metadata": {
    "tags": []
   },
   "outputs": [
    {
     "name": "stdout",
     "output_type": "stream",
     "text": [
      "<class 'pandas.core.frame.DataFrame'>\n",
      "RangeIndex: 30200 entries, 0 to 30199\n",
      "Data columns (total 13 columns):\n",
      " #   Column   Non-Null Count  Dtype  \n",
      "---  ------   --------------  -----  \n",
      " 0   가입일      30200 non-null  int64  \n",
      " 1   음성사서함이용  30200 non-null  int64  \n",
      " 2   주간통화시간   30200 non-null  float64\n",
      " 3   주간통화횟수   30200 non-null  int64  \n",
      " 4   주간통화요금   30200 non-null  float64\n",
      " 5   저녁통화시간   30200 non-null  float64\n",
      " 6   저녁통화횟수   30200 non-null  int64  \n",
      " 7   저녁통화요금   30200 non-null  float64\n",
      " 8   밤통화시간    30200 non-null  float64\n",
      " 9   밤통화횟수    30200 non-null  int64  \n",
      " 10  밤통화요금    30200 non-null  float64\n",
      " 11  상담전화건수   30200 non-null  int64  \n",
      " 12  전화해지여부   30200 non-null  int64  \n",
      "dtypes: float64(6), int64(7)\n",
      "memory usage: 3.0 MB\n"
     ]
    }
   ],
   "source": [
    "train.info()"
   ]
  },
  {
   "cell_type": "code",
   "execution_count": 7,
   "id": "7c6cde3a-64fa-48fe-b8e0-3ae000be23da",
   "metadata": {
    "tags": []
   },
   "outputs": [
    {
     "name": "stdout",
     "output_type": "stream",
     "text": [
      "<class 'pandas.core.frame.DataFrame'>\n",
      "RangeIndex: 12943 entries, 0 to 12942\n",
      "Data columns (total 12 columns):\n",
      " #   Column   Non-Null Count  Dtype  \n",
      "---  ------   --------------  -----  \n",
      " 0   가입일      12943 non-null  int64  \n",
      " 1   음성사서함이용  12943 non-null  int64  \n",
      " 2   주간통화시간   12943 non-null  float64\n",
      " 3   주간통화횟수   12943 non-null  int64  \n",
      " 4   주간통화요금   12943 non-null  float64\n",
      " 5   저녁통화시간   12943 non-null  float64\n",
      " 6   저녁통화횟수   12943 non-null  int64  \n",
      " 7   저녁통화요금   12943 non-null  float64\n",
      " 8   밤통화시간    12943 non-null  float64\n",
      " 9   밤통화횟수    12943 non-null  int64  \n",
      " 10  밤통화요금    12943 non-null  float64\n",
      " 11  상담전화건수   12943 non-null  int64  \n",
      "dtypes: float64(6), int64(6)\n",
      "memory usage: 1.2 MB\n"
     ]
    }
   ],
   "source": [
    "test.info()"
   ]
  },
  {
   "cell_type": "code",
   "execution_count": 8,
   "id": "418e2c70-2353-4cea-b50e-d88e67e8144f",
   "metadata": {
    "tags": []
   },
   "outputs": [
    {
     "data": {
      "text/html": [
       "<div>\n",
       "<style scoped>\n",
       "    .dataframe tbody tr th:only-of-type {\n",
       "        vertical-align: middle;\n",
       "    }\n",
       "\n",
       "    .dataframe tbody tr th {\n",
       "        vertical-align: top;\n",
       "    }\n",
       "\n",
       "    .dataframe thead th {\n",
       "        text-align: right;\n",
       "    }\n",
       "</style>\n",
       "<table border=\"1\" class=\"dataframe\">\n",
       "  <thead>\n",
       "    <tr style=\"text-align: right;\">\n",
       "      <th></th>\n",
       "      <th>가입일</th>\n",
       "      <th>음성사서함이용</th>\n",
       "      <th>주간통화시간</th>\n",
       "      <th>주간통화횟수</th>\n",
       "      <th>주간통화요금</th>\n",
       "      <th>저녁통화시간</th>\n",
       "      <th>저녁통화횟수</th>\n",
       "      <th>저녁통화요금</th>\n",
       "      <th>밤통화시간</th>\n",
       "      <th>밤통화횟수</th>\n",
       "      <th>밤통화요금</th>\n",
       "      <th>상담전화건수</th>\n",
       "      <th>전화해지여부</th>\n",
       "    </tr>\n",
       "  </thead>\n",
       "  <tbody>\n",
       "    <tr>\n",
       "      <th>0</th>\n",
       "      <td>329</td>\n",
       "      <td>0</td>\n",
       "      <td>99.2</td>\n",
       "      <td>93</td>\n",
       "      <td>27.3</td>\n",
       "      <td>268.8</td>\n",
       "      <td>68</td>\n",
       "      <td>28.92</td>\n",
       "      <td>262.9</td>\n",
       "      <td>328</td>\n",
       "      <td>32.89</td>\n",
       "      <td>2</td>\n",
       "      <td>0</td>\n",
       "    </tr>\n",
       "    <tr>\n",
       "      <th>1</th>\n",
       "      <td>2</td>\n",
       "      <td>80</td>\n",
       "      <td>323.9</td>\n",
       "      <td>323</td>\n",
       "      <td>83.7</td>\n",
       "      <td>269.4</td>\n",
       "      <td>326</td>\n",
       "      <td>32.09</td>\n",
       "      <td>322.8</td>\n",
       "      <td>209</td>\n",
       "      <td>32.32</td>\n",
       "      <td>2</td>\n",
       "      <td>0</td>\n",
       "    </tr>\n",
       "    <tr>\n",
       "      <th>2</th>\n",
       "      <td>93</td>\n",
       "      <td>28</td>\n",
       "      <td>282.4</td>\n",
       "      <td>323</td>\n",
       "      <td>34.2</td>\n",
       "      <td>207.0</td>\n",
       "      <td>322</td>\n",
       "      <td>32.82</td>\n",
       "      <td>280.8</td>\n",
       "      <td>328</td>\n",
       "      <td>8.28</td>\n",
       "      <td>0</td>\n",
       "      <td>0</td>\n",
       "    </tr>\n",
       "    <tr>\n",
       "      <th>3</th>\n",
       "      <td>223</td>\n",
       "      <td>1</td>\n",
       "      <td>221.4</td>\n",
       "      <td>223</td>\n",
       "      <td>25.1</td>\n",
       "      <td>233.0</td>\n",
       "      <td>61</td>\n",
       "      <td>23.90</td>\n",
       "      <td>203.8</td>\n",
       "      <td>234</td>\n",
       "      <td>9.36</td>\n",
       "      <td>0</td>\n",
       "      <td>0</td>\n",
       "    </tr>\n",
       "    <tr>\n",
       "      <th>4</th>\n",
       "      <td>222</td>\n",
       "      <td>0</td>\n",
       "      <td>96.3</td>\n",
       "      <td>222</td>\n",
       "      <td>28.7</td>\n",
       "      <td>223.9</td>\n",
       "      <td>69</td>\n",
       "      <td>28.08</td>\n",
       "      <td>263.1</td>\n",
       "      <td>223</td>\n",
       "      <td>2.80</td>\n",
       "      <td>8</td>\n",
       "      <td>0</td>\n",
       "    </tr>\n",
       "  </tbody>\n",
       "</table>\n",
       "</div>"
      ],
      "text/plain": [
       "   가입일  음성사서함이용  주간통화시간  주간통화횟수  주간통화요금  저녁통화시간  저녁통화횟수  저녁통화요금  밤통화시간  밤통화횟수  \\\n",
       "0  329        0    99.2      93    27.3   268.8      68   28.92  262.9    328   \n",
       "1    2       80   323.9     323    83.7   269.4     326   32.09  322.8    209   \n",
       "2   93       28   282.4     323    34.2   207.0     322   32.82  280.8    328   \n",
       "3  223        1   221.4     223    25.1   233.0      61   23.90  203.8    234   \n",
       "4  222        0    96.3     222    28.7   223.9      69   28.08  263.1    223   \n",
       "\n",
       "   밤통화요금  상담전화건수  전화해지여부  \n",
       "0  32.89       2       0  \n",
       "1  32.32       2       0  \n",
       "2   8.28       0       0  \n",
       "3   9.36       0       0  \n",
       "4   2.80       8       0  "
      ]
     },
     "execution_count": 8,
     "metadata": {},
     "output_type": "execute_result"
    }
   ],
   "source": [
    "train.head()"
   ]
  },
  {
   "cell_type": "markdown",
   "id": "79400b9d-3124-4960-9c45-f64030d53235",
   "metadata": {
    "tags": []
   },
   "source": [
    "# target Feature\n",
    "* <font color=red size=4><b> 불균형\n",
    "* Churn rate(고객 이탈률)\n",
    "    * 정해진 기간 내 이탈 고객을 전체 고객수로 나눈 수치"
   ]
  },
  {
   "cell_type": "code",
   "execution_count": 9,
   "id": "34e88407-159e-48c4-84af-b63c10baa439",
   "metadata": {
    "tags": []
   },
   "outputs": [
    {
     "name": "stdout",
     "output_type": "stream",
     "text": [
      "Churn rate 양성비율 : 10.986755\n",
      "0    26882\n",
      "1     3318\n",
      "Name: 전화해지여부, dtype: int64\n"
     ]
    },
    {
     "data": {
      "image/png": "[encoded data removed]",
      "text/plain": [
       "<Figure size 300x200 with 1 Axes>"
      ]
     },
     "metadata": {},
     "output_type": "display_data"
    }
   ],
   "source": [
    "print( f\"Churn rate 양성비율 : {len(train[train['전화해지여부']== 1]) / len(train) * 100 :2f}\" )\n",
    "print( train['전화해지여부'].value_counts() )\n",
    "train['전화해지여부'].value_counts().plot(kind='bar', figsize=(3,2))\n",
    "plt.show()\n",
    "\n"
   ]
  },
  {
   "cell_type": "markdown",
   "id": "086195c1-20d9-4640-83fb-13be9bfdf4bd",
   "metadata": {},
   "source": [
    "# 파생피쳐"
   ]
  },
  {
   "cell_type": "markdown",
   "id": "46f24d8e-fb47-4218-85cb-67ecf66652ca",
   "metadata": {},
   "source": [
    "## 가입일"
   ]
  },
  {
   "cell_type": "code",
   "execution_count": 10,
   "id": "c9988856-0186-433e-9c81-6f0b1b30eb60",
   "metadata": {
    "tags": []
   },
   "outputs": [
    {
     "data": {
      "text/plain": [
       "(1, 2212)"
      ]
     },
     "execution_count": 10,
     "metadata": {},
     "output_type": "execute_result"
    }
   ],
   "source": [
    "train['가입일'].min(), train['가입일'].max()"
   ]
  },
  {
   "cell_type": "markdown",
   "id": "d8921fe5-d628-4b88-8560-424ca1808c73",
   "metadata": {
    "tags": []
   },
   "source": [
    "* $ 지수화 = \\frac {가입일} {가입일-시작일} * 100 $"
   ]
  },
  {
   "cell_type": "code",
   "execution_count": 11,
   "id": "7ad76981-e408-4304-aac2-db441a7157fb",
   "metadata": {
    "tags": []
   },
   "outputs": [],
   "source": [
    "traincp = train.copy()"
   ]
  },
  {
   "cell_type": "code",
   "execution_count": 12,
   "id": "1b6da3b6-c113-4c7b-b217-51e70a6a3900",
   "metadata": {
    "tags": []
   },
   "outputs": [],
   "source": [
    "# train['가입일지수'] = train['가입일'].apply(lambda d :  (d / (2213 -d )) * 100 )\n",
    "train['가입기간년'] = train['가입일'] // 365\n",
    "train['가입기간월'] = np.floor(train['가입일'] // 12)\n",
    "train['가입기간주'] = np.floor(train['가입일'] // 52)\n",
    "train['가입월']     = np.floor(train['가입일'] / 30) - (  ( np.floor(train['가입일'] / 30) / 12).astype(int) * 12  )  \n",
    "\n",
    "test['가입기간년']  = test['가입일'] // 365\n",
    "test['가입기간월']  = np.floor(test['가입일'] // 12)\n",
    "test['가입기간주']  = np.floor(test['가입일'] // 52)\n",
    "test['가입월']      = np.floor(test['가입일'] / 30) - (  ( np.floor(test['가입일'] / 30) / 12).astype(int) * 12  )  "
   ]
  },
  {
   "cell_type": "code",
   "execution_count": 13,
   "id": "418e974c-959c-481b-b568-2c177c3541a8",
   "metadata": {
    "tags": []
   },
   "outputs": [],
   "source": [
    "# fig, axes = plt.subplots(2, 2, figsize=(20, 10)  ) \n",
    "\n",
    "# for i, col in enumerate(['가입기간년','가입기간월','가입기간주','가입월']) :\n",
    "#     r = i//2\n",
    "#     c = i%2\n",
    "#     axes[r][c].set_title(col)\n",
    "#     sns.histplot(data=train, x=col, ax=axes[r][c])\n",
    "#     sns.histplot(data=test, x=col, ax=axes[r][c])\n",
    "\n",
    "# plt.tight_layout()\n",
    "# plt.show()\n"
   ]
  },
  {
   "cell_type": "markdown",
   "id": "32ff1d91-264a-4e74-9852-290583737002",
   "metadata": {},
   "source": [
    "## 가입기간년"
   ]
  },
  {
   "cell_type": "markdown",
   "id": "88cbfc82-99e4-4104-9e55-69ccccd3d308",
   "metadata": {},
   "source": [
    "* 가입년수 2년 이상이면 해지 확률이 거의 없다"
   ]
  },
  {
   "cell_type": "code",
   "execution_count": 14,
   "id": "8a4edfa0-c1d6-49a7-abc9-054663f611d4",
   "metadata": {
    "tags": []
   },
   "outputs": [
    {
     "data": {
      "text/plain": [
       "가입기간년  전화해지여부\n",
       "0      0         25636\n",
       "       1          3192\n",
       "1      0          1219\n",
       "       1           123\n",
       "2      0             4\n",
       "       1             1\n",
       "3      0             6\n",
       "5      0            11\n",
       "       1             2\n",
       "6      0             6\n",
       "dtype: int64"
      ]
     },
     "execution_count": 14,
     "metadata": {},
     "output_type": "execute_result"
    }
   ],
   "source": [
    "train[['가입기간년','전화해지여부']].value_counts().sort_index()"
   ]
  },
  {
   "cell_type": "code",
   "execution_count": 15,
   "id": "74820c3f-cc10-4960-922f-928e605055a9",
   "metadata": {
    "tags": []
   },
   "outputs": [],
   "source": [
    "# plt.figure(figsize=(8,3))\n",
    "# sns.countplot(data=train    , x='가입기간년',  hue=\"전화해지여부\")\n",
    "# plt.show()"
   ]
  },
  {
   "cell_type": "markdown",
   "id": "a7d94d78-0037-4282-b22e-75531dbc92f3",
   "metadata": {},
   "source": [
    "## 가입기간월"
   ]
  },
  {
   "cell_type": "code",
   "execution_count": 16,
   "id": "821d4608-afaa-4585-a12a-84414e80b65a",
   "metadata": {
    "tags": []
   },
   "outputs": [
    {
     "data": {
      "text/plain": [
       "가입기간월\n",
       "0.0       218\n",
       "1.0      1650\n",
       "2.0      3195\n",
       "3.0      1393\n",
       "4.0       421\n",
       "5.0      1726\n",
       "6.0      1455\n",
       "7.0      3479\n",
       "8.0      1321\n",
       "9.0       271\n",
       "10.0      244\n",
       "11.0      180\n",
       "12.0      119\n",
       "13.0       96\n",
       "14.0       53\n",
       "15.0       37\n",
       "16.0     1492\n",
       "17.0     1187\n",
       "18.0     3895\n",
       "19.0     1950\n",
       "20.0      686\n",
       "21.0      308\n",
       "22.0      266\n",
       "23.0      974\n",
       "24.0      823\n",
       "25.0        6\n",
       "26.0      722\n",
       "27.0      661\n",
       "33.0      185\n",
       "34.0       84\n",
       "36.0       71\n",
       "37.0      649\n",
       "38.0      129\n",
       "39.0       49\n",
       "40.0      159\n",
       "41.0       16\n",
       "75.0        4\n",
       "76.0        1\n",
       "92.0        6\n",
       "167.0       4\n",
       "175.0       6\n",
       "176.0       3\n",
       "184.0       6\n",
       "dtype: int64"
      ]
     },
     "execution_count": 16,
     "metadata": {},
     "output_type": "execute_result"
    }
   ],
   "source": [
    "train[['가입기간월']].value_counts().sort_index()"
   ]
  },
  {
   "cell_type": "code",
   "execution_count": 17,
   "id": "d980588d-72d4-499c-81be-846859f262c5",
   "metadata": {
    "tags": []
   },
   "outputs": [],
   "source": [
    "# plt.figure(figsize=(20,3))\n",
    "# sns.countplot(data=train    , x='가입기간월', hue=\"전화해지여부\")\n",
    "# plt.show()"
   ]
  },
  {
   "cell_type": "markdown",
   "id": "01400973-38fa-4de2-96cf-3056c9fe3452",
   "metadata": {},
   "source": [
    "## 가입기간주"
   ]
  },
  {
   "cell_type": "markdown",
   "id": "08198704-79d6-4189-83cf-e4515457fd2a",
   "metadata": {},
   "source": [
    "* 가입기간 17주 이상이면 해지 확률이 거의 없다"
   ]
  },
  {
   "cell_type": "code",
   "execution_count": 18,
   "id": "39d0cf6c-33a5-4901-9e2a-6af988bde148",
   "metadata": {
    "tags": []
   },
   "outputs": [
    {
     "data": {
      "text/plain": [
       "가입기간주  전화해지여부\n",
       "0.0    0         6044\n",
       "       1          666\n",
       "1.0    0         7161\n",
       "       1          894\n",
       "2.0    0          778\n",
       "       1          129\n",
       "3.0    0         1968\n",
       "       1          229\n",
       "4.0    0         6404\n",
       "       1          795\n",
       "5.0    0         2099\n",
       "       1          278\n",
       "6.0    0         1182\n",
       "       1          201\n",
       "7.0    0          244\n",
       "       1           25\n",
       "8.0    0          771\n",
       "       1           78\n",
       "9.0    0          204\n",
       "       1           20\n",
       "17.0   0            4\n",
       "       1            1\n",
       "21.0   0            6\n",
       "38.0   0            2\n",
       "       1            2\n",
       "40.0   0            9\n",
       "42.0   0            6\n",
       "dtype: int64"
      ]
     },
     "execution_count": 18,
     "metadata": {},
     "output_type": "execute_result"
    }
   ],
   "source": [
    "train[['가입기간주','전화해지여부']].value_counts().sort_index()"
   ]
  },
  {
   "cell_type": "code",
   "execution_count": 19,
   "id": "62314ade-9584-4090-86c2-fd33aa74923c",
   "metadata": {
    "tags": []
   },
   "outputs": [],
   "source": [
    "# plt.figure(figsize=(20,5))\n",
    "# sns.countplot(data=train    , x='가입기간주', hue=\"전화해지여부\")\n",
    "# plt.show()"
   ]
  },
  {
   "cell_type": "markdown",
   "id": "042d6125-4296-49ab-987b-a192a8921575",
   "metadata": {},
   "source": [
    "## 가입월"
   ]
  },
  {
   "cell_type": "markdown",
   "id": "cb31f0ee-4e29-4569-b6d9-d543d635867e",
   "metadata": {},
   "source": [
    "* 가입/해지 실적이 저조한 달이 있다\n",
    "    * 4, 5, 11월 : 매우 저조 \n",
    "    * 8, 9, 10월 : 상대적 저조 "
   ]
  },
  {
   "cell_type": "code",
   "execution_count": 20,
   "id": "f0c53c30-172f-45af-a961-21b9f4a89a83",
   "metadata": {
    "tags": []
   },
   "outputs": [
    {
     "data": {
      "text/plain": [
       "가입월   전화해지여부\n",
       "0.0   0         3074\n",
       "      1          364\n",
       "1.0   0         3368\n",
       "      1          352\n",
       "2.0   0         4698\n",
       "      1          525\n",
       "3.0   0         3443\n",
       "      1          484\n",
       "4.0   0          589\n",
       "      1           77\n",
       "5.0   0          170\n",
       "      1           31\n",
       "6.0   0         2313\n",
       "      1          294\n",
       "7.0   0         5302\n",
       "      1          661\n",
       "8.0   0         1123\n",
       "      1          120\n",
       "9.0   0         1605\n",
       "      1          209\n",
       "10.0  0         1145\n",
       "      1          189\n",
       "11.0  0           52\n",
       "      1           12\n",
       "dtype: int64"
      ]
     },
     "execution_count": 20,
     "metadata": {},
     "output_type": "execute_result"
    }
   ],
   "source": [
    "train[['가입월','전화해지여부']].value_counts().sort_index()"
   ]
  },
  {
   "cell_type": "code",
   "execution_count": 21,
   "id": "79fe8a01-dd92-4ad6-b4e7-f211f13d8c4e",
   "metadata": {
    "tags": []
   },
   "outputs": [],
   "source": [
    "# plt.figure(figsize=(20,5))\n",
    "# sns.countplot(data=train    , x='가입월', hue=\"전화해지여부\")\n",
    "# plt.show()"
   ]
  },
  {
   "cell_type": "markdown",
   "id": "b359791e-7a22-49a7-bf1a-27bd3028c7f1",
   "metadata": {
    "tags": []
   },
   "source": [
    "## 통화 시간/횟수/요금\n",
    "* 전체 시간, 횟수, 요금\n",
    "* 단위 시간당 요금\n",
    "* 1회 통화 시간"
   ]
  },
  {
   "cell_type": "code",
   "execution_count": 22,
   "id": "fcb6d7ac-b244-4d29-a90f-853acfb3f589",
   "metadata": {
    "tags": []
   },
   "outputs": [],
   "source": [
    "train['총통화시간']   = train['주간통화시간'] + train['저녁통화시간'] + train['밤통화시간']\n",
    "train['총통화횟수']   = train['주간통화횟수'] + train['저녁통화횟수'] + train['밤통화횟수']\n",
    "train['총통화요금']   = train['주간통화요금'] + train['저녁통화요금'] + train['밤통화요금']\n",
    "train['시간당요금']   = train['총통화요금']   / train['총통화시간']\n",
    "train['횟수당시간']   = train['총통화시간']   / train['총통화횟수']\n",
    "\n",
    "\n",
    "test['총통화시간']   = test['주간통화시간'] + test['저녁통화시간'] + test['밤통화시간']\n",
    "test['총통화횟수']   = test['주간통화횟수'] + test['저녁통화횟수'] + test['밤통화횟수']\n",
    "test['총통화요금']   = test['주간통화요금'] + test['저녁통화요금'] + test['밤통화요금']\n",
    "test['시간당요금']   = test['총통화요금']   / test['총통화시간']\n",
    "test['횟수당시간']   = test['총통화시간']   / test['총통화횟수']"
   ]
  },
  {
   "cell_type": "code",
   "execution_count": 23,
   "id": "0f109aed-562d-41e5-9a6b-94aeaa36f79d",
   "metadata": {
    "tags": []
   },
   "outputs": [],
   "source": [
    "# 분석"
   ]
  },
  {
   "cell_type": "code",
   "execution_count": null,
   "id": "dadaed3d-1c7d-4ae3-a805-0047e0afc8a7",
   "metadata": {},
   "outputs": [],
   "source": []
  },
  {
   "cell_type": "markdown",
   "id": "b3c4ba17-128c-4225-9606-18840c5711b9",
   "metadata": {},
   "source": [
    "## 시간당 요금"
   ]
  },
  {
   "cell_type": "markdown",
   "id": "ebcb5cda-c191-4964-bed6-2c95834b55a3",
   "metadata": {},
   "source": [
    "- 0인값 대체하기"
   ]
  },
  {
   "cell_type": "code",
   "execution_count": 24,
   "id": "ad0a8b25-2d4e-4850-aea2-24767ab5f5ec",
   "metadata": {
    "tags": []
   },
   "outputs": [],
   "source": [
    "idx=train['주간통화시간'][train['주간통화시간']==0].index.values"
   ]
  },
  {
   "cell_type": "code",
   "execution_count": 25,
   "id": "933b0667-5a0f-4816-b9c6-feaf5fb1c4cb",
   "metadata": {
    "tags": []
   },
   "outputs": [
    {
     "data": {
      "text/plain": [
       "array([5512], dtype=int64)"
      ]
     },
     "execution_count": 25,
     "metadata": {},
     "output_type": "execute_result"
    }
   ],
   "source": [
    "idx"
   ]
  },
  {
   "cell_type": "code",
   "execution_count": 26,
   "id": "24345429-af4b-47dc-b097-77a15396d97a",
   "metadata": {
    "tags": []
   },
   "outputs": [],
   "source": [
    "train['주간통화시간'].loc[idx]=0.1"
   ]
  },
  {
   "cell_type": "code",
   "execution_count": 27,
   "id": "120abbed-b3ab-46b9-ba58-7e54ff910da7",
   "metadata": {
    "tags": []
   },
   "outputs": [
    {
     "data": {
      "text/plain": [
       "Series([], Name: 주간통화시간, dtype: float64)"
      ]
     },
     "execution_count": 27,
     "metadata": {},
     "output_type": "execute_result"
    }
   ],
   "source": [
    "train['주간통화시간'][train['주간통화시간']==0]"
   ]
  },
  {
   "cell_type": "markdown",
   "id": "6abfb1e3-b88f-4907-9c4f-0789dbfe0ab3",
   "metadata": {},
   "source": [
    "- 시간당 요금 계산하기"
   ]
  },
  {
   "cell_type": "code",
   "execution_count": 28,
   "id": "4a3c9b07-5b77-4571-829d-e2308378f8b0",
   "metadata": {
    "tags": []
   },
   "outputs": [
    {
     "name": "stdout",
     "output_type": "stream",
     "text": [
      "주간통화시간\n",
      "주간통화요금\n",
      "저녁통화시간\n",
      "저녁통화요금\n",
      "밤통화시간\n",
      "밤통화요금\n"
     ]
    }
   ],
   "source": [
    "time_list=[ '주간통화시간','주간통화요금','저녁통화시간','저녁통화요금','밤통화시간','밤통화요금']\n",
    "\n",
    "for i in range(0,len(time_list),2):    \n",
    "    print(time_list[i])\n",
    "    print(time_list[i+1])\n",
    "    train[f'{time_list[i]}당요금']=train[time_list[i+1]] / train[time_list[i]]"
   ]
  },
  {
   "cell_type": "code",
   "execution_count": 29,
   "id": "52affa5f-cabb-4ca5-9c67-b036dd6a41bf",
   "metadata": {
    "tags": []
   },
   "outputs": [
    {
     "name": "stdout",
     "output_type": "stream",
     "text": [
      "<class 'pandas.core.frame.DataFrame'>\n",
      "RangeIndex: 30200 entries, 0 to 30199\n",
      "Data columns (total 25 columns):\n",
      " #   Column     Non-Null Count  Dtype  \n",
      "---  ------     --------------  -----  \n",
      " 0   가입일        30200 non-null  int64  \n",
      " 1   음성사서함이용    30200 non-null  int64  \n",
      " 2   주간통화시간     30200 non-null  float64\n",
      " 3   주간통화횟수     30200 non-null  int64  \n",
      " 4   주간통화요금     30200 non-null  float64\n",
      " 5   저녁통화시간     30200 non-null  float64\n",
      " 6   저녁통화횟수     30200 non-null  int64  \n",
      " 7   저녁통화요금     30200 non-null  float64\n",
      " 8   밤통화시간      30200 non-null  float64\n",
      " 9   밤통화횟수      30200 non-null  int64  \n",
      " 10  밤통화요금      30200 non-null  float64\n",
      " 11  상담전화건수     30200 non-null  int64  \n",
      " 12  전화해지여부     30200 non-null  int64  \n",
      " 13  가입기간년      30200 non-null  int64  \n",
      " 14  가입기간월      30200 non-null  float64\n",
      " 15  가입기간주      30200 non-null  float64\n",
      " 16  가입월        30200 non-null  float64\n",
      " 17  총통화시간      30200 non-null  float64\n",
      " 18  총통화횟수      30200 non-null  int64  \n",
      " 19  총통화요금      30200 non-null  float64\n",
      " 20  시간당요금      30200 non-null  float64\n",
      " 21  횟수당시간      30200 non-null  float64\n",
      " 22  주간통화시간당요금  30200 non-null  float64\n",
      " 23  저녁통화시간당요금  30200 non-null  float64\n",
      " 24  밤통화시간당요금   30200 non-null  float64\n",
      "dtypes: float64(16), int64(9)\n",
      "memory usage: 5.8 MB\n"
     ]
    }
   ],
   "source": [
    "train.info()"
   ]
  },
  {
   "cell_type": "code",
   "execution_count": 30,
   "id": "a56945e0-cd87-466f-8b34-5336c8513cb0",
   "metadata": {
    "tags": []
   },
   "outputs": [],
   "source": [
    "# fig, axes = plt.subplots(1, 3, figsize=(20, 8)  ) \n",
    "# x_list=['주간통화시간', '저녁통화시간',  '밤통화시간']\n",
    "# y_list=['주간통화시간당요금', '저녁통화시간당요금', '밤통화시간당요금']\n",
    "# for i, col in enumerate(x_list) :  #train.columns) :\n",
    "#     r = i//6\n",
    "#     c = i%6\n",
    "#     axes[c].set_title(col)\n",
    "#     sns.lineplot(data=train,y=y_list[i],x='상담전화건수', hue='전화해지여부', ax=axes[c],err_style=None)#, estimator=None)\n",
    "\n",
    "# plt.tight_layout()\n",
    "# plt.show()"
   ]
  },
  {
   "cell_type": "code",
   "execution_count": 31,
   "id": "b5899b42-2457-4992-9ed6-d41bf8508419",
   "metadata": {
    "tags": []
   },
   "outputs": [
    {
     "data": {
      "text/html": [
       "<div>\n",
       "<style scoped>\n",
       "    .dataframe tbody tr th:only-of-type {\n",
       "        vertical-align: middle;\n",
       "    }\n",
       "\n",
       "    .dataframe tbody tr th {\n",
       "        vertical-align: top;\n",
       "    }\n",
       "\n",
       "    .dataframe thead th {\n",
       "        text-align: right;\n",
       "    }\n",
       "</style>\n",
       "<table border=\"1\" class=\"dataframe\">\n",
       "  <thead>\n",
       "    <tr style=\"text-align: right;\">\n",
       "      <th></th>\n",
       "      <th>가입일</th>\n",
       "      <th>음성사서함이용</th>\n",
       "      <th>주간통화시간</th>\n",
       "      <th>주간통화횟수</th>\n",
       "      <th>주간통화요금</th>\n",
       "      <th>저녁통화시간</th>\n",
       "      <th>저녁통화횟수</th>\n",
       "      <th>저녁통화요금</th>\n",
       "      <th>밤통화시간</th>\n",
       "      <th>밤통화횟수</th>\n",
       "      <th>밤통화요금</th>\n",
       "      <th>상담전화건수</th>\n",
       "      <th>전화해지여부</th>\n",
       "      <th>가입기간년</th>\n",
       "      <th>가입기간월</th>\n",
       "      <th>가입기간주</th>\n",
       "      <th>가입월</th>\n",
       "      <th>총통화시간</th>\n",
       "      <th>총통화횟수</th>\n",
       "      <th>총통화요금</th>\n",
       "      <th>시간당요금</th>\n",
       "      <th>횟수당시간</th>\n",
       "      <th>주간통화시간당요금</th>\n",
       "      <th>저녁통화시간당요금</th>\n",
       "      <th>밤통화시간당요금</th>\n",
       "    </tr>\n",
       "  </thead>\n",
       "  <tbody>\n",
       "    <tr>\n",
       "      <th>15877</th>\n",
       "      <td>94</td>\n",
       "      <td>1</td>\n",
       "      <td>0.1</td>\n",
       "      <td>0</td>\n",
       "      <td>2.0</td>\n",
       "      <td>241.2</td>\n",
       "      <td>230</td>\n",
       "      <td>23.32</td>\n",
       "      <td>263.3</td>\n",
       "      <td>33</td>\n",
       "      <td>2.32</td>\n",
       "      <td>2</td>\n",
       "      <td>1</td>\n",
       "      <td>0</td>\n",
       "      <td>7.0</td>\n",
       "      <td>1.0</td>\n",
       "      <td>3.0</td>\n",
       "      <td>504.6</td>\n",
       "      <td>263</td>\n",
       "      <td>27.64</td>\n",
       "      <td>0.054776</td>\n",
       "      <td>1.918631</td>\n",
       "      <td>20.0</td>\n",
       "      <td>0.096683</td>\n",
       "      <td>0.008811</td>\n",
       "    </tr>\n",
       "  </tbody>\n",
       "</table>\n",
       "</div>"
      ],
      "text/plain": [
       "       가입일  음성사서함이용  주간통화시간  주간통화횟수  주간통화요금  저녁통화시간  저녁통화횟수  저녁통화요금  밤통화시간  \\\n",
       "15877   94        1     0.1       0     2.0   241.2     230   23.32  263.3   \n",
       "\n",
       "       밤통화횟수  밤통화요금  상담전화건수  전화해지여부  가입기간년  가입기간월  가입기간주  가입월  총통화시간  총통화횟수  \\\n",
       "15877     33   2.32       2       1      0    7.0    1.0  3.0  504.6    263   \n",
       "\n",
       "       총통화요금     시간당요금     횟수당시간  주간통화시간당요금  저녁통화시간당요금  밤통화시간당요금  \n",
       "15877  27.64  0.054776  1.918631       20.0   0.096683  0.008811  "
      ]
     },
     "execution_count": 31,
     "metadata": {},
     "output_type": "execute_result"
    }
   ],
   "source": [
    "train[train['주간통화시간당요금']>=19]"
   ]
  },
  {
   "cell_type": "code",
   "execution_count": 32,
   "id": "63d5dfb9-e30d-47c7-a866-baddaee41404",
   "metadata": {
    "tags": []
   },
   "outputs": [
    {
     "data": {
      "text/html": [
       "<div>\n",
       "<style scoped>\n",
       "    .dataframe tbody tr th:only-of-type {\n",
       "        vertical-align: middle;\n",
       "    }\n",
       "\n",
       "    .dataframe tbody tr th {\n",
       "        vertical-align: top;\n",
       "    }\n",
       "\n",
       "    .dataframe thead th {\n",
       "        text-align: right;\n",
       "    }\n",
       "</style>\n",
       "<table border=\"1\" class=\"dataframe\">\n",
       "  <thead>\n",
       "    <tr style=\"text-align: right;\">\n",
       "      <th></th>\n",
       "      <th>가입일</th>\n",
       "      <th>음성사서함이용</th>\n",
       "      <th>주간통화시간</th>\n",
       "      <th>주간통화횟수</th>\n",
       "      <th>주간통화요금</th>\n",
       "      <th>저녁통화시간</th>\n",
       "      <th>저녁통화횟수</th>\n",
       "      <th>저녁통화요금</th>\n",
       "      <th>밤통화시간</th>\n",
       "      <th>밤통화횟수</th>\n",
       "      <th>밤통화요금</th>\n",
       "      <th>상담전화건수</th>\n",
       "      <th>전화해지여부</th>\n",
       "      <th>가입기간년</th>\n",
       "      <th>가입기간월</th>\n",
       "      <th>가입기간주</th>\n",
       "      <th>가입월</th>\n",
       "      <th>총통화시간</th>\n",
       "      <th>총통화횟수</th>\n",
       "      <th>총통화요금</th>\n",
       "      <th>시간당요금</th>\n",
       "      <th>횟수당시간</th>\n",
       "      <th>주간통화시간당요금</th>\n",
       "      <th>저녁통화시간당요금</th>\n",
       "      <th>밤통화시간당요금</th>\n",
       "    </tr>\n",
       "  </thead>\n",
       "  <tbody>\n",
       "    <tr>\n",
       "      <th>5512</th>\n",
       "      <td>203</td>\n",
       "      <td>1</td>\n",
       "      <td>0.1</td>\n",
       "      <td>0</td>\n",
       "      <td>0.4</td>\n",
       "      <td>292.8</td>\n",
       "      <td>230</td>\n",
       "      <td>26.33</td>\n",
       "      <td>264.5</td>\n",
       "      <td>93</td>\n",
       "      <td>2.60</td>\n",
       "      <td>2</td>\n",
       "      <td>0</td>\n",
       "      <td>0</td>\n",
       "      <td>16.0</td>\n",
       "      <td>3.0</td>\n",
       "      <td>6.0</td>\n",
       "      <td>557.3</td>\n",
       "      <td>323</td>\n",
       "      <td>29.33</td>\n",
       "      <td>0.052629</td>\n",
       "      <td>1.725387</td>\n",
       "      <td>4.0</td>\n",
       "      <td>0.089925</td>\n",
       "      <td>0.009830</td>\n",
       "    </tr>\n",
       "    <tr>\n",
       "      <th>11178</th>\n",
       "      <td>98</td>\n",
       "      <td>0</td>\n",
       "      <td>0.1</td>\n",
       "      <td>1</td>\n",
       "      <td>1.2</td>\n",
       "      <td>289.6</td>\n",
       "      <td>280</td>\n",
       "      <td>28.82</td>\n",
       "      <td>263.2</td>\n",
       "      <td>88</td>\n",
       "      <td>2.82</td>\n",
       "      <td>2</td>\n",
       "      <td>1</td>\n",
       "      <td>0</td>\n",
       "      <td>8.0</td>\n",
       "      <td>1.0</td>\n",
       "      <td>3.0</td>\n",
       "      <td>552.9</td>\n",
       "      <td>369</td>\n",
       "      <td>32.84</td>\n",
       "      <td>0.059396</td>\n",
       "      <td>1.498374</td>\n",
       "      <td>12.0</td>\n",
       "      <td>0.099517</td>\n",
       "      <td>0.010714</td>\n",
       "    </tr>\n",
       "    <tr>\n",
       "      <th>15877</th>\n",
       "      <td>94</td>\n",
       "      <td>1</td>\n",
       "      <td>0.1</td>\n",
       "      <td>0</td>\n",
       "      <td>2.0</td>\n",
       "      <td>241.2</td>\n",
       "      <td>230</td>\n",
       "      <td>23.32</td>\n",
       "      <td>263.3</td>\n",
       "      <td>33</td>\n",
       "      <td>2.32</td>\n",
       "      <td>2</td>\n",
       "      <td>1</td>\n",
       "      <td>0</td>\n",
       "      <td>7.0</td>\n",
       "      <td>1.0</td>\n",
       "      <td>3.0</td>\n",
       "      <td>504.6</td>\n",
       "      <td>263</td>\n",
       "      <td>27.64</td>\n",
       "      <td>0.054776</td>\n",
       "      <td>1.918631</td>\n",
       "      <td>20.0</td>\n",
       "      <td>0.096683</td>\n",
       "      <td>0.008811</td>\n",
       "    </tr>\n",
       "  </tbody>\n",
       "</table>\n",
       "</div>"
      ],
      "text/plain": [
       "       가입일  음성사서함이용  주간통화시간  주간통화횟수  주간통화요금  저녁통화시간  저녁통화횟수  저녁통화요금  밤통화시간  \\\n",
       "5512   203        1     0.1       0     0.4   292.8     230   26.33  264.5   \n",
       "11178   98        0     0.1       1     1.2   289.6     280   28.82  263.2   \n",
       "15877   94        1     0.1       0     2.0   241.2     230   23.32  263.3   \n",
       "\n",
       "       밤통화횟수  밤통화요금  상담전화건수  전화해지여부  가입기간년  가입기간월  가입기간주  가입월  총통화시간  총통화횟수  \\\n",
       "5512      93   2.60       2       0      0   16.0    3.0  6.0  557.3    323   \n",
       "11178     88   2.82       2       1      0    8.0    1.0  3.0  552.9    369   \n",
       "15877     33   2.32       2       1      0    7.0    1.0  3.0  504.6    263   \n",
       "\n",
       "       총통화요금     시간당요금     횟수당시간  주간통화시간당요금  저녁통화시간당요금  밤통화시간당요금  \n",
       "5512   29.33  0.052629  1.725387        4.0   0.089925  0.009830  \n",
       "11178  32.84  0.059396  1.498374       12.0   0.099517  0.010714  \n",
       "15877  27.64  0.054776  1.918631       20.0   0.096683  0.008811  "
      ]
     },
     "execution_count": 32,
     "metadata": {},
     "output_type": "execute_result"
    }
   ],
   "source": [
    "train[train['주간통화시간']==0.1]"
   ]
  },
  {
   "cell_type": "markdown",
   "id": "f86876a6-70cd-4d2e-8eb4-04a85a2692d7",
   "metadata": {},
   "source": [
    "## 월납부요금"
   ]
  },
  {
   "cell_type": "code",
   "execution_count": 33,
   "id": "0a31ca8b-651a-40c9-8f17-ae28d37b057a",
   "metadata": {
    "tags": []
   },
   "outputs": [
    {
     "data": {
      "text/plain": [
       "0    3074\n",
       "1     364\n",
       "Name: 전화해지여부, dtype: int64"
      ]
     },
     "execution_count": 33,
     "metadata": {},
     "output_type": "execute_result"
    }
   ],
   "source": [
    "train['전화해지여부'][train['가입월']==0.0].value_counts()"
   ]
  },
  {
   "cell_type": "code",
   "execution_count": 34,
   "id": "dbcb0c17-d279-44b3-b205-7057c4b49871",
   "metadata": {
    "tags": []
   },
   "outputs": [],
   "source": [
    "traincp=train.copy()"
   ]
  },
  {
   "cell_type": "code",
   "execution_count": 35,
   "id": "babdec11-12cb-4817-99ee-07830a858db9",
   "metadata": {
    "tags": []
   },
   "outputs": [],
   "source": [
    "train['가입월']=train['가입월'].astype('int')"
   ]
  },
  {
   "cell_type": "code",
   "execution_count": 36,
   "id": "06f44fd4-d7f1-4195-8136-f784774d9f5c",
   "metadata": {
    "tags": []
   },
   "outputs": [],
   "source": [
    "test['가입월']=test['가입월'].astype('int')"
   ]
  },
  {
   "cell_type": "code",
   "execution_count": 37,
   "id": "4f075003-7ae3-4ec6-9035-f91cee318c53",
   "metadata": {
    "tags": []
   },
   "outputs": [
    {
     "data": {
      "text/plain": [
       "7     5963\n",
       "2     5223\n",
       "3     3927\n",
       "1     3720\n",
       "0     3438\n",
       "6     2607\n",
       "9     1814\n",
       "10    1334\n",
       "8     1243\n",
       "4      666\n",
       "5      201\n",
       "11      64\n",
       "Name: 가입월, dtype: int64"
      ]
     },
     "execution_count": 37,
     "metadata": {},
     "output_type": "execute_result"
    }
   ],
   "source": [
    "train['가입월'].value_counts()"
   ]
  },
  {
   "cell_type": "code",
   "execution_count": 38,
   "id": "a5d6de38-4abd-49ca-a47c-756c4597328d",
   "metadata": {
    "tags": []
   },
   "outputs": [
    {
     "data": {
      "text/plain": [
       "7     2553\n",
       "2     2335\n",
       "3     1638\n",
       "1     1571\n",
       "0     1456\n",
       "6     1070\n",
       "9      780\n",
       "8      576\n",
       "10     559\n",
       "4      291\n",
       "5       82\n",
       "11      32\n",
       "Name: 가입월, dtype: int64"
      ]
     },
     "execution_count": 38,
     "metadata": {},
     "output_type": "execute_result"
    }
   ],
   "source": [
    "test['가입월'].value_counts()"
   ]
  },
  {
   "cell_type": "code",
   "execution_count": 39,
   "id": "2be6e550-0df6-499b-bc5f-8b31f87b18e1",
   "metadata": {
    "tags": []
   },
   "outputs": [
    {
     "data": {
      "text/html": [
       "<div>\n",
       "<style scoped>\n",
       "    .dataframe tbody tr th:only-of-type {\n",
       "        vertical-align: middle;\n",
       "    }\n",
       "\n",
       "    .dataframe tbody tr th {\n",
       "        vertical-align: top;\n",
       "    }\n",
       "\n",
       "    .dataframe thead th {\n",
       "        text-align: right;\n",
       "    }\n",
       "</style>\n",
       "<table border=\"1\" class=\"dataframe\">\n",
       "  <thead>\n",
       "    <tr style=\"text-align: right;\">\n",
       "      <th></th>\n",
       "      <th>가입일</th>\n",
       "      <th>음성사서함이용</th>\n",
       "      <th>주간통화시간</th>\n",
       "      <th>주간통화횟수</th>\n",
       "      <th>주간통화요금</th>\n",
       "      <th>저녁통화시간</th>\n",
       "      <th>저녁통화횟수</th>\n",
       "      <th>저녁통화요금</th>\n",
       "      <th>밤통화시간</th>\n",
       "      <th>밤통화횟수</th>\n",
       "      <th>밤통화요금</th>\n",
       "      <th>상담전화건수</th>\n",
       "      <th>가입기간년</th>\n",
       "      <th>가입기간월</th>\n",
       "      <th>가입기간주</th>\n",
       "      <th>가입월</th>\n",
       "      <th>총통화시간</th>\n",
       "      <th>총통화횟수</th>\n",
       "      <th>총통화요금</th>\n",
       "      <th>시간당요금</th>\n",
       "      <th>횟수당시간</th>\n",
       "    </tr>\n",
       "  </thead>\n",
       "  <tbody>\n",
       "    <tr>\n",
       "      <th>0</th>\n",
       "      <td>110</td>\n",
       "      <td>0</td>\n",
       "      <td>210.7</td>\n",
       "      <td>142</td>\n",
       "      <td>35.6</td>\n",
       "      <td>205.9</td>\n",
       "      <td>93</td>\n",
       "      <td>17.43</td>\n",
       "      <td>120.9</td>\n",
       "      <td>111</td>\n",
       "      <td>5.37</td>\n",
       "      <td>2</td>\n",
       "      <td>0</td>\n",
       "      <td>9.0</td>\n",
       "      <td>2.0</td>\n",
       "      <td>3</td>\n",
       "      <td>537.5</td>\n",
       "      <td>346</td>\n",
       "      <td>58.40</td>\n",
       "      <td>0.108651</td>\n",
       "      <td>1.553468</td>\n",
       "    </tr>\n",
       "    <tr>\n",
       "      <th>1</th>\n",
       "      <td>283</td>\n",
       "      <td>1</td>\n",
       "      <td>268.5</td>\n",
       "      <td>100</td>\n",
       "      <td>30.3</td>\n",
       "      <td>283.0</td>\n",
       "      <td>92</td>\n",
       "      <td>28.32</td>\n",
       "      <td>290.0</td>\n",
       "      <td>89</td>\n",
       "      <td>8.82</td>\n",
       "      <td>0</td>\n",
       "      <td>0</td>\n",
       "      <td>23.0</td>\n",
       "      <td>5.0</td>\n",
       "      <td>9</td>\n",
       "      <td>841.5</td>\n",
       "      <td>281</td>\n",
       "      <td>67.44</td>\n",
       "      <td>0.080143</td>\n",
       "      <td>2.994662</td>\n",
       "    </tr>\n",
       "    <tr>\n",
       "      <th>2</th>\n",
       "      <td>34</td>\n",
       "      <td>1</td>\n",
       "      <td>243.3</td>\n",
       "      <td>205</td>\n",
       "      <td>21.3</td>\n",
       "      <td>225.7</td>\n",
       "      <td>205</td>\n",
       "      <td>29.00</td>\n",
       "      <td>92.6</td>\n",
       "      <td>29</td>\n",
       "      <td>2.44</td>\n",
       "      <td>2</td>\n",
       "      <td>0</td>\n",
       "      <td>2.0</td>\n",
       "      <td>0.0</td>\n",
       "      <td>1</td>\n",
       "      <td>561.6</td>\n",
       "      <td>439</td>\n",
       "      <td>52.74</td>\n",
       "      <td>0.093910</td>\n",
       "      <td>1.279271</td>\n",
       "    </tr>\n",
       "    <tr>\n",
       "      <th>3</th>\n",
       "      <td>209</td>\n",
       "      <td>86</td>\n",
       "      <td>83.0</td>\n",
       "      <td>93</td>\n",
       "      <td>24.1</td>\n",
       "      <td>270.6</td>\n",
       "      <td>220</td>\n",
       "      <td>22.89</td>\n",
       "      <td>266.9</td>\n",
       "      <td>81</td>\n",
       "      <td>2.80</td>\n",
       "      <td>6</td>\n",
       "      <td>0</td>\n",
       "      <td>17.0</td>\n",
       "      <td>4.0</td>\n",
       "      <td>6</td>\n",
       "      <td>620.5</td>\n",
       "      <td>394</td>\n",
       "      <td>49.79</td>\n",
       "      <td>0.080242</td>\n",
       "      <td>1.574873</td>\n",
       "    </tr>\n",
       "    <tr>\n",
       "      <th>4</th>\n",
       "      <td>202</td>\n",
       "      <td>0</td>\n",
       "      <td>293.2</td>\n",
       "      <td>23</td>\n",
       "      <td>31.0</td>\n",
       "      <td>294.0</td>\n",
       "      <td>24</td>\n",
       "      <td>26.39</td>\n",
       "      <td>223.8</td>\n",
       "      <td>33</td>\n",
       "      <td>6.66</td>\n",
       "      <td>2</td>\n",
       "      <td>0</td>\n",
       "      <td>16.0</td>\n",
       "      <td>3.0</td>\n",
       "      <td>6</td>\n",
       "      <td>811.0</td>\n",
       "      <td>80</td>\n",
       "      <td>64.05</td>\n",
       "      <td>0.078977</td>\n",
       "      <td>10.137500</td>\n",
       "    </tr>\n",
       "    <tr>\n",
       "      <th>...</th>\n",
       "      <td>...</td>\n",
       "      <td>...</td>\n",
       "      <td>...</td>\n",
       "      <td>...</td>\n",
       "      <td>...</td>\n",
       "      <td>...</td>\n",
       "      <td>...</td>\n",
       "      <td>...</td>\n",
       "      <td>...</td>\n",
       "      <td>...</td>\n",
       "      <td>...</td>\n",
       "      <td>...</td>\n",
       "      <td>...</td>\n",
       "      <td>...</td>\n",
       "      <td>...</td>\n",
       "      <td>...</td>\n",
       "      <td>...</td>\n",
       "      <td>...</td>\n",
       "      <td>...</td>\n",
       "      <td>...</td>\n",
       "      <td>...</td>\n",
       "    </tr>\n",
       "    <tr>\n",
       "      <th>12938</th>\n",
       "      <td>322</td>\n",
       "      <td>1</td>\n",
       "      <td>282.4</td>\n",
       "      <td>202</td>\n",
       "      <td>89.9</td>\n",
       "      <td>270.2</td>\n",
       "      <td>321</td>\n",
       "      <td>32.80</td>\n",
       "      <td>293.6</td>\n",
       "      <td>321</td>\n",
       "      <td>8.88</td>\n",
       "      <td>2</td>\n",
       "      <td>0</td>\n",
       "      <td>26.0</td>\n",
       "      <td>6.0</td>\n",
       "      <td>10</td>\n",
       "      <td>846.2</td>\n",
       "      <td>844</td>\n",
       "      <td>131.58</td>\n",
       "      <td>0.155495</td>\n",
       "      <td>1.002607</td>\n",
       "    </tr>\n",
       "    <tr>\n",
       "      <th>12939</th>\n",
       "      <td>222</td>\n",
       "      <td>0</td>\n",
       "      <td>233.5</td>\n",
       "      <td>209</td>\n",
       "      <td>34.6</td>\n",
       "      <td>234.0</td>\n",
       "      <td>92</td>\n",
       "      <td>23.22</td>\n",
       "      <td>224.4</td>\n",
       "      <td>202</td>\n",
       "      <td>9.63</td>\n",
       "      <td>2</td>\n",
       "      <td>0</td>\n",
       "      <td>18.0</td>\n",
       "      <td>4.0</td>\n",
       "      <td>7</td>\n",
       "      <td>691.9</td>\n",
       "      <td>503</td>\n",
       "      <td>67.45</td>\n",
       "      <td>0.097485</td>\n",
       "      <td>1.375547</td>\n",
       "    </tr>\n",
       "    <tr>\n",
       "      <th>12940</th>\n",
       "      <td>98</td>\n",
       "      <td>29</td>\n",
       "      <td>223.4</td>\n",
       "      <td>209</td>\n",
       "      <td>29.3</td>\n",
       "      <td>223.9</td>\n",
       "      <td>203</td>\n",
       "      <td>28.82</td>\n",
       "      <td>230.0</td>\n",
       "      <td>208</td>\n",
       "      <td>22.26</td>\n",
       "      <td>2</td>\n",
       "      <td>0</td>\n",
       "      <td>8.0</td>\n",
       "      <td>1.0</td>\n",
       "      <td>3</td>\n",
       "      <td>677.3</td>\n",
       "      <td>620</td>\n",
       "      <td>80.38</td>\n",
       "      <td>0.118677</td>\n",
       "      <td>1.092419</td>\n",
       "    </tr>\n",
       "    <tr>\n",
       "      <th>12941</th>\n",
       "      <td>23</td>\n",
       "      <td>30</td>\n",
       "      <td>241.3</td>\n",
       "      <td>222</td>\n",
       "      <td>24.7</td>\n",
       "      <td>234.3</td>\n",
       "      <td>93</td>\n",
       "      <td>22.23</td>\n",
       "      <td>223.1</td>\n",
       "      <td>33</td>\n",
       "      <td>9.93</td>\n",
       "      <td>0</td>\n",
       "      <td>0</td>\n",
       "      <td>1.0</td>\n",
       "      <td>0.0</td>\n",
       "      <td>0</td>\n",
       "      <td>698.7</td>\n",
       "      <td>348</td>\n",
       "      <td>56.86</td>\n",
       "      <td>0.081380</td>\n",
       "      <td>2.007759</td>\n",
       "    </tr>\n",
       "    <tr>\n",
       "      <th>12942</th>\n",
       "      <td>28</td>\n",
       "      <td>22</td>\n",
       "      <td>281.7</td>\n",
       "      <td>228</td>\n",
       "      <td>24.1</td>\n",
       "      <td>208.8</td>\n",
       "      <td>220</td>\n",
       "      <td>22.29</td>\n",
       "      <td>222.9</td>\n",
       "      <td>68</td>\n",
       "      <td>2.28</td>\n",
       "      <td>2</td>\n",
       "      <td>0</td>\n",
       "      <td>2.0</td>\n",
       "      <td>0.0</td>\n",
       "      <td>0</td>\n",
       "      <td>713.4</td>\n",
       "      <td>516</td>\n",
       "      <td>48.67</td>\n",
       "      <td>0.068223</td>\n",
       "      <td>1.382558</td>\n",
       "    </tr>\n",
       "  </tbody>\n",
       "</table>\n",
       "<p>12943 rows × 21 columns</p>\n",
       "</div>"
      ],
      "text/plain": [
       "       가입일  음성사서함이용  주간통화시간  주간통화횟수  주간통화요금  저녁통화시간  저녁통화횟수  저녁통화요금  밤통화시간  \\\n",
       "0      110        0   210.7     142    35.6   205.9      93   17.43  120.9   \n",
       "1      283        1   268.5     100    30.3   283.0      92   28.32  290.0   \n",
       "2       34        1   243.3     205    21.3   225.7     205   29.00   92.6   \n",
       "3      209       86    83.0      93    24.1   270.6     220   22.89  266.9   \n",
       "4      202        0   293.2      23    31.0   294.0      24   26.39  223.8   \n",
       "...    ...      ...     ...     ...     ...     ...     ...     ...    ...   \n",
       "12938  322        1   282.4     202    89.9   270.2     321   32.80  293.6   \n",
       "12939  222        0   233.5     209    34.6   234.0      92   23.22  224.4   \n",
       "12940   98       29   223.4     209    29.3   223.9     203   28.82  230.0   \n",
       "12941   23       30   241.3     222    24.7   234.3      93   22.23  223.1   \n",
       "12942   28       22   281.7     228    24.1   208.8     220   22.29  222.9   \n",
       "\n",
       "       밤통화횟수  밤통화요금  상담전화건수  가입기간년  가입기간월  가입기간주  가입월  총통화시간  총통화횟수   총통화요금  \\\n",
       "0        111   5.37       2      0    9.0    2.0    3  537.5    346   58.40   \n",
       "1         89   8.82       0      0   23.0    5.0    9  841.5    281   67.44   \n",
       "2         29   2.44       2      0    2.0    0.0    1  561.6    439   52.74   \n",
       "3         81   2.80       6      0   17.0    4.0    6  620.5    394   49.79   \n",
       "4         33   6.66       2      0   16.0    3.0    6  811.0     80   64.05   \n",
       "...      ...    ...     ...    ...    ...    ...  ...    ...    ...     ...   \n",
       "12938    321   8.88       2      0   26.0    6.0   10  846.2    844  131.58   \n",
       "12939    202   9.63       2      0   18.0    4.0    7  691.9    503   67.45   \n",
       "12940    208  22.26       2      0    8.0    1.0    3  677.3    620   80.38   \n",
       "12941     33   9.93       0      0    1.0    0.0    0  698.7    348   56.86   \n",
       "12942     68   2.28       2      0    2.0    0.0    0  713.4    516   48.67   \n",
       "\n",
       "          시간당요금      횟수당시간  \n",
       "0      0.108651   1.553468  \n",
       "1      0.080143   2.994662  \n",
       "2      0.093910   1.279271  \n",
       "3      0.080242   1.574873  \n",
       "4      0.078977  10.137500  \n",
       "...         ...        ...  \n",
       "12938  0.155495   1.002607  \n",
       "12939  0.097485   1.375547  \n",
       "12940  0.118677   1.092419  \n",
       "12941  0.081380   2.007759  \n",
       "12942  0.068223   1.382558  \n",
       "\n",
       "[12943 rows x 21 columns]"
      ]
     },
     "execution_count": 39,
     "metadata": {},
     "output_type": "execute_result"
    }
   ],
   "source": [
    "test"
   ]
  },
  {
   "cell_type": "code",
   "execution_count": 40,
   "id": "317caba0-5059-400f-b9b7-52ff3a60472b",
   "metadata": {
    "tags": []
   },
   "outputs": [],
   "source": [
    "for i,var in enumerate(train['가입기간월']):\n",
    "    if var ==0:  \n",
    "\n",
    "        # print(i,var)\n",
    "        train['월납부요금']=train['총통화요금'][i]\n",
    "    else:\n",
    "        train['월납부요금']=train['총통화요금'][i]/var"
   ]
  },
  {
   "cell_type": "code",
   "execution_count": 41,
   "id": "c09f0856-f09d-4543-a701-6c1833890d62",
   "metadata": {},
   "outputs": [],
   "source": [
    "for i,var in enumerate(train['가입기간월']):\n",
    "    if var ==0:  \n",
    "\n",
    "        # print(i,var)\n",
    "        train['월납부요금'][i]=train['총통화요금'][i]\n",
    "    else:\n",
    "        train['월납부요금'][i]=train['총통화요금'][i]/var"
   ]
  },
  {
   "cell_type": "code",
   "execution_count": 42,
   "id": "1fa57057-b0e3-4f49-b844-3e60ba43fe12",
   "metadata": {
    "tags": []
   },
   "outputs": [
    {
     "data": {
      "text/html": [
       "<div>\n",
       "<style scoped>\n",
       "    .dataframe tbody tr th:only-of-type {\n",
       "        vertical-align: middle;\n",
       "    }\n",
       "\n",
       "    .dataframe tbody tr th {\n",
       "        vertical-align: top;\n",
       "    }\n",
       "\n",
       "    .dataframe thead th {\n",
       "        text-align: right;\n",
       "    }\n",
       "</style>\n",
       "<table border=\"1\" class=\"dataframe\">\n",
       "  <thead>\n",
       "    <tr style=\"text-align: right;\">\n",
       "      <th></th>\n",
       "      <th>가입일</th>\n",
       "      <th>음성사서함이용</th>\n",
       "      <th>주간통화시간</th>\n",
       "      <th>주간통화횟수</th>\n",
       "      <th>주간통화요금</th>\n",
       "      <th>저녁통화시간</th>\n",
       "      <th>저녁통화횟수</th>\n",
       "      <th>저녁통화요금</th>\n",
       "      <th>밤통화시간</th>\n",
       "      <th>밤통화횟수</th>\n",
       "      <th>밤통화요금</th>\n",
       "      <th>상담전화건수</th>\n",
       "      <th>전화해지여부</th>\n",
       "      <th>가입기간년</th>\n",
       "      <th>가입기간월</th>\n",
       "      <th>가입기간주</th>\n",
       "      <th>가입월</th>\n",
       "      <th>총통화시간</th>\n",
       "      <th>총통화횟수</th>\n",
       "      <th>총통화요금</th>\n",
       "      <th>시간당요금</th>\n",
       "      <th>횟수당시간</th>\n",
       "      <th>주간통화시간당요금</th>\n",
       "      <th>저녁통화시간당요금</th>\n",
       "      <th>밤통화시간당요금</th>\n",
       "      <th>월납부요금</th>\n",
       "    </tr>\n",
       "  </thead>\n",
       "  <tbody>\n",
       "    <tr>\n",
       "      <th>0</th>\n",
       "      <td>329</td>\n",
       "      <td>0</td>\n",
       "      <td>99.2</td>\n",
       "      <td>93</td>\n",
       "      <td>27.3</td>\n",
       "      <td>268.8</td>\n",
       "      <td>68</td>\n",
       "      <td>28.92</td>\n",
       "      <td>262.9</td>\n",
       "      <td>328</td>\n",
       "      <td>32.89</td>\n",
       "      <td>2</td>\n",
       "      <td>0</td>\n",
       "      <td>0</td>\n",
       "      <td>27.0</td>\n",
       "      <td>6.0</td>\n",
       "      <td>10</td>\n",
       "      <td>630.9</td>\n",
       "      <td>489</td>\n",
       "      <td>89.11</td>\n",
       "      <td>0.141243</td>\n",
       "      <td>1.290184</td>\n",
       "      <td>0.275202</td>\n",
       "      <td>0.107589</td>\n",
       "      <td>0.125105</td>\n",
       "      <td>3.300370</td>\n",
       "    </tr>\n",
       "    <tr>\n",
       "      <th>1</th>\n",
       "      <td>2</td>\n",
       "      <td>80</td>\n",
       "      <td>323.9</td>\n",
       "      <td>323</td>\n",
       "      <td>83.7</td>\n",
       "      <td>269.4</td>\n",
       "      <td>326</td>\n",
       "      <td>32.09</td>\n",
       "      <td>322.8</td>\n",
       "      <td>209</td>\n",
       "      <td>32.32</td>\n",
       "      <td>2</td>\n",
       "      <td>0</td>\n",
       "      <td>0</td>\n",
       "      <td>0.0</td>\n",
       "      <td>0.0</td>\n",
       "      <td>0</td>\n",
       "      <td>916.1</td>\n",
       "      <td>858</td>\n",
       "      <td>148.11</td>\n",
       "      <td>0.161674</td>\n",
       "      <td>1.067716</td>\n",
       "      <td>0.258413</td>\n",
       "      <td>0.119117</td>\n",
       "      <td>0.100124</td>\n",
       "      <td>148.110000</td>\n",
       "    </tr>\n",
       "    <tr>\n",
       "      <th>2</th>\n",
       "      <td>93</td>\n",
       "      <td>28</td>\n",
       "      <td>282.4</td>\n",
       "      <td>323</td>\n",
       "      <td>34.2</td>\n",
       "      <td>207.0</td>\n",
       "      <td>322</td>\n",
       "      <td>32.82</td>\n",
       "      <td>280.8</td>\n",
       "      <td>328</td>\n",
       "      <td>8.28</td>\n",
       "      <td>0</td>\n",
       "      <td>0</td>\n",
       "      <td>0</td>\n",
       "      <td>7.0</td>\n",
       "      <td>1.0</td>\n",
       "      <td>3</td>\n",
       "      <td>770.2</td>\n",
       "      <td>973</td>\n",
       "      <td>75.30</td>\n",
       "      <td>0.097767</td>\n",
       "      <td>0.791572</td>\n",
       "      <td>0.121105</td>\n",
       "      <td>0.158551</td>\n",
       "      <td>0.029487</td>\n",
       "      <td>10.757143</td>\n",
       "    </tr>\n",
       "    <tr>\n",
       "      <th>3</th>\n",
       "      <td>223</td>\n",
       "      <td>1</td>\n",
       "      <td>221.4</td>\n",
       "      <td>223</td>\n",
       "      <td>25.1</td>\n",
       "      <td>233.0</td>\n",
       "      <td>61</td>\n",
       "      <td>23.90</td>\n",
       "      <td>203.8</td>\n",
       "      <td>234</td>\n",
       "      <td>9.36</td>\n",
       "      <td>0</td>\n",
       "      <td>0</td>\n",
       "      <td>0</td>\n",
       "      <td>18.0</td>\n",
       "      <td>4.0</td>\n",
       "      <td>7</td>\n",
       "      <td>658.2</td>\n",
       "      <td>518</td>\n",
       "      <td>58.36</td>\n",
       "      <td>0.088666</td>\n",
       "      <td>1.270656</td>\n",
       "      <td>0.113369</td>\n",
       "      <td>0.102575</td>\n",
       "      <td>0.045927</td>\n",
       "      <td>3.242222</td>\n",
       "    </tr>\n",
       "    <tr>\n",
       "      <th>4</th>\n",
       "      <td>222</td>\n",
       "      <td>0</td>\n",
       "      <td>96.3</td>\n",
       "      <td>222</td>\n",
       "      <td>28.7</td>\n",
       "      <td>223.9</td>\n",
       "      <td>69</td>\n",
       "      <td>28.08</td>\n",
       "      <td>263.1</td>\n",
       "      <td>223</td>\n",
       "      <td>2.80</td>\n",
       "      <td>8</td>\n",
       "      <td>0</td>\n",
       "      <td>0</td>\n",
       "      <td>18.0</td>\n",
       "      <td>4.0</td>\n",
       "      <td>7</td>\n",
       "      <td>583.3</td>\n",
       "      <td>514</td>\n",
       "      <td>59.58</td>\n",
       "      <td>0.102143</td>\n",
       "      <td>1.134825</td>\n",
       "      <td>0.298027</td>\n",
       "      <td>0.125413</td>\n",
       "      <td>0.010642</td>\n",
       "      <td>3.310000</td>\n",
       "    </tr>\n",
       "  </tbody>\n",
       "</table>\n",
       "</div>"
      ],
      "text/plain": [
       "   가입일  음성사서함이용  주간통화시간  주간통화횟수  주간통화요금  저녁통화시간  저녁통화횟수  저녁통화요금  밤통화시간  밤통화횟수  \\\n",
       "0  329        0    99.2      93    27.3   268.8      68   28.92  262.9    328   \n",
       "1    2       80   323.9     323    83.7   269.4     326   32.09  322.8    209   \n",
       "2   93       28   282.4     323    34.2   207.0     322   32.82  280.8    328   \n",
       "3  223        1   221.4     223    25.1   233.0      61   23.90  203.8    234   \n",
       "4  222        0    96.3     222    28.7   223.9      69   28.08  263.1    223   \n",
       "\n",
       "   밤통화요금  상담전화건수  전화해지여부  가입기간년  가입기간월  가입기간주  가입월  총통화시간  총통화횟수   총통화요금  \\\n",
       "0  32.89       2       0      0   27.0    6.0   10  630.9    489   89.11   \n",
       "1  32.32       2       0      0    0.0    0.0    0  916.1    858  148.11   \n",
       "2   8.28       0       0      0    7.0    1.0    3  770.2    973   75.30   \n",
       "3   9.36       0       0      0   18.0    4.0    7  658.2    518   58.36   \n",
       "4   2.80       8       0      0   18.0    4.0    7  583.3    514   59.58   \n",
       "\n",
       "      시간당요금     횟수당시간  주간통화시간당요금  저녁통화시간당요금  밤통화시간당요금       월납부요금  \n",
       "0  0.141243  1.290184   0.275202   0.107589  0.125105    3.300370  \n",
       "1  0.161674  1.067716   0.258413   0.119117  0.100124  148.110000  \n",
       "2  0.097767  0.791572   0.121105   0.158551  0.029487   10.757143  \n",
       "3  0.088666  1.270656   0.113369   0.102575  0.045927    3.242222  \n",
       "4  0.102143  1.134825   0.298027   0.125413  0.010642    3.310000  "
      ]
     },
     "execution_count": 42,
     "metadata": {},
     "output_type": "execute_result"
    }
   ],
   "source": [
    "train.head()"
   ]
  },
  {
   "cell_type": "code",
   "execution_count": 43,
   "id": "17ab2fdc-c83e-445f-b5b9-2df7b71d01f4",
   "metadata": {
    "tags": []
   },
   "outputs": [],
   "source": [
    "for i,var in enumerate(test['가입기간월']):\n",
    "    if var ==0:  \n",
    "\n",
    "        # print(i,var)\n",
    "        test['월납부요금']=test['총통화요금'][i]\n",
    "    else:\n",
    "        test['월납부요금']=test['총통화요금'][i]/var"
   ]
  },
  {
   "cell_type": "code",
   "execution_count": 44,
   "id": "4048b222-013c-41c1-a52d-f157c9987cc9",
   "metadata": {
    "tags": []
   },
   "outputs": [],
   "source": [
    "for i,var in enumerate(test['가입기간월']):\n",
    "    if var ==0:  \n",
    "\n",
    "        # print(i,var)\n",
    "        test['월납부요금'][i]=test['총통화요금'][i]\n",
    "    else:\n",
    "        test['월납부요금'][i]=test['총통화요금'][i]/var"
   ]
  },
  {
   "cell_type": "code",
   "execution_count": 45,
   "id": "1ba9f405-0ffb-43ea-b730-676d0d176dd4",
   "metadata": {
    "tags": []
   },
   "outputs": [
    {
     "data": {
      "text/html": [
       "<div>\n",
       "<style scoped>\n",
       "    .dataframe tbody tr th:only-of-type {\n",
       "        vertical-align: middle;\n",
       "    }\n",
       "\n",
       "    .dataframe tbody tr th {\n",
       "        vertical-align: top;\n",
       "    }\n",
       "\n",
       "    .dataframe thead th {\n",
       "        text-align: right;\n",
       "    }\n",
       "</style>\n",
       "<table border=\"1\" class=\"dataframe\">\n",
       "  <thead>\n",
       "    <tr style=\"text-align: right;\">\n",
       "      <th></th>\n",
       "      <th>가입일</th>\n",
       "      <th>음성사서함이용</th>\n",
       "      <th>주간통화시간</th>\n",
       "      <th>주간통화횟수</th>\n",
       "      <th>주간통화요금</th>\n",
       "      <th>저녁통화시간</th>\n",
       "      <th>저녁통화횟수</th>\n",
       "      <th>저녁통화요금</th>\n",
       "      <th>밤통화시간</th>\n",
       "      <th>밤통화횟수</th>\n",
       "      <th>밤통화요금</th>\n",
       "      <th>상담전화건수</th>\n",
       "      <th>가입기간년</th>\n",
       "      <th>가입기간월</th>\n",
       "      <th>가입기간주</th>\n",
       "      <th>가입월</th>\n",
       "      <th>총통화시간</th>\n",
       "      <th>총통화횟수</th>\n",
       "      <th>총통화요금</th>\n",
       "      <th>시간당요금</th>\n",
       "      <th>횟수당시간</th>\n",
       "      <th>월납부요금</th>\n",
       "    </tr>\n",
       "  </thead>\n",
       "  <tbody>\n",
       "    <tr>\n",
       "      <th>0</th>\n",
       "      <td>110</td>\n",
       "      <td>0</td>\n",
       "      <td>210.7</td>\n",
       "      <td>142</td>\n",
       "      <td>35.6</td>\n",
       "      <td>205.9</td>\n",
       "      <td>93</td>\n",
       "      <td>17.43</td>\n",
       "      <td>120.9</td>\n",
       "      <td>111</td>\n",
       "      <td>5.37</td>\n",
       "      <td>2</td>\n",
       "      <td>0</td>\n",
       "      <td>9.0</td>\n",
       "      <td>2.0</td>\n",
       "      <td>3</td>\n",
       "      <td>537.5</td>\n",
       "      <td>346</td>\n",
       "      <td>58.40</td>\n",
       "      <td>0.108651</td>\n",
       "      <td>1.553468</td>\n",
       "      <td>6.488889</td>\n",
       "    </tr>\n",
       "    <tr>\n",
       "      <th>1</th>\n",
       "      <td>283</td>\n",
       "      <td>1</td>\n",
       "      <td>268.5</td>\n",
       "      <td>100</td>\n",
       "      <td>30.3</td>\n",
       "      <td>283.0</td>\n",
       "      <td>92</td>\n",
       "      <td>28.32</td>\n",
       "      <td>290.0</td>\n",
       "      <td>89</td>\n",
       "      <td>8.82</td>\n",
       "      <td>0</td>\n",
       "      <td>0</td>\n",
       "      <td>23.0</td>\n",
       "      <td>5.0</td>\n",
       "      <td>9</td>\n",
       "      <td>841.5</td>\n",
       "      <td>281</td>\n",
       "      <td>67.44</td>\n",
       "      <td>0.080143</td>\n",
       "      <td>2.994662</td>\n",
       "      <td>2.932174</td>\n",
       "    </tr>\n",
       "    <tr>\n",
       "      <th>2</th>\n",
       "      <td>34</td>\n",
       "      <td>1</td>\n",
       "      <td>243.3</td>\n",
       "      <td>205</td>\n",
       "      <td>21.3</td>\n",
       "      <td>225.7</td>\n",
       "      <td>205</td>\n",
       "      <td>29.00</td>\n",
       "      <td>92.6</td>\n",
       "      <td>29</td>\n",
       "      <td>2.44</td>\n",
       "      <td>2</td>\n",
       "      <td>0</td>\n",
       "      <td>2.0</td>\n",
       "      <td>0.0</td>\n",
       "      <td>1</td>\n",
       "      <td>561.6</td>\n",
       "      <td>439</td>\n",
       "      <td>52.74</td>\n",
       "      <td>0.093910</td>\n",
       "      <td>1.279271</td>\n",
       "      <td>26.370000</td>\n",
       "    </tr>\n",
       "    <tr>\n",
       "      <th>3</th>\n",
       "      <td>209</td>\n",
       "      <td>86</td>\n",
       "      <td>83.0</td>\n",
       "      <td>93</td>\n",
       "      <td>24.1</td>\n",
       "      <td>270.6</td>\n",
       "      <td>220</td>\n",
       "      <td>22.89</td>\n",
       "      <td>266.9</td>\n",
       "      <td>81</td>\n",
       "      <td>2.80</td>\n",
       "      <td>6</td>\n",
       "      <td>0</td>\n",
       "      <td>17.0</td>\n",
       "      <td>4.0</td>\n",
       "      <td>6</td>\n",
       "      <td>620.5</td>\n",
       "      <td>394</td>\n",
       "      <td>49.79</td>\n",
       "      <td>0.080242</td>\n",
       "      <td>1.574873</td>\n",
       "      <td>2.928824</td>\n",
       "    </tr>\n",
       "    <tr>\n",
       "      <th>4</th>\n",
       "      <td>202</td>\n",
       "      <td>0</td>\n",
       "      <td>293.2</td>\n",
       "      <td>23</td>\n",
       "      <td>31.0</td>\n",
       "      <td>294.0</td>\n",
       "      <td>24</td>\n",
       "      <td>26.39</td>\n",
       "      <td>223.8</td>\n",
       "      <td>33</td>\n",
       "      <td>6.66</td>\n",
       "      <td>2</td>\n",
       "      <td>0</td>\n",
       "      <td>16.0</td>\n",
       "      <td>3.0</td>\n",
       "      <td>6</td>\n",
       "      <td>811.0</td>\n",
       "      <td>80</td>\n",
       "      <td>64.05</td>\n",
       "      <td>0.078977</td>\n",
       "      <td>10.137500</td>\n",
       "      <td>4.003125</td>\n",
       "    </tr>\n",
       "  </tbody>\n",
       "</table>\n",
       "</div>"
      ],
      "text/plain": [
       "   가입일  음성사서함이용  주간통화시간  주간통화횟수  주간통화요금  저녁통화시간  저녁통화횟수  저녁통화요금  밤통화시간  밤통화횟수  \\\n",
       "0  110        0   210.7     142    35.6   205.9      93   17.43  120.9    111   \n",
       "1  283        1   268.5     100    30.3   283.0      92   28.32  290.0     89   \n",
       "2   34        1   243.3     205    21.3   225.7     205   29.00   92.6     29   \n",
       "3  209       86    83.0      93    24.1   270.6     220   22.89  266.9     81   \n",
       "4  202        0   293.2      23    31.0   294.0      24   26.39  223.8     33   \n",
       "\n",
       "   밤통화요금  상담전화건수  가입기간년  가입기간월  가입기간주  가입월  총통화시간  총통화횟수  총통화요금     시간당요금  \\\n",
       "0   5.37       2      0    9.0    2.0    3  537.5    346  58.40  0.108651   \n",
       "1   8.82       0      0   23.0    5.0    9  841.5    281  67.44  0.080143   \n",
       "2   2.44       2      0    2.0    0.0    1  561.6    439  52.74  0.093910   \n",
       "3   2.80       6      0   17.0    4.0    6  620.5    394  49.79  0.080242   \n",
       "4   6.66       2      0   16.0    3.0    6  811.0     80  64.05  0.078977   \n",
       "\n",
       "       횟수당시간      월납부요금  \n",
       "0   1.553468   6.488889  \n",
       "1   2.994662   2.932174  \n",
       "2   1.279271  26.370000  \n",
       "3   1.574873   2.928824  \n",
       "4  10.137500   4.003125  "
      ]
     },
     "execution_count": 45,
     "metadata": {},
     "output_type": "execute_result"
    }
   ],
   "source": [
    "test.head()"
   ]
  },
  {
   "cell_type": "markdown",
   "id": "905456cc-f395-4f1c-a2bc-27a64b245ceb",
   "metadata": {},
   "source": [
    "## 월 통화시간, 월 통화횟수 "
   ]
  },
  {
   "cell_type": "markdown",
   "id": "d1f4b7c4-e7f7-4d71-b5cb-e864ceeb6c7c",
   "metadata": {
    "tags": []
   },
   "source": [
    "### 월통화시간 train, test"
   ]
  },
  {
   "cell_type": "code",
   "execution_count": 46,
   "id": "c73d59db-976a-4ac6-bb91-ea10c1bf2e4f",
   "metadata": {
    "tags": []
   },
   "outputs": [],
   "source": [
    "for i,var in enumerate(train['가입기간월']):\n",
    "    if var ==0:  \n",
    "\n",
    "        # print(i,var)\n",
    "        train['월통화시간']=train['총통화시간'][i]\n",
    "    else:\n",
    "        train['월통화시간']=train['총통화시간'][i]/var"
   ]
  },
  {
   "cell_type": "code",
   "execution_count": 47,
   "id": "6f13d5e9-deac-4a33-943e-75cc1be9abc0",
   "metadata": {},
   "outputs": [],
   "source": [
    "for i,var in enumerate(train['가입기간월']):\n",
    "    if var ==0:  \n",
    "\n",
    "        # print(i,var)\n",
    "        train['월통화시간'][i]=train['총통화시간'][i]\n",
    "    else:\n",
    "        train['월통화시간'][i]=train['총통화시간'][i]/var"
   ]
  },
  {
   "cell_type": "code",
   "execution_count": 48,
   "id": "ad62ad9f-c357-4d9c-900d-b8599d79a02e",
   "metadata": {
    "tags": []
   },
   "outputs": [],
   "source": [
    "for i,var in enumerate(test['가입기간월']):\n",
    "    if var ==0:  \n",
    "\n",
    "        # print(i,var)\n",
    "        test['월통화시간']=test['총통화시간'][i]\n",
    "    else:\n",
    "        test['월통화시간']=test['총통화시간'][i]/var"
   ]
  },
  {
   "cell_type": "code",
   "execution_count": 49,
   "id": "8ab974fd-9de4-4a80-a003-03bad891de41",
   "metadata": {},
   "outputs": [],
   "source": [
    "for i,var in enumerate(test['가입기간월']):\n",
    "    if var ==0:  \n",
    "\n",
    "        # print(i,var)\n",
    "        test['월통화시간'][i]=test['총통화시간'][i]\n",
    "    else:\n",
    "        test['월통화시간'][i]=test['총통화시간'][i]/var"
   ]
  },
  {
   "cell_type": "code",
   "execution_count": 50,
   "id": "abca8b4f-047a-423d-822a-5c66cb188820",
   "metadata": {
    "tags": []
   },
   "outputs": [
    {
     "data": {
      "text/html": [
       "<div>\n",
       "<style scoped>\n",
       "    .dataframe tbody tr th:only-of-type {\n",
       "        vertical-align: middle;\n",
       "    }\n",
       "\n",
       "    .dataframe tbody tr th {\n",
       "        vertical-align: top;\n",
       "    }\n",
       "\n",
       "    .dataframe thead th {\n",
       "        text-align: right;\n",
       "    }\n",
       "</style>\n",
       "<table border=\"1\" class=\"dataframe\">\n",
       "  <thead>\n",
       "    <tr style=\"text-align: right;\">\n",
       "      <th></th>\n",
       "      <th>가입일</th>\n",
       "      <th>음성사서함이용</th>\n",
       "      <th>주간통화시간</th>\n",
       "      <th>주간통화횟수</th>\n",
       "      <th>주간통화요금</th>\n",
       "      <th>저녁통화시간</th>\n",
       "      <th>저녁통화횟수</th>\n",
       "      <th>저녁통화요금</th>\n",
       "      <th>밤통화시간</th>\n",
       "      <th>밤통화횟수</th>\n",
       "      <th>밤통화요금</th>\n",
       "      <th>상담전화건수</th>\n",
       "      <th>전화해지여부</th>\n",
       "      <th>가입기간년</th>\n",
       "      <th>가입기간월</th>\n",
       "      <th>가입기간주</th>\n",
       "      <th>가입월</th>\n",
       "      <th>총통화시간</th>\n",
       "      <th>총통화횟수</th>\n",
       "      <th>총통화요금</th>\n",
       "      <th>시간당요금</th>\n",
       "      <th>횟수당시간</th>\n",
       "      <th>주간통화시간당요금</th>\n",
       "      <th>저녁통화시간당요금</th>\n",
       "      <th>밤통화시간당요금</th>\n",
       "      <th>월납부요금</th>\n",
       "      <th>월통화시간</th>\n",
       "    </tr>\n",
       "  </thead>\n",
       "  <tbody>\n",
       "    <tr>\n",
       "      <th>0</th>\n",
       "      <td>329</td>\n",
       "      <td>0</td>\n",
       "      <td>99.2</td>\n",
       "      <td>93</td>\n",
       "      <td>27.3</td>\n",
       "      <td>268.8</td>\n",
       "      <td>68</td>\n",
       "      <td>28.92</td>\n",
       "      <td>262.9</td>\n",
       "      <td>328</td>\n",
       "      <td>32.89</td>\n",
       "      <td>2</td>\n",
       "      <td>0</td>\n",
       "      <td>0</td>\n",
       "      <td>27.0</td>\n",
       "      <td>6.0</td>\n",
       "      <td>10</td>\n",
       "      <td>630.9</td>\n",
       "      <td>489</td>\n",
       "      <td>89.11</td>\n",
       "      <td>0.141243</td>\n",
       "      <td>1.290184</td>\n",
       "      <td>0.275202</td>\n",
       "      <td>0.107589</td>\n",
       "      <td>0.125105</td>\n",
       "      <td>3.300370</td>\n",
       "      <td>23.366667</td>\n",
       "    </tr>\n",
       "    <tr>\n",
       "      <th>1</th>\n",
       "      <td>2</td>\n",
       "      <td>80</td>\n",
       "      <td>323.9</td>\n",
       "      <td>323</td>\n",
       "      <td>83.7</td>\n",
       "      <td>269.4</td>\n",
       "      <td>326</td>\n",
       "      <td>32.09</td>\n",
       "      <td>322.8</td>\n",
       "      <td>209</td>\n",
       "      <td>32.32</td>\n",
       "      <td>2</td>\n",
       "      <td>0</td>\n",
       "      <td>0</td>\n",
       "      <td>0.0</td>\n",
       "      <td>0.0</td>\n",
       "      <td>0</td>\n",
       "      <td>916.1</td>\n",
       "      <td>858</td>\n",
       "      <td>148.11</td>\n",
       "      <td>0.161674</td>\n",
       "      <td>1.067716</td>\n",
       "      <td>0.258413</td>\n",
       "      <td>0.119117</td>\n",
       "      <td>0.100124</td>\n",
       "      <td>148.110000</td>\n",
       "      <td>916.100000</td>\n",
       "    </tr>\n",
       "    <tr>\n",
       "      <th>2</th>\n",
       "      <td>93</td>\n",
       "      <td>28</td>\n",
       "      <td>282.4</td>\n",
       "      <td>323</td>\n",
       "      <td>34.2</td>\n",
       "      <td>207.0</td>\n",
       "      <td>322</td>\n",
       "      <td>32.82</td>\n",
       "      <td>280.8</td>\n",
       "      <td>328</td>\n",
       "      <td>8.28</td>\n",
       "      <td>0</td>\n",
       "      <td>0</td>\n",
       "      <td>0</td>\n",
       "      <td>7.0</td>\n",
       "      <td>1.0</td>\n",
       "      <td>3</td>\n",
       "      <td>770.2</td>\n",
       "      <td>973</td>\n",
       "      <td>75.30</td>\n",
       "      <td>0.097767</td>\n",
       "      <td>0.791572</td>\n",
       "      <td>0.121105</td>\n",
       "      <td>0.158551</td>\n",
       "      <td>0.029487</td>\n",
       "      <td>10.757143</td>\n",
       "      <td>110.028571</td>\n",
       "    </tr>\n",
       "    <tr>\n",
       "      <th>3</th>\n",
       "      <td>223</td>\n",
       "      <td>1</td>\n",
       "      <td>221.4</td>\n",
       "      <td>223</td>\n",
       "      <td>25.1</td>\n",
       "      <td>233.0</td>\n",
       "      <td>61</td>\n",
       "      <td>23.90</td>\n",
       "      <td>203.8</td>\n",
       "      <td>234</td>\n",
       "      <td>9.36</td>\n",
       "      <td>0</td>\n",
       "      <td>0</td>\n",
       "      <td>0</td>\n",
       "      <td>18.0</td>\n",
       "      <td>4.0</td>\n",
       "      <td>7</td>\n",
       "      <td>658.2</td>\n",
       "      <td>518</td>\n",
       "      <td>58.36</td>\n",
       "      <td>0.088666</td>\n",
       "      <td>1.270656</td>\n",
       "      <td>0.113369</td>\n",
       "      <td>0.102575</td>\n",
       "      <td>0.045927</td>\n",
       "      <td>3.242222</td>\n",
       "      <td>36.566667</td>\n",
       "    </tr>\n",
       "    <tr>\n",
       "      <th>4</th>\n",
       "      <td>222</td>\n",
       "      <td>0</td>\n",
       "      <td>96.3</td>\n",
       "      <td>222</td>\n",
       "      <td>28.7</td>\n",
       "      <td>223.9</td>\n",
       "      <td>69</td>\n",
       "      <td>28.08</td>\n",
       "      <td>263.1</td>\n",
       "      <td>223</td>\n",
       "      <td>2.80</td>\n",
       "      <td>8</td>\n",
       "      <td>0</td>\n",
       "      <td>0</td>\n",
       "      <td>18.0</td>\n",
       "      <td>4.0</td>\n",
       "      <td>7</td>\n",
       "      <td>583.3</td>\n",
       "      <td>514</td>\n",
       "      <td>59.58</td>\n",
       "      <td>0.102143</td>\n",
       "      <td>1.134825</td>\n",
       "      <td>0.298027</td>\n",
       "      <td>0.125413</td>\n",
       "      <td>0.010642</td>\n",
       "      <td>3.310000</td>\n",
       "      <td>32.405556</td>\n",
       "    </tr>\n",
       "  </tbody>\n",
       "</table>\n",
       "</div>"
      ],
      "text/plain": [
       "   가입일  음성사서함이용  주간통화시간  주간통화횟수  주간통화요금  저녁통화시간  저녁통화횟수  저녁통화요금  밤통화시간  밤통화횟수  \\\n",
       "0  329        0    99.2      93    27.3   268.8      68   28.92  262.9    328   \n",
       "1    2       80   323.9     323    83.7   269.4     326   32.09  322.8    209   \n",
       "2   93       28   282.4     323    34.2   207.0     322   32.82  280.8    328   \n",
       "3  223        1   221.4     223    25.1   233.0      61   23.90  203.8    234   \n",
       "4  222        0    96.3     222    28.7   223.9      69   28.08  263.1    223   \n",
       "\n",
       "   밤통화요금  상담전화건수  전화해지여부  가입기간년  가입기간월  가입기간주  가입월  총통화시간  총통화횟수   총통화요금  \\\n",
       "0  32.89       2       0      0   27.0    6.0   10  630.9    489   89.11   \n",
       "1  32.32       2       0      0    0.0    0.0    0  916.1    858  148.11   \n",
       "2   8.28       0       0      0    7.0    1.0    3  770.2    973   75.30   \n",
       "3   9.36       0       0      0   18.0    4.0    7  658.2    518   58.36   \n",
       "4   2.80       8       0      0   18.0    4.0    7  583.3    514   59.58   \n",
       "\n",
       "      시간당요금     횟수당시간  주간통화시간당요금  저녁통화시간당요금  밤통화시간당요금       월납부요금       월통화시간  \n",
       "0  0.141243  1.290184   0.275202   0.107589  0.125105    3.300370   23.366667  \n",
       "1  0.161674  1.067716   0.258413   0.119117  0.100124  148.110000  916.100000  \n",
       "2  0.097767  0.791572   0.121105   0.158551  0.029487   10.757143  110.028571  \n",
       "3  0.088666  1.270656   0.113369   0.102575  0.045927    3.242222   36.566667  \n",
       "4  0.102143  1.134825   0.298027   0.125413  0.010642    3.310000   32.405556  "
      ]
     },
     "execution_count": 50,
     "metadata": {},
     "output_type": "execute_result"
    }
   ],
   "source": [
    "train.head()"
   ]
  },
  {
   "cell_type": "markdown",
   "id": "00ad26e6-4478-4055-8ea2-c9009814096a",
   "metadata": {},
   "source": [
    "### 월통화횟수 train, test"
   ]
  },
  {
   "cell_type": "code",
   "execution_count": 51,
   "id": "a1082dac-831e-493a-a6a7-24d84dccf15e",
   "metadata": {
    "tags": []
   },
   "outputs": [],
   "source": [
    "for i,var in enumerate(train['가입기간월']):\n",
    "    if var ==0:  \n",
    "\n",
    "        # print(i,var)\n",
    "        train['월통화횟수']=train['총통화횟수'][i]\n",
    "    else:\n",
    "        train['월통화횟수']=train['총통화횟수'][i]/var"
   ]
  },
  {
   "cell_type": "code",
   "execution_count": 52,
   "id": "6b5219de-1ac6-400f-9dd3-67efc020bd98",
   "metadata": {
    "tags": []
   },
   "outputs": [],
   "source": [
    "for i,var in enumerate(train['가입기간월']):\n",
    "    if var ==0:  \n",
    "\n",
    "        # print(i,var)\n",
    "        train['월통화횟수'][i]=train['총통화횟수'][i]\n",
    "    else:\n",
    "        train['월통화횟수'][i]=train['총통화횟수'][i]/var"
   ]
  },
  {
   "cell_type": "code",
   "execution_count": 53,
   "id": "90b53c5e-4ba4-4f9a-a127-242459d7e145",
   "metadata": {
    "tags": []
   },
   "outputs": [],
   "source": [
    "for i,var in enumerate(test['가입기간월']):\n",
    "    if var ==0:  \n",
    "\n",
    "        # print(i,var)\n",
    "        test['월통화횟수']=test['총통화횟수'][i]\n",
    "    else:\n",
    "        test['월통화횟수']=test['총통화횟수'][i]/var"
   ]
  },
  {
   "cell_type": "code",
   "execution_count": 54,
   "id": "ee411e30-931b-452c-9ed0-250c0709322a",
   "metadata": {
    "tags": []
   },
   "outputs": [],
   "source": [
    "for i,var in enumerate(test['가입기간월']):\n",
    "    if var ==0:  \n",
    "\n",
    "        # print(i,var)\n",
    "        test['월통화횟수'][i]=test['총통화횟수'][i]\n",
    "    else:\n",
    "        test['월통화횟수'][i]=test['총통화횟수'][i]/var"
   ]
  },
  {
   "cell_type": "code",
   "execution_count": 55,
   "id": "8cf918c6-ea8e-451d-8d0d-cbf5d9be7e9f",
   "metadata": {
    "tags": []
   },
   "outputs": [
    {
     "data": {
      "text/html": [
       "<div>\n",
       "<style scoped>\n",
       "    .dataframe tbody tr th:only-of-type {\n",
       "        vertical-align: middle;\n",
       "    }\n",
       "\n",
       "    .dataframe tbody tr th {\n",
       "        vertical-align: top;\n",
       "    }\n",
       "\n",
       "    .dataframe thead th {\n",
       "        text-align: right;\n",
       "    }\n",
       "</style>\n",
       "<table border=\"1\" class=\"dataframe\">\n",
       "  <thead>\n",
       "    <tr style=\"text-align: right;\">\n",
       "      <th></th>\n",
       "      <th>가입일</th>\n",
       "      <th>음성사서함이용</th>\n",
       "      <th>주간통화시간</th>\n",
       "      <th>주간통화횟수</th>\n",
       "      <th>주간통화요금</th>\n",
       "      <th>저녁통화시간</th>\n",
       "      <th>저녁통화횟수</th>\n",
       "      <th>저녁통화요금</th>\n",
       "      <th>밤통화시간</th>\n",
       "      <th>밤통화횟수</th>\n",
       "      <th>밤통화요금</th>\n",
       "      <th>상담전화건수</th>\n",
       "      <th>가입기간년</th>\n",
       "      <th>가입기간월</th>\n",
       "      <th>가입기간주</th>\n",
       "      <th>가입월</th>\n",
       "      <th>총통화시간</th>\n",
       "      <th>총통화횟수</th>\n",
       "      <th>총통화요금</th>\n",
       "      <th>시간당요금</th>\n",
       "      <th>횟수당시간</th>\n",
       "      <th>월납부요금</th>\n",
       "      <th>월통화시간</th>\n",
       "      <th>월통화횟수</th>\n",
       "    </tr>\n",
       "  </thead>\n",
       "  <tbody>\n",
       "    <tr>\n",
       "      <th>0</th>\n",
       "      <td>110</td>\n",
       "      <td>0</td>\n",
       "      <td>210.7</td>\n",
       "      <td>142</td>\n",
       "      <td>35.6</td>\n",
       "      <td>205.9</td>\n",
       "      <td>93</td>\n",
       "      <td>17.43</td>\n",
       "      <td>120.9</td>\n",
       "      <td>111</td>\n",
       "      <td>5.37</td>\n",
       "      <td>2</td>\n",
       "      <td>0</td>\n",
       "      <td>9.0</td>\n",
       "      <td>2.0</td>\n",
       "      <td>3</td>\n",
       "      <td>537.5</td>\n",
       "      <td>346</td>\n",
       "      <td>58.40</td>\n",
       "      <td>0.108651</td>\n",
       "      <td>1.553468</td>\n",
       "      <td>6.488889</td>\n",
       "      <td>59.722222</td>\n",
       "      <td>38.444444</td>\n",
       "    </tr>\n",
       "    <tr>\n",
       "      <th>1</th>\n",
       "      <td>283</td>\n",
       "      <td>1</td>\n",
       "      <td>268.5</td>\n",
       "      <td>100</td>\n",
       "      <td>30.3</td>\n",
       "      <td>283.0</td>\n",
       "      <td>92</td>\n",
       "      <td>28.32</td>\n",
       "      <td>290.0</td>\n",
       "      <td>89</td>\n",
       "      <td>8.82</td>\n",
       "      <td>0</td>\n",
       "      <td>0</td>\n",
       "      <td>23.0</td>\n",
       "      <td>5.0</td>\n",
       "      <td>9</td>\n",
       "      <td>841.5</td>\n",
       "      <td>281</td>\n",
       "      <td>67.44</td>\n",
       "      <td>0.080143</td>\n",
       "      <td>2.994662</td>\n",
       "      <td>2.932174</td>\n",
       "      <td>36.586957</td>\n",
       "      <td>12.217391</td>\n",
       "    </tr>\n",
       "    <tr>\n",
       "      <th>2</th>\n",
       "      <td>34</td>\n",
       "      <td>1</td>\n",
       "      <td>243.3</td>\n",
       "      <td>205</td>\n",
       "      <td>21.3</td>\n",
       "      <td>225.7</td>\n",
       "      <td>205</td>\n",
       "      <td>29.00</td>\n",
       "      <td>92.6</td>\n",
       "      <td>29</td>\n",
       "      <td>2.44</td>\n",
       "      <td>2</td>\n",
       "      <td>0</td>\n",
       "      <td>2.0</td>\n",
       "      <td>0.0</td>\n",
       "      <td>1</td>\n",
       "      <td>561.6</td>\n",
       "      <td>439</td>\n",
       "      <td>52.74</td>\n",
       "      <td>0.093910</td>\n",
       "      <td>1.279271</td>\n",
       "      <td>26.370000</td>\n",
       "      <td>280.800000</td>\n",
       "      <td>219.500000</td>\n",
       "    </tr>\n",
       "    <tr>\n",
       "      <th>3</th>\n",
       "      <td>209</td>\n",
       "      <td>86</td>\n",
       "      <td>83.0</td>\n",
       "      <td>93</td>\n",
       "      <td>24.1</td>\n",
       "      <td>270.6</td>\n",
       "      <td>220</td>\n",
       "      <td>22.89</td>\n",
       "      <td>266.9</td>\n",
       "      <td>81</td>\n",
       "      <td>2.80</td>\n",
       "      <td>6</td>\n",
       "      <td>0</td>\n",
       "      <td>17.0</td>\n",
       "      <td>4.0</td>\n",
       "      <td>6</td>\n",
       "      <td>620.5</td>\n",
       "      <td>394</td>\n",
       "      <td>49.79</td>\n",
       "      <td>0.080242</td>\n",
       "      <td>1.574873</td>\n",
       "      <td>2.928824</td>\n",
       "      <td>36.500000</td>\n",
       "      <td>23.176471</td>\n",
       "    </tr>\n",
       "    <tr>\n",
       "      <th>4</th>\n",
       "      <td>202</td>\n",
       "      <td>0</td>\n",
       "      <td>293.2</td>\n",
       "      <td>23</td>\n",
       "      <td>31.0</td>\n",
       "      <td>294.0</td>\n",
       "      <td>24</td>\n",
       "      <td>26.39</td>\n",
       "      <td>223.8</td>\n",
       "      <td>33</td>\n",
       "      <td>6.66</td>\n",
       "      <td>2</td>\n",
       "      <td>0</td>\n",
       "      <td>16.0</td>\n",
       "      <td>3.0</td>\n",
       "      <td>6</td>\n",
       "      <td>811.0</td>\n",
       "      <td>80</td>\n",
       "      <td>64.05</td>\n",
       "      <td>0.078977</td>\n",
       "      <td>10.137500</td>\n",
       "      <td>4.003125</td>\n",
       "      <td>50.687500</td>\n",
       "      <td>5.000000</td>\n",
       "    </tr>\n",
       "  </tbody>\n",
       "</table>\n",
       "</div>"
      ],
      "text/plain": [
       "   가입일  음성사서함이용  주간통화시간  주간통화횟수  주간통화요금  저녁통화시간  저녁통화횟수  저녁통화요금  밤통화시간  밤통화횟수  \\\n",
       "0  110        0   210.7     142    35.6   205.9      93   17.43  120.9    111   \n",
       "1  283        1   268.5     100    30.3   283.0      92   28.32  290.0     89   \n",
       "2   34        1   243.3     205    21.3   225.7     205   29.00   92.6     29   \n",
       "3  209       86    83.0      93    24.1   270.6     220   22.89  266.9     81   \n",
       "4  202        0   293.2      23    31.0   294.0      24   26.39  223.8     33   \n",
       "\n",
       "   밤통화요금  상담전화건수  가입기간년  가입기간월  가입기간주  가입월  총통화시간  총통화횟수  총통화요금     시간당요금  \\\n",
       "0   5.37       2      0    9.0    2.0    3  537.5    346  58.40  0.108651   \n",
       "1   8.82       0      0   23.0    5.0    9  841.5    281  67.44  0.080143   \n",
       "2   2.44       2      0    2.0    0.0    1  561.6    439  52.74  0.093910   \n",
       "3   2.80       6      0   17.0    4.0    6  620.5    394  49.79  0.080242   \n",
       "4   6.66       2      0   16.0    3.0    6  811.0     80  64.05  0.078977   \n",
       "\n",
       "       횟수당시간      월납부요금       월통화시간       월통화횟수  \n",
       "0   1.553468   6.488889   59.722222   38.444444  \n",
       "1   2.994662   2.932174   36.586957   12.217391  \n",
       "2   1.279271  26.370000  280.800000  219.500000  \n",
       "3   1.574873   2.928824   36.500000   23.176471  \n",
       "4  10.137500   4.003125   50.687500    5.000000  "
      ]
     },
     "execution_count": 55,
     "metadata": {},
     "output_type": "execute_result"
    }
   ],
   "source": [
    "test.head()"
   ]
  },
  {
   "cell_type": "code",
   "execution_count": null,
   "id": "1bb1088a-bf37-4aeb-8ccf-53569e43020d",
   "metadata": {},
   "outputs": [],
   "source": []
  },
  {
   "cell_type": "markdown",
   "id": "bd4c48ed-b3e4-4f38-b588-57d0d62b03ad",
   "metadata": {},
   "source": [
    "### 가입 시기에 따른 월납부요금 그래프"
   ]
  },
  {
   "cell_type": "code",
   "execution_count": 56,
   "id": "3c835f91-7114-41eb-8151-f1f6e7a4da47",
   "metadata": {
    "tags": []
   },
   "outputs": [],
   "source": [
    "# sns.lineplot(data=train,y='월납부요금',x='가입월',hue='전화해지여부')"
   ]
  },
  {
   "cell_type": "markdown",
   "id": "263734d1-0b0a-4c81-a9cf-d5dbca66c60e",
   "metadata": {},
   "source": [
    "### 월납부요금에 따른 상담전화 건수 번화"
   ]
  },
  {
   "cell_type": "code",
   "execution_count": 57,
   "id": "c7d32bc5-290e-4d82-a26f-c37b41b50bcb",
   "metadata": {
    "tags": []
   },
   "outputs": [],
   "source": [
    "# sns.lineplot(data=train,y='월납부요금',x='상담전화건수', hue='전화해지여부')"
   ]
  },
  {
   "cell_type": "markdown",
   "id": "f4e1f1e3-5264-428e-a7e6-1e9bda336e4c",
   "metadata": {},
   "source": [
    "* 건수 8번까지는 납부요금이 상담과 상관이 크게 없다.\n",
    "* 그 이상부터는 납부요금이 커서 해지 상담을 했을 가능성이 높다."
   ]
  },
  {
   "cell_type": "code",
   "execution_count": 58,
   "id": "298b0108-581f-45c8-8929-3e8ef75f33aa",
   "metadata": {
    "tags": []
   },
   "outputs": [
    {
     "data": {
      "text/plain": [
       "전화해지여부  상담전화건수\n",
       "0       0          5696\n",
       "        1           754\n",
       "        2         14844\n",
       "        3           986\n",
       "        4          2288\n",
       "        5           176\n",
       "        6            91\n",
       "        7             6\n",
       "        8          2021\n",
       "        9             3\n",
       "        11           17\n",
       "1       0           607\n",
       "        1            80\n",
       "        2          1678\n",
       "        3           194\n",
       "        4           252\n",
       "        5            58\n",
       "        6           112\n",
       "        7             7\n",
       "        8           313\n",
       "        9            15\n",
       "        11            2\n",
       "dtype: int64"
      ]
     },
     "execution_count": 58,
     "metadata": {},
     "output_type": "execute_result"
    }
   ],
   "source": [
    "train[['전화해지여부','상담전화건수']].value_counts().sort_index()"
   ]
  },
  {
   "cell_type": "code",
   "execution_count": 59,
   "id": "97729d09-cde5-4769-ad5e-d877cb324ff7",
   "metadata": {
    "tags": []
   },
   "outputs": [
    {
     "data": {
      "text/html": [
       "<div>\n",
       "<style scoped>\n",
       "    .dataframe tbody tr th:only-of-type {\n",
       "        vertical-align: middle;\n",
       "    }\n",
       "\n",
       "    .dataframe tbody tr th {\n",
       "        vertical-align: top;\n",
       "    }\n",
       "\n",
       "    .dataframe thead th {\n",
       "        text-align: right;\n",
       "    }\n",
       "</style>\n",
       "<table border=\"1\" class=\"dataframe\">\n",
       "  <thead>\n",
       "    <tr style=\"text-align: right;\">\n",
       "      <th></th>\n",
       "      <th>가입기간년</th>\n",
       "      <th>시간당요금</th>\n",
       "      <th>총통화시간</th>\n",
       "      <th>월납부요금</th>\n",
       "      <th>전화해지여부</th>\n",
       "    </tr>\n",
       "  </thead>\n",
       "  <tbody>\n",
       "    <tr>\n",
       "      <th>11995</th>\n",
       "      <td>0</td>\n",
       "      <td>0.200822</td>\n",
       "      <td>657.2</td>\n",
       "      <td>5.738261</td>\n",
       "      <td>1</td>\n",
       "    </tr>\n",
       "    <tr>\n",
       "      <th>5006</th>\n",
       "      <td>0</td>\n",
       "      <td>0.198387</td>\n",
       "      <td>657.2</td>\n",
       "      <td>5.668696</td>\n",
       "      <td>1</td>\n",
       "    </tr>\n",
       "    <tr>\n",
       "      <th>1850</th>\n",
       "      <td>0</td>\n",
       "      <td>0.191967</td>\n",
       "      <td>662.3</td>\n",
       "      <td>21.190000</td>\n",
       "      <td>1</td>\n",
       "    </tr>\n",
       "    <tr>\n",
       "      <th>7550</th>\n",
       "      <td>0</td>\n",
       "      <td>0.189833</td>\n",
       "      <td>662.9</td>\n",
       "      <td>20.973333</td>\n",
       "      <td>1</td>\n",
       "    </tr>\n",
       "    <tr>\n",
       "      <th>7268</th>\n",
       "      <td>0</td>\n",
       "      <td>0.187681</td>\n",
       "      <td>683.5</td>\n",
       "      <td>6.751579</td>\n",
       "      <td>1</td>\n",
       "    </tr>\n",
       "    <tr>\n",
       "      <th>...</th>\n",
       "      <td>...</td>\n",
       "      <td>...</td>\n",
       "      <td>...</td>\n",
       "      <td>...</td>\n",
       "      <td>...</td>\n",
       "    </tr>\n",
       "    <tr>\n",
       "      <th>14983</th>\n",
       "      <td>0</td>\n",
       "      <td>0.058883</td>\n",
       "      <td>777.3</td>\n",
       "      <td>2.408947</td>\n",
       "      <td>1</td>\n",
       "    </tr>\n",
       "    <tr>\n",
       "      <th>26919</th>\n",
       "      <td>1</td>\n",
       "      <td>0.049892</td>\n",
       "      <td>1337.5</td>\n",
       "      <td>1.803514</td>\n",
       "      <td>1</td>\n",
       "    </tr>\n",
       "    <tr>\n",
       "      <th>1866</th>\n",
       "      <td>0</td>\n",
       "      <td>0.048255</td>\n",
       "      <td>977.3</td>\n",
       "      <td>2.050435</td>\n",
       "      <td>1</td>\n",
       "    </tr>\n",
       "    <tr>\n",
       "      <th>5914</th>\n",
       "      <td>0</td>\n",
       "      <td>0.047615</td>\n",
       "      <td>972.6</td>\n",
       "      <td>1.781154</td>\n",
       "      <td>1</td>\n",
       "    </tr>\n",
       "    <tr>\n",
       "      <th>24545</th>\n",
       "      <td>0</td>\n",
       "      <td>0.047174</td>\n",
       "      <td>973.2</td>\n",
       "      <td>1.765769</td>\n",
       "      <td>1</td>\n",
       "    </tr>\n",
       "  </tbody>\n",
       "</table>\n",
       "<p>330 rows × 5 columns</p>\n",
       "</div>"
      ],
      "text/plain": [
       "       가입기간년     시간당요금   총통화시간      월납부요금  전화해지여부\n",
       "11995      0  0.200822   657.2   5.738261       1\n",
       "5006       0  0.198387   657.2   5.668696       1\n",
       "1850       0  0.191967   662.3  21.190000       1\n",
       "7550       0  0.189833   662.9  20.973333       1\n",
       "7268       0  0.187681   683.5   6.751579       1\n",
       "...      ...       ...     ...        ...     ...\n",
       "14983      0  0.058883   777.3   2.408947       1\n",
       "26919      1  0.049892  1337.5   1.803514       1\n",
       "1866       0  0.048255   977.3   2.050435       1\n",
       "5914       0  0.047615   972.6   1.781154       1\n",
       "24545      0  0.047174   973.2   1.765769       1\n",
       "\n",
       "[330 rows x 5 columns]"
      ]
     },
     "execution_count": 59,
     "metadata": {},
     "output_type": "execute_result"
    }
   ],
   "source": [
    "train[['가입기간년','시간당요금','총통화시간','월납부요금','전화해지여부']][(train['상담전화건수']>=8)&(train['전화해지여부']==1)].sort_values('시간당요금',ascending= False)"
   ]
  },
  {
   "cell_type": "code",
   "execution_count": 60,
   "id": "d04b45a0-71e5-40bc-9961-c326ae868778",
   "metadata": {
    "tags": []
   },
   "outputs": [
    {
     "data": {
      "text/html": [
       "<div>\n",
       "<style scoped>\n",
       "    .dataframe tbody tr th:only-of-type {\n",
       "        vertical-align: middle;\n",
       "    }\n",
       "\n",
       "    .dataframe tbody tr th {\n",
       "        vertical-align: top;\n",
       "    }\n",
       "\n",
       "    .dataframe thead th {\n",
       "        text-align: right;\n",
       "    }\n",
       "</style>\n",
       "<table border=\"1\" class=\"dataframe\">\n",
       "  <thead>\n",
       "    <tr style=\"text-align: right;\">\n",
       "      <th></th>\n",
       "      <th>가입기간년</th>\n",
       "      <th>시간당요금</th>\n",
       "      <th>총통화시간</th>\n",
       "      <th>월납부요금</th>\n",
       "      <th>전화해지여부</th>\n",
       "    </tr>\n",
       "  </thead>\n",
       "  <tbody>\n",
       "    <tr>\n",
       "      <th>14373</th>\n",
       "      <td>0</td>\n",
       "      <td>0.235744</td>\n",
       "      <td>677.6</td>\n",
       "      <td>19.967500</td>\n",
       "      <td>0</td>\n",
       "    </tr>\n",
       "    <tr>\n",
       "      <th>9648</th>\n",
       "      <td>0</td>\n",
       "      <td>0.234076</td>\n",
       "      <td>677.3</td>\n",
       "      <td>19.817500</td>\n",
       "      <td>0</td>\n",
       "    </tr>\n",
       "    <tr>\n",
       "      <th>27021</th>\n",
       "      <td>0</td>\n",
       "      <td>0.232794</td>\n",
       "      <td>653.8</td>\n",
       "      <td>21.743000</td>\n",
       "      <td>0</td>\n",
       "    </tr>\n",
       "    <tr>\n",
       "      <th>15493</th>\n",
       "      <td>0</td>\n",
       "      <td>0.231382</td>\n",
       "      <td>653.9</td>\n",
       "      <td>21.614429</td>\n",
       "      <td>0</td>\n",
       "    </tr>\n",
       "    <tr>\n",
       "      <th>27826</th>\n",
       "      <td>0</td>\n",
       "      <td>0.214985</td>\n",
       "      <td>604.6</td>\n",
       "      <td>5.651304</td>\n",
       "      <td>0</td>\n",
       "    </tr>\n",
       "    <tr>\n",
       "      <th>...</th>\n",
       "      <td>...</td>\n",
       "      <td>...</td>\n",
       "      <td>...</td>\n",
       "      <td>...</td>\n",
       "      <td>...</td>\n",
       "    </tr>\n",
       "    <tr>\n",
       "      <th>20580</th>\n",
       "      <td>0</td>\n",
       "      <td>0.051391</td>\n",
       "      <td>801.3</td>\n",
       "      <td>2.422353</td>\n",
       "      <td>0</td>\n",
       "    </tr>\n",
       "    <tr>\n",
       "      <th>5262</th>\n",
       "      <td>1</td>\n",
       "      <td>0.050224</td>\n",
       "      <td>1338.6</td>\n",
       "      <td>1.817027</td>\n",
       "      <td>0</td>\n",
       "    </tr>\n",
       "    <tr>\n",
       "      <th>24912</th>\n",
       "      <td>0</td>\n",
       "      <td>0.049424</td>\n",
       "      <td>781.0</td>\n",
       "      <td>7.720000</td>\n",
       "      <td>0</td>\n",
       "    </tr>\n",
       "    <tr>\n",
       "      <th>26877</th>\n",
       "      <td>1</td>\n",
       "      <td>0.048030</td>\n",
       "      <td>1322.1</td>\n",
       "      <td>1.867647</td>\n",
       "      <td>0</td>\n",
       "    </tr>\n",
       "    <tr>\n",
       "      <th>13944</th>\n",
       "      <td>1</td>\n",
       "      <td>0.047068</td>\n",
       "      <td>1338.9</td>\n",
       "      <td>1.909697</td>\n",
       "      <td>0</td>\n",
       "    </tr>\n",
       "  </tbody>\n",
       "</table>\n",
       "<p>2041 rows × 5 columns</p>\n",
       "</div>"
      ],
      "text/plain": [
       "       가입기간년     시간당요금   총통화시간      월납부요금  전화해지여부\n",
       "14373      0  0.235744   677.6  19.967500       0\n",
       "9648       0  0.234076   677.3  19.817500       0\n",
       "27021      0  0.232794   653.8  21.743000       0\n",
       "15493      0  0.231382   653.9  21.614429       0\n",
       "27826      0  0.214985   604.6   5.651304       0\n",
       "...      ...       ...     ...        ...     ...\n",
       "20580      0  0.051391   801.3   2.422353       0\n",
       "5262       1  0.050224  1338.6   1.817027       0\n",
       "24912      0  0.049424   781.0   7.720000       0\n",
       "26877      1  0.048030  1322.1   1.867647       0\n",
       "13944      1  0.047068  1338.9   1.909697       0\n",
       "\n",
       "[2041 rows x 5 columns]"
      ]
     },
     "execution_count": 60,
     "metadata": {},
     "output_type": "execute_result"
    }
   ],
   "source": [
    "train[['가입기간년','시간당요금','총통화시간','월납부요금','전화해지여부']][(train['상담전화건수']>=8)&(train['전화해지여부']==0)].sort_values('시간당요금',ascending= False)"
   ]
  },
  {
   "cell_type": "code",
   "execution_count": 61,
   "id": "507e86d9-4be5-4d6b-9742-a70354a637af",
   "metadata": {
    "tags": []
   },
   "outputs": [
    {
     "data": {
      "text/html": [
       "<div>\n",
       "<style scoped>\n",
       "    .dataframe tbody tr th:only-of-type {\n",
       "        vertical-align: middle;\n",
       "    }\n",
       "\n",
       "    .dataframe tbody tr th {\n",
       "        vertical-align: top;\n",
       "    }\n",
       "\n",
       "    .dataframe thead th {\n",
       "        text-align: right;\n",
       "    }\n",
       "</style>\n",
       "<table border=\"1\" class=\"dataframe\">\n",
       "  <thead>\n",
       "    <tr style=\"text-align: right;\">\n",
       "      <th></th>\n",
       "      <th>가입기간년</th>\n",
       "      <th>시간당요금</th>\n",
       "      <th>총통화시간</th>\n",
       "      <th>월납부요금</th>\n",
       "      <th>전화해지여부</th>\n",
       "    </tr>\n",
       "  </thead>\n",
       "  <tbody>\n",
       "    <tr>\n",
       "      <th>29195</th>\n",
       "      <td>0</td>\n",
       "      <td>0.163123</td>\n",
       "      <td>863.4</td>\n",
       "      <td>140.840000</td>\n",
       "      <td>0</td>\n",
       "    </tr>\n",
       "    <tr>\n",
       "      <th>25032</th>\n",
       "      <td>0</td>\n",
       "      <td>0.168615</td>\n",
       "      <td>797.2</td>\n",
       "      <td>134.420000</td>\n",
       "      <td>0</td>\n",
       "    </tr>\n",
       "    <tr>\n",
       "      <th>870</th>\n",
       "      <td>0</td>\n",
       "      <td>0.167675</td>\n",
       "      <td>796.9</td>\n",
       "      <td>133.620000</td>\n",
       "      <td>0</td>\n",
       "    </tr>\n",
       "    <tr>\n",
       "      <th>1933</th>\n",
       "      <td>0</td>\n",
       "      <td>0.167655</td>\n",
       "      <td>795.8</td>\n",
       "      <td>133.420000</td>\n",
       "      <td>0</td>\n",
       "    </tr>\n",
       "    <tr>\n",
       "      <th>9417</th>\n",
       "      <td>0</td>\n",
       "      <td>0.167069</td>\n",
       "      <td>795.6</td>\n",
       "      <td>132.920000</td>\n",
       "      <td>0</td>\n",
       "    </tr>\n",
       "    <tr>\n",
       "      <th>...</th>\n",
       "      <td>...</td>\n",
       "      <td>...</td>\n",
       "      <td>...</td>\n",
       "      <td>...</td>\n",
       "      <td>...</td>\n",
       "    </tr>\n",
       "    <tr>\n",
       "      <th>20765</th>\n",
       "      <td>0</td>\n",
       "      <td>0.053877</td>\n",
       "      <td>601.0</td>\n",
       "      <td>1.349167</td>\n",
       "      <td>0</td>\n",
       "    </tr>\n",
       "    <tr>\n",
       "      <th>8347</th>\n",
       "      <td>0</td>\n",
       "      <td>0.074018</td>\n",
       "      <td>450.7</td>\n",
       "      <td>1.235556</td>\n",
       "      <td>1</td>\n",
       "    </tr>\n",
       "    <tr>\n",
       "      <th>489</th>\n",
       "      <td>0</td>\n",
       "      <td>0.072751</td>\n",
       "      <td>450.3</td>\n",
       "      <td>1.213333</td>\n",
       "      <td>1</td>\n",
       "    </tr>\n",
       "    <tr>\n",
       "      <th>16603</th>\n",
       "      <td>3</td>\n",
       "      <td>0.095964</td>\n",
       "      <td>550.5</td>\n",
       "      <td>0.574217</td>\n",
       "      <td>0</td>\n",
       "    </tr>\n",
       "    <tr>\n",
       "      <th>21665</th>\n",
       "      <td>3</td>\n",
       "      <td>0.095392</td>\n",
       "      <td>551.7</td>\n",
       "      <td>0.572043</td>\n",
       "      <td>0</td>\n",
       "    </tr>\n",
       "  </tbody>\n",
       "</table>\n",
       "<p>2371 rows × 5 columns</p>\n",
       "</div>"
      ],
      "text/plain": [
       "       가입기간년     시간당요금  총통화시간       월납부요금  전화해지여부\n",
       "29195      0  0.163123  863.4  140.840000       0\n",
       "25032      0  0.168615  797.2  134.420000       0\n",
       "870        0  0.167675  796.9  133.620000       0\n",
       "1933       0  0.167655  795.8  133.420000       0\n",
       "9417       0  0.167069  795.6  132.920000       0\n",
       "...      ...       ...    ...         ...     ...\n",
       "20765      0  0.053877  601.0    1.349167       0\n",
       "8347       0  0.074018  450.7    1.235556       1\n",
       "489        0  0.072751  450.3    1.213333       1\n",
       "16603      3  0.095964  550.5    0.574217       0\n",
       "21665      3  0.095392  551.7    0.572043       0\n",
       "\n",
       "[2371 rows x 5 columns]"
      ]
     },
     "execution_count": 61,
     "metadata": {},
     "output_type": "execute_result"
    }
   ],
   "source": [
    "train[['가입기간년','시간당요금','총통화시간','월납부요금','전화해지여부']][train['상담전화건수']>=8].sort_values('월납부요금',ascending= False)"
   ]
  },
  {
   "cell_type": "markdown",
   "id": "27c7bfd0-f1b9-4e26-bb95-a45b52cae700",
   "metadata": {},
   "source": [
    "### 월납부요금 구간화"
   ]
  },
  {
   "cell_type": "code",
   "execution_count": 62,
   "id": "b81db03b-c455-4082-a155-312b577879fb",
   "metadata": {
    "tags": []
   },
   "outputs": [],
   "source": [
    "tot_cost_cut = pd.cut(train['월납부요금'],6)\n",
    "tot_cost_cut=tot_cost_cut.cat.codes"
   ]
  },
  {
   "cell_type": "code",
   "execution_count": 63,
   "id": "0df72622-833b-4362-9090-6f1df8fdd6ad",
   "metadata": {
    "tags": []
   },
   "outputs": [],
   "source": [
    "tot_cost_cut_test = pd.cut(train['월납부요금'],6)\n",
    "tot_cost_cut_test=tot_cost_cut_test.cat.codes"
   ]
  },
  {
   "cell_type": "code",
   "execution_count": 64,
   "id": "6c96078b-1e08-4f24-a12a-a93e7e01e4f9",
   "metadata": {},
   "outputs": [],
   "source": [
    "# (2.956, 33.234], (33.234, 63.331], (63.331, 93.428], (93.428, 123.526], (123.526, 153.623], (153.623, 183.72]\n",
    "# (2.806, 33.154], (33.154, 63.321], (63.321, 93.488], (93.488, 123.656], (123.656, 153.823], (153.823, 183.99]"
   ]
  },
  {
   "cell_type": "code",
   "execution_count": 65,
   "id": "68083772-fb6a-41a3-bdfb-eaa2be773545",
   "metadata": {
    "tags": []
   },
   "outputs": [],
   "source": [
    "train['월납부요금구간'] = tot_cost_cut"
   ]
  },
  {
   "cell_type": "code",
   "execution_count": 66,
   "id": "81c5b770-365f-4201-92c7-9bfb603e2837",
   "metadata": {
    "tags": []
   },
   "outputs": [],
   "source": [
    "test['월납부요금구간'] = tot_cost_cut_test"
   ]
  },
  {
   "cell_type": "code",
   "execution_count": 67,
   "id": "8b449d4a-7c3c-4478-8162-f5aef2e56ea8",
   "metadata": {
    "tags": []
   },
   "outputs": [
    {
     "data": {
      "text/html": [
       "<div>\n",
       "<style scoped>\n",
       "    .dataframe tbody tr th:only-of-type {\n",
       "        vertical-align: middle;\n",
       "    }\n",
       "\n",
       "    .dataframe tbody tr th {\n",
       "        vertical-align: top;\n",
       "    }\n",
       "\n",
       "    .dataframe thead th {\n",
       "        text-align: right;\n",
       "    }\n",
       "</style>\n",
       "<table border=\"1\" class=\"dataframe\">\n",
       "  <thead>\n",
       "    <tr style=\"text-align: right;\">\n",
       "      <th></th>\n",
       "      <th>가입일</th>\n",
       "      <th>음성사서함이용</th>\n",
       "      <th>주간통화시간</th>\n",
       "      <th>주간통화횟수</th>\n",
       "      <th>주간통화요금</th>\n",
       "      <th>저녁통화시간</th>\n",
       "      <th>저녁통화횟수</th>\n",
       "      <th>저녁통화요금</th>\n",
       "      <th>밤통화시간</th>\n",
       "      <th>밤통화횟수</th>\n",
       "      <th>밤통화요금</th>\n",
       "      <th>상담전화건수</th>\n",
       "      <th>가입기간년</th>\n",
       "      <th>가입기간월</th>\n",
       "      <th>가입기간주</th>\n",
       "      <th>가입월</th>\n",
       "      <th>총통화시간</th>\n",
       "      <th>총통화횟수</th>\n",
       "      <th>총통화요금</th>\n",
       "      <th>시간당요금</th>\n",
       "      <th>횟수당시간</th>\n",
       "      <th>월납부요금</th>\n",
       "      <th>월통화시간</th>\n",
       "      <th>월통화횟수</th>\n",
       "      <th>월납부요금구간</th>\n",
       "    </tr>\n",
       "  </thead>\n",
       "  <tbody>\n",
       "    <tr>\n",
       "      <th>0</th>\n",
       "      <td>110</td>\n",
       "      <td>0</td>\n",
       "      <td>210.7</td>\n",
       "      <td>142</td>\n",
       "      <td>35.6</td>\n",
       "      <td>205.9</td>\n",
       "      <td>93</td>\n",
       "      <td>17.43</td>\n",
       "      <td>120.9</td>\n",
       "      <td>111</td>\n",
       "      <td>5.37</td>\n",
       "      <td>2</td>\n",
       "      <td>0</td>\n",
       "      <td>9.0</td>\n",
       "      <td>2.0</td>\n",
       "      <td>3</td>\n",
       "      <td>537.5</td>\n",
       "      <td>346</td>\n",
       "      <td>58.40</td>\n",
       "      <td>0.108651</td>\n",
       "      <td>1.553468</td>\n",
       "      <td>6.488889</td>\n",
       "      <td>59.722222</td>\n",
       "      <td>38.444444</td>\n",
       "      <td>0</td>\n",
       "    </tr>\n",
       "    <tr>\n",
       "      <th>1</th>\n",
       "      <td>283</td>\n",
       "      <td>1</td>\n",
       "      <td>268.5</td>\n",
       "      <td>100</td>\n",
       "      <td>30.3</td>\n",
       "      <td>283.0</td>\n",
       "      <td>92</td>\n",
       "      <td>28.32</td>\n",
       "      <td>290.0</td>\n",
       "      <td>89</td>\n",
       "      <td>8.82</td>\n",
       "      <td>0</td>\n",
       "      <td>0</td>\n",
       "      <td>23.0</td>\n",
       "      <td>5.0</td>\n",
       "      <td>9</td>\n",
       "      <td>841.5</td>\n",
       "      <td>281</td>\n",
       "      <td>67.44</td>\n",
       "      <td>0.080143</td>\n",
       "      <td>2.994662</td>\n",
       "      <td>2.932174</td>\n",
       "      <td>36.586957</td>\n",
       "      <td>12.217391</td>\n",
       "      <td>5</td>\n",
       "    </tr>\n",
       "    <tr>\n",
       "      <th>2</th>\n",
       "      <td>34</td>\n",
       "      <td>1</td>\n",
       "      <td>243.3</td>\n",
       "      <td>205</td>\n",
       "      <td>21.3</td>\n",
       "      <td>225.7</td>\n",
       "      <td>205</td>\n",
       "      <td>29.00</td>\n",
       "      <td>92.6</td>\n",
       "      <td>29</td>\n",
       "      <td>2.44</td>\n",
       "      <td>2</td>\n",
       "      <td>0</td>\n",
       "      <td>2.0</td>\n",
       "      <td>0.0</td>\n",
       "      <td>1</td>\n",
       "      <td>561.6</td>\n",
       "      <td>439</td>\n",
       "      <td>52.74</td>\n",
       "      <td>0.093910</td>\n",
       "      <td>1.279271</td>\n",
       "      <td>26.370000</td>\n",
       "      <td>280.800000</td>\n",
       "      <td>219.500000</td>\n",
       "      <td>0</td>\n",
       "    </tr>\n",
       "    <tr>\n",
       "      <th>3</th>\n",
       "      <td>209</td>\n",
       "      <td>86</td>\n",
       "      <td>83.0</td>\n",
       "      <td>93</td>\n",
       "      <td>24.1</td>\n",
       "      <td>270.6</td>\n",
       "      <td>220</td>\n",
       "      <td>22.89</td>\n",
       "      <td>266.9</td>\n",
       "      <td>81</td>\n",
       "      <td>2.80</td>\n",
       "      <td>6</td>\n",
       "      <td>0</td>\n",
       "      <td>17.0</td>\n",
       "      <td>4.0</td>\n",
       "      <td>6</td>\n",
       "      <td>620.5</td>\n",
       "      <td>394</td>\n",
       "      <td>49.79</td>\n",
       "      <td>0.080242</td>\n",
       "      <td>1.574873</td>\n",
       "      <td>2.928824</td>\n",
       "      <td>36.500000</td>\n",
       "      <td>23.176471</td>\n",
       "      <td>0</td>\n",
       "    </tr>\n",
       "    <tr>\n",
       "      <th>4</th>\n",
       "      <td>202</td>\n",
       "      <td>0</td>\n",
       "      <td>293.2</td>\n",
       "      <td>23</td>\n",
       "      <td>31.0</td>\n",
       "      <td>294.0</td>\n",
       "      <td>24</td>\n",
       "      <td>26.39</td>\n",
       "      <td>223.8</td>\n",
       "      <td>33</td>\n",
       "      <td>6.66</td>\n",
       "      <td>2</td>\n",
       "      <td>0</td>\n",
       "      <td>16.0</td>\n",
       "      <td>3.0</td>\n",
       "      <td>6</td>\n",
       "      <td>811.0</td>\n",
       "      <td>80</td>\n",
       "      <td>64.05</td>\n",
       "      <td>0.078977</td>\n",
       "      <td>10.137500</td>\n",
       "      <td>4.003125</td>\n",
       "      <td>50.687500</td>\n",
       "      <td>5.000000</td>\n",
       "      <td>0</td>\n",
       "    </tr>\n",
       "  </tbody>\n",
       "</table>\n",
       "</div>"
      ],
      "text/plain": [
       "   가입일  음성사서함이용  주간통화시간  주간통화횟수  주간통화요금  저녁통화시간  저녁통화횟수  저녁통화요금  밤통화시간  밤통화횟수  \\\n",
       "0  110        0   210.7     142    35.6   205.9      93   17.43  120.9    111   \n",
       "1  283        1   268.5     100    30.3   283.0      92   28.32  290.0     89   \n",
       "2   34        1   243.3     205    21.3   225.7     205   29.00   92.6     29   \n",
       "3  209       86    83.0      93    24.1   270.6     220   22.89  266.9     81   \n",
       "4  202        0   293.2      23    31.0   294.0      24   26.39  223.8     33   \n",
       "\n",
       "   밤통화요금  상담전화건수  가입기간년  가입기간월  가입기간주  가입월  총통화시간  총통화횟수  총통화요금     시간당요금  \\\n",
       "0   5.37       2      0    9.0    2.0    3  537.5    346  58.40  0.108651   \n",
       "1   8.82       0      0   23.0    5.0    9  841.5    281  67.44  0.080143   \n",
       "2   2.44       2      0    2.0    0.0    1  561.6    439  52.74  0.093910   \n",
       "3   2.80       6      0   17.0    4.0    6  620.5    394  49.79  0.080242   \n",
       "4   6.66       2      0   16.0    3.0    6  811.0     80  64.05  0.078977   \n",
       "\n",
       "       횟수당시간      월납부요금       월통화시간       월통화횟수  월납부요금구간  \n",
       "0   1.553468   6.488889   59.722222   38.444444        0  \n",
       "1   2.994662   2.932174   36.586957   12.217391        5  \n",
       "2   1.279271  26.370000  280.800000  219.500000        0  \n",
       "3   1.574873   2.928824   36.500000   23.176471        0  \n",
       "4  10.137500   4.003125   50.687500    5.000000        0  "
      ]
     },
     "execution_count": 67,
     "metadata": {},
     "output_type": "execute_result"
    }
   ],
   "source": [
    "test.head()"
   ]
  },
  {
   "cell_type": "code",
   "execution_count": 68,
   "id": "34ca76a1-2404-4648-8fe0-4b810219f589",
   "metadata": {
    "tags": []
   },
   "outputs": [
    {
     "data": {
      "text/plain": [
       "Index(['가입일', '음성사서함이용', '주간통화시간', '주간통화횟수', '주간통화요금', '저녁통화시간', '저녁통화횟수',\n",
       "       '저녁통화요금', '밤통화시간', '밤통화횟수', '밤통화요금', '상담전화건수', '전화해지여부', '가입기간년',\n",
       "       '가입기간월', '가입기간주', '가입월', '총통화시간', '총통화횟수', '총통화요금', '시간당요금', '횟수당시간',\n",
       "       '주간통화시간당요금', '저녁통화시간당요금', '밤통화시간당요금', '월납부요금', '월통화시간', '월통화횟수',\n",
       "       '월납부요금구간'],\n",
       "      dtype='object')"
      ]
     },
     "execution_count": 68,
     "metadata": {},
     "output_type": "execute_result"
    }
   ],
   "source": [
    "train.columns"
   ]
  },
  {
   "cell_type": "code",
   "execution_count": 69,
   "id": "27cec684-41c5-4888-bb6f-28711bc4cbf2",
   "metadata": {
    "tags": []
   },
   "outputs": [],
   "source": [
    "# fig, axes = plt.subplots(1, 2, figsize=(20, 5)  ) \n",
    "\n",
    "# col_list = ['월납부요금','월납부요금구간']\n",
    "# for i, col in enumerate(col_list) :  #train.columns) :\n",
    "#     r = i//3\n",
    "#     c = i%3\n",
    "#     #print(i,r, c ,col)\n",
    "#     axes[c].set_title(col)\n",
    "#     sns.histplot(data=train, x=col, ax=axes[c],     kde=True )\n",
    "#     sns.histplot(data=test, x=col, ax=axes[c],     kde=True )\n",
    "#     # axes[0][0].set_title(\"count\")\n",
    "#     # sns.histplot(data=train, x='count', ax=axes[0][0],     kde=True )\n",
    "\n",
    "# plt.tight_layout()\n",
    "# plt.show()"
   ]
  },
  {
   "cell_type": "code",
   "execution_count": null,
   "id": "a9072cd4-a650-486e-8548-201d5a5b7a21",
   "metadata": {},
   "outputs": [],
   "source": []
  },
  {
   "cell_type": "code",
   "execution_count": 70,
   "id": "c74df5a8-efd2-4a7c-b9fc-e782ef849554",
   "metadata": {
    "tags": []
   },
   "outputs": [
    {
     "data": {
      "text/html": [
       "<div>\n",
       "<style scoped>\n",
       "    .dataframe tbody tr th:only-of-type {\n",
       "        vertical-align: middle;\n",
       "    }\n",
       "\n",
       "    .dataframe tbody tr th {\n",
       "        vertical-align: top;\n",
       "    }\n",
       "\n",
       "    .dataframe thead th {\n",
       "        text-align: right;\n",
       "    }\n",
       "</style>\n",
       "<table border=\"1\" class=\"dataframe\">\n",
       "  <thead>\n",
       "    <tr style=\"text-align: right;\">\n",
       "      <th></th>\n",
       "      <th>가입일</th>\n",
       "      <th>음성사서함이용</th>\n",
       "      <th>주간통화시간</th>\n",
       "      <th>주간통화횟수</th>\n",
       "      <th>주간통화요금</th>\n",
       "      <th>저녁통화시간</th>\n",
       "      <th>저녁통화횟수</th>\n",
       "      <th>저녁통화요금</th>\n",
       "      <th>밤통화시간</th>\n",
       "      <th>밤통화횟수</th>\n",
       "      <th>밤통화요금</th>\n",
       "      <th>상담전화건수</th>\n",
       "      <th>전화해지여부</th>\n",
       "      <th>가입기간년</th>\n",
       "      <th>가입기간월</th>\n",
       "      <th>가입기간주</th>\n",
       "      <th>가입월</th>\n",
       "      <th>총통화시간</th>\n",
       "      <th>총통화횟수</th>\n",
       "      <th>총통화요금</th>\n",
       "      <th>시간당요금</th>\n",
       "      <th>횟수당시간</th>\n",
       "      <th>주간통화시간당요금</th>\n",
       "      <th>저녁통화시간당요금</th>\n",
       "      <th>밤통화시간당요금</th>\n",
       "      <th>월납부요금</th>\n",
       "      <th>월통화시간</th>\n",
       "      <th>월통화횟수</th>\n",
       "      <th>월납부요금구간</th>\n",
       "    </tr>\n",
       "  </thead>\n",
       "  <tbody>\n",
       "    <tr>\n",
       "      <th>count</th>\n",
       "      <td>30200.000000</td>\n",
       "      <td>30200.000000</td>\n",
       "      <td>30200.00000</td>\n",
       "      <td>30200.000000</td>\n",
       "      <td>30200.000000</td>\n",
       "      <td>30200.000000</td>\n",
       "      <td>30200.000000</td>\n",
       "      <td>30200.000000</td>\n",
       "      <td>30200.000000</td>\n",
       "      <td>30200.000000</td>\n",
       "      <td>30200.000000</td>\n",
       "      <td>30200.000000</td>\n",
       "      <td>30200.000000</td>\n",
       "      <td>30200.000000</td>\n",
       "      <td>30200.000000</td>\n",
       "      <td>30200.000000</td>\n",
       "      <td>30200.000000</td>\n",
       "      <td>30200.000000</td>\n",
       "      <td>30200.000000</td>\n",
       "      <td>30200.000000</td>\n",
       "      <td>30200.000000</td>\n",
       "      <td>30200.000000</td>\n",
       "      <td>30200.000000</td>\n",
       "      <td>30200.000000</td>\n",
       "      <td>30200.000000</td>\n",
       "      <td>30200.000000</td>\n",
       "      <td>30200.000000</td>\n",
       "      <td>30200.000000</td>\n",
       "      <td>30200.000000</td>\n",
       "    </tr>\n",
       "    <tr>\n",
       "      <th>mean</th>\n",
       "      <td>159.732649</td>\n",
       "      <td>12.037815</td>\n",
       "      <td>250.56346</td>\n",
       "      <td>159.175728</td>\n",
       "      <td>41.091447</td>\n",
       "      <td>263.247215</td>\n",
       "      <td>158.474536</td>\n",
       "      <td>25.394260</td>\n",
       "      <td>263.438285</td>\n",
       "      <td>157.047417</td>\n",
       "      <td>12.074648</td>\n",
       "      <td>2.288079</td>\n",
       "      <td>0.109868</td>\n",
       "      <td>0.048709</td>\n",
       "      <td>12.808841</td>\n",
       "      <td>2.553146</td>\n",
       "      <td>4.215662</td>\n",
       "      <td>777.248957</td>\n",
       "      <td>474.697682</td>\n",
       "      <td>78.560356</td>\n",
       "      <td>0.101774</td>\n",
       "      <td>1.905340</td>\n",
       "      <td>0.184063</td>\n",
       "      <td>0.097251</td>\n",
       "      <td>0.047064</td>\n",
       "      <td>15.322813</td>\n",
       "      <td>151.177745</td>\n",
       "      <td>91.888401</td>\n",
       "      <td>0.226258</td>\n",
       "    </tr>\n",
       "    <tr>\n",
       "      <th>std</th>\n",
       "      <td>123.752781</td>\n",
       "      <td>24.925334</td>\n",
       "      <td>84.40334</td>\n",
       "      <td>101.573057</td>\n",
       "      <td>23.179017</td>\n",
       "      <td>74.064922</td>\n",
       "      <td>102.200293</td>\n",
       "      <td>8.146126</td>\n",
       "      <td>73.778416</td>\n",
       "      <td>101.721601</td>\n",
       "      <td>9.414261</td>\n",
       "      <td>2.050746</td>\n",
       "      <td>0.312730</td>\n",
       "      <td>0.249862</td>\n",
       "      <td>10.348613</td>\n",
       "      <td>2.438045</td>\n",
       "      <td>3.112707</td>\n",
       "      <td>192.815336</td>\n",
       "      <td>198.109400</td>\n",
       "      <td>28.954492</td>\n",
       "      <td>0.031296</td>\n",
       "      <td>0.987688</td>\n",
       "      <td>0.189984</td>\n",
       "      <td>0.021319</td>\n",
       "      <td>0.034361</td>\n",
       "      <td>20.280452</td>\n",
       "      <td>184.090756</td>\n",
       "      <td>120.860557</td>\n",
       "      <td>0.626653</td>\n",
       "    </tr>\n",
       "    <tr>\n",
       "      <th>min</th>\n",
       "      <td>1.000000</td>\n",
       "      <td>0.000000</td>\n",
       "      <td>0.10000</td>\n",
       "      <td>0.000000</td>\n",
       "      <td>0.000000</td>\n",
       "      <td>0.100000</td>\n",
       "      <td>0.000000</td>\n",
       "      <td>0.000000</td>\n",
       "      <td>20.800000</td>\n",
       "      <td>20.000000</td>\n",
       "      <td>1.040000</td>\n",
       "      <td>0.000000</td>\n",
       "      <td>0.000000</td>\n",
       "      <td>0.000000</td>\n",
       "      <td>0.000000</td>\n",
       "      <td>0.000000</td>\n",
       "      <td>0.000000</td>\n",
       "      <td>264.700000</td>\n",
       "      <td>72.000000</td>\n",
       "      <td>17.040000</td>\n",
       "      <td>0.041996</td>\n",
       "      <td>0.467341</td>\n",
       "      <td>0.000000</td>\n",
       "      <td>0.000000</td>\n",
       "      <td>0.006792</td>\n",
       "      <td>0.227086</td>\n",
       "      <td>3.647826</td>\n",
       "      <td>1.804348</td>\n",
       "      <td>0.000000</td>\n",
       "    </tr>\n",
       "    <tr>\n",
       "      <th>25%</th>\n",
       "      <td>63.000000</td>\n",
       "      <td>0.000000</td>\n",
       "      <td>222.80000</td>\n",
       "      <td>88.000000</td>\n",
       "      <td>24.400000</td>\n",
       "      <td>223.700000</td>\n",
       "      <td>87.000000</td>\n",
       "      <td>22.220000</td>\n",
       "      <td>223.700000</td>\n",
       "      <td>87.000000</td>\n",
       "      <td>4.700000</td>\n",
       "      <td>2.000000</td>\n",
       "      <td>0.000000</td>\n",
       "      <td>0.000000</td>\n",
       "      <td>5.000000</td>\n",
       "      <td>1.000000</td>\n",
       "      <td>2.000000</td>\n",
       "      <td>678.800000</td>\n",
       "      <td>331.000000</td>\n",
       "      <td>57.400000</td>\n",
       "      <td>0.078959</td>\n",
       "      <td>1.331795</td>\n",
       "      <td>0.103082</td>\n",
       "      <td>0.086233</td>\n",
       "      <td>0.018052</td>\n",
       "      <td>3.613838</td>\n",
       "      <td>38.021930</td>\n",
       "      <td>23.649265</td>\n",
       "      <td>0.000000</td>\n",
       "    </tr>\n",
       "    <tr>\n",
       "      <th>50%</th>\n",
       "      <td>118.000000</td>\n",
       "      <td>1.000000</td>\n",
       "      <td>234.00000</td>\n",
       "      <td>117.500000</td>\n",
       "      <td>30.800000</td>\n",
       "      <td>243.000000</td>\n",
       "      <td>112.000000</td>\n",
       "      <td>23.320000</td>\n",
       "      <td>242.800000</td>\n",
       "      <td>108.000000</td>\n",
       "      <td>9.080000</td>\n",
       "      <td>2.000000</td>\n",
       "      <td>0.000000</td>\n",
       "      <td>0.000000</td>\n",
       "      <td>9.000000</td>\n",
       "      <td>2.000000</td>\n",
       "      <td>3.000000</td>\n",
       "      <td>735.300000</td>\n",
       "      <td>466.000000</td>\n",
       "      <td>68.890000</td>\n",
       "      <td>0.094919</td>\n",
       "      <td>1.630376</td>\n",
       "      <td>0.132839</td>\n",
       "      <td>0.097686</td>\n",
       "      <td>0.041727</td>\n",
       "      <td>6.998992</td>\n",
       "      <td>61.028125</td>\n",
       "      <td>36.782609</td>\n",
       "      <td>0.000000</td>\n",
       "    </tr>\n",
       "    <tr>\n",
       "      <th>75%</th>\n",
       "      <td>228.000000</td>\n",
       "      <td>22.000000</td>\n",
       "      <td>289.60000</td>\n",
       "      <td>223.000000</td>\n",
       "      <td>45.900000</td>\n",
       "      <td>290.300000</td>\n",
       "      <td>223.000000</td>\n",
       "      <td>28.820000</td>\n",
       "      <td>290.500000</td>\n",
       "      <td>222.000000</td>\n",
       "      <td>20.290000</td>\n",
       "      <td>2.000000</td>\n",
       "      <td>0.000000</td>\n",
       "      <td>0.000000</td>\n",
       "      <td>19.000000</td>\n",
       "      <td>4.000000</td>\n",
       "      <td>7.000000</td>\n",
       "      <td>829.800000</td>\n",
       "      <td>576.000000</td>\n",
       "      <td>95.830000</td>\n",
       "      <td>0.111973</td>\n",
       "      <td>2.156366</td>\n",
       "      <td>0.207796</td>\n",
       "      <td>0.107290</td>\n",
       "      <td>0.079529</td>\n",
       "      <td>18.759643</td>\n",
       "      <td>171.360000</td>\n",
       "      <td>103.200000</td>\n",
       "      <td>0.000000</td>\n",
       "    </tr>\n",
       "    <tr>\n",
       "      <th>max</th>\n",
       "      <td>2212.000000</td>\n",
       "      <td>1112.000000</td>\n",
       "      <td>481.90000</td>\n",
       "      <td>489.000000</td>\n",
       "      <td>118.600000</td>\n",
       "      <td>481.600000</td>\n",
       "      <td>489.000000</td>\n",
       "      <td>49.980000</td>\n",
       "      <td>481.800000</td>\n",
       "      <td>490.000000</td>\n",
       "      <td>44.980000</td>\n",
       "      <td>11.000000</td>\n",
       "      <td>1.000000</td>\n",
       "      <td>6.000000</td>\n",
       "      <td>184.000000</td>\n",
       "      <td>42.000000</td>\n",
       "      <td>11.000000</td>\n",
       "      <td>1432.100000</td>\n",
       "      <td>1427.000000</td>\n",
       "      <td>184.240000</td>\n",
       "      <td>0.264979</td>\n",
       "      <td>10.925287</td>\n",
       "      <td>20.000000</td>\n",
       "      <td>0.391630</td>\n",
       "      <td>0.398077</td>\n",
       "      <td>174.630000</td>\n",
       "      <td>1385.200000</td>\n",
       "      <td>1300.000000</td>\n",
       "      <td>5.000000</td>\n",
       "    </tr>\n",
       "  </tbody>\n",
       "</table>\n",
       "</div>"
      ],
      "text/plain": [
       "                가입일       음성사서함이용       주간통화시간        주간통화횟수        주간통화요금  \\\n",
       "count  30200.000000  30200.000000  30200.00000  30200.000000  30200.000000   \n",
       "mean     159.732649     12.037815    250.56346    159.175728     41.091447   \n",
       "std      123.752781     24.925334     84.40334    101.573057     23.179017   \n",
       "min        1.000000      0.000000      0.10000      0.000000      0.000000   \n",
       "25%       63.000000      0.000000    222.80000     88.000000     24.400000   \n",
       "50%      118.000000      1.000000    234.00000    117.500000     30.800000   \n",
       "75%      228.000000     22.000000    289.60000    223.000000     45.900000   \n",
       "max     2212.000000   1112.000000    481.90000    489.000000    118.600000   \n",
       "\n",
       "             저녁통화시간        저녁통화횟수        저녁통화요금         밤통화시간         밤통화횟수  \\\n",
       "count  30200.000000  30200.000000  30200.000000  30200.000000  30200.000000   \n",
       "mean     263.247215    158.474536     25.394260    263.438285    157.047417   \n",
       "std       74.064922    102.200293      8.146126     73.778416    101.721601   \n",
       "min        0.100000      0.000000      0.000000     20.800000     20.000000   \n",
       "25%      223.700000     87.000000     22.220000    223.700000     87.000000   \n",
       "50%      243.000000    112.000000     23.320000    242.800000    108.000000   \n",
       "75%      290.300000    223.000000     28.820000    290.500000    222.000000   \n",
       "max      481.600000    489.000000     49.980000    481.800000    490.000000   \n",
       "\n",
       "              밤통화요금        상담전화건수        전화해지여부         가입기간년         가입기간월  \\\n",
       "count  30200.000000  30200.000000  30200.000000  30200.000000  30200.000000   \n",
       "mean      12.074648      2.288079      0.109868      0.048709     12.808841   \n",
       "std        9.414261      2.050746      0.312730      0.249862     10.348613   \n",
       "min        1.040000      0.000000      0.000000      0.000000      0.000000   \n",
       "25%        4.700000      2.000000      0.000000      0.000000      5.000000   \n",
       "50%        9.080000      2.000000      0.000000      0.000000      9.000000   \n",
       "75%       20.290000      2.000000      0.000000      0.000000     19.000000   \n",
       "max       44.980000     11.000000      1.000000      6.000000    184.000000   \n",
       "\n",
       "              가입기간주           가입월         총통화시간         총통화횟수         총통화요금  \\\n",
       "count  30200.000000  30200.000000  30200.000000  30200.000000  30200.000000   \n",
       "mean       2.553146      4.215662    777.248957    474.697682     78.560356   \n",
       "std        2.438045      3.112707    192.815336    198.109400     28.954492   \n",
       "min        0.000000      0.000000    264.700000     72.000000     17.040000   \n",
       "25%        1.000000      2.000000    678.800000    331.000000     57.400000   \n",
       "50%        2.000000      3.000000    735.300000    466.000000     68.890000   \n",
       "75%        4.000000      7.000000    829.800000    576.000000     95.830000   \n",
       "max       42.000000     11.000000   1432.100000   1427.000000    184.240000   \n",
       "\n",
       "              시간당요금         횟수당시간     주간통화시간당요금     저녁통화시간당요금      밤통화시간당요금  \\\n",
       "count  30200.000000  30200.000000  30200.000000  30200.000000  30200.000000   \n",
       "mean       0.101774      1.905340      0.184063      0.097251      0.047064   \n",
       "std        0.031296      0.987688      0.189984      0.021319      0.034361   \n",
       "min        0.041996      0.467341      0.000000      0.000000      0.006792   \n",
       "25%        0.078959      1.331795      0.103082      0.086233      0.018052   \n",
       "50%        0.094919      1.630376      0.132839      0.097686      0.041727   \n",
       "75%        0.111973      2.156366      0.207796      0.107290      0.079529   \n",
       "max        0.264979     10.925287     20.000000      0.391630      0.398077   \n",
       "\n",
       "              월납부요금         월통화시간         월통화횟수       월납부요금구간  \n",
       "count  30200.000000  30200.000000  30200.000000  30200.000000  \n",
       "mean      15.322813    151.177745     91.888401      0.226258  \n",
       "std       20.280452    184.090756    120.860557      0.626653  \n",
       "min        0.227086      3.647826      1.804348      0.000000  \n",
       "25%        3.613838     38.021930     23.649265      0.000000  \n",
       "50%        6.998992     61.028125     36.782609      0.000000  \n",
       "75%       18.759643    171.360000    103.200000      0.000000  \n",
       "max      174.630000   1385.200000   1300.000000      5.000000  "
      ]
     },
     "execution_count": 70,
     "metadata": {},
     "output_type": "execute_result"
    }
   ],
   "source": [
    "train.describe()"
   ]
  },
  {
   "cell_type": "markdown",
   "id": "804d530b-4795-4c69-a9e4-63b08f396f11",
   "metadata": {},
   "source": [
    "### 누적 가입 기간에 따른 월 납부 요금"
   ]
  },
  {
   "cell_type": "code",
   "execution_count": 71,
   "id": "361a34da-a0c0-4f13-85a3-08722b6e2cf6",
   "metadata": {
    "tags": []
   },
   "outputs": [],
   "source": [
    "# sns.lineplot(data=train,y='월납부요금',x='가입기간월',hue='전화해지여부')"
   ]
  },
  {
   "cell_type": "code",
   "execution_count": 72,
   "id": "90ced630-086a-405c-ae55-80c65a8c15e9",
   "metadata": {
    "tags": []
   },
   "outputs": [],
   "source": [
    "# fig, axes = plt.subplots(1,2,figsize=(14,5))\n",
    "\n",
    "# sns.lineplot(data=train,y='월납부요금구간',x='가입기간월',hue='전화해지여부', ax=axes[0])\n",
    "# sns.lineplot(data=train,y='시간당요금',x='월납부요금구간',hue='전화해지여부', ax=axes[1])\n",
    "# plt.show()"
   ]
  },
  {
   "cell_type": "markdown",
   "id": "5df86939-5540-48ca-a831-f46c3b6f291e",
   "metadata": {},
   "source": [
    "<pre>\n",
    "\n",
    "* 초기 가입기간부터 5개월까지 급격하게 감소한다. = 초기 납부 비용이 가장 크다.\n",
    "\n",
    "* 5개월 이후부터는 고정 요금이다\n",
    "\n",
    "  ==> 초기 5개월동안 약정, 기계값 등이 포함되어있는 것 같다...?"
   ]
  },
  {
   "cell_type": "markdown",
   "id": "5bf1dfe4-8cad-4fc6-8a6a-f9570fed29a1",
   "metadata": {},
   "source": [
    "### 월별 값에 따른 전화해지여부(구간) "
   ]
  },
  {
   "cell_type": "code",
   "execution_count": 73,
   "id": "eafdd2d8-90af-43c6-85d4-97c13413ed84",
   "metadata": {
    "tags": []
   },
   "outputs": [],
   "source": [
    "# fig, axes = plt.subplots(1,3,figsize=(15,5))\n",
    "\n",
    "# sns.lineplot(data=train,y='월통화시간',x='월납부요금구간',hue='전화해지여부', ax=axes[0])\n",
    "# sns.lineplot(data=train,y='월통화횟수',x='월납부요금구간',hue='전화해지여부', ax=axes[1])\n",
    "# sns.lineplot(data=train,y='월납부요금',x='월납부요금구간',hue='전화해지여부', ax=axes[2])\n",
    "# plt.show()"
   ]
  },
  {
   "cell_type": "markdown",
   "id": "a44e11b1-f464-41b7-b4e5-975631ab8c19",
   "metadata": {},
   "source": [
    "- 첫번째 그래프 : 월납부요금구간 3-4 일때, 해지한 사람들의 경우 월통화시간이 줄어들었음에도 월납부요금이 증가  --> 해지?\n",
    "- 해지할 사람은 4구간에서 해지했을 것이다. 오히려 5구간에 가면 해지할 마음이 없음."
   ]
  },
  {
   "cell_type": "code",
   "execution_count": 74,
   "id": "72adf7ac-3a72-48cf-b291-b459a2e6be86",
   "metadata": {
    "tags": []
   },
   "outputs": [
    {
     "data": {
      "text/plain": [
       "전화해지여부  월납부요금구간\n",
       "0       0          22891\n",
       "        1           2442\n",
       "        2           1175\n",
       "        3            140\n",
       "        4            224\n",
       "        5             10\n",
       "1       0           2840\n",
       "        1            317\n",
       "        2            139\n",
       "        3              8\n",
       "        4             14\n",
       "dtype: int64"
      ]
     },
     "execution_count": 74,
     "metadata": {},
     "output_type": "execute_result"
    }
   ],
   "source": [
    "train[['전화해지여부','월납부요금구간']].value_counts().sort_index()"
   ]
  },
  {
   "cell_type": "markdown",
   "id": "893966bb-e1cf-4e67-bd18-ed3b3e774b39",
   "metadata": {},
   "source": [
    "<pre>\n",
    "\n",
    "* 4-5구간 : 14명 해지\n",
    "* 5구간 : 0명 해지\n",
    "\n",
    " = 월납부요금이 큰 사람은 해지를 안했다."
   ]
  },
  {
   "cell_type": "code",
   "execution_count": null,
   "id": "ccec02d3-9897-4b1c-9462-2d28ca3fccf1",
   "metadata": {},
   "outputs": [],
   "source": []
  },
  {
   "cell_type": "code",
   "execution_count": 75,
   "id": "5676240b-6188-47a1-ad9f-fe53ba63116b",
   "metadata": {
    "tags": []
   },
   "outputs": [
    {
     "data": {
      "text/plain": [
       "count    30200.000000\n",
       "mean        15.322813\n",
       "std         20.280452\n",
       "min          0.227086\n",
       "25%          3.613838\n",
       "50%          6.998992\n",
       "75%         18.759643\n",
       "max        174.630000\n",
       "Name: 월납부요금, dtype: float64"
      ]
     },
     "execution_count": 75,
     "metadata": {},
     "output_type": "execute_result"
    }
   ],
   "source": [
    "train['월납부요금'].describe()"
   ]
  },
  {
   "cell_type": "code",
   "execution_count": 76,
   "id": "00939a0f-2294-4267-92f1-067f5d9494c9",
   "metadata": {
    "tags": []
   },
   "outputs": [
    {
     "data": {
      "text/plain": [
       "전화해지여부  월납부요금구간\n",
       "0       4          224\n",
       "1       4           14\n",
       "dtype: int64"
      ]
     },
     "execution_count": 76,
     "metadata": {},
     "output_type": "execute_result"
    }
   ],
   "source": [
    "train[['전화해지여부','월납부요금구간']][train['월납부요금구간']==4].value_counts().sort_index()"
   ]
  },
  {
   "cell_type": "code",
   "execution_count": 77,
   "id": "db1faff8-0374-43c7-8561-f2145f8983ed",
   "metadata": {
    "tags": []
   },
   "outputs": [
    {
     "data": {
      "text/plain": [
       "count     14.000000\n",
       "mean     127.407143\n",
       "std        7.770928\n",
       "min      118.970000\n",
       "25%      120.302500\n",
       "50%      128.380000\n",
       "75%      130.575000\n",
       "max      139.740000\n",
       "Name: 월납부요금, dtype: float64"
      ]
     },
     "execution_count": 77,
     "metadata": {},
     "output_type": "execute_result"
    }
   ],
   "source": [
    "train['월납부요금'][(train['월납부요금구간']==4) & (train['전화해지여부']==1)].sort_values().describe()"
   ]
  },
  {
   "cell_type": "code",
   "execution_count": 78,
   "id": "744cd334-8fc1-4d42-ad97-a651c86c1f47",
   "metadata": {
    "tags": []
   },
   "outputs": [
    {
     "data": {
      "text/plain": [
       "count    224.000000\n",
       "mean     127.225612\n",
       "std        6.950327\n",
       "min      116.580000\n",
       "25%      120.740000\n",
       "50%      126.565000\n",
       "75%      132.035000\n",
       "max      144.709000\n",
       "Name: 월납부요금, dtype: float64"
      ]
     },
     "execution_count": 78,
     "metadata": {},
     "output_type": "execute_result"
    }
   ],
   "source": [
    "train['월납부요금'][(train['월납부요금구간']==4) & (train['전화해지여부']==0)].sort_values().describe()"
   ]
  },
  {
   "cell_type": "markdown",
   "id": "5f46225f-b36d-4705-a57a-2b3862945172",
   "metadata": {},
   "source": [
    "### heatmap"
   ]
  },
  {
   "cell_type": "code",
   "execution_count": 79,
   "id": "321f9379-19b4-4074-a050-1e5885893190",
   "metadata": {
    "tags": []
   },
   "outputs": [
    {
     "name": "stdout",
     "output_type": "stream",
     "text": [
      "['가입일' '가입기간월' '가입기간주' '가입월' '가입기간년'] ['월통화시간' '월통화횟수' '월납부요금' '월납부요금구간']\n"
     ]
    }
   ],
   "source": [
    "large_col = train.corr().nlargest(5, '가입일').index.values\n",
    "small_col = train.corr().nsmallest(4, '가입일').index.values\n",
    "print(large_col, small_col)"
   ]
  },
  {
   "cell_type": "markdown",
   "id": "619729d7-138e-4d03-bf03-2d0065e6765c",
   "metadata": {},
   "source": [
    "## 다중공선 select"
   ]
  },
  {
   "cell_type": "code",
   "execution_count": 80,
   "id": "130564e1-6bdc-4f96-b224-742f94da5bda",
   "metadata": {
    "tags": []
   },
   "outputs": [],
   "source": [
    "large_col = ['가입일' ,'가입기간월', '가입기간주', '가입월', '가입기간년'] \n",
    "small_col = ['월통화시간', '월통화횟수', '월납부요금', '월납부요금구간']"
   ]
  },
  {
   "cell_type": "code",
   "execution_count": 81,
   "id": "402a16a4-3b7f-434f-92f0-6c64292a7705",
   "metadata": {
    "tags": []
   },
   "outputs": [],
   "source": [
    "# fig, axes = plt.subplots(1,2,figsize=(14,5))\n",
    "\n",
    "# sns.heatmap(train[large_col].corr(), fmt=\".2f\", cmap=\"Reds\",  annot=True, ax=axes[0])\n",
    "# sns.heatmap(train[small_col].corr(), fmt=\".2f\", cmap=\"Blues\", annot=True, ax=axes[1])\n",
    "# plt.show()"
   ]
  },
  {
   "cell_type": "code",
   "execution_count": 82,
   "id": "98594c9c-792e-452b-a582-9d8738a861ec",
   "metadata": {
    "tags": []
   },
   "outputs": [],
   "source": [
    "# plt.figure(figsize=(20,20))\n",
    "# sns.heatmap(train.corr(),annot=True, fmt=\".2f\", cmap='coolwarm')"
   ]
  },
  {
   "cell_type": "code",
   "execution_count": 83,
   "id": "c9262f47-d43b-40fd-8985-3f6449d838c2",
   "metadata": {
    "tags": []
   },
   "outputs": [
    {
     "data": {
      "text/plain": [
       "Index(['가입일', '음성사서함이용', '주간통화시간', '주간통화횟수', '주간통화요금', '저녁통화시간', '저녁통화횟수',\n",
       "       '저녁통화요금', '밤통화시간', '밤통화횟수', '밤통화요금', '상담전화건수', '가입기간년', '가입기간월',\n",
       "       '가입기간주', '가입월', '총통화시간', '총통화횟수', '총통화요금', '시간당요금', '횟수당시간', '월납부요금',\n",
       "       '월통화시간', '월통화횟수', '월납부요금구간'],\n",
       "      dtype='object')"
      ]
     },
     "execution_count": 83,
     "metadata": {},
     "output_type": "execute_result"
    }
   ],
   "source": [
    "test.columns"
   ]
  },
  {
   "cell_type": "markdown",
   "id": "93951798-c72e-4523-b94d-f47188dc914d",
   "metadata": {},
   "source": [
    "### 점수"
   ]
  },
  {
   "cell_type": "markdown",
   "id": "9f819459-aeed-4fe2-abb5-f40cb0521c65",
   "metadata": {},
   "source": [
    "- 원본 넣은 것"
   ]
  },
  {
   "cell_type": "code",
   "execution_count": 84,
   "id": "f7e668ce-2b2a-4122-91fb-fc66ff4f67f6",
   "metadata": {
    "tags": []
   },
   "outputs": [
    {
     "name": "stdout",
     "output_type": "stream",
     "text": [
      "[[5218  136]\n",
      " [ 337  349]]\n",
      "정확도: 0.9217, 정밀도: 0.7196, 재현율: 0.5087, F1: 0.5961\n"
     ]
    }
   ],
   "source": [
    "y=train['전화해지여부']\n",
    "X=train.drop('전화해지여부',axis=1)\n",
    "\n",
    "X_train,X_test,y_train,y_test = train_test_split(X, y , test_size=0.2, random_state=0)\n",
    "model = ExtraTreesClassifier(max_depth=50, n_estimators=200, random_state=21)\n",
    "model.fit(X_train, y_train)\n",
    "pred = model.predict(X_test)\n",
    "\n",
    "print(  confusion_matrix(y_test,  pred)   )\n",
    "print(f\"정확도: {accuracy_score(y_test, pred):.4f}, 정밀도: {precision_score(y_test, pred):.4f}, 재현율: {recall_score(y_test, pred):.4f}, F1: {f1_score(y_test, pred):.4f}\")"
   ]
  },
  {
   "cell_type": "code",
   "execution_count": 85,
   "id": "8f5dc38a-7dfc-4a0f-8482-58f191ba2789",
   "metadata": {
    "tags": []
   },
   "outputs": [
    {
     "name": "stdout",
     "output_type": "stream",
     "text": [
      "[0.03426923 0.03650677 0.04703802 0.04234366 0.04452589 0.04267156\n",
      " 0.04207969 0.03734412 0.03985472 0.04187595 0.03786718 0.04076634\n",
      " 0.00068027 0.02404056 0.01510069 0.02130335 0.04215063 0.04043181\n",
      " 0.04164196 0.0405993  0.04197845 0.04290306 0.04340439 0.04206048\n",
      " 0.03607143 0.03748271 0.03763246 0.00537533]\n"
     ]
    },
    {
     "data": {
      "image/png": "[encoded data removed]",
      "text/plain": [
       "<Figure size 400x800 with 1 Axes>"
      ]
     },
     "metadata": {},
     "output_type": "display_data"
    }
   ],
   "source": [
    "print( model.feature_importances_ )\n",
    "plt.figure(figsize=(4,8))\n",
    "s = pd.Series(model.feature_importances_, index=X_train.columns).sort_values()\n",
    "sns.barplot(x=s.values, y=s.index)\n",
    "plt.tight_layout\n",
    "plt.show()"
   ]
  },
  {
   "cell_type": "markdown",
   "id": "a98e5d68-6467-4243-bb89-8a4a52321c3b",
   "metadata": {},
   "source": [
    "### 살릴 컬럼 선택"
   ]
  },
  {
   "cell_type": "code",
   "execution_count": 86,
   "id": "02e3e661-b6a6-40db-96f8-d7f4a97c4b22",
   "metadata": {
    "tags": []
   },
   "outputs": [],
   "source": [
    "score_df=pd.read_csv('submit(automl).csv')"
   ]
  },
  {
   "cell_type": "code",
   "execution_count": 87,
   "id": "93d93b0b-b730-4a83-8e3b-18f33811390b",
   "metadata": {
    "tags": []
   },
   "outputs": [],
   "source": [
    "score_df=score_df.drop('ID',axis=1)"
   ]
  },
  {
   "cell_type": "markdown",
   "id": "f78ae152-54e8-44a9-9f4e-eedfff86bdf5",
   "metadata": {},
   "source": [
    "<pre>\n",
    "\n",
    "select_test=test[['가입기간월', '가입기간주', '가입기간년', '가입월','총통화시간', '총통화횟수', '총통화요금','시간당요금','상담전화건수','월납부요금']].copy()"
   ]
  },
  {
   "cell_type": "code",
   "execution_count": 88,
   "id": "c8d1059b-3cfc-49cd-9c26-bbdc5036110a",
   "metadata": {
    "tags": []
   },
   "outputs": [
    {
     "data": {
      "text/plain": [
       "Index(['가입일', '음성사서함이용', '주간통화시간', '주간통화횟수', '주간통화요금', '저녁통화시간', '저녁통화횟수',\n",
       "       '저녁통화요금', '밤통화시간', '밤통화횟수', '밤통화요금', '상담전화건수', '전화해지여부', '가입기간년',\n",
       "       '가입기간월', '가입기간주', '가입월', '총통화시간', '총통화횟수', '총통화요금', '시간당요금', '횟수당시간',\n",
       "       '주간통화시간당요금', '저녁통화시간당요금', '밤통화시간당요금', '월납부요금', '월통화시간', '월통화횟수',\n",
       "       '월납부요금구간'],\n",
       "      dtype='object')"
      ]
     },
     "execution_count": 88,
     "metadata": {},
     "output_type": "execute_result"
    }
   ],
   "source": [
    "train.columns"
   ]
  },
  {
   "cell_type": "code",
   "execution_count": 89,
   "id": "1eca7fc5-ece4-4955-aba8-84cd32458885",
   "metadata": {
    "tags": []
   },
   "outputs": [],
   "source": [
    "# select_train=train[['가입기간월', '가입기간주', '가입기간년', '가입월','월통화시간', '월통화횟수','시간당요금','상담전화건수','월납부요금','월납부요금구간','전화해지여부']].copy()\n",
    "# select_test=test[['가입기간월', '가입기간주', '가입기간년', '가입월','월통화시간', '월통화횟수','시간당요금','상담전화건수','월납부요금','월납부요금구간']].copy()"
   ]
  },
  {
   "cell_type": "code",
   "execution_count": 90,
   "id": "033529f3-93a0-4775-9ead-072e01310d51",
   "metadata": {
    "tags": []
   },
   "outputs": [],
   "source": [
    "# select_train=train[['밤통화시간', '밤통화횟수', '밤통화요금', '상담전화건수', '가입기간년', '가입기간월','가입월','월통화시간','월납부요금구간','전화해지여부']].copy()\n",
    "# select_test=test[['밤통화시간', '밤통화횟수', '밤통화요금', '상담전화건수', '가입기간년', '가입기간월','가입월','월통화시간','월납부요금구간']].copy()"
   ]
  },
  {
   "cell_type": "code",
   "execution_count": 91,
   "id": "83c790d2-dd9c-4e82-a4de-5109138827bc",
   "metadata": {
    "tags": []
   },
   "outputs": [],
   "source": [
    "# select_train=train[[ '주간통화시간', '주간통화횟수', '주간통화요금', '저녁통화시간', '저녁통화횟수','저녁통화요금','밤통화시간', '밤통화횟수', '밤통화요금', '상담전화건수',  '가입기간월','월통화시간','월납부요금','전화해지여부']].copy()\n",
    "# select_test=test[[ '주간통화시간', '주간통화횟수', '주간통화요금', '저녁통화시간', '저녁통화횟수','저녁통화요금','밤통화시간', '밤통화횟수', '밤통화요금', '상담전화건수',  '가입기간월','월통화시간','월납부요금']].copy()"
   ]
  },
  {
   "cell_type": "code",
   "execution_count": 92,
   "id": "f0733578-3e56-4a70-8e37-7745c180b3a0",
   "metadata": {
    "tags": []
   },
   "outputs": [],
   "source": [
    "# select_train=train[[ '주간통화시간', '주간통화횟수', '주간통화요금', '저녁통화시간', '저녁통화횟수','저녁통화요금','밤통화시간', '밤통화횟수', '밤통화요금', '상담전화건수',  '가입기간월','월납부요금구간','전화해지여부']].copy()\n",
    "# select_test=test[[ '주간통화시간', '주간통화횟수', '주간통화요금', '저녁통화시간', '저녁통화횟수','저녁통화요금','밤통화시간', '밤통화횟수', '밤통화요금', '상담전화건수',  '가입기간월','월납부요금구간']].copy()"
   ]
  },
  {
   "cell_type": "code",
   "execution_count": 93,
   "id": "b3af5655-c995-4da0-b218-4e75f48dfdf4",
   "metadata": {
    "tags": []
   },
   "outputs": [],
   "source": [
    "select_train=train[['음성사서함이용','주간통화시간', '주간통화횟수', '주간통화요금', '저녁통화시간', '저녁통화횟수','저녁통화요금', '밤통화시간', '밤통화횟수', '밤통화요금', '상담전화건수',  '가입기간월','월통화시간','횟수당시간','월납부요금','전화해지여부']].copy()\n",
    "select_test=test[['음성사서함이용','주간통화시간', '주간통화횟수', '주간통화요금', '저녁통화시간', '저녁통화횟수','저녁통화요금',  '밤통화시간', '밤통화횟수', '밤통화요금', '상담전화건수',  '가입기간월','월통화시간','횟수당시간','월납부요금']].copy()"
   ]
  },
  {
   "cell_type": "code",
   "execution_count": 94,
   "id": "d540d1da-c37f-4bdb-bd06-e347c770646e",
   "metadata": {},
   "outputs": [
    {
     "data": {
      "text/plain": [
       "<AxesSubplot: >"
      ]
     },
     "execution_count": 94,
     "metadata": {},
     "output_type": "execute_result"
    },
    {
     "data": {
      "image/png": "[encoded data removed]",
      "text/plain": [
       "<Figure size 640x480 with 2 Axes>"
      ]
     },
     "metadata": {},
     "output_type": "display_data"
    }
   ],
   "source": [
    "sns.heatmap(select_train.corr(),annot=True, fmt=\".2f\", cmap='coolwarm')"
   ]
  },
  {
   "cell_type": "code",
   "execution_count": 95,
   "id": "4dbbd1b3-c55c-4037-a084-3a03b950a2d9",
   "metadata": {
    "tags": []
   },
   "outputs": [
    {
     "name": "stdout",
     "output_type": "stream",
     "text": [
      "[[5237  119]\n",
      " [ 354  330]]\n",
      "정확도: 0.9217, 정밀도: 0.7350, 재현율: 0.4825, F1: 0.5825\n"
     ]
    }
   ],
   "source": [
    "y=select_train['전화해지여부']\n",
    "# y=score_df['전화해지여부']\n",
    "X=select_train.drop('전화해지여부',axis=1)\n",
    "\n",
    "X_train,X_test,y_train,y_test = train_test_split(X, y , test_size=0.2, random_state=21)\n",
    "model = ExtraTreesClassifier(max_depth=50, n_estimators=200, random_state=21)\n",
    "model.fit(X_train, y_train)\n",
    "pred = model.predict(X_test)\n",
    "\n",
    "print(  confusion_matrix(y_test,  pred)   )\n",
    "print(f\"정확도: {accuracy_score(y_test, pred):.4f}, 정밀도: {precision_score(y_test, pred):.4f}, 재현율: {recall_score(y_test, pred):.4f}, F1: {f1_score(y_test, pred):.4f}\")"
   ]
  },
  {
   "cell_type": "code",
   "execution_count": 96,
   "id": "0e4db71c-2a6c-44b8-a53c-e0c08c9cd4e1",
   "metadata": {
    "tags": []
   },
   "outputs": [
    {
     "name": "stdout",
     "output_type": "stream",
     "text": [
      "[0.0499069  0.08105547 0.07160509 0.07674451 0.07486007 0.06852541\n",
      " 0.06404457 0.07103998 0.06935898 0.06550824 0.0481353  0.04980097\n",
      " 0.06852294 0.07379425 0.06709731]\n"
     ]
    },
    {
     "data": {
      "image/png": "[encoded data removed]",
      "text/plain": [
       "<Figure size 400x500 with 1 Axes>"
      ]
     },
     "metadata": {},
     "output_type": "display_data"
    }
   ],
   "source": [
    "print( model.feature_importances_ )\n",
    "plt.figure(figsize=(4,5))\n",
    "s = pd.Series(model.feature_importances_, index=X_train.columns).sort_values()\n",
    "sns.barplot(x=s.values, y=s.index)\n",
    "plt.tight_layout\n",
    "plt.show()"
   ]
  },
  {
   "cell_type": "code",
   "execution_count": null,
   "id": "9e9f2f8c-76ba-4e87-8179-162ede2f51dc",
   "metadata": {},
   "outputs": [],
   "source": []
  },
  {
   "cell_type": "markdown",
   "id": "95765296-6594-4d21-85ce-65e07dc4ba24",
   "metadata": {
    "tags": []
   },
   "source": [
    "### over"
   ]
  },
  {
   "cell_type": "markdown",
   "id": "81d3ebd9-ebde-474d-9a2f-5cae50cebfec",
   "metadata": {},
   "source": [
    "- RandomOverSampler"
   ]
  },
  {
   "cell_type": "code",
   "execution_count": 97,
   "id": "e8b7f0c7-293c-44e6-9ed7-ee35260266b8",
   "metadata": {
    "tags": []
   },
   "outputs": [
    {
     "name": "stdout",
     "output_type": "stream",
     "text": [
      "45699 45699\n"
     ]
    },
    {
     "data": {
      "text/plain": [
       "0    26882\n",
       "1    18817\n",
       "Name: 전화해지여부, dtype: int64"
      ]
     },
     "execution_count": 97,
     "metadata": {},
     "output_type": "execute_result"
    }
   ],
   "source": [
    "from imblearn.over_sampling import SMOTE,RandomOverSampler\n",
    "\n",
    "# y = select_train['전화해지여부']\n",
    "y= select_train['전화해지여부']\n",
    "X = select_train.drop(['전화해지여부'], axis=1)\n",
    "\n",
    "X_s, y_s = RandomOverSampler(sampling_strategy=0.7, random_state=21).fit_resample(X,y)\n",
    "print(  len(X_s), len(y_s) )\n",
    "\n",
    "y_s.value_counts()"
   ]
  },
  {
   "cell_type": "code",
   "execution_count": 98,
   "id": "4ae3dff6-946c-4ee7-bf2e-752068a0fa3e",
   "metadata": {
    "tags": []
   },
   "outputs": [
    {
     "name": "stdout",
     "output_type": "stream",
     "text": [
      "[[5177  207]\n",
      " [  16 3740]]\n",
      "정확도: 0.9756, 정밀도: 0.9476, 재현율: 0.9957, F1: 0.9711\n"
     ]
    }
   ],
   "source": [
    "X_train,X_test,y_train,y_test = train_test_split(X_s, y_s , test_size=0.2, random_state=21)\n",
    "model = XGBClassifier( random_state=21,max_depth=30, n_estimators=200)\n",
    "model.fit(X_train, y_train)\n",
    "random_pred = model.predict(X_test)\n",
    "\n",
    "\n",
    "print(  confusion_matrix(y_test,  random_pred)   )\n",
    "print(f\"정확도: {accuracy_score(y_test, random_pred):.4f}, 정밀도: {precision_score(y_test, random_pred):.4f}, 재현율: {recall_score(y_test, random_pred):.4f}, F1: {f1_score(y_test, random_pred):.4f}\")"
   ]
  },
  {
   "cell_type": "code",
   "execution_count": 99,
   "id": "556fc4e2-2d20-420c-bc15-00a3a98082ac",
   "metadata": {
    "tags": []
   },
   "outputs": [
    {
     "data": {
      "text/plain": [
       "0.9657730047129722"
      ]
     },
     "execution_count": 99,
     "metadata": {},
     "output_type": "execute_result"
    }
   ],
   "source": [
    "# 0.9602101522058255\n",
    "# 0.961060032449973\n",
    "# 0.9636869350227922   # XGBClassifier( random_state=21,max_depth=50, n_estimators=200)\n",
    "# 0.9645368152669397  # XGBClassifier( random_state=21,max_depth=30, n_estimators=200)\n",
    "random_pred=model.predict(select_test)\n",
    "accuracy_score(score_df, random_pred)"
   ]
  },
  {
   "cell_type": "markdown",
   "id": "1fb154d4-b6c8-4028-8fea-64ba98666a31",
   "metadata": {},
   "source": [
    "## over-XGB"
   ]
  },
  {
   "cell_type": "code",
   "execution_count": 105,
   "id": "af628b85-0c77-4354-8097-456fd88efebf",
   "metadata": {
    "tags": []
   },
   "outputs": [
    {
     "name": "stdout",
     "output_type": "stream",
     "text": [
      "[[5177  207]\n",
      " [  16 3740]]\n",
      "정확도: 0.9756, 정밀도: 0.9476, 재현율: 0.9957, F1: 0.9711\n"
     ]
    }
   ],
   "source": [
    "y=select_train['전화해지여부']\n",
    "# y=score_df['전화해지여부']\n",
    "X=select_train.drop('전화해지여부',axis=1)\n",
    "\n",
    "X_train,X_test,y_train,y_test = train_test_split(X_s,y_s , test_size=0.2, random_state=21)\n",
    "model = XGBClassifier( random_state=21,max_depth=30, n_estimators=200)\n",
    "model.fit(X_train, y_train)\n",
    "XGB_pred = model.predict(X_test)\n",
    "XGB_pred_test=model.predict(select_test)\n",
    "\n",
    "\n",
    "print(  confusion_matrix(y_test,  XGB_pred)   )\n",
    "print(f\"정확도: {accuracy_score(y_test, XGB_pred):.4f}, 정밀도: {precision_score(y_test, XGB_pred):.4f}, 재현율: {recall_score(y_test, XGB_pred):.4f}, F1: {f1_score(y_test, XGB_pred):.4f}\")"
   ]
  },
  {
   "cell_type": "code",
   "execution_count": 106,
   "id": "e33b3bb9-737e-44a5-8e81-8411fa910b05",
   "metadata": {},
   "outputs": [
    {
     "data": {
      "text/plain": [
       "0.9657730047129722"
      ]
     },
     "execution_count": 106,
     "metadata": {},
     "output_type": "execute_result"
    }
   ],
   "source": [
    "accuracy_score(score_df, XGB_pred_test)"
   ]
  },
  {
   "cell_type": "code",
   "execution_count": 108,
   "id": "501f7291-c5ef-41ef-8703-96dab59674bc",
   "metadata": {},
   "outputs": [],
   "source": [
    "sub=pd.read_csv('sample_submission.csv')\n",
    "sub['전화해지여부']=XGB_pred_test\n",
    "sub.to_csv('submit_XGB2.csv',index=False)"
   ]
  },
  {
   "cell_type": "code",
   "execution_count": 103,
   "id": "a210d157-d28c-4d03-b687-1ba00937b88f",
   "metadata": {},
   "outputs": [
    {
     "ename": "NameError",
     "evalue": "name 'dfdfdfdf' is not defined",
     "output_type": "error",
     "traceback": [
      "\u001b[1;31m---------------------------------------------------------------------------\u001b[0m",
      "\u001b[1;31mNameError\u001b[0m                                 Traceback (most recent call last)",
      "Cell \u001b[1;32mIn[103], line 1\u001b[0m\n\u001b[1;32m----> 1\u001b[0m \u001b[43mdfdfdfdf\u001b[49m\n",
      "\u001b[1;31mNameError\u001b[0m: name 'dfdfdfdf' is not defined"
     ]
    }
   ],
   "source": [
    "dfdfdfdf"
   ]
  },
  {
   "cell_type": "markdown",
   "id": "753759fe-e2ef-407d-b424-4bb6e08aa9d0",
   "metadata": {
    "tags": []
   },
   "source": [
    "### optuna"
   ]
  },
  {
   "cell_type": "code",
   "execution_count": null,
   "id": "5f95f84b-a1df-44e9-bc8d-3408ec0f45df",
   "metadata": {
    "tags": []
   },
   "outputs": [],
   "source": [
    "y=select_train['전화해지여부']\n",
    "# y=score_df['전화해지여부']\n",
    "X=select_train.drop('전화해지여부',axis=1)\n",
    "\n",
    "X_train,X_test,y_train,y_test = train_test_split(X, y , test_size=0.2, random_state=21)\n",
    "model = XGBClassifier( random_state=21,max_depth=30, n_estimators=200)\n",
    "model.fit(X_train, y_train)\n",
    "random_pred = model.predict(X_test)\n",
    "\n",
    "\n",
    "print(  confusion_matrix(y_test,  random_pred)   )\n",
    "print(f\"정확도: {accuracy_score(y_test, random_pred):.4f}, 정밀도: {precision_score(y_test, random_pred):.4f}, 재현율: {recall_score(y_test, random_pred):.4f}, F1: {f1_score(y_test, random_pred):.4f}\")"
   ]
  },
  {
   "cell_type": "code",
   "execution_count": 112,
   "id": "f6cc4d91-5221-4584-b183-367e22cbf311",
   "metadata": {
    "tags": []
   },
   "outputs": [],
   "source": [
    "import optuna"
   ]
  },
  {
   "cell_type": "code",
   "execution_count": 113,
   "id": "e22e98e9-b3d7-4e18-9753-5cbe729078b0",
   "metadata": {
    "tags": []
   },
   "outputs": [],
   "source": [
    "def my_objective_XGB(trial, data=X_train, target=y_train):\n",
    "    \n",
    "    #train_x, test_x, train_y, test_y = train_test_split(data, target, test_size=0.2,random_state=42)\n",
    "    param = {\n",
    "        'metric': 'rmse', \n",
    "        'random_state': 21,\n",
    "        'n_estimators': 200,  #100\n",
    "        'reg_alpha' : trial.suggest_float('reg_alpha', 1e-2, 10.0),\n",
    "        'reg_lambda': trial.suggest_float('reg_lambda', 1e-2, 10.0),  #reg_alpha=0.0\n",
    "        'learning_rate': trial.suggest_loguniform('learning_rate', 0.01,0.1),\n",
    "        'max_depth': trial.suggest_categorical('max_depth', [1,30]),\n",
    "        #'colsample_bytree': trial.suggest_categorical('colsample_bytree', [0.3,0.4,0.5,0.6,0.7,0.8,0.9, 1.0]),\n",
    "        #'subsample': trial.suggest_categorical('subsample', [0.4,0.5,0.6,0.7,0.8,1.0]),\n",
    "        #'num_leaves' : trial.suggest_int('num_leaves', 1, 1000),\n",
    "        #'min_child_samples': trial.suggest_int('min_child_samples', 1, 300),\n",
    "        #'cat_smooth' : trial.suggest_int('min_data_per_groups', 1, 100)\n",
    "    }\n",
    "    model = XGBClassifier(**param)  \n",
    "    \n",
    "    model.fit(X_train,y_train\n",
    "              ,eval_set=[(X_test,y_test)]\n",
    "              ,early_stopping_rounds=10,verbose=False)\n",
    "    pred = model.predict(X_test)\n",
    "    \n",
    "    rmse = f1_score(y_test, pred)\n",
    "    return rmse"
   ]
  },
  {
   "cell_type": "code",
   "execution_count": 114,
   "id": "90700204-967c-4182-8043-3ae17412754f",
   "metadata": {
    "tags": []
   },
   "outputs": [
    {
     "name": "stderr",
     "output_type": "stream",
     "text": [
      "\u001b[32m[I 2023-03-26 18:11:32,879]\u001b[0m A new study created in memory with name: no-name-a10ea066-9d5e-49f1-bc34-d13e21ccddc8\u001b[0m\n"
     ]
    },
    {
     "name": "stdout",
     "output_type": "stream",
     "text": [
      "[18:11:32] WARNING: C:/buildkite-agent/builds/buildkite-windows-cpu-autoscaling-group-i-0fc7796c793e6356f-1/xgboost/xgboost-ci-windows/src/learner.cc:767: \n",
      "Parameters: { \"metric\" } are not used.\n",
      "\n"
     ]
    },
    {
     "name": "stderr",
     "output_type": "stream",
     "text": [
      "\u001b[32m[I 2023-03-26 18:11:48,001]\u001b[0m Trial 0 finished with value: 0.942204827136334 and parameters: {'reg_alpha': 9.827029030341999, 'reg_lambda': 7.4435120559694825, 'learning_rate': 0.01993986127946051, 'max_depth': 30}. Best is trial 0 with value: 0.942204827136334.\u001b[0m\n"
     ]
    },
    {
     "name": "stdout",
     "output_type": "stream",
     "text": [
      "[18:11:48] WARNING: C:/buildkite-agent/builds/buildkite-windows-cpu-autoscaling-group-i-0fc7796c793e6356f-1/xgboost/xgboost-ci-windows/src/learner.cc:767: \n",
      "Parameters: { \"metric\" } are not used.\n",
      "\n"
     ]
    },
    {
     "name": "stderr",
     "output_type": "stream",
     "text": [
      "\u001b[32m[I 2023-03-26 18:12:04,292]\u001b[0m Trial 1 finished with value: 0.9514613778705636 and parameters: {'reg_alpha': 2.7955368739105606, 'reg_lambda': 9.099828640972381, 'learning_rate': 0.016556622527400495, 'max_depth': 30}. Best is trial 1 with value: 0.9514613778705636.\u001b[0m\n"
     ]
    },
    {
     "name": "stdout",
     "output_type": "stream",
     "text": [
      "[18:12:04] WARNING: C:/buildkite-agent/builds/buildkite-windows-cpu-autoscaling-group-i-0fc7796c793e6356f-1/xgboost/xgboost-ci-windows/src/learner.cc:767: \n",
      "Parameters: { \"metric\" } are not used.\n",
      "\n"
     ]
    },
    {
     "name": "stderr",
     "output_type": "stream",
     "text": [
      "\u001b[32m[I 2023-03-26 18:12:21,396]\u001b[0m Trial 2 finished with value: 0.9509138381201045 and parameters: {'reg_alpha': 5.802105140066554, 'reg_lambda': 0.3758763287377399, 'learning_rate': 0.013649685892710837, 'max_depth': 30}. Best is trial 1 with value: 0.9514613778705636.\u001b[0m\n"
     ]
    },
    {
     "name": "stdout",
     "output_type": "stream",
     "text": [
      "[18:12:21] WARNING: C:/buildkite-agent/builds/buildkite-windows-cpu-autoscaling-group-i-0fc7796c793e6356f-1/xgboost/xgboost-ci-windows/src/learner.cc:767: \n",
      "Parameters: { \"metric\" } are not used.\n",
      "\n"
     ]
    },
    {
     "name": "stderr",
     "output_type": "stream",
     "text": [
      "\u001b[32m[I 2023-03-26 18:12:22,224]\u001b[0m Trial 3 finished with value: 0.4110505014956889 and parameters: {'reg_alpha': 5.072354718811826, 'reg_lambda': 3.807477176612026, 'learning_rate': 0.04754236174502054, 'max_depth': 1}. Best is trial 1 with value: 0.9514613778705636.\u001b[0m\n"
     ]
    },
    {
     "name": "stdout",
     "output_type": "stream",
     "text": [
      "[18:12:22] WARNING: C:/buildkite-agent/builds/buildkite-windows-cpu-autoscaling-group-i-0fc7796c793e6356f-1/xgboost/xgboost-ci-windows/src/learner.cc:767: \n",
      "Parameters: { \"metric\" } are not used.\n",
      "\n"
     ]
    },
    {
     "name": "stderr",
     "output_type": "stream",
     "text": [
      "\u001b[32m[I 2023-03-26 18:12:23,020]\u001b[0m Trial 4 finished with value: 0.13132039300263598 and parameters: {'reg_alpha': 0.5577231286584391, 'reg_lambda': 2.6551264184213355, 'learning_rate': 0.015216610753247536, 'max_depth': 1}. Best is trial 1 with value: 0.9514613778705636.\u001b[0m\n"
     ]
    },
    {
     "name": "stdout",
     "output_type": "stream",
     "text": [
      "[18:12:23] WARNING: C:/buildkite-agent/builds/buildkite-windows-cpu-autoscaling-group-i-0fc7796c793e6356f-1/xgboost/xgboost-ci-windows/src/learner.cc:767: \n",
      "Parameters: { \"metric\" } are not used.\n",
      "\n"
     ]
    },
    {
     "name": "stderr",
     "output_type": "stream",
     "text": [
      "\u001b[32m[I 2023-03-26 18:12:41,114]\u001b[0m Trial 5 finished with value: 0.9689892305696121 and parameters: {'reg_alpha': 0.2508965104611361, 'reg_lambda': 3.140571095309741, 'learning_rate': 0.020002083483229096, 'max_depth': 30}. Best is trial 5 with value: 0.9689892305696121.\u001b[0m\n"
     ]
    },
    {
     "name": "stdout",
     "output_type": "stream",
     "text": [
      "[18:12:41] WARNING: C:/buildkite-agent/builds/buildkite-windows-cpu-autoscaling-group-i-0fc7796c793e6356f-1/xgboost/xgboost-ci-windows/src/learner.cc:767: \n",
      "Parameters: { \"metric\" } are not used.\n",
      "\n"
     ]
    },
    {
     "name": "stderr",
     "output_type": "stream",
     "text": [
      "\u001b[32m[I 2023-03-26 18:12:59,539]\u001b[0m Trial 6 finished with value: 0.9545573256724993 and parameters: {'reg_alpha': 6.275466578804222, 'reg_lambda': 2.0210042218254736, 'learning_rate': 0.01978410165645377, 'max_depth': 30}. Best is trial 5 with value: 0.9689892305696121.\u001b[0m\n"
     ]
    },
    {
     "name": "stdout",
     "output_type": "stream",
     "text": [
      "[18:12:59] WARNING: C:/buildkite-agent/builds/buildkite-windows-cpu-autoscaling-group-i-0fc7796c793e6356f-1/xgboost/xgboost-ci-windows/src/learner.cc:767: \n",
      "Parameters: { \"metric\" } are not used.\n",
      "\n"
     ]
    },
    {
     "name": "stderr",
     "output_type": "stream",
     "text": [
      "\u001b[32m[I 2023-03-26 18:13:19,027]\u001b[0m Trial 7 finished with value: 0.9617486338797814 and parameters: {'reg_alpha': 3.3655591492557515, 'reg_lambda': 5.337343114550253, 'learning_rate': 0.02206032345224887, 'max_depth': 30}. Best is trial 5 with value: 0.9689892305696121.\u001b[0m\n"
     ]
    },
    {
     "name": "stdout",
     "output_type": "stream",
     "text": [
      "[18:13:19] WARNING: C:/buildkite-agent/builds/buildkite-windows-cpu-autoscaling-group-i-0fc7796c793e6356f-1/xgboost/xgboost-ci-windows/src/learner.cc:767: \n",
      "Parameters: { \"metric\" } are not used.\n",
      "\n"
     ]
    },
    {
     "name": "stderr",
     "output_type": "stream",
     "text": [
      "\u001b[32m[I 2023-03-26 18:13:34,659]\u001b[0m Trial 8 finished with value: 0.9648827264481016 and parameters: {'reg_alpha': 9.661368392737579, 'reg_lambda': 6.6769865749113455, 'learning_rate': 0.09851704315878959, 'max_depth': 30}. Best is trial 5 with value: 0.9689892305696121.\u001b[0m\n"
     ]
    },
    {
     "name": "stdout",
     "output_type": "stream",
     "text": [
      "[18:13:34] WARNING: C:/buildkite-agent/builds/buildkite-windows-cpu-autoscaling-group-i-0fc7796c793e6356f-1/xgboost/xgboost-ci-windows/src/learner.cc:767: \n",
      "Parameters: { \"metric\" } are not used.\n",
      "\n"
     ]
    },
    {
     "name": "stderr",
     "output_type": "stream",
     "text": [
      "\u001b[32m[I 2023-03-26 18:13:35,532]\u001b[0m Trial 9 finished with value: 0.15822637106184365 and parameters: {'reg_alpha': 2.4508887980748164, 'reg_lambda': 6.05203655048835, 'learning_rate': 0.021986698946325874, 'max_depth': 1}. Best is trial 5 with value: 0.9689892305696121.\u001b[0m\n"
     ]
    },
    {
     "name": "stdout",
     "output_type": "stream",
     "text": [
      "[18:13:35] WARNING: C:/buildkite-agent/builds/buildkite-windows-cpu-autoscaling-group-i-0fc7796c793e6356f-1/xgboost/xgboost-ci-windows/src/learner.cc:767: \n",
      "Parameters: { \"metric\" } are not used.\n",
      "\n"
     ]
    },
    {
     "name": "stderr",
     "output_type": "stream",
     "text": [
      "\u001b[32m[I 2023-03-26 18:13:56,439]\u001b[0m Trial 10 finished with value: 0.9603626943005182 and parameters: {'reg_alpha': 0.1350513018312567, 'reg_lambda': 4.104773206104625, 'learning_rate': 0.010746320143228696, 'max_depth': 30}. Best is trial 5 with value: 0.9689892305696121.\u001b[0m\n"
     ]
    },
    {
     "name": "stdout",
     "output_type": "stream",
     "text": [
      "[18:13:56] WARNING: C:/buildkite-agent/builds/buildkite-windows-cpu-autoscaling-group-i-0fc7796c793e6356f-1/xgboost/xgboost-ci-windows/src/learner.cc:767: \n",
      "Parameters: { \"metric\" } are not used.\n",
      "\n"
     ]
    },
    {
     "name": "stderr",
     "output_type": "stream",
     "text": [
      "\u001b[32m[I 2023-03-26 18:14:14,538]\u001b[0m Trial 11 finished with value: 0.9614636045153757 and parameters: {'reg_alpha': 9.76374391032332, 'reg_lambda': 6.76552256377597, 'learning_rate': 0.06407792975439276, 'max_depth': 30}. Best is trial 5 with value: 0.9689892305696121.\u001b[0m\n"
     ]
    },
    {
     "name": "stdout",
     "output_type": "stream",
     "text": [
      "[18:14:14] WARNING: C:/buildkite-agent/builds/buildkite-windows-cpu-autoscaling-group-i-0fc7796c793e6356f-1/xgboost/xgboost-ci-windows/src/learner.cc:767: \n",
      "Parameters: { \"metric\" } are not used.\n",
      "\n"
     ]
    },
    {
     "name": "stderr",
     "output_type": "stream",
     "text": [
      "\u001b[32m[I 2023-03-26 18:14:30,776]\u001b[0m Trial 12 finished with value: 0.9658751784092385 and parameters: {'reg_alpha': 7.326576220157833, 'reg_lambda': 4.949873460313893, 'learning_rate': 0.0821021974772782, 'max_depth': 30}. Best is trial 5 with value: 0.9689892305696121.\u001b[0m\n"
     ]
    },
    {
     "name": "stdout",
     "output_type": "stream",
     "text": [
      "[18:14:30] WARNING: C:/buildkite-agent/builds/buildkite-windows-cpu-autoscaling-group-i-0fc7796c793e6356f-1/xgboost/xgboost-ci-windows/src/learner.cc:767: \n",
      "Parameters: { \"metric\" } are not used.\n",
      "\n"
     ]
    },
    {
     "name": "stderr",
     "output_type": "stream",
     "text": [
      "\u001b[32m[I 2023-03-26 18:14:48,563]\u001b[0m Trial 13 finished with value: 0.9622028834913624 and parameters: {'reg_alpha': 6.572938442691202, 'reg_lambda': 3.9327608830719667, 'learning_rate': 0.03239057211365867, 'max_depth': 30}. Best is trial 5 with value: 0.9689892305696121.\u001b[0m\n"
     ]
    },
    {
     "name": "stdout",
     "output_type": "stream",
     "text": [
      "[18:14:48] WARNING: C:/buildkite-agent/builds/buildkite-windows-cpu-autoscaling-group-i-0fc7796c793e6356f-1/xgboost/xgboost-ci-windows/src/learner.cc:767: \n",
      "Parameters: { \"metric\" } are not used.\n",
      "\n"
     ]
    },
    {
     "name": "stderr",
     "output_type": "stream",
     "text": [
      "\u001b[32m[I 2023-03-26 18:14:49,518]\u001b[0m Trial 14 finished with value: 0.17307249712313005 and parameters: {'reg_alpha': 7.713117950988285, 'reg_lambda': 5.0226251304642355, 'learning_rate': 0.028961193468639543, 'max_depth': 1}. Best is trial 5 with value: 0.9689892305696121.\u001b[0m\n"
     ]
    },
    {
     "name": "stdout",
     "output_type": "stream",
     "text": [
      "[18:14:49] WARNING: C:/buildkite-agent/builds/buildkite-windows-cpu-autoscaling-group-i-0fc7796c793e6356f-1/xgboost/xgboost-ci-windows/src/learner.cc:767: \n",
      "Parameters: { \"metric\" } are not used.\n",
      "\n"
     ]
    },
    {
     "name": "stderr",
     "output_type": "stream",
     "text": [
      "\u001b[32m[I 2023-03-26 18:15:04,933]\u001b[0m Trial 15 finished with value: 0.9690133540775314 and parameters: {'reg_alpha': 3.9437778638081427, 'reg_lambda': 2.4862564492603907, 'learning_rate': 0.09175746472615812, 'max_depth': 30}. Best is trial 15 with value: 0.9690133540775314.\u001b[0m\n"
     ]
    },
    {
     "name": "stdout",
     "output_type": "stream",
     "text": [
      "[18:15:04] WARNING: C:/buildkite-agent/builds/buildkite-windows-cpu-autoscaling-group-i-0fc7796c793e6356f-1/xgboost/xgboost-ci-windows/src/learner.cc:767: \n",
      "Parameters: { \"metric\" } are not used.\n",
      "\n"
     ]
    },
    {
     "name": "stderr",
     "output_type": "stream",
     "text": [
      "\u001b[32m[I 2023-03-26 18:15:22,210]\u001b[0m Trial 16 finished with value: 0.9705309619628717 and parameters: {'reg_alpha': 1.1732381322517136, 'reg_lambda': 1.8615155198408215, 'learning_rate': 0.04854993265585768, 'max_depth': 30}. Best is trial 16 with value: 0.9705309619628717.\u001b[0m\n"
     ]
    },
    {
     "name": "stdout",
     "output_type": "stream",
     "text": [
      "[18:15:22] WARNING: C:/buildkite-agent/builds/buildkite-windows-cpu-autoscaling-group-i-0fc7796c793e6356f-1/xgboost/xgboost-ci-windows/src/learner.cc:767: \n",
      "Parameters: { \"metric\" } are not used.\n",
      "\n"
     ]
    },
    {
     "name": "stderr",
     "output_type": "stream",
     "text": [
      "\u001b[32m[I 2023-03-26 18:15:38,503]\u001b[0m Trial 17 finished with value: 0.9696340513885283 and parameters: {'reg_alpha': 4.272168413761175, 'reg_lambda': 1.1918706818001459, 'learning_rate': 0.052043443147045565, 'max_depth': 30}. Best is trial 16 with value: 0.9705309619628717.\u001b[0m\n"
     ]
    },
    {
     "name": "stdout",
     "output_type": "stream",
     "text": [
      "[18:15:38] WARNING: C:/buildkite-agent/builds/buildkite-windows-cpu-autoscaling-group-i-0fc7796c793e6356f-1/xgboost/xgboost-ci-windows/src/learner.cc:767: \n",
      "Parameters: { \"metric\" } are not used.\n",
      "\n"
     ]
    },
    {
     "name": "stderr",
     "output_type": "stream",
     "text": [
      "\u001b[32m[I 2023-03-26 18:15:39,347]\u001b[0m Trial 18 finished with value: 0.4113600282236726 and parameters: {'reg_alpha': 1.8127744086205801, 'reg_lambda': 0.12498656733673252, 'learning_rate': 0.04782454743883847, 'max_depth': 1}. Best is trial 16 with value: 0.9705309619628717.\u001b[0m\n"
     ]
    },
    {
     "name": "stdout",
     "output_type": "stream",
     "text": [
      "[18:15:39] WARNING: C:/buildkite-agent/builds/buildkite-windows-cpu-autoscaling-group-i-0fc7796c793e6356f-1/xgboost/xgboost-ci-windows/src/learner.cc:767: \n",
      "Parameters: { \"metric\" } are not used.\n",
      "\n"
     ]
    },
    {
     "name": "stderr",
     "output_type": "stream",
     "text": [
      "\u001b[32m[I 2023-03-26 18:15:55,965]\u001b[0m Trial 19 finished with value: 0.9684865776163922 and parameters: {'reg_alpha': 4.507335849567488, 'reg_lambda': 1.4483350499642798, 'learning_rate': 0.048883354324664854, 'max_depth': 30}. Best is trial 16 with value: 0.9705309619628717.\u001b[0m\n"
     ]
    },
    {
     "name": "stdout",
     "output_type": "stream",
     "text": [
      "[18:15:56] WARNING: C:/buildkite-agent/builds/buildkite-windows-cpu-autoscaling-group-i-0fc7796c793e6356f-1/xgboost/xgboost-ci-windows/src/learner.cc:767: \n",
      "Parameters: { \"metric\" } are not used.\n",
      "\n"
     ]
    },
    {
     "name": "stderr",
     "output_type": "stream",
     "text": [
      "\u001b[32m[I 2023-03-26 18:16:12,037]\u001b[0m Trial 20 finished with value: 0.9706645898234684 and parameters: {'reg_alpha': 1.5353795949620825, 'reg_lambda': 1.4064253840352807, 'learning_rate': 0.06772111167189293, 'max_depth': 30}. Best is trial 20 with value: 0.9706645898234684.\u001b[0m\n"
     ]
    },
    {
     "name": "stdout",
     "output_type": "stream",
     "text": [
      "[18:16:12] WARNING: C:/buildkite-agent/builds/buildkite-windows-cpu-autoscaling-group-i-0fc7796c793e6356f-1/xgboost/xgboost-ci-windows/src/learner.cc:767: \n",
      "Parameters: { \"metric\" } are not used.\n",
      "\n"
     ]
    },
    {
     "name": "stderr",
     "output_type": "stream",
     "text": [
      "\u001b[32m[I 2023-03-26 18:16:28,267]\u001b[0m Trial 21 finished with value: 0.971198754540737 and parameters: {'reg_alpha': 1.393754614093051, 'reg_lambda': 1.2778152725891658, 'learning_rate': 0.06666128381787917, 'max_depth': 30}. Best is trial 21 with value: 0.971198754540737.\u001b[0m\n"
     ]
    },
    {
     "name": "stdout",
     "output_type": "stream",
     "text": [
      "[18:16:28] WARNING: C:/buildkite-agent/builds/buildkite-windows-cpu-autoscaling-group-i-0fc7796c793e6356f-1/xgboost/xgboost-ci-windows/src/learner.cc:767: \n",
      "Parameters: { \"metric\" } are not used.\n",
      "\n"
     ]
    },
    {
     "name": "stderr",
     "output_type": "stream",
     "text": [
      "\u001b[32m[I 2023-03-26 18:16:44,073]\u001b[0m Trial 22 finished with value: 0.9712949733731653 and parameters: {'reg_alpha': 1.3708299454199624, 'reg_lambda': 1.1380141542521218, 'learning_rate': 0.0715671974539324, 'max_depth': 30}. Best is trial 22 with value: 0.9712949733731653.\u001b[0m\n"
     ]
    },
    {
     "name": "stdout",
     "output_type": "stream",
     "text": [
      "[18:16:44] WARNING: C:/buildkite-agent/builds/buildkite-windows-cpu-autoscaling-group-i-0fc7796c793e6356f-1/xgboost/xgboost-ci-windows/src/learner.cc:767: \n",
      "Parameters: { \"metric\" } are not used.\n",
      "\n"
     ]
    },
    {
     "name": "stderr",
     "output_type": "stream",
     "text": [
      "\u001b[32m[I 2023-03-26 18:17:00,350]\u001b[0m Trial 23 finished with value: 0.971933471933472 and parameters: {'reg_alpha': 1.8328425277563123, 'reg_lambda': 0.9587706115463128, 'learning_rate': 0.07287568087253825, 'max_depth': 30}. Best is trial 23 with value: 0.971933471933472.\u001b[0m\n"
     ]
    },
    {
     "name": "stdout",
     "output_type": "stream",
     "text": [
      "[18:17:00] WARNING: C:/buildkite-agent/builds/buildkite-windows-cpu-autoscaling-group-i-0fc7796c793e6356f-1/xgboost/xgboost-ci-windows/src/learner.cc:767: \n",
      "Parameters: { \"metric\" } are not used.\n",
      "\n"
     ]
    },
    {
     "name": "stderr",
     "output_type": "stream",
     "text": [
      "\u001b[32m[I 2023-03-26 18:17:15,800]\u001b[0m Trial 24 finished with value: 0.9709317415001297 and parameters: {'reg_alpha': 2.243365576190623, 'reg_lambda': 0.8743411472782416, 'learning_rate': 0.07481512552975744, 'max_depth': 30}. Best is trial 23 with value: 0.971933471933472.\u001b[0m\n"
     ]
    },
    {
     "name": "stdout",
     "output_type": "stream",
     "text": [
      "[18:17:15] WARNING: C:/buildkite-agent/builds/buildkite-windows-cpu-autoscaling-group-i-0fc7796c793e6356f-1/xgboost/xgboost-ci-windows/src/learner.cc:767: \n",
      "Parameters: { \"metric\" } are not used.\n",
      "\n"
     ]
    },
    {
     "name": "stderr",
     "output_type": "stream",
     "text": [
      "\u001b[32m[I 2023-03-26 18:17:32,366]\u001b[0m Trial 25 finished with value: 0.9714359906517788 and parameters: {'reg_alpha': 1.2396294913838333, 'reg_lambda': 0.0901200265712383, 'learning_rate': 0.062074110550722414, 'max_depth': 30}. Best is trial 23 with value: 0.971933471933472.\u001b[0m\n"
     ]
    },
    {
     "name": "stdout",
     "output_type": "stream",
     "text": [
      "[18:17:32] WARNING: C:/buildkite-agent/builds/buildkite-windows-cpu-autoscaling-group-i-0fc7796c793e6356f-1/xgboost/xgboost-ci-windows/src/learner.cc:767: \n",
      "Parameters: { \"metric\" } are not used.\n",
      "\n"
     ]
    },
    {
     "name": "stderr",
     "output_type": "stream",
     "text": [
      "\u001b[32m[I 2023-03-26 18:17:33,207]\u001b[0m Trial 26 finished with value: 0.4325068870523415 and parameters: {'reg_alpha': 0.9258271104846081, 'reg_lambda': 0.03906176345158796, 'learning_rate': 0.08632012274156553, 'max_depth': 1}. Best is trial 23 with value: 0.971933471933472.\u001b[0m\n"
     ]
    },
    {
     "name": "stdout",
     "output_type": "stream",
     "text": [
      "[18:17:33] WARNING: C:/buildkite-agent/builds/buildkite-windows-cpu-autoscaling-group-i-0fc7796c793e6356f-1/xgboost/xgboost-ci-windows/src/learner.cc:767: \n",
      "Parameters: { \"metric\" } are not used.\n",
      "\n"
     ]
    },
    {
     "name": "stderr",
     "output_type": "stream",
     "text": [
      "\u001b[32m[I 2023-03-26 18:17:49,683]\u001b[0m Trial 27 finished with value: 0.9706645898234684 and parameters: {'reg_alpha': 2.942393258541875, 'reg_lambda': 0.7576768767124583, 'learning_rate': 0.05868916071222785, 'max_depth': 30}. Best is trial 23 with value: 0.971933471933472.\u001b[0m\n"
     ]
    },
    {
     "name": "stdout",
     "output_type": "stream",
     "text": [
      "[18:17:49] WARNING: C:/buildkite-agent/builds/buildkite-windows-cpu-autoscaling-group-i-0fc7796c793e6356f-1/xgboost/xgboost-ci-windows/src/learner.cc:767: \n",
      "Parameters: { \"metric\" } are not used.\n",
      "\n"
     ]
    },
    {
     "name": "stderr",
     "output_type": "stream",
     "text": [
      "\u001b[32m[I 2023-03-26 18:18:07,500]\u001b[0m Trial 28 finished with value: 0.9715621347876898 and parameters: {'reg_alpha': 1.9167260052737292, 'reg_lambda': 0.831464292427518, 'learning_rate': 0.0992577581163347, 'max_depth': 30}. Best is trial 23 with value: 0.971933471933472.\u001b[0m\n"
     ]
    },
    {
     "name": "stdout",
     "output_type": "stream",
     "text": [
      "[18:18:07] WARNING: C:/buildkite-agent/builds/buildkite-windows-cpu-autoscaling-group-i-0fc7796c793e6356f-1/xgboost/xgboost-ci-windows/src/learner.cc:767: \n",
      "Parameters: { \"metric\" } are not used.\n",
      "\n"
     ]
    },
    {
     "name": "stderr",
     "output_type": "stream",
     "text": [
      "\u001b[32m[I 2023-03-26 18:18:23,457]\u001b[0m Trial 29 finished with value: 0.9709317415001297 and parameters: {'reg_alpha': 2.0357834911906334, 'reg_lambda': 0.13617554826336367, 'learning_rate': 0.09451527815520376, 'max_depth': 30}. Best is trial 23 with value: 0.971933471933472.\u001b[0m\n"
     ]
    },
    {
     "name": "stdout",
     "output_type": "stream",
     "text": [
      "[18:18:23] WARNING: C:/buildkite-agent/builds/buildkite-windows-cpu-autoscaling-group-i-0fc7796c793e6356f-1/xgboost/xgboost-ci-windows/src/learner.cc:767: \n",
      "Parameters: { \"metric\" } are not used.\n",
      "\n"
     ]
    },
    {
     "name": "stderr",
     "output_type": "stream",
     "text": [
      "\u001b[32m[I 2023-03-26 18:18:39,525]\u001b[0m Trial 30 finished with value: 0.9691069574247144 and parameters: {'reg_alpha': 3.368502228343619, 'reg_lambda': 2.0378265064677703, 'learning_rate': 0.08268710669718357, 'max_depth': 30}. Best is trial 23 with value: 0.971933471933472.\u001b[0m\n"
     ]
    },
    {
     "name": "stdout",
     "output_type": "stream",
     "text": [
      "[18:18:39] WARNING: C:/buildkite-agent/builds/buildkite-windows-cpu-autoscaling-group-i-0fc7796c793e6356f-1/xgboost/xgboost-ci-windows/src/learner.cc:767: \n",
      "Parameters: { \"metric\" } are not used.\n",
      "\n"
     ]
    },
    {
     "name": "stderr",
     "output_type": "stream",
     "text": [
      "\u001b[32m[I 2023-03-26 18:18:55,108]\u001b[0m Trial 31 finished with value: 0.9702944610195876 and parameters: {'reg_alpha': 1.0540074363736207, 'reg_lambda': 0.6515570268052762, 'learning_rate': 0.07489442849669595, 'max_depth': 30}. Best is trial 23 with value: 0.971933471933472.\u001b[0m\n"
     ]
    },
    {
     "name": "stdout",
     "output_type": "stream",
     "text": [
      "[18:18:55] WARNING: C:/buildkite-agent/builds/buildkite-windows-cpu-autoscaling-group-i-0fc7796c793e6356f-1/xgboost/xgboost-ci-windows/src/learner.cc:767: \n",
      "Parameters: { \"metric\" } are not used.\n",
      "\n"
     ]
    },
    {
     "name": "stderr",
     "output_type": "stream",
     "text": [
      "\u001b[32m[I 2023-03-26 18:19:10,038]\u001b[0m Trial 32 finished with value: 0.971836469824789 and parameters: {'reg_alpha': 1.8260336646077593, 'reg_lambda': 1.040074619510979, 'learning_rate': 0.0973652520103426, 'max_depth': 30}. Best is trial 23 with value: 0.971933471933472.\u001b[0m\n"
     ]
    },
    {
     "name": "stdout",
     "output_type": "stream",
     "text": [
      "[18:19:10] WARNING: C:/buildkite-agent/builds/buildkite-windows-cpu-autoscaling-group-i-0fc7796c793e6356f-1/xgboost/xgboost-ci-windows/src/learner.cc:767: \n",
      "Parameters: { \"metric\" } are not used.\n",
      "\n"
     ]
    },
    {
     "name": "stderr",
     "output_type": "stream",
     "text": [
      "\u001b[32m[I 2023-03-26 18:19:25,461]\u001b[0m Trial 33 finished with value: 0.9718291574711151 and parameters: {'reg_alpha': 2.447903967371354, 'reg_lambda': 0.6887284520625152, 'learning_rate': 0.09415201365452552, 'max_depth': 30}. Best is trial 23 with value: 0.971933471933472.\u001b[0m\n"
     ]
    },
    {
     "name": "stdout",
     "output_type": "stream",
     "text": [
      "[18:19:25] WARNING: C:/buildkite-agent/builds/buildkite-windows-cpu-autoscaling-group-i-0fc7796c793e6356f-1/xgboost/xgboost-ci-windows/src/learner.cc:767: \n",
      "Parameters: { \"metric\" } are not used.\n",
      "\n"
     ]
    },
    {
     "name": "stderr",
     "output_type": "stream",
     "text": [
      "\u001b[32m[I 2023-03-26 18:19:40,651]\u001b[0m Trial 34 finished with value: 0.9714359906517788 and parameters: {'reg_alpha': 2.6501633869262986, 'reg_lambda': 0.6930790969188831, 'learning_rate': 0.09689186380509028, 'max_depth': 30}. Best is trial 23 with value: 0.971933471933472.\u001b[0m\n"
     ]
    },
    {
     "name": "stdout",
     "output_type": "stream",
     "text": [
      "[18:19:40] WARNING: C:/buildkite-agent/builds/buildkite-windows-cpu-autoscaling-group-i-0fc7796c793e6356f-1/xgboost/xgboost-ci-windows/src/learner.cc:767: \n",
      "Parameters: { \"metric\" } are not used.\n",
      "\n"
     ]
    },
    {
     "name": "stderr",
     "output_type": "stream",
     "text": [
      "\u001b[32m[I 2023-03-26 18:19:56,154]\u001b[0m Trial 35 finished with value: 0.9710577547047372 and parameters: {'reg_alpha': 2.059953017541427, 'reg_lambda': 1.7397359783985933, 'learning_rate': 0.08154611733944674, 'max_depth': 30}. Best is trial 23 with value: 0.971933471933472.\u001b[0m\n"
     ]
    },
    {
     "name": "stdout",
     "output_type": "stream",
     "text": [
      "[18:19:56] WARNING: C:/buildkite-agent/builds/buildkite-windows-cpu-autoscaling-group-i-0fc7796c793e6356f-1/xgboost/xgboost-ci-windows/src/learner.cc:767: \n",
      "Parameters: { \"metric\" } are not used.\n",
      "\n"
     ]
    },
    {
     "name": "stderr",
     "output_type": "stream",
     "text": [
      "\u001b[32m[I 2023-03-26 18:19:57,013]\u001b[0m Trial 36 finished with value: 0.43545345448311334 and parameters: {'reg_alpha': 0.6961136950898219, 'reg_lambda': 2.561404983891496, 'learning_rate': 0.09724377036960977, 'max_depth': 1}. Best is trial 23 with value: 0.971933471933472.\u001b[0m\n"
     ]
    },
    {
     "name": "stdout",
     "output_type": "stream",
     "text": [
      "[18:19:57] WARNING: C:/buildkite-agent/builds/buildkite-windows-cpu-autoscaling-group-i-0fc7796c793e6356f-1/xgboost/xgboost-ci-windows/src/learner.cc:767: \n",
      "Parameters: { \"metric\" } are not used.\n",
      "\n"
     ]
    },
    {
     "name": "stderr",
     "output_type": "stream",
     "text": [
      "\u001b[32m[I 2023-03-26 18:20:14,454]\u001b[0m Trial 37 finished with value: 0.9721933471933472 and parameters: {'reg_alpha': 0.03175549291828994, 'reg_lambda': 3.318126290683087, 'learning_rate': 0.07936291701278497, 'max_depth': 30}. Best is trial 37 with value: 0.9721933471933472.\u001b[0m\n"
     ]
    },
    {
     "name": "stdout",
     "output_type": "stream",
     "text": [
      "[18:20:14] WARNING: C:/buildkite-agent/builds/buildkite-windows-cpu-autoscaling-group-i-0fc7796c793e6356f-1/xgboost/xgboost-ci-windows/src/learner.cc:767: \n",
      "Parameters: { \"metric\" } are not used.\n",
      "\n"
     ]
    },
    {
     "name": "stderr",
     "output_type": "stream",
     "text": [
      "\u001b[32m[I 2023-03-26 18:20:34,247]\u001b[0m Trial 38 finished with value: 0.9720670391061452 and parameters: {'reg_alpha': 0.09807550362635542, 'reg_lambda': 3.020239554404461, 'learning_rate': 0.07823445062504941, 'max_depth': 30}. Best is trial 37 with value: 0.9721933471933472.\u001b[0m\n"
     ]
    },
    {
     "name": "stdout",
     "output_type": "stream",
     "text": [
      "[18:20:34] WARNING: C:/buildkite-agent/builds/buildkite-windows-cpu-autoscaling-group-i-0fc7796c793e6356f-1/xgboost/xgboost-ci-windows/src/learner.cc:767: \n",
      "Parameters: { \"metric\" } are not used.\n",
      "\n"
     ]
    },
    {
     "name": "stderr",
     "output_type": "stream",
     "text": [
      "\u001b[32m[I 2023-03-26 18:20:53,922]\u001b[0m Trial 39 finished with value: 0.972572468477837 and parameters: {'reg_alpha': 0.04696483347222635, 'reg_lambda': 3.1882681449012193, 'learning_rate': 0.05760628178535922, 'max_depth': 30}. Best is trial 39 with value: 0.972572468477837.\u001b[0m\n"
     ]
    },
    {
     "name": "stdout",
     "output_type": "stream",
     "text": [
      "[18:20:53] WARNING: C:/buildkite-agent/builds/buildkite-windows-cpu-autoscaling-group-i-0fc7796c793e6356f-1/xgboost/xgboost-ci-windows/src/learner.cc:767: \n",
      "Parameters: { \"metric\" } are not used.\n",
      "\n"
     ]
    },
    {
     "name": "stderr",
     "output_type": "stream",
     "text": [
      "\u001b[32m[I 2023-03-26 18:20:54,750]\u001b[0m Trial 40 finished with value: 0.4164912280701754 and parameters: {'reg_alpha': 0.04588695715318527, 'reg_lambda': 3.574403152655992, 'learning_rate': 0.058456178676695066, 'max_depth': 1}. Best is trial 39 with value: 0.972572468477837.\u001b[0m\n"
     ]
    },
    {
     "name": "stdout",
     "output_type": "stream",
     "text": [
      "[18:20:54] WARNING: C:/buildkite-agent/builds/buildkite-windows-cpu-autoscaling-group-i-0fc7796c793e6356f-1/xgboost/xgboost-ci-windows/src/learner.cc:767: \n",
      "Parameters: { \"metric\" } are not used.\n",
      "\n"
     ]
    },
    {
     "name": "stderr",
     "output_type": "stream",
     "text": [
      "\u001b[32m[I 2023-03-26 18:21:13,042]\u001b[0m Trial 41 finished with value: 0.9720670391061452 and parameters: {'reg_alpha': 0.5467943313707588, 'reg_lambda': 3.0952387624496227, 'learning_rate': 0.07676840960792532, 'max_depth': 30}. Best is trial 39 with value: 0.972572468477837.\u001b[0m\n"
     ]
    },
    {
     "name": "stdout",
     "output_type": "stream",
     "text": [
      "[18:21:13] WARNING: C:/buildkite-agent/builds/buildkite-windows-cpu-autoscaling-group-i-0fc7796c793e6356f-1/xgboost/xgboost-ci-windows/src/learner.cc:767: \n",
      "Parameters: { \"metric\" } are not used.\n",
      "\n"
     ]
    },
    {
     "name": "stderr",
     "output_type": "stream",
     "text": [
      "\u001b[32m[I 2023-03-26 18:21:31,293]\u001b[0m Trial 42 finished with value: 0.9718145213664112 and parameters: {'reg_alpha': 0.4613895609062494, 'reg_lambda': 3.2860326419179304, 'learning_rate': 0.07454882209198566, 'max_depth': 30}. Best is trial 39 with value: 0.972572468477837.\u001b[0m\n"
     ]
    },
    {
     "name": "stdout",
     "output_type": "stream",
     "text": [
      "[18:21:31] WARNING: C:/buildkite-agent/builds/buildkite-windows-cpu-autoscaling-group-i-0fc7796c793e6356f-1/xgboost/xgboost-ci-windows/src/learner.cc:767: \n",
      "Parameters: { \"metric\" } are not used.\n",
      "\n"
     ]
    },
    {
     "name": "stderr",
     "output_type": "stream",
     "text": [
      "\u001b[32m[I 2023-03-26 18:21:49,239]\u001b[0m Trial 43 finished with value: 0.9720815478509284 and parameters: {'reg_alpha': 0.4392354937012369, 'reg_lambda': 2.7837212197135477, 'learning_rate': 0.0587751474938434, 'max_depth': 30}. Best is trial 39 with value: 0.972572468477837.\u001b[0m\n"
     ]
    },
    {
     "name": "stdout",
     "output_type": "stream",
     "text": [
      "[18:21:49] WARNING: C:/buildkite-agent/builds/buildkite-windows-cpu-autoscaling-group-i-0fc7796c793e6356f-1/xgboost/xgboost-ci-windows/src/learner.cc:767: \n",
      "Parameters: { \"metric\" } are not used.\n",
      "\n"
     ]
    },
    {
     "name": "stderr",
     "output_type": "stream",
     "text": [
      "\u001b[32m[I 2023-03-26 18:22:07,650]\u001b[0m Trial 44 finished with value: 0.9724603793193037 and parameters: {'reg_alpha': 0.029276236011570683, 'reg_lambda': 2.965774115111222, 'learning_rate': 0.054756280097480035, 'max_depth': 30}. Best is trial 39 with value: 0.972572468477837.\u001b[0m\n"
     ]
    },
    {
     "name": "stdout",
     "output_type": "stream",
     "text": [
      "[18:22:07] WARNING: C:/buildkite-agent/builds/buildkite-windows-cpu-autoscaling-group-i-0fc7796c793e6356f-1/xgboost/xgboost-ci-windows/src/learner.cc:767: \n",
      "Parameters: { \"metric\" } are not used.\n",
      "\n"
     ]
    },
    {
     "name": "stderr",
     "output_type": "stream",
     "text": [
      "\u001b[32m[I 2023-03-26 18:22:26,197]\u001b[0m Trial 45 finished with value: 0.9717030114226376 and parameters: {'reg_alpha': 0.10784341266671198, 'reg_lambda': 4.263535918729106, 'learning_rate': 0.056610981792451394, 'max_depth': 30}. Best is trial 39 with value: 0.972572468477837.\u001b[0m\n"
     ]
    },
    {
     "name": "stdout",
     "output_type": "stream",
     "text": [
      "[18:22:26] WARNING: C:/buildkite-agent/builds/buildkite-windows-cpu-autoscaling-group-i-0fc7796c793e6356f-1/xgboost/xgboost-ci-windows/src/learner.cc:767: \n",
      "Parameters: { \"metric\" } are not used.\n",
      "\n"
     ]
    },
    {
     "name": "stderr",
     "output_type": "stream",
     "text": [
      "\u001b[32m[I 2023-03-26 18:22:44,975]\u001b[0m Trial 46 finished with value: 0.970137626590496 and parameters: {'reg_alpha': 0.6640036441241349, 'reg_lambda': 3.1980978277605416, 'learning_rate': 0.04337964503754018, 'max_depth': 30}. Best is trial 39 with value: 0.972572468477837.\u001b[0m\n"
     ]
    },
    {
     "name": "stdout",
     "output_type": "stream",
     "text": [
      "[18:22:45] WARNING: C:/buildkite-agent/builds/buildkite-windows-cpu-autoscaling-group-i-0fc7796c793e6356f-1/xgboost/xgboost-ci-windows/src/learner.cc:767: \n",
      "Parameters: { \"metric\" } are not used.\n",
      "\n"
     ]
    },
    {
     "name": "stderr",
     "output_type": "stream",
     "text": [
      "\u001b[32m[I 2023-03-26 18:23:04,397]\u001b[0m Trial 47 finished with value: 0.9716735966735965 and parameters: {'reg_alpha': 0.03102849485918846, 'reg_lambda': 2.564746286179687, 'learning_rate': 0.06359276694163749, 'max_depth': 30}. Best is trial 39 with value: 0.972572468477837.\u001b[0m\n"
     ]
    },
    {
     "name": "stdout",
     "output_type": "stream",
     "text": [
      "[18:23:04] WARNING: C:/buildkite-agent/builds/buildkite-windows-cpu-autoscaling-group-i-0fc7796c793e6356f-1/xgboost/xgboost-ci-windows/src/learner.cc:767: \n",
      "Parameters: { \"metric\" } are not used.\n",
      "\n"
     ]
    },
    {
     "name": "stderr",
     "output_type": "stream",
     "text": [
      "\u001b[32m[I 2023-03-26 18:23:25,679]\u001b[0m Trial 48 finished with value: 0.9705309619628717 and parameters: {'reg_alpha': 0.7954685162696407, 'reg_lambda': 4.29554715576558, 'learning_rate': 0.041566377730201255, 'max_depth': 30}. Best is trial 39 with value: 0.972572468477837.\u001b[0m\n"
     ]
    },
    {
     "name": "stdout",
     "output_type": "stream",
     "text": [
      "[18:23:25] WARNING: C:/buildkite-agent/builds/buildkite-windows-cpu-autoscaling-group-i-0fc7796c793e6356f-1/xgboost/xgboost-ci-windows/src/learner.cc:767: \n",
      "Parameters: { \"metric\" } are not used.\n",
      "\n"
     ]
    },
    {
     "name": "stderr",
     "output_type": "stream",
     "text": [
      "\u001b[32m[I 2023-03-26 18:23:44,040]\u001b[0m Trial 49 finished with value: 0.9715768981181051 and parameters: {'reg_alpha': 0.4796234566124631, 'reg_lambda': 2.8106922247639705, 'learning_rate': 0.055678248315079476, 'max_depth': 30}. Best is trial 39 with value: 0.972572468477837.\u001b[0m\n"
     ]
    }
   ],
   "source": [
    "\n",
    "study = optuna.create_study(direction='maximize')\n",
    "\n",
    "study.optimize(lambda trial : my_objective_XGB(trial, y_train,y_test), n_trials=50)"
   ]
  },
  {
   "cell_type": "code",
   "execution_count": 115,
   "id": "a52acc29-ef51-4ad3-92ee-4fb7cbe35a47",
   "metadata": {
    "tags": []
   },
   "outputs": [
    {
     "name": "stdout",
     "output_type": "stream",
     "text": [
      "튜닝 횟수 : 50\n",
      "-------------------\n",
      "Best param: {'reg_alpha': 0.04696483347222635, 'reg_lambda': 3.1882681449012193, 'learning_rate': 0.05760628178535922, 'max_depth': 30}\n",
      "Best param: {'reg_alpha': 0.04696483347222635, 'reg_lambda': 3.1882681449012193, 'learning_rate': 0.05760628178535922, 'max_depth': 30}\n",
      "-------------------\n",
      "Best score: 0.972572468477837\n",
      "-------------------\n"
     ]
    }
   ],
   "source": [
    "print('튜닝 횟수 :', len(study.trials))\n",
    "print(\"-------------------\")\n",
    "print('Best param:', study.best_trial.params)\n",
    "print('Best param:', study.best_params)\n",
    "print(\"-------------------\")\n",
    "print('Best score:', study.best_trial.value)\n",
    "print(\"-------------------\")\n",
    "# print('study.trials 전체 정보 :', study.trials)\n"
   ]
  },
  {
   "cell_type": "code",
   "execution_count": 116,
   "id": "23e9d7a8-9710-44c7-baab-2b4146ef57cb",
   "metadata": {
    "tags": []
   },
   "outputs": [],
   "source": [
    "# 'reg_alpha': 0.04696483347222635, 'reg_lambda': 3.1882681449012193, 'learning_rate': 0.05760628178535922, 'max_depth': 30\n",
    "model = XGBClassifier( random_state=21,max_depth=30, n_estimators=200, reg_alpha=0.04696483347222635,reg_lambda=3.1882681449012193,learning_rate=0.05760628178535922)\n",
    "model.fit(X_train, y_train)\n",
    "XGB_optuna_pred = model.predict(X_test)\n",
    "XGB_optuna_pred_test=model.predict(select_test)"
   ]
  },
  {
   "cell_type": "code",
   "execution_count": 117,
   "id": "e37d0ed6-30c3-4186-855c-095588676c05",
   "metadata": {},
   "outputs": [
    {
     "data": {
      "text/plain": [
       "0.9686316928069226"
      ]
     },
     "execution_count": 117,
     "metadata": {},
     "output_type": "execute_result"
    }
   ],
   "source": [
    "# 0.9657730047129722\n",
    "accuracy_score(score_df, XGB_optuna_pred_test)"
   ]
  },
  {
   "cell_type": "code",
   "execution_count": 118,
   "id": "e4f5b289-85e5-48fb-bfa3-912f6a24e3e4",
   "metadata": {
    "tags": []
   },
   "outputs": [],
   "source": [
    "sub=pd.read_csv('sample_submission.csv')\n",
    "sub['전화해지여부']=XGB_optuna_pred_test\n",
    "sub.to_csv('submit_XGB_optuna.csv',index=False)"
   ]
  },
  {
   "cell_type": "code",
   "execution_count": null,
   "id": "4efd3565-b765-4187-9e14-4037a7e5e510",
   "metadata": {},
   "outputs": [],
   "source": [
    "ddfdfdfdf"
   ]
  },
  {
   "cell_type": "code",
   "execution_count": null,
   "id": "3936757e-bf74-405d-9cea-543a9491587e",
   "metadata": {},
   "outputs": [],
   "source": []
  },
  {
   "cell_type": "code",
   "execution_count": null,
   "id": "e774d748-8ae4-4825-9af2-17ce497533ce",
   "metadata": {},
   "outputs": [],
   "source": []
  },
  {
   "cell_type": "code",
   "execution_count": null,
   "id": "514c6af0-21f9-49d1-9c65-110987080222",
   "metadata": {
    "tags": []
   },
   "outputs": [],
   "source": [
    "proba_c1=model.predict_proba(select_test)[:,1]\n",
    "proba_c1.shape"
   ]
  },
  {
   "cell_type": "code",
   "execution_count": null,
   "id": "9f37aae7-1ca4-4d73-8af0-0eadf7d84e7b",
   "metadata": {
    "tags": []
   },
   "outputs": [],
   "source": [
    "from sklearn.preprocessing import Binarizer"
   ]
  },
  {
   "cell_type": "code",
   "execution_count": null,
   "id": "b04fd26c-5161-4799-9040-b45600b03b4d",
   "metadata": {
    "tags": []
   },
   "outputs": [],
   "source": [
    "y=select_train['전화해지여부']\n",
    "# y=score_df['전화해지여부']\n",
    "X=select_train.drop('전화해지여부',axis=1)\n",
    "\n",
    "X_train,X_test,y_train,y_test = train_test_split(X, y , test_size=0.2, random_state=21)\n",
    "model = XGBClassifier( reg_alpha= 0.14287559555779733, reg_lambda= 0.060720058606400985, learning_rate= 0.047577368681561004, max_depth= 30)\n",
    "model.fit(X_train, y_train)\n",
    "XGB_optuna_pred = model.predict(X_test)\n",
    "\n",
    "\n",
    "print(  confusion_matrix(y_test,  XGB_optuna_pred)   )\n",
    "print(f\"정확도: {accuracy_score(y_test, XGB_optuna_pred):.4f}, 정밀도: {precision_score(y_test, XGB_optuna_pred):.4f}, 재현율: {recall_score(y_test, XGB_optuna_pred):.4f}, F1: {f1_score(y_test, XGB_optuna_pred):.4f}\")"
   ]
  },
  {
   "cell_type": "code",
   "execution_count": null,
   "id": "633e2e9f-d08b-4406-9e38-accf1e7ecb18",
   "metadata": {
    "tags": []
   },
   "outputs": [],
   "source": [
    "optuna_pred=model.predict(select_test)\n",
    "proba_c1=model.predict_proba(select_test)[:,1]"
   ]
  },
  {
   "cell_type": "code",
   "execution_count": null,
   "id": "586a00da-2183-44a3-bfdf-55b00406a646",
   "metadata": {
    "tags": []
   },
   "outputs": [],
   "source": [
    "th_list = [0.25,0.26,0.27]\n",
    "for th in th_list:\n",
    "    print(th)\n",
    "    brz = Binarizer(threshold=th)\n",
    "    th_pred = brz.fit_transform(proba_c1.reshape(-1, 1))  \n",
    "    print(confusion_matrix(score_df, th_pred))\n",
    "    print(classification_report(score_df, th_pred))\n",
    "    \n",
    "    print(accuracy_score(score_df, th_pred))\n",
    "    print(\"==\"*30)\n",
    "# 0.11 0.9626825310978907"
   ]
  },
  {
   "cell_type": "code",
   "execution_count": null,
   "id": "2685b0a0-7234-41dc-9107-458a5f08bcb6",
   "metadata": {
    "tags": []
   },
   "outputs": [],
   "source": [
    "brz = Binarizer(threshold=0.27)\n",
    "th_pred = brz.fit_transform(proba_c1.reshape(-1, 1)) "
   ]
  },
  {
   "cell_type": "code",
   "execution_count": null,
   "id": "9f703669-c9c9-46ec-b5a0-44f299e69661",
   "metadata": {
    "tags": []
   },
   "outputs": [],
   "source": [
    "accuracy_score(score_df, th_pred)"
   ]
  },
  {
   "cell_type": "code",
   "execution_count": null,
   "id": "9b4f3e6e-df29-4afd-9934-ebc8bb7b4ea7",
   "metadata": {},
   "outputs": [],
   "source": []
  },
  {
   "cell_type": "code",
   "execution_count": null,
   "id": "c4e39920-7460-4008-9b02-7173754427d2",
   "metadata": {},
   "outputs": [],
   "source": [
    "dfdfdfdfdfdf"
   ]
  },
  {
   "cell_type": "markdown",
   "id": "7dff49ff-f2e1-4cff-b4bd-a31a772db9e6",
   "metadata": {},
   "source": [
    "## automl"
   ]
  },
  {
   "cell_type": "code",
   "execution_count": 121,
   "id": "63d61780-fd5c-4ad3-adea-1859d96de765",
   "metadata": {
    "tags": []
   },
   "outputs": [],
   "source": [
    "# ! pip install autogluon"
   ]
  },
  {
   "cell_type": "code",
   "execution_count": 120,
   "id": "73a2d4d8-4bd2-4c17-9d78-0eba1d4c7352",
   "metadata": {
    "tags": []
   },
   "outputs": [
    {
     "ename": "ModuleNotFoundError",
     "evalue": "No module named 'autogluon'",
     "output_type": "error",
     "traceback": [
      "\u001b[1;31m---------------------------------------------------------------------------\u001b[0m",
      "\u001b[1;31mModuleNotFoundError\u001b[0m                       Traceback (most recent call last)",
      "Cell \u001b[1;32mIn[120], line 2\u001b[0m\n\u001b[0;32m      1\u001b[0m \u001b[38;5;28;01mimport\u001b[39;00m \u001b[38;5;21;01mpandas\u001b[39;00m \u001b[38;5;28;01mas\u001b[39;00m \u001b[38;5;21;01mpd\u001b[39;00m\n\u001b[1;32m----> 2\u001b[0m \u001b[38;5;28;01mfrom\u001b[39;00m \u001b[38;5;21;01mautogluon\u001b[39;00m\u001b[38;5;21;01m.\u001b[39;00m\u001b[38;5;21;01mtabular\u001b[39;00m \u001b[38;5;28;01mimport\u001b[39;00m TabularDataset, TabularPredictor\n",
      "\u001b[1;31mModuleNotFoundError\u001b[0m: No module named 'autogluon'"
     ]
    }
   ],
   "source": [
    "import pandas as pd\n",
    "from autogluon.tabular import TabularDataset, TabularPredictor"
   ]
  },
  {
   "cell_type": "code",
   "execution_count": null,
   "id": "8ecd0f54-6285-401a-808f-b240e0019987",
   "metadata": {},
   "outputs": [],
   "source": [
    "predictor = TabularPredictor(label='전화해지여부', eval_metric='f1_macro',).fit(train)"
   ]
  },
  {
   "cell_type": "code",
   "execution_count": null,
   "id": "8d9c62a2-8b62-4bf2-948c-1b5a066393ae",
   "metadata": {},
   "outputs": [],
   "source": [
    "ld_board = predictor.leaderboard(train, silent=True)\n",
    "\n",
    "ld_board"
   ]
  },
  {
   "cell_type": "code",
   "execution_count": null,
   "id": "317ba551-ac46-4117-a2e3-0a06650c5913",
   "metadata": {},
   "outputs": [],
   "source": [
    "pred_y = predictor.predict(test)"
   ]
  },
  {
   "cell_type": "code",
   "execution_count": null,
   "id": "7fa30420-d4fc-445c-8374-043bcb6f9a89",
   "metadata": {},
   "outputs": [],
   "source": [
    "submit = pd.DataFrame()\n",
    "\n",
    "submit['ID'] = test['ID']\n",
    "submit['전화해지여부'] = pred_y\n",
    "\n",
    "submit.to_csv('submit.csv', index=False)"
   ]
  },
  {
   "cell_type": "markdown",
   "id": "eac638e3-cdbd-4cff-9979-3b49c99ab031",
   "metadata": {},
   "source": [
    "- SMOTE"
   ]
  },
  {
   "cell_type": "code",
   "execution_count": null,
   "id": "bd74ef07-856c-4b9a-96bf-39284aa7b9ad",
   "metadata": {
    "tags": []
   },
   "outputs": [],
   "source": [
    "from imblearn.over_sampling import SMOTE\n",
    "\n",
    "# y = select_train['전화해지여부']\n",
    "y= select_train['전화해지여부']\n",
    "X = select_train.drop(['전화해지여부'], axis=1)\n",
    "\n",
    "X_s, y_s = SMOTE(sampling_strategy='auto', random_state=21).fit_resample(X,y)\n",
    "print(  len(X_s), len(y_s) )\n",
    "\n",
    "y_s.value_counts()"
   ]
  },
  {
   "cell_type": "code",
   "execution_count": null,
   "id": "faabccdd-ce57-4816-812c-27e52cf21448",
   "metadata": {
    "tags": []
   },
   "outputs": [],
   "source": [
    "print( model.feature_importances_ )\n",
    "plt.figure(figsize=(4,5))\n",
    "s = pd.Series(model.feature_importances_, index=X_train.columns).sort_values()\n",
    "sns.barplot(x=s.values, y=s.index)\n",
    "plt.tight_layout\n",
    "plt.show()"
   ]
  },
  {
   "cell_type": "code",
   "execution_count": null,
   "id": "269ca75a-a911-4546-ad05-6d04688807fd",
   "metadata": {},
   "outputs": [],
   "source": [
    "#--------------ExtraTreesClassifier-------------------"
   ]
  },
  {
   "cell_type": "code",
   "execution_count": null,
   "id": "86464d45-f64e-44ed-8ffd-8f8712bcc8ea",
   "metadata": {
    "tags": []
   },
   "outputs": [],
   "source": [
    "X_train,X_test,y_train,y_test = train_test_split(X_s, y_s , test_size=0.2, random_state=21)\n",
    "model = ExtraTreesClassifier( random_state=21,max_depth=50, n_estimators=200)\n",
    "model.fit(X_train, y_train)\n",
    "smote_pred = model.predict(X_test)\n",
    "\n",
    "\n",
    "print(  confusion_matrix(y_test,  smote_pred)   )\n",
    "print(f\"정확도: {accuracy_score(y_test, smote_pred):.4f}, 정밀도: {precision_score(y_test, smote_pred):.4f}, 재현율: {recall_score(y_test, smote_pred):.4f}, F1: {f1_score(y_test, smote_pred):.4f}\")"
   ]
  },
  {
   "cell_type": "code",
   "execution_count": null,
   "id": "39afb2ff-393b-403f-9931-087f29cb06fb",
   "metadata": {},
   "outputs": [],
   "source": [
    "smote_pred_test=model.predict(select_test)\n",
    "proba_c1=model.predict_proba(select_test)[:,1]"
   ]
  },
  {
   "cell_type": "code",
   "execution_count": null,
   "id": "93cd7493-b77e-445a-b6f6-642126995b8e",
   "metadata": {
    "tags": []
   },
   "outputs": [],
   "source": [
    "accuracy_score(score_df, smote_pred_test)"
   ]
  },
  {
   "cell_type": "code",
   "execution_count": null,
   "id": "e12e0a91-7239-4e8b-a6da-182ef6437d42",
   "metadata": {},
   "outputs": [],
   "source": [
    "#--------------VotingRegressor-------------------"
   ]
  },
  {
   "cell_type": "code",
   "execution_count": null,
   "id": "140bfbbb-94bc-4d5b-96f7-55737360fa6c",
   "metadata": {
    "tags": []
   },
   "outputs": [],
   "source": [
    "X_train,X_test,y_train,y_test = train_test_split(X_s, y_s , test_size=0.2, random_state=21)\n",
    "# model = VotingClassifier([(LGBMClassifier(random_state=21)), (RandomForestClassifier(random_state=21))])\n",
    "model=RandomForestClassifier(random_state=21)\n",
    "model.fit(X_train, y_train)\n",
    "smote_pred = model.predict(X_test)\n",
    "print(  confusion_matrix(y_test,  smote_pred)   )\n",
    "print(f\"정확도: {accuracy_score(y_test, smote_pred):.4f}, 정밀도: {precision_score(y_test, smote_pred):.4f}, 재현율: {recall_score(y_test, smote_pred):.4f}, F1: {f1_score(y_test, smote_pred):.4f}\")"
   ]
  },
  {
   "cell_type": "code",
   "execution_count": null,
   "id": "7002ccfc-5ab2-4317-a61f-0ae01544e794",
   "metadata": {
    "tags": []
   },
   "outputs": [],
   "source": [
    "smote_pred_test=model.predict(select_test)"
   ]
  },
  {
   "cell_type": "code",
   "execution_count": null,
   "id": "756a9344-9bf6-43fc-b644-f7a2f23097a9",
   "metadata": {
    "tags": []
   },
   "outputs": [],
   "source": [
    "accuracy_score(score_df, smote_pred_test)"
   ]
  },
  {
   "cell_type": "code",
   "execution_count": null,
   "id": "79f2c41a-8dd1-4b8d-994c-83478a5e236a",
   "metadata": {},
   "outputs": [],
   "source": [
    "# 3 : 월납부요금구간\n",
    "# 정확도: 0.9655, 정밀도: 0.9572, 재현율: 0.9745, F1: 0.9658\n",
    "# 0.9538746812949085\n",
    "# 3: 월납부요금\n",
    "# 정확도: 0.9657, 정밀도: 0.9579, 재현율: 0.9741, F1: 0.9659\n",
    "# 0.9602101522058255"
   ]
  },
  {
   "cell_type": "code",
   "execution_count": null,
   "id": "092537c0-37a6-4edb-a077-0b17c065642a",
   "metadata": {},
   "outputs": [],
   "source": [
    "sub=pd.read_csv('sample_submission.csv')\n",
    "sub['전화해지여부']=smote_pred_test\n",
    "sub.to_csv('submit_smote2.csv',index=False)"
   ]
  },
  {
   "cell_type": "markdown",
   "id": "f4c330e5-dd31-4996-8db2-b3b466cb3640",
   "metadata": {},
   "source": [
    "- ADASIN"
   ]
  },
  {
   "cell_type": "code",
   "execution_count": null,
   "id": "8fb1d887-9a3c-4b47-8e1e-b6e74e9ae3a3",
   "metadata": {},
   "outputs": [],
   "source": [
    "from imblearn.over_sampling import ADASYN\n",
    "y=select_train['전화해지여부']\n",
    "X=select_train.drop('전화해지여부',axis=1)\n",
    "X, y = ADASYN(random_state=11).fit_resample(X, y)\n",
    "X_train,X_test,y_train,y_test = train_test_split(X, y , test_size=0.2, random_state=21)\n",
    "model = ExtraTreesClassifier( random_state=21,max_depth= 49, n_estimators= 300)\n",
    "model.fit(X_train, y_train)\n",
    "adasin_pred = model.predict(X_test)\n",
    "\n",
    "print(  confusion_matrix(y_test,  adasin_pred)   )\n",
    "print(f\"정확도: {accuracy_score(y_test, adasin_pred):.4f}, 정밀도: {precision_score(y_test, adasin_pred):.4f}, 재현율: {recall_score(y_test, adasin_pred):.4f}, F1: {f1_score(y_test, adasin_pred):.4f}\")"
   ]
  },
  {
   "cell_type": "code",
   "execution_count": null,
   "id": "4b461d71-2bbc-4ecb-be5d-c123d7de553f",
   "metadata": {},
   "outputs": [],
   "source": [
    "adasin_pred=model.predict(select_test)"
   ]
  },
  {
   "cell_type": "code",
   "execution_count": null,
   "id": "9695648d-2c3f-4f84-aa7c-1f015a8b5d22",
   "metadata": {
    "tags": []
   },
   "outputs": [],
   "source": [
    "accuracy_score(score_df, adasin_pred)"
   ]
  },
  {
   "cell_type": "code",
   "execution_count": null,
   "id": "230f5961-de34-4812-abcc-68bb2595f21c",
   "metadata": {},
   "outputs": [],
   "source": [
    "# 3 :\n",
    "# 정확도: 0.9689, 정밀도: 0.9555, 재현율: 0.9829, F1: 0.9690\n",
    "# 0.9521749208066136"
   ]
  },
  {
   "cell_type": "code",
   "execution_count": null,
   "id": "fbba4eb2-c5af-4f88-8802-ef5076e41116",
   "metadata": {},
   "outputs": [],
   "source": [
    "sub=pd.read_csv('sample_submission.csv')\n",
    "sub['전화해지여부']=adasin_pred\n",
    "sub.to_csv('submit_adasin.csv',index=False)"
   ]
  },
  {
   "cell_type": "markdown",
   "id": "32ec576c-b123-4371-8612-3f272e1fc6f5",
   "metadata": {},
   "source": [
    "# 그리드 ET <f1 : 72 - 47~>"
   ]
  },
  {
   "cell_type": "code",
   "execution_count": null,
   "id": "e82bd921-2869-4551-8749-ebfb043dee26",
   "metadata": {
    "tags": []
   },
   "outputs": [],
   "source": [
    "# 그리드 ET <f1 : 71>\n",
    "y=select_train['전화해지여부']\n",
    "X=select_train.drop('전화해지여부',axis=1)\n",
    "\n",
    "skf= StratifiedKFold(n_splits=5,shuffle=True, random_state=21)\n",
    "for i, (train_index, test_index) in enumerate(skf.split(X,y)):\n",
    "    \n",
    "    X_train= X.loc[train_index]\n",
    "    X_test= X.loc[test_index]\n",
    "    y_train=y.loc[train_index]\n",
    "    y_test=y.loc[test_index]\n",
    "    \n",
    "model=ExtraTreesClassifier(random_state=21)\n",
    "mydic={\"max_depth\":[49,50,51],\n",
    "       \"n_estimators\":[100,200,300]}  # 손댈 자신 없으면 건들지 말기\n",
    "models= GridSearchCV(model, scoring='f1_macro', cv=skf, param_grid=mydic)\n",
    "\n",
    "models.fit(X_train,y_train)"
   ]
  },
  {
   "cell_type": "code",
   "execution_count": null,
   "id": "8f8d49c3-6123-48b9-93a1-9a98e83495bd",
   "metadata": {
    "tags": []
   },
   "outputs": [],
   "source": [
    "models.best_estimator_"
   ]
  },
  {
   "cell_type": "code",
   "execution_count": null,
   "id": "0695ac66-99cd-4dde-9928-bfb78687306e",
   "metadata": {
    "tags": []
   },
   "outputs": [],
   "source": [
    "models.best_score_"
   ]
  },
  {
   "cell_type": "code",
   "execution_count": null,
   "id": "8ccee88f-02bd-4964-a265-6c904664d737",
   "metadata": {
    "tags": []
   },
   "outputs": [],
   "source": [
    "models.best_params_"
   ]
  },
  {
   "cell_type": "code",
   "execution_count": null,
   "id": "aee739ff-4559-468a-8db2-36c3dfde51f4",
   "metadata": {
    "tags": []
   },
   "outputs": [],
   "source": [
    "gird_pred=models.predict(select_test) "
   ]
  },
  {
   "cell_type": "code",
   "execution_count": null,
   "id": "2370dc20-68d3-4a0b-9635-0f19696022a6",
   "metadata": {
    "tags": []
   },
   "outputs": [],
   "source": [
    "accuracy_score(score_df, gird_pred)"
   ]
  },
  {
   "cell_type": "code",
   "execution_count": null,
   "id": "06685bdc-651e-4a16-ab20-8463f1313be9",
   "metadata": {},
   "outputs": [],
   "source": [
    "# 3 :\n",
    "# 0.9444487367689098"
   ]
  },
  {
   "cell_type": "code",
   "execution_count": null,
   "id": "d7c15049-b3fe-42cf-a971-8dada2f2dba2",
   "metadata": {},
   "outputs": [],
   "source": [
    "sub=pd.read_csv('sample_submission.csv')\n",
    "sub['전화해지여부']=gird_pred\n",
    "sub.to_csv('submit_gird.csv',index=False)"
   ]
  },
  {
   "cell_type": "code",
   "execution_count": null,
   "id": "1bea3bc0-4abd-43d7-9ee7-6baba32ae37f",
   "metadata": {},
   "outputs": [],
   "source": []
  },
  {
   "cell_type": "markdown",
   "id": "ba316d13-9b45-4510-a653-81d30735f67f",
   "metadata": {},
   "source": [
    "# 임계치 조정"
   ]
  },
  {
   "cell_type": "code",
   "execution_count": null,
   "id": "019af07a-894c-4513-8063-491eb4a94d53",
   "metadata": {
    "tags": []
   },
   "outputs": [],
   "source": [
    "proba_c1.shape"
   ]
  },
  {
   "cell_type": "code",
   "execution_count": null,
   "id": "2c873459-bf1c-4fe1-8c5f-92d6bb494d62",
   "metadata": {
    "tags": []
   },
   "outputs": [],
   "source": [
    "from sklearn.preprocessing import Binarizer"
   ]
  },
  {
   "cell_type": "code",
   "execution_count": null,
   "id": "cdedea89-a753-4f15-9144-59309b5d8a7d",
   "metadata": {
    "tags": []
   },
   "outputs": [],
   "source": [
    "th_list = [ 0.5,0.55,0.56,0.57,0.58]\n",
    "for th in th_list:\n",
    "    print(th)\n",
    "    brz = Binarizer(threshold=th)\n",
    "    th_pred = brz.fit_transform(proba_c1.reshape(-1, 1))  \n",
    "    print(confusion_matrix(score_df, th_pred))\n",
    "    print(classification_report(score_df, th_pred))\n",
    "    \n",
    "    print(accuracy_score(score_df, th_pred))\n",
    "    print(\"==\"*30)\n"
   ]
  },
  {
   "cell_type": "code",
   "execution_count": null,
   "id": "ce423f1f-e957-4ffe-8fbf-b699986c694b",
   "metadata": {},
   "outputs": [],
   "source": [
    "# 0.9602101522058255"
   ]
  },
  {
   "cell_type": "code",
   "execution_count": null,
   "id": "b6ced920-2677-4306-b521-8ced722a2c0e",
   "metadata": {
    "tags": []
   },
   "outputs": [],
   "source": [
    "# 0.56\n",
    "brz = Binarizer(threshold=0.56)\n",
    "th_pred = brz.fit_transform(proba_c1.reshape(-1, 1))\n",
    "accuracy_score(score_df, th_pred)"
   ]
  },
  {
   "cell_type": "code",
   "execution_count": null,
   "id": "0aa6f144-f8c1-49b8-afc5-ab53eaf38084",
   "metadata": {
    "tags": []
   },
   "outputs": [],
   "source": [
    "sub=pd.read_csv('sample_submission.csv')\n",
    "sub['전화해지여부']=th_pred\n",
    "sub.to_csv('submit_th_pred.csv',index=False)"
   ]
  },
  {
   "cell_type": "code",
   "execution_count": null,
   "id": "8df282b3-f8cb-4951-b9c5-ed94201587f1",
   "metadata": {},
   "outputs": [],
   "source": []
  },
  {
   "cell_type": "code",
   "execution_count": null,
   "id": "3cf0eb40-8bdf-4397-8ca0-c8ebde037cda",
   "metadata": {},
   "outputs": [],
   "source": []
  },
  {
   "cell_type": "code",
   "execution_count": null,
   "id": "b86ecf80-6fa1-4673-82cc-5fbcd94d6eb9",
   "metadata": {},
   "outputs": [],
   "source": []
  },
  {
   "cell_type": "code",
   "execution_count": null,
   "id": "4f10f35a-ff0c-4bb6-9e35-57cd422f8845",
   "metadata": {},
   "outputs": [],
   "source": []
  },
  {
   "cell_type": "code",
   "execution_count": null,
   "id": "198acf52-fd2b-4b41-b6ef-9c190e7cda5f",
   "metadata": {},
   "outputs": [],
   "source": []
  },
  {
   "cell_type": "markdown",
   "id": "3da94a3a-cb75-48a8-8aac-855c6ee8dfab",
   "metadata": {},
   "source": [
    "# 최종확인"
   ]
  },
  {
   "cell_type": "code",
   "execution_count": null,
   "id": "49e5d2be-e0f2-4ce3-ab57-124209ea23ed",
   "metadata": {
    "tags": []
   },
   "outputs": [],
   "source": [
    "pred1=model.predict(select_test)"
   ]
  },
  {
   "cell_type": "code",
   "execution_count": null,
   "id": "90347c84-4b50-4a1e-b3bf-86252ec56d24",
   "metadata": {
    "tags": []
   },
   "outputs": [],
   "source": [
    "accuracy_score(score_df, pred1)"
   ]
  },
  {
   "cell_type": "code",
   "execution_count": null,
   "id": "45da3dc5-609a-4b14-83be-88cffb9af1bd",
   "metadata": {
    "tags": []
   },
   "outputs": [],
   "source": [
    "sub=pd.read_csv('sample_submission.csv')\n",
    "sub['전화해지여부']=pred1\n",
    "sub.to_csv('submit_pred1.csv',index=False)"
   ]
  },
  {
   "cell_type": "code",
   "execution_count": null,
   "id": "25cd94ef-3dae-41ab-a78a-c32d948c612e",
   "metadata": {},
   "outputs": [],
   "source": []
  }
 ],
 "metadata": {
  "kernelspec": {
   "display_name": "Python 3 (ipykernel)",
   "language": "python",
   "name": "python3"
  },
  "language_info": {
   "codemirror_mode": {
    "name": "ipython",
    "version": 3
   },
   "file_extension": ".py",
   "mimetype": "text/x-python",
   "name": "python",
   "nbconvert_exporter": "python",
   "pygments_lexer": "ipython3",
   "version": "3.8.8"
  },
  "toc-autonumbering": true
 },
 "nbformat": 4,
 "nbformat_minor": 5
}
